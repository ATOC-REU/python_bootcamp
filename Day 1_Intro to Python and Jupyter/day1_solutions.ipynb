{
 "cells": [
  {
   "cell_type": "markdown",
   "metadata": {},
   "source": [
    "# Day 1 Challenge: Solutions"
   ]
  },
  {
   "cell_type": "code",
   "execution_count": null,
   "metadata": {},
   "outputs": [],
   "source": [
    "# import numpy, pandas and matplotlib\n",
    "import numpy as np\n",
    "import pandas as pd\n",
    "import matplotlib.pyplot as plt"
   ]
  },
  {
   "cell_type": "code",
   "execution_count": null,
   "metadata": {},
   "outputs": [],
   "source": [
    "data = pd.read_csv('boco_air_temp.csv')"
   ]
  },
  {
   "cell_type": "code",
   "execution_count": null,
   "metadata": {},
   "outputs": [],
   "source": [
    "data"
   ]
  },
  {
   "cell_type": "code",
   "execution_count": null,
   "metadata": {},
   "outputs": [],
   "source": [
    "f, ax = plt.subplots(1,1,figsize=(10,4))\n",
    "\n",
    "ax.plot(data.Year,data.Average,color='black')\n",
    "\n",
    "# define limits for the y limit\n",
    "ax.set_ylim(45,60)\n",
    "\n",
    "# label the axes!\n",
    "ax.set_xlabel('Year',fontsize=15)\n",
    "ax.set_ylabel('degree F',fontsize=15)\n",
    "\n",
    "ax.set_title('Average Temperature (Boulder, CO)',fontsize=20)"
   ]
  },
  {
   "cell_type": "code",
   "execution_count": null,
   "metadata": {},
   "outputs": [],
   "source": [
    "f, ax = plt.subplots(1,1,figsize=(10,4))\n",
    "\n",
    "ax.plot(data.Year,data.MAR,color='blue',label='March')\n",
    "ax.plot(data.Year,data.OCT,color='orange',label='October')\n",
    "\n",
    "# define limits for the y limit\n",
    "ax.set_ylim(20,70)\n",
    "\n",
    "# label the axes!\n",
    "ax.set_xlabel('Year',fontsize=15)\n",
    "ax.set_ylabel('degree F',fontsize=15)\n",
    "\n",
    "ax.legend(fontsize=15)\n",
    "\n",
    "ax.set_title('Temperature (Boulder, CO)',fontsize=20)"
   ]
  },
  {
   "cell_type": "code",
   "execution_count": null,
   "metadata": {},
   "outputs": [],
   "source": []
  }
 ],
 "metadata": {
  "kernelspec": {
   "display_name": "Python 3",
   "language": "python",
   "name": "python3"
  },
  "language_info": {
   "codemirror_mode": {
    "name": "ipython",
    "version": 3
   },
   "file_extension": ".py",
   "mimetype": "text/x-python",
   "name": "python",
   "nbconvert_exporter": "python",
   "pygments_lexer": "ipython3",
   "version": "3.8.3"
  }
 },
 "nbformat": 4,
 "nbformat_minor": 4
}
