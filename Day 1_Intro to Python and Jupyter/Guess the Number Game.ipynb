{
 "cells": [
  {
   "cell_type": "markdown",
   "metadata": {},
   "source": [
    "# Making a Guess the Number Game"
   ]
  },
  {
   "cell_type": "markdown",
   "metadata": {},
   "source": [
    "In this section, you’re going to make a Guess the Number game. The computer will think of a secret number from 1 to 20 and ask the user to guess it. After each guess, the computer will tell the user whether the number is too high or too low. The user wins if they can guess the number within six tries.\n",
    "\n",
    "This is a good game to code because it covers many programming concepts in a short program. You’ll learn how to convert values to different data types and when you would need to do this. Since this program is a game, from now on we’ll call the user the player."
   ]
  },
  {
   "cell_type": "markdown",
   "metadata": {},
   "source": [
    "Once you are finished with this module you will have a working interactive game. Here’s what the Guess the Number program looks like to the player when it’s run. The player’s input is marked in bold.\n",
    "\n",
    "Hello! What is your name?<br>\n",
    "**Albert** <br>\n",
    "Well, Albert, I am thinking of a number between 1 and 20.<br>\n",
    "Take a guess.<br>\n",
    "**10** <br>\n",
    "Your guess is too high.<br>\n",
    "Take a guess.<br>\n",
    "**2**\n",
    "<br>Your guess is too low. <br>\n",
    "Take a guess. <br>\n",
    "4 <br>\n",
    "Good job, Albert! You guessed my number in 3 guesses!"
   ]
  },
  {
   "cell_type": "markdown",
   "metadata": {},
   "source": [
    "## 1. Building the first interaction to learn the players name"
   ]
  },
  {
   "cell_type": "markdown",
   "metadata": {},
   "source": [
    "Up until now, you've probably only worked with data in files or data you've put into the code before running it. Now we are going to recieve data from the user while the program is running.\n",
    "\n",
    "The input() function pauses the program until something is typed in. Let's start by saving some user input into a variable and then printing it back to them."
   ]
  },
  {
   "cell_type": "code",
   "execution_count": null,
   "metadata": {},
   "outputs": [],
   "source": [
    "print(\"What is your favorite number? (Press enter after you type a number)\")\n",
    "their_fav_number = input()\n",
    "print(\"Oh really!? I love the number \"+their_fav_number + \"!\" )"
   ]
  },
  {
   "cell_type": "markdown",
   "metadata": {},
   "source": [
    "Notice the timing when the code above is run. The final print out of a statement doesn't appear until you have pressed enter on the input. This is a great example showing the order of operation and flow of a program. This is an important aspect of programming and it is good to start thinking about how programs flow now."
   ]
  },
  {
   "cell_type": "markdown",
   "metadata": {},
   "source": [
    "Next up is making a function that will give us back someone's name that we can reuse later."
   ]
  },
  {
   "cell_type": "code",
   "execution_count": null,
   "metadata": {
    "scrolled": true
   },
   "outputs": [],
   "source": [
    "def get_players_name_polite():\n",
    "    print(\"Hello, what is your name?\")\n",
    "    player_name = input()\n",
    "    print(\"It is nice to meet you \" + player_name + \".\")\n",
    "    return player_name\n",
    "\n",
    "get_players_name_polite()"
   ]
  },
  {
   "cell_type": "markdown",
   "metadata": {},
   "source": [
    "Notice how the print statements control the flow of the program. When writing code that has live interaction with users it is important to make sure you give them clear instruction."
   ]
  },
  {
   "cell_type": "markdown",
   "metadata": {},
   "source": [
    "**Question 1.1** Fill in the function that sounds more like you. How would you ask someone their name? How would you respond.\n",
    "\n",
    "An example might be (user's response in bold):\n",
    "\n",
    "Heya! What's your name?<br>\n",
    "**Maria** <br>\n",
    "Nice to make your acquaintance Maria!"
   ]
  },
  {
   "cell_type": "code",
   "execution_count": null,
   "metadata": {},
   "outputs": [],
   "source": [
    "def get_players_name_my_way():\n",
    "    \n",
    "    ...\n",
    "    \n",
    "    return player_name\n",
    "\n",
    "get_players_name_my_way()"
   ]
  },
  {
   "cell_type": "markdown",
   "metadata": {},
   "source": [
    "## 2. Picking a Number and Flow Control"
   ]
  },
  {
   "cell_type": "markdown",
   "metadata": {},
   "source": [
    "### Random Numbers"
   ]
  },
  {
   "cell_type": "markdown",
   "metadata": {},
   "source": [
    "Now that you have a player's name we can get to the main part of the game and deal with picking a number and letting the player guess.\n",
    "\n",
    "In order to do this you will need an import statement. Statements are instructions that perform some action but don’t evaluate to a value like expressions do. You’ve already seen the assignment statement, which stores a value in a variable.\n",
    "\n",
    "While Python includes many built-in functions, some functions are written in separate programs called *modules*. You can use these functions by importing their modules into your program with an import statement.\n",
    "\n",
    "For this game you will need to import the random module so that the program can call the randint() function. This function will come up with a random number for the player to guess."
   ]
  },
  {
   "cell_type": "markdown",
   "metadata": {},
   "source": [
    "Try running the code below multiple times to see the randomness in action!"
   ]
  },
  {
   "cell_type": "code",
   "execution_count": null,
   "metadata": {},
   "outputs": [],
   "source": [
    "import random\n",
    "random.randint(1,4)"
   ]
  },
  {
   "cell_type": "markdown",
   "metadata": {},
   "source": [
    "### For Loop"
   ]
  },
  {
   "cell_type": "markdown",
   "metadata": {},
   "source": [
    "In previous labs and projects, the program execution started at the top instruction in the program and moved straight down, executing each instruction in order. But with the *for, if, else*, and *break* statements, you can make the execution loop or skip instructions based on conditions. These kinds of statements are **flow control statements**, since they change the flow of the program execution as it moves around your program.\n",
    "\n",
    "Using Loops to Repeat Code\n",
    "Below is a for statement, which indicates the beginning of a for loop:\n",
    "\n",
    "*for step in range(6):*\n",
    "\n",
    "Loops let you execute code over and over again. The example here will repeat its code six times. A for statement begins with the for keyword, followed by a new variable name (called step here), the in keyword, a call to the range() function that specifies the number of loops it should do, and a colon. \n",
    "\n",
    "Try running the following and then we'll add a few additional concepts so that you can work with loops."
   ]
  },
  {
   "cell_type": "code",
   "execution_count": null,
   "metadata": {},
   "outputs": [],
   "source": [
    "for step in range(6):\n",
    "    print(\"The value of step is: \"+ str(step))\n",
    "    rand_number = random.randint(1,6)\n",
    "    print(\"and here is a random number \"+ str(rand_number))"
   ]
  },
  {
   "cell_type": "markdown",
   "metadata": {},
   "source": [
    "Now after running this, there are three important pieces to point out.\n",
    "\n",
    "1. Notice that step starts at 0. Each step is called one interation\n",
    "2. The code that is repeated is indented compared to the for statement\n",
    "3. We used random this time without an import statement. You only need to run import once and you can keep using functions from that module!\n",
    "\n",
    "You will get lots of practice counting from 0, but at first this can feel very weird. It will get easier, just keep practicing.\n",
    "\n",
    "For the indentation, this is called a *Block* of code."
   ]
  },
  {
   "cell_type": "markdown",
   "metadata": {},
   "source": [
    "### Code Blocks"
   ]
  },
  {
   "cell_type": "markdown",
   "metadata": {},
   "source": [
    "Several lines of code can be grouped together in a block. Every line in a block of code begins with at least the number of spaces as the first line in the block. You can tell where a block begins and ends by looking at the number of spaces at the front of the lines. This is the line’s indentation.\n",
    "\n",
    "Python programmers typically use four additional spaces of indentation to begin a block. Any following line that’s indented by that same amount is part of the block. The block ends when there’s a line of code with the same indentation as before the block started. There can also be blocks within other blocks."
   ]
  },
  {
   "cell_type": "markdown",
   "metadata": {},
   "source": [
    "**Question 2.1** Write a for loop that runs 5 times and prints out the even numbers less than or equal to 10 starting at 2. Your output should look like:\n",
    "\n",
    "2<br>\n",
    "4<br>\n",
    "6<br>\n",
    "8<br>\n",
    "10<br>"
   ]
  },
  {
   "cell_type": "code",
   "execution_count": null,
   "metadata": {},
   "outputs": [],
   "source": [
    "for ... :\n",
    "    "
   ]
  },
  {
   "cell_type": "markdown",
   "metadata": {},
   "source": [
    "### Decisions with if, elif, and else"
   ]
  },
  {
   "cell_type": "markdown",
   "metadata": {},
   "source": [
    "These let you make decisions based on values or variables in your program. See below an example using random numbers."
   ]
  },
  {
   "cell_type": "code",
   "execution_count": null,
   "metadata": {},
   "outputs": [],
   "source": [
    "first_number = random.randint(1,10)\n",
    "second_number = random.randint(1,10)\n",
    "\n",
    "if first_number < second_number:\n",
    "    print(\"The first number is smaller.\")\n",
    "elif second_number < first_number:\n",
    "    print(\"The second number is smaller.\")\n",
    "else:\n",
    "    print(\"The numbers are equal.\")\n",
    "    \n",
    "print(\"The first number is: \"+ str(first_number))\n",
    "print(\"The second number is: \" +str(second_number))"
   ]
  },
  {
   "cell_type": "markdown",
   "metadata": {},
   "source": [
    "elif statement is a stands for else if whcih helps you make more than just two cases with if and else."
   ]
  },
  {
   "cell_type": "markdown",
   "metadata": {},
   "source": [
    "**Question 2.2** Fill in the if, elif, else statement like the previous code, but check for and print which number is larger rather than smaller."
   ]
  },
  {
   "cell_type": "code",
   "execution_count": null,
   "metadata": {},
   "outputs": [],
   "source": [
    "first_number = random.randint(1,10)\n",
    "second_number = random.randint(1,10)\n",
    "\n",
    "if ... :\n",
    "    \n",
    "elif ... :\n",
    "\n",
    "else: \n",
    "    print(\"The numbers are equal.\")\n",
    "    \n",
    "print(\"The first number is: \"+ str(first_number))\n",
    "print(\"The second number is: \" +str(second_number))"
   ]
  },
  {
   "cell_type": "markdown",
   "metadata": {},
   "source": [
    "When we are making comparisons between two values or variables we have a few options on what to use:\n",
    "\n",
    "\n",
    "| Operator |        Operation         |\n",
    "|----------|--------------------------|\n",
    "|    <     |        Less than         |\n",
    "|    >     |      Greater than        |\n",
    "|    <=    |   Less than or equal to  |\n",
    "|    >=    | Greater than or equal to |\n",
    "|    ==    |         Equal to         |\n",
    "|    !=    |       Not equal to       |\n",
    "\n"
   ]
  },
  {
   "cell_type": "markdown",
   "metadata": {},
   "source": [
    "### The Break Statement"
   ]
  },
  {
   "cell_type": "markdown",
   "metadata": {},
   "source": [
    "There are times when we may want a for loop to stop and not perform anymore iterations. This is where the *break* statement comes to our aid. To do this we usually need a decision and so we will use an if statement"
   ]
  },
  {
   "cell_type": "code",
   "execution_count": null,
   "metadata": {},
   "outputs": [],
   "source": [
    "print(\"Please enter a number less than ten for me to count up to.\")\n",
    "max_number = input()\n",
    "max_number = int(max_number)\n",
    "print(\"Thank you, I'll start counting from 0\")\n",
    "for step in range(11):\n",
    "    print(str(step))\n",
    "    if(step==max_number):\n",
    "        break"
   ]
  },
  {
   "cell_type": "markdown",
   "metadata": {},
   "source": [
    "For a review of types and specifically the line: *max_number = int(max_number)* see lab02."
   ]
  },
  {
   "cell_type": "markdown",
   "metadata": {},
   "source": [
    "## 3. Putting it together to make the game!"
   ]
  },
  {
   "cell_type": "markdown",
   "metadata": {},
   "source": [
    "First let's lay out the flow of the game.\n",
    "\n",
    "1. Learn the player's name\n",
    "2. Setup for the game (pick a number)\n",
    "3. Let the player guess up to 6 times\n",
    "4. Finish the game with a farewell\n",
    "\n",
    "The code below is incomplete. Fill in code wherever you see an ..."
   ]
  },
  {
   "cell_type": "code",
   "execution_count": null,
   "metadata": {},
   "outputs": [],
   "source": [
    "# First part\n",
    "# Players Name\n",
    "# Use one of the functions made in section 1 for introductions \n",
    "player_name = ...\n",
    "\n",
    "# Second part\n",
    "# Setup\n",
    "# Start by telling them the idea of the game\n",
    "print(\"Ok, \"+ player_name + \" I'm thinking of a number between 1 and 50.\")\n",
    "\n",
    "# Pick the number\n",
    "secret_number = ...\n",
    "\n",
    "# Set some useful variables for\n",
    "guesses_taken = 0\n",
    "\n",
    "# Part Three\n",
    "# Let the players pick\n",
    "# Use a for loop to have the following block happen at most 6 times\n",
    "for guesses_taken in range(6):\n",
    "    print(\"Take a guess.\")\n",
    "    guess = ...\n",
    "    guess = int(guess)\n",
    "\n",
    "    if ... :\n",
    "        print(\"Your guess is too low.\")\n",
    "    elif ... :\n",
    "        print(\"Your guess is too high\")\n",
    "    ... :\n",
    "        break\n",
    "    \n",
    "if guess == secret_number:\n",
    "    guesses_taken = str(guesses_taken + 1)\n",
    "    print('Good job, ' + player_name + '! You guessed my number in ' + guesses_taken + ' guesses!')\n",
    "\n",
    "if guess != secret_number:\n",
    "    number = str(secret_number)\n",
    "    print('Nope. The number I was thinking of was ' + secret_number + '.')\n",
    "        "
   ]
  }
 ],
 "metadata": {
  "kernelspec": {
   "display_name": "Python 3",
   "language": "python",
   "name": "python3"
  },
  "language_info": {
   "codemirror_mode": {
    "name": "ipython",
    "version": 3
   },
   "file_extension": ".py",
   "mimetype": "text/x-python",
   "name": "python",
   "nbconvert_exporter": "python",
   "pygments_lexer": "ipython3",
   "version": "3.7.2"
  }
 },
 "nbformat": 4,
 "nbformat_minor": 2
}
