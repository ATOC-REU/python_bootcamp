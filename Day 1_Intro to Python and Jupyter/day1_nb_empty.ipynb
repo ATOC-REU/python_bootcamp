{
 "cells": [
  {
   "cell_type": "markdown",
   "metadata": {},
   "source": [
    "# Python Bootcamp Day 1:\n",
    "## Introduction to Python and Jupyter\n",
    "### Instructors: Matt Watwood and Sam Mogen"
   ]
  },
  {
   "cell_type": "markdown",
   "metadata": {},
   "source": [
    "## Goals for the Day\n",
    "\n",
    "- Introduction to Jupyter and Python\n",
    "    - What is Programming?\n",
    "    - What is Python and Jupyter Notebooks?\n",
    "    - Using Python as a Calculator?\n",
    "- Code Basics\n",
    "    - Variables\n",
    "    - Data Types \n",
    "    - Functions\n",
    "- Code Flow\n",
    "    - Making Separate Python Files\n",
    "    - Using Packages\n",
    "    - Code Flow\n",
    "- Challenge of the Day - Showing Data\n",
    "    - Plotting \n",
    "    - Printing"
   ]
  },
  {
   "cell_type": "markdown",
   "metadata": {},
   "source": [
    "## \"Classroom\" Expectations\n",
    "\n",
    "- Be Respectful of Everyone\n",
    "    - We're all at a different level of experience with coding. There are no dumb or silly questions, if you aren't sure about something please ask and we will find an answer.\n",
    "    - This really is learning a whole new language and some things that seem simple to someone who knows the language may be the strangest concept in the world to someone who doesn't.\n",
    "    - If you have coding experience please add your input on questions and topics we would love to hear how you've gotten through similar problems or how you think about coding ideas.\n",
    "- Pronouns are Important\n",
    "    - If you have preferred pronouns you'd like us to use please help us out by changing your zoom name to include that such as *Matt W. (he/him)* or *Sam M. (he/him)*\n",
    "    - ***Reminder to Organizers, make sure this feature is enabled on the scheduled meeting***\n",
    "- Keep your video on as much as possible\n",
    "    - Seeing your reactions helps us see if you have questions or if the ideas make sense to you\n",
    "    - You don't need to keep your video on forever, if any distractions come up it's ok to stop video and step away. \n",
    "    - We'll try to give short breaks every hour or so to help with this as well.\n",
    "- Not everyone likes to speak out loud\n",
    "    - Please use any of the chat features, reactions, or un-muting and speaking to participate with us."
   ]
  },
  {
   "cell_type": "markdown",
   "metadata": {},
   "source": [
    "## Notebook and Learning Structure\n",
    "\n",
    "The morning sessions (9-11am MT) will introduce a topic (e.g. making maps with data) through interactive sessions with a combination of lectures, discussions, and coding time. \n",
    "\n",
    "Any text in black will be instruction and guidance and will usually start with a section number.<br>\n",
    "<span style=\"color:blue\"> Any text in blue will be tasks to do and start with \"Task\".</span><br>\n",
    "<span style=\"color:red\"> Any text in red will be optional challenges and advanced concepts for anyone looking to try more and say \"Challenge\".</span>\n",
    "    \n",
    "In the afternoons (1-3pm MT), you will be divided into groups to work on a longer challenge problem that will test what you've learned that day. You can complete these afternoon challenges by writing a separate python script or by building your own Jupyter Notebook."
   ]
  },
  {
   "cell_type": "markdown",
   "metadata": {},
   "source": [
    "## Breakout Room and Coding Etiquitte\n",
    "\n",
    "- Pair Programming\n",
    "    - One person shares their screen and will code using suggestions and collaboration from the group\n",
    "    - The person coding has minimal responsibility for the details of the code. People not under the stress of \"writing at the board\" are there to help the coder and together as a group learn how to program.\n",
    "        - We all make mistakes typing, remembering variables, spelling, and many other ways when we are working on a computer.\n",
    "        - Don't stress about this and don't make fun of other people's mistakes\n",
    "    - During challenges, you'll be coding on your own, but please help each other out!"
   ]
  },
  {
   "cell_type": "markdown",
   "metadata": {},
   "source": [
    "<font color='blue'> \n",
    "    <h2>Task: Try it Out</h2>\n",
    "\n",
    "In your breakout rooms for 5 minutes, make a text document with:\n",
    "    <ol>\n",
    "        <li>The names of your group members</li>\n",
    "        <li>Their prefered pronouns</li>\n",
    "        <li>Each person's university and major</li>\n",
    "        <li>Any other fun information each group member would like to share</li>\n",
    "    </ol>\n",
    "\n",
    "Do this as a practice for pair programming. Only one person should make a document, and when we come back to the main room that person will share their screen and someone else (who didn't \"code\") will introduce their group members."
   ]
  },
  {
   "cell_type": "markdown",
   "metadata": {},
   "source": [
    "## 1.0 What is Programming? What is Python? What is a Jupyter Notebook? What is a program/script?\n",
    "\n",
    "### 1.0.1 Programming\n",
    "\n",
    "Programming/Coding is the process of writing instructions for the computer to implement and execute. I think of this as the language of the computer.\n",
    "\n",
    "Just like human language it's complicated and if you've done it for a long time, it may seem easy, but that's because you're familiar with the rules and have had a lot of practice. When you don't know the rules and haven't had much practice, it can be hard or even feel impossible to understand what's going on in a \"conversation\", or program in this case. Hopefully, over the next week we can help you start the lifelong process of learning how to use computers to help you solve problems in climate sciences or wherever else you end up!\n",
    "\n",
    "To start, let's think about this by comparing this computer language (programming) to our human languages. First there are the types of words you use, which in both the computer and human realms we call the **language**. In this case the human language in use is English and the computer language we'll use is Python. Next, the particular way you say those words, on the human side is called grammar and for the computer we call **syntax**. These are the rules that we obey to make sure anyone (or computer) that understands our language can understand us. This bootcamp will help you learn these syntax rules for python!\n",
    "\n",
    "Lastly, knowing a language can be very different than communicating in that language. To listen to and understand English is different from speaking or writing in English. Just like this coding involves understanding what you write and program, **AND** it involves being able to share this with other people so they too can understand what you've done. This is where Jupyter Notebooks come in. Jupyter Notebooks are one of the best ways to share code with other people. You can show people how to use code you've made by giving examples and explain to them what different parts mean using these \"non-code\" blocks like what you're reading here.\n",
    "\n",
    "As you run more and more code you for larger and different projects will likely not only run in a Jupyter Notebooks to share your code with other, you will also use combinations of scripts, data files, notebooks, and output images and graphs."
   ]
  },
  {
   "cell_type": "markdown",
   "metadata": {},
   "source": [
    "### 1.0.2 Python Code\n",
    "\n",
    "This section will have some code examples that you cannot run. You're not expected to understand all of this yet, so don't worry if it isn't all clear! We will have examples like this later in section 1.2 and later sections that you can run.\n",
    "\n",
    "1. **When writing python code every new idea needs happen on a new line.** \n",
    "\n",
    "This code works.\n",
    "```python\n",
    "age = 10\n",
    "name = \"Bella\"\n",
    "```\n",
    "\n",
    "This code doesn't work.\n",
    "```python\n",
    "age = 10 name = \"Bella\"\n",
    "```\n",
    "\n",
    "2. **Python uses tab spacing to distiguish different sections.**\n",
    "\n",
    "This code works\n",
    "```python\n",
    "if age<10:\n",
    "    print(\"This student is younger than 10\")\n",
    "else:\n",
    "    print(\"This student is older than 10\")\n",
    "```\n",
    "\n",
    "This code doesn't work.\n",
    "```python\n",
    "if age<10:\n",
    "print(\"This student is younger than 10\")\n",
    "else:\n",
    "print(\"This student is older than 10\")\n",
    "```\n",
    "\n",
    "3. **You can add comments to code by using the # symbol at the beginning of a line.**\n",
    "\n",
    "```python\n",
    "#This line doesn't get run\n",
    "#You can say anything in a comment. Refrigerators are cold.\n",
    "\n",
    "# These two lines make variables called age and name and give them values\n",
    "age = 10\n",
    "name = \"Bella\"\n",
    "\n",
    "# This code block checks the value inside the variable called age and shows output depending on the value\n",
    "if age<10:\n",
    "    #This only gets run if the value in age is less than 10\n",
    "    print(\"This student is younger than 10\")\n",
    "else:\n",
    "    # This gets run anytime that age not less than 10\n",
    "    print(\"This student is older than 10\")\n",
    "```"
   ]
  },
  {
   "cell_type": "markdown",
   "metadata": {},
   "source": [
    "## 1.1: Opening Jupyter Through Anaconda"
   ]
  },
  {
   "cell_type": "markdown",
   "metadata": {},
   "source": [
    "Python is a huge language build by an even larger community with many, many different \"packages\" built to help in all sorts of coding applications. Anaconda is a software tool to help organize all of the different pieces and parts of Python so you can just use the ones you want. Jupyter is one of those packages that lets us write these wonderful notebooks and we'll start by seeing how to open a blank notebook or an existing one.\n",
    "\n",
    "<font color=\"blue\"> <h3> 1.1.1 Task: </h3>\n",
    "\n",
    "1. Search for and open Anaconda Navigator\n",
    "2. Go to the \"Applications on...\" dropdown menu and select reu_environment\n",
    "3. Look for JupyterLab and click Launch!\n",
    "\n",
    "<img src=\"anaconda.png\"> "
   ]
  },
  {
   "cell_type": "markdown",
   "metadata": {},
   "source": [
    "<font color='blue'>\n",
    "    <h3>1.1.2 Task: Now that we have opened Jupyter Lab, let's make a new notebook!</h3>\n",
    "\n",
    "Task: **Click File > New > Notebook**\n",
    "    \n",
    "<img src=\"open_file.png\"> "
   ]
  },
  {
   "cell_type": "markdown",
   "metadata": {},
   "source": [
    "## 1.2: What can I do with this? Using Cells\n",
    "\n",
    "Jupyter Notebooks are broken into cells that can be edited and run. There are two types of cells we will use in the bootcamp, and they are called **Markdown** and **Code**."
   ]
  },
  {
   "cell_type": "markdown",
   "metadata": {},
   "source": [
    "### 1.2.1: Markdown"
   ]
  },
  {
   "cell_type": "markdown",
   "metadata": {},
   "source": [
    "Markdown allows us to write texts with various formats and is not run as code. This lets Jupyter Notebooks be an easy way of presenting code and programming information. You can view the details of how a particular Markdown cell were made by double clicking on the text and this will open the \"edit\" version of Markdown.\n",
    "\n",
    "<span style=\"color:red\"> Challenge: Markdown uses HTML on the backend so you can get create complex markdown by putting HTML inline.</span>\n",
    "\n",
    "Go to the dropdown box in the menu at the top of the page underneath \"Widget\" (it is likely set to\"Code\" right now) and select \"Markdown\" for a cell you're interested in editing.\n",
    "\n",
    "We can bold text using `**text**` to give **text**, or make `*italicized*` *text*.\n",
    "\n",
    "Add a `#` before markdown text to create a heading (see the top of this document). Adding more # will create subheadings and shrink the size of the text!\n",
    "\n",
    "# Header 1\n",
    "## Header 2\n",
    "### Header 3\n",
    "#### Header 4\n",
    "\n",
    "<span style=\"color:red\">Challenge: These headers are equivalent to using the h1, h2, h3, or h4 HTML</span>\n",
    "\n",
    "You can also include links to other websites, like [Google](http://google.com), with `[Google](http://google.com)`\n",
    "\n",
    "There are a lot of resources and documents available explaining markdown, but you can reference [this document](https://guides.github.com/features/mastering-markdown/) from Github"
   ]
  },
  {
   "cell_type": "markdown",
   "metadata": {},
   "source": [
    "### <font color='blue'> Try this yourself <br>\n",
    "\n",
    "<font color='blue'>\n",
    "Now that you've seen the basics, look through the documentation and try writing some Markdown for yourself by starting a new cell in your empty notebook. <br><br>\n",
    "    \n",
    "Note: If you are in this notebook, you can try in the next cell by changing it to Markdown and editing it.<br><br> \n",
    "    \n",
    "Tip: to run a cell, press \"Shift\" + \"Enter\" or click the \"play/Run\" button in the top menu bar.<br><br>\n",
    "    \n",
    "<ol>\n",
    "    <li>Create headers</li>\n",
    "    <li>Bold some text</li>\n",
    "    <li>Italicize some text</li>\n",
    "    <li>Include a link to a website</li>\n",
    "    <li>Download a picture and include it in this code block</li>\n",
    "</ol>"
   ]
  },
  {
   "cell_type": "code",
   "execution_count": null,
   "metadata": {},
   "outputs": [],
   "source": []
  },
  {
   "cell_type": "markdown",
   "metadata": {},
   "source": [
    "### 1.2.2: Code Cells and Using Python as a Calculator\n",
    "\n",
    "At its most basic, python code can work as a calculator and we'll use this as a time to demonstrate code cells. \n",
    "\n",
    "Note: as with the Markdown cells, to run a cell press \"Shift\" + \"Enter\" or left-click the \"play/Run\" button in the top menu bar."
   ]
  },
  {
   "cell_type": "code",
   "execution_count": null,
   "metadata": {},
   "outputs": [],
   "source": [
    "8 * 2"
   ]
  },
  {
   "cell_type": "markdown",
   "metadata": {},
   "source": [
    "Regular orders of operation are followed.\n",
    "\n",
    "For example calculating the following in python is in the next block:\n",
    "\n",
    "$ (8 \\cdot 2 + 2)^2$\n",
    "\n",
    "Note that the exponential is ```** ```"
   ]
  },
  {
   "cell_type": "code",
   "execution_count": null,
   "metadata": {},
   "outputs": [],
   "source": [
    "((8*2) + 2)**2"
   ]
  },
  {
   "cell_type": "markdown",
   "metadata": {},
   "source": [
    "<span style='color:blue'> Task: Play around and do some calculations using this feature!</span>\n",
    "\n",
    "<span style='color:red'> Challenge: Try using some non-standard operators from this [W3 School page](https://www.w3schools.com/python/python_operators.asp) </span>"
   ]
  },
  {
   "cell_type": "code",
   "execution_count": null,
   "metadata": {},
   "outputs": [],
   "source": []
  },
  {
   "cell_type": "markdown",
   "metadata": {},
   "source": [
    "### 1.2.3: Variables\n",
    "\n",
    "To save a value for use later in python we use an idea called variables.\n",
    "\n",
    "A variable is a name you as the coder make up and use as a place holder for a value. These variable help us There are some rules for what you can and can't use for variable names. The two primary rules are that variable names cannot contain spaces, and they cannot start with a number. Some example good variable names are aNumber, day_name, aName, or a_list.\n",
    "\n",
    "The `=` is an operation. Put the value on the right side into the name on the left side.\n",
    "\n",
    "The example below puts the value of 5 into the name of `x`\n",
    "\n",
    "<font color='blue'> Task: Run the next cell block and try adding something new."
   ]
  },
  {
   "cell_type": "code",
   "execution_count": null,
   "metadata": {},
   "outputs": [],
   "source": [
    "x = 5\n",
    "print(\"The variable x starts as \", x)\n",
    "x = x +3\n",
    "print(\"The variable x now has the value\", x)"
   ]
  },
  {
   "cell_type": "markdown",
   "metadata": {},
   "source": [
    "Naming of variables is a skill worth practicing. In the line above, the name of `x` is not very descriptive and without context is not clear what it is meant to represent. Below is an example using good and bad names and how it affects the \"readability\" of your code.\n",
    "\n",
    "First is a bad example of variable names that is probably quite confusing."
   ]
  },
  {
   "cell_type": "code",
   "execution_count": null,
   "metadata": {},
   "outputs": [],
   "source": [
    "sa = 19\n",
    "y2g = 3\n",
    "\n",
    "ga = sa + y2g\n",
    "print(\"Graduation age is \", ga)"
   ]
  },
  {
   "cell_type": "markdown",
   "metadata": {},
   "source": [
    "Here is good example using variable names which helps you and others read your code and understand what is happening."
   ]
  },
  {
   "cell_type": "code",
   "execution_count": null,
   "metadata": {},
   "outputs": [],
   "source": [
    "student_age = 19\n",
    "years_to_graduation = 3\n",
    "\n",
    "graduation_age = student_age + years_to_graduation\n",
    "print(\"Graduation age is \", graduation_age)"
   ]
  },
  {
   "cell_type": "markdown",
   "metadata": {},
   "source": [
    "Comments in the code can also be very helpful to enhance your code's readability, but good variable names will ensure your code starts out useful for people other than just yourself."
   ]
  },
  {
   "cell_type": "markdown",
   "metadata": {},
   "source": [
    "### 1.2.4 Data Types in Python\n",
    "\n",
    "So far we have only worked with singular numerical data. Python can do a lot more than that before exploring non-numerical data, lets look at storing multiple pieces of numerical data at once in lists. These are basic forms of vectors and we'll come back to this idea later when we explore packages like NumPy, Pandas, and SciPy.\n",
    "\n",
    "To start with, creating a list is easy if you already know the entries you want to put in. Using the `[]` around the list of numbers and saving that into a variable does the trick.\n",
    "\n",
    "<span style=\"color:blue\">Task: Run the next cell</span>"
   ]
  },
  {
   "cell_type": "code",
   "execution_count": null,
   "metadata": {},
   "outputs": [],
   "source": [
    "my_list = [1,2,3]\n",
    "print(my_list)"
   ]
  },
  {
   "cell_type": "markdown",
   "metadata": {},
   "source": [
    "When using data that has multiple entries saved into one variable name, the syntax rule for accessing just one piece of that data is using the variable name followed by the **index** number of the entry you'd like in `[]` like this example: `variable[0]`.\n",
    "\n",
    "Note: **Python starts index counting at 0**, so the first entry is at location 0 and the second entry is at location 1. This is not the same for all languages. Matlab is another popular programming language that starts at index 1.\n",
    "\n",
    "<span style=\"color:blue\">Task: Run the following blocks of code. </span>"
   ]
  },
  {
   "cell_type": "code",
   "execution_count": null,
   "metadata": {},
   "outputs": [],
   "source": [
    "print(my_list[0])"
   ]
  },
  {
   "cell_type": "code",
   "execution_count": null,
   "metadata": {},
   "outputs": [],
   "source": [
    "print(my_list[1])"
   ]
  },
  {
   "cell_type": "code",
   "execution_count": null,
   "metadata": {},
   "outputs": [],
   "source": [
    "print(my_list[2])"
   ]
  },
  {
   "cell_type": "code",
   "execution_count": null,
   "metadata": {},
   "outputs": [],
   "source": [
    "list_total = my_list[0] + my_list[1] + my_list[2]\n",
    "print(\"The sum total of the list is \", list_total)"
   ]
  },
  {
   "cell_type": "markdown",
   "metadata": {},
   "source": [
    "There are lot of datatypes in Python. We will give you a brief outline of a few other types besides numbers today, and we will help you by showing you how to see the type of a variable using the `type()` function. We'll cover functions in the next section. As we keep expanding your python knowledge you will find there are more than just these basic types of data in Python, and we will talk about those as they come up.\n",
    "\n",
    "For more information on the basic types Python has to offer, there is a good intro [here](https://www.w3schools.com/python/python_datatypes.asp)\n",
    "\n",
    "<span style=\"color:blue\">Task: Run the following blocks and try making your own variables of each type.</span>"
   ]
  },
  {
   "cell_type": "code",
   "execution_count": null,
   "metadata": {},
   "outputs": [],
   "source": [
    "# String\n",
    "a_string = \"Hello world\"\n",
    "print(\"a_string has the value \", a_string)\n",
    "print(\"a_string is of type \", type(a_string))"
   ]
  },
  {
   "cell_type": "code",
   "execution_count": null,
   "metadata": {},
   "outputs": [],
   "source": [
    "# Integer\n",
    "an_integer = 20\n",
    "print(\"an_integer has the value \", an_integer)\n",
    "print(\"an_integer is of type \", type(an_integer))"
   ]
  },
  {
   "cell_type": "code",
   "execution_count": null,
   "metadata": {},
   "outputs": [],
   "source": [
    "# Floating Point Number (Decimal number)\n",
    "a_float = 20.5\n",
    "print(\"a_float has the value \", a_float)\n",
    "print(\"a_float is of type \", type(a_float))"
   ]
  },
  {
   "cell_type": "code",
   "execution_count": null,
   "metadata": {},
   "outputs": [],
   "source": [
    "# Some types are compatible for operations like addition\n",
    "a_sum = an_integer + a_float\n",
    "print(\"a_sum has the value \", a_sum)\n",
    "print(\"a_sum is of type \", type(a_sum))"
   ]
  },
  {
   "cell_type": "code",
   "execution_count": null,
   "metadata": {},
   "outputs": [],
   "source": [
    "# List\n",
    "a_list = ['Atmosphere','Cryosphere','Ocean']\n",
    "print(\"a_list has the value \", a_list)\n",
    "print(\"a_list is of type \", type(a_list))"
   ]
  },
  {
   "cell_type": "code",
   "execution_count": null,
   "metadata": {},
   "outputs": [],
   "source": [
    "# Boolean (True or False)\n",
    "a_bool = (3==4)\n",
    "print(\"a_bool has the value \", a_bool)\n",
    "print(\"a_bool is of type \", type(a_bool))"
   ]
  },
  {
   "cell_type": "markdown",
   "metadata": {},
   "source": [
    "<span style=\"color:blue\"> Task: Look the following blocks of code, but don't run them yet. Before running them, try to predict what the output will be and write that in the prediction blocks."
   ]
  },
  {
   "cell_type": "code",
   "execution_count": null,
   "metadata": {},
   "outputs": [],
   "source": [
    "first = \"2\"\n",
    "second = \"2\"\n",
    "\n",
    "result = first + second\n",
    "print(\"result = \", result)"
   ]
  },
  {
   "cell_type": "markdown",
   "metadata": {},
   "source": [
    "Prediction for the value of `result`: "
   ]
  },
  {
   "cell_type": "code",
   "execution_count": null,
   "metadata": {},
   "outputs": [],
   "source": [
    "first = 1\n",
    "second = 1.3\n",
    "\n",
    "result = first + second\n",
    "print(\"result = \", result)"
   ]
  },
  {
   "cell_type": "markdown",
   "metadata": {},
   "source": [
    "Prediction for the value of `result`: "
   ]
  },
  {
   "cell_type": "code",
   "execution_count": null,
   "metadata": {},
   "outputs": [],
   "source": [
    "first = [1, 2, 3, 5]\n",
    "second = [2, 3, 5, 7]\n",
    "result_1 = first+second\n",
    "\n",
    "result_2 = first[0]+second[0]\n",
    "\n",
    "print(\"result_1 =\", result_1)\n",
    "print(\"result_2 =\", result_2)"
   ]
  },
  {
   "cell_type": "markdown",
   "metadata": {},
   "source": [
    "Prediction for the value of `result_1`:\n",
    "\n",
    "Prediction for the value of `result_2`: "
   ]
  },
  {
   "cell_type": "markdown",
   "metadata": {},
   "source": [
    "### 1.2.5 Common \"Bugs\" when Coding - Syntax vs Semantics\n",
    "\n",
    "There will be two types of problems you come across as you start developing code and the process of fixing these problems is called **Debugging**. \n",
    "\n",
    "One type of problem is called a syntax problem and these are similar to grammar problems in English, like the sentence below. \n",
    "\n",
    "This, is: sentence wrong?\n",
    "\n",
    "These problems break the rules of the language and make no sense to someone who understands the rules of the language. In Python these will throw an error when you try to run them. Usually a quick Google search of the error name can help understand what is going wrong. However, these errors are not always easy to understand and with practice, discussion with other coders, and time working on code you will find that debugging is a skill that you will always be working on!\n",
    "\n",
    "<span style=\"color:blue\">Task: Run the following code blocks to see what happens when errors happen.</span>"
   ]
  },
  {
   "cell_type": "code",
   "execution_count": null,
   "metadata": {},
   "outputs": [],
   "source": [
    "prime number = 7"
   ]
  },
  {
   "cell_type": "code",
   "execution_count": null,
   "metadata": {},
   "outputs": [],
   "source": [
    "first = 5  second = 6"
   ]
  },
  {
   "cell_type": "code",
   "execution_count": null,
   "metadata": {},
   "outputs": [],
   "source": [
    "big_number = 10000\n",
    "total_value = big_number + z"
   ]
  },
  {
   "cell_type": "markdown",
   "metadata": {},
   "source": [
    "Next up are the trickier problems called **semantic, or meaning**, problems. In English you may have seen an issue of meaning like the one below where a single comma can dramatically change the meaning of a sentence.\n",
    "\n",
    "Let's eat, grandpa.\n",
    "\n",
    "Let's eat grandpa.\n",
    "\n",
    "The first example is an invitation to a family member to join at a meal. The second ... well that's the potential loss of a family member and likely jail time. Each of these follows the rules of language, but the same words can have very different meanings with small changes.\n",
    "\n",
    "In code, these problems can be very tricky to spot, so let's try out some examples.\n",
    "\n",
    "<span style=\"color:blue\"> Task: run the following code blocks and try to find if there is a problem in the code. </span>"
   ]
  },
  {
   "cell_type": "code",
   "execution_count": null,
   "metadata": {},
   "outputs": [],
   "source": [
    "part_one = 14\n",
    "part_two = 12\n",
    "sum_total = part_one*part_two\n",
    "print(\"The sum of the two parts is \", sum_total)"
   ]
  },
  {
   "cell_type": "code",
   "execution_count": null,
   "metadata": {},
   "outputs": [],
   "source": [
    "step_one = \"Find toothbrush and toothpaste. \"\n",
    "step_two = \"Put toothpaste on toothbrush. \"\n",
    "step_three = \"Brush teeth in small circular motions. \"\n",
    "print(\"How to Clean Your Teeth.\")\n",
    "print(step_one, step_three, step_two)"
   ]
  },
  {
   "cell_type": "markdown",
   "metadata": {},
   "source": [
    "<span style=\"color:blue\">Tasks in breakout room groups:<br> \n",
    "    1. Go back over the syntax examples, and Google the errors and try to fix them so the code works correctly. If Google doesn't help, go back in this notebook and try and find which rules are being broken. <br>\n",
    "    2. Go to the semantics errors and try and fix them so the code does what you think it is meant to do.<br>\n",
    "    3. Try some other operations using different data types like the examples in section 1.2.4<br>\n",
    "</span>"
   ]
  },
  {
   "cell_type": "code",
   "execution_count": null,
   "metadata": {},
   "outputs": [],
   "source": []
  },
  {
   "cell_type": "markdown",
   "metadata": {},
   "source": [
    "## 1.3: Functions\n",
    "\n",
    "We've talked about saving values in code and we called this variables. Next, we will talk about saving blocks of code to be reused with a specific name and this idea is called functions. \n",
    "\n",
    "Functions have 3 parts to think about.\n",
    "1. The function name\n",
    "2. The inputs to the function\n",
    "3. The output from the function\n",
    "\n",
    "The syntax in Python is as follows:\n",
    "\n",
    "```python\n",
    "    #This is a basic function with a two inputs and two outputs\n",
    "    def a_function_name(input_1, input_2):\n",
    "        #Code to execute here\n",
    "        output_1 = input_1+5\n",
    "        output_2 = input_2+8\n",
    "        \n",
    "        return output_1, output_2\n",
    "```\n",
    "\n",
    "There are a few important pieces to notice here regarding functions\n",
    "1. The function begins with the word \"def\", short for definition, and shows up as a different color letting us know that is a keyword and is important.\n",
    "2. The inputs to the function are given in `()` and each one is separated by a `,`\n",
    "3. There is a `:` at the end of the function definition line (the first line)\n",
    "4. The code in the function is tabbed over by 1 tab\n",
    "5. The outputs also have a keyword before them in the word \"return\" and are also separated by `,`"
   ]
  },
  {
   "cell_type": "markdown",
   "metadata": {},
   "source": [
    "The examples below show some simple functions and how to use them.\n",
    "\n",
    "<span style=\"color:blue\"> Task: Run these blocks and try out these functions yourself in the empty spaces.</span>"
   ]
  },
  {
   "cell_type": "code",
   "execution_count": null,
   "metadata": {},
   "outputs": [],
   "source": [
    "# The following function defined as 'print_full_name' will print the combination of names and doesn't return any values\n",
    "def print_full_name(first_name, middle_initial, last_name):\n",
    "    print(first_name + \" \" + middle_initial + \" \" + last_name)\n",
    "    \n",
    "# call the function with names - try with your own name\n",
    "print_full_name(\"Samuel\", \"C\", \"Mogen\")"
   ]
  },
  {
   "cell_type": "code",
   "execution_count": null,
   "metadata": {},
   "outputs": [],
   "source": []
  },
  {
   "cell_type": "code",
   "execution_count": null,
   "metadata": {},
   "outputs": [],
   "source": [
    "# The following function will multiply an input value given by 5 and return that value\n",
    "def multiply_by_five(input_value):\n",
    "    return 5 * input_value\n",
    "\n",
    "x = 100 \n",
    "five_times = multiply_by_five(x)\n",
    "print(\"Five times \", x, \" = \", five_times)"
   ]
  },
  {
   "cell_type": "code",
   "execution_count": null,
   "metadata": {},
   "outputs": [],
   "source": []
  },
  {
   "cell_type": "markdown",
   "metadata": {},
   "source": [
    "## 1.4: Importing Packages and Using Functions from Outside the Notebook\n",
    "\n",
    "### 1.4.1 Making Scripts and Importing your own Functions\n",
    "\n",
    "<span style=\"color:blue\">Task: Use the file navigation on the left side to find a file called helper_functions.py. Open this and it should open in a new tab. </span>\n",
    "    \n",
    "You won't change any of this code, but you can see this file is a collection of the functions made above and a few more.\n",
    "\n",
    "When importing code you can import all of the package or script or just a single part.\n",
    "\n",
    "Use the code below as examples of the basics of using functions from files.\n",
    "\n",
    "<span style=\"color:blue\">Task: run the following code blocks and try using the other functions from the file. </span>"
   ]
  },
  {
   "cell_type": "code",
   "execution_count": null,
   "metadata": {},
   "outputs": [],
   "source": [
    "#An example of brining in one function from a separate package\n",
    "from helper_functions import multiply_by_six\n",
    "\n",
    "six_times = multiply_by_six(10.1)\n",
    "print(\"Six times 10.1 = \", six_times)"
   ]
  },
  {
   "cell_type": "code",
   "execution_count": null,
   "metadata": {},
   "outputs": [],
   "source": [
    "#An example of bringing in all the functions from a separate package\n",
    "import helper_functions\n",
    "\n",
    "#Use the . after the name of the package to access a given function.\n",
    "helper_functions.print_greeting(\"Sam\", \"C\", \"Mogen\")"
   ]
  },
  {
   "cell_type": "code",
   "execution_count": null,
   "metadata": {},
   "outputs": [],
   "source": [
    "#An example of bringing in all the functions but renaming the package as we use it\n",
    "import helper_functions as hfs\n",
    "\n",
    "#Still using the . to access functions\n",
    "hfs.print_greeting(\"Matt\", \"T\", \"Watwood\")"
   ]
  },
  {
   "cell_type": "markdown",
   "metadata": {},
   "source": [
    "### 1.4.2 Using Useful Outside Packages"
   ]
  },
  {
   "cell_type": "markdown",
   "metadata": {},
   "source": [
    "**Python also allows you to import packages developed by others that can be used to create plots, load data, run statistical analysis, etc.**\n",
    "\n",
    "We'll start with the following packages that are really useful for importing data and running statistics. You can read more about these packages at the links below, but we will discuss them throughout the bootcamp.\n",
    "\n",
    "NOTE: the convention is to have these at the top of each new notebook!\n",
    "\n",
    "[Numpy](https://numpy.org/doc/stable/)\n",
    "\n",
    "[Pandas](https://pandas.pydata.org/docs/user_guide/index.html#user-guide)\n",
    "\n",
    "[Matplotlib](https://matplotlib.org/stable/contents.html)"
   ]
  },
  {
   "cell_type": "code",
   "execution_count": null,
   "metadata": {},
   "outputs": [],
   "source": [
    "# import numpy, pandas and matplotlib\n",
    "import numpy as np\n",
    "import pandas as pd\n",
    "import matplotlib.pyplot as plt"
   ]
  },
  {
   "cell_type": "markdown",
   "metadata": {},
   "source": [
    "To call a function from one of these imported packages, for example numpy, you just need to type the\n",
    "\n",
    "`imported name + \".\" + function`\n",
    "\n",
    "```python\n",
    "np.array([1, 2, 3])\n",
    "```\n",
    "\n",
    "Which generates the following"
   ]
  },
  {
   "cell_type": "code",
   "execution_count": null,
   "metadata": {},
   "outputs": [],
   "source": [
    "np.array([1, 2, 3])"
   ]
  },
  {
   "cell_type": "markdown",
   "metadata": {},
   "source": [
    "<font color='blue'> Try saving a numpy array as a variable then use the function `np.mean(array_name)` to calculate the mean."
   ]
  },
  {
   "cell_type": "code",
   "execution_count": null,
   "metadata": {},
   "outputs": [],
   "source": []
  },
  {
   "cell_type": "markdown",
   "metadata": {},
   "source": [
    "Numpy arrays can also be used within functions. Below, we will generate a new function that will add 1 to each value in a numpy array."
   ]
  },
  {
   "cell_type": "code",
   "execution_count": null,
   "metadata": {},
   "outputs": [],
   "source": [
    "# first, use Numpy to create an array to do some calculations!\n",
    "array = np.array([[1, 2, 3], [4, 5, 6], [7, 8, 9]])\n",
    "print(array)"
   ]
  },
  {
   "cell_type": "code",
   "execution_count": null,
   "metadata": {},
   "outputs": [],
   "source": [
    "# Create a function that adds 1 to an array.\n",
    "def add_one(array):\n",
    "  return array + 1"
   ]
  },
  {
   "cell_type": "code",
   "execution_count": null,
   "metadata": {},
   "outputs": [],
   "source": [
    "# run this function and compare to the old array\n",
    "new_array = add_one(array)\n",
    "print(new_array)"
   ]
  },
  {
   "cell_type": "markdown",
   "metadata": {},
   "source": [
    "<font color='blue'> Now try creating your own function that squares all the values in a new array: $array^2$."
   ]
  },
  {
   "cell_type": "code",
   "execution_count": null,
   "metadata": {},
   "outputs": [],
   "source": [
    "# new_array = ...\n",
    "\n",
    "# def square() ..."
   ]
  },
  {
   "cell_type": "markdown",
   "metadata": {},
   "source": [
    "## 1.5: Logic (optional)"
   ]
  },
  {
   "cell_type": "markdown",
   "metadata": {},
   "source": [
    "Python also gives you the ability to compare data using 'if' statements. In the following, the text is printed **only if** the value of b is greater than the value of a."
   ]
  },
  {
   "cell_type": "code",
   "execution_count": null,
   "metadata": {},
   "outputs": [],
   "source": [
    "a = 33\n",
    "b = 100\n",
    "\n",
    "if b > a:\n",
    "    print('b is greater than a')"
   ]
  },
  {
   "cell_type": "markdown",
   "metadata": {},
   "source": [
    "In the next block, add a new phrase, `elif`. This tells python what to do **if the first if statement is not true**. Here, elif says that if the values are equal, then that will be printed."
   ]
  },
  {
   "cell_type": "code",
   "execution_count": null,
   "metadata": {},
   "outputs": [],
   "source": [
    "a = 100\n",
    "b = 100\n",
    "\n",
    "if b > a:\n",
    "    print('b is greater than a')\n",
    "elif b == a:\n",
    "    print('b is equal to a')"
   ]
  },
  {
   "cell_type": "markdown",
   "metadata": {},
   "source": [
    "Finally, you can add an `else` statement that covers **all other situations** (if neither the `if` or `elif` statements are true)."
   ]
  },
  {
   "cell_type": "code",
   "execution_count": null,
   "metadata": {},
   "outputs": [],
   "source": [
    "if b > a:\n",
    "    print('b is greater than a')\n",
    "elif b == a:\n",
    "    print('b is equal to a')\n",
    "else:\n",
    "    print('b is less than a')"
   ]
  },
  {
   "cell_type": "markdown",
   "metadata": {},
   "source": [
    "The `or` operator allows you to create if statements that will be `True` if **one** of the given conditions is true."
   ]
  },
  {
   "cell_type": "code",
   "execution_count": null,
   "metadata": {},
   "outputs": [],
   "source": [
    "# the operator 'or' can also be included if you want to see if just one condition is true\n",
    "a = 200\n",
    "b = 33\n",
    "c = 500\n",
    "\n",
    "if a > b or a > c:\n",
    "    print('one condition is true!')"
   ]
  },
  {
   "cell_type": "markdown",
   "metadata": {},
   "source": [
    "## 1.6: Importing and Working with Data"
   ]
  },
  {
   "cell_type": "markdown",
   "metadata": {},
   "source": [
    "We are going to start working with some basic data showing atmospheric temperature in Boulder, CO with monthly averages.\n",
    "\n",
    "The data called \"boco_air_temp.csv\" should be in yourfile navigator on the right.\n",
    "\n",
    "The data is monthly and average annual values at the NOAA Physical Sciences Lab in Boulder, Colorado starting in 1897. In this section we are going to start visualizing the data by introducing two new packages (that you have already imported).\n",
    "\n",
    "**To import the data, we will rely on the Pandas package and it's `read_csv` function**"
   ]
  },
  {
   "cell_type": "code",
   "execution_count": null,
   "metadata": {},
   "outputs": [],
   "source": [
    "import pandas as pd\n",
    "data = pd.read_csv('boco_air_temp.csv')"
   ]
  },
  {
   "cell_type": "markdown",
   "metadata": {},
   "source": [
    "Once we have the data saved as a variable, we want to see what it looks like!"
   ]
  },
  {
   "cell_type": "code",
   "execution_count": null,
   "metadata": {},
   "outputs": [],
   "source": [
    "print(data)"
   ]
  },
  {
   "cell_type": "markdown",
   "metadata": {},
   "source": [
    "This data is read in as a table, similar to what you might have seen in Excel!\n",
    "\n",
    "To select a specific column, you just need to use one of the indexing functions, so one of the following:\n",
    "\n",
    "```python\n",
    "data['Year']\n",
    "```\n",
    "```python\n",
    "data.Year\n",
    "```"
   ]
  },
  {
   "cell_type": "code",
   "execution_count": null,
   "metadata": {},
   "outputs": [],
   "source": [
    "print(data['Year'])"
   ]
  },
  {
   "cell_type": "code",
   "execution_count": null,
   "metadata": {},
   "outputs": [],
   "source": [
    "print(data.Year)"
   ]
  },
  {
   "cell_type": "markdown",
   "metadata": {},
   "source": [
    "### <font color='blue'> Now that we have read in some data, how would we plot this?"
   ]
  },
  {
   "cell_type": "markdown",
   "metadata": {},
   "source": [
    "<font color='blue'> Here is the basic syntax for calling a plot:\n",
    "```python\n",
    "plt.plot(xdata,ydata)\n",
    "```"
   ]
  },
  {
   "cell_type": "code",
   "execution_count": null,
   "metadata": {},
   "outputs": [],
   "source": [
    "# try this for yourself!\n"
   ]
  },
  {
   "cell_type": "markdown",
   "metadata": {},
   "source": [
    "You can also add multiple lines to a plot..."
   ]
  },
  {
   "cell_type": "code",
   "execution_count": null,
   "metadata": {},
   "outputs": [],
   "source": []
  },
  {
   "cell_type": "markdown",
   "metadata": {},
   "source": [
    "The [documentation](https://matplotlib.org/stable/contents.html) for Matplotlib includes information on how to label your axes, change the colors of lines, add a title, etc. You'll be referencing this extensively this afternoon!"
   ]
  }
 ],
 "metadata": {
  "kernelspec": {
   "display_name": "Python 3",
   "language": "python",
   "name": "python3"
  },
  "language_info": {
   "codemirror_mode": {
    "name": "ipython",
    "version": 3
   },
   "file_extension": ".py",
   "mimetype": "text/x-python",
   "name": "python",
   "nbconvert_exporter": "python",
   "pygments_lexer": "ipython3",
   "version": "3.8.3"
  }
 },
 "nbformat": 4,
 "nbformat_minor": 4
}
