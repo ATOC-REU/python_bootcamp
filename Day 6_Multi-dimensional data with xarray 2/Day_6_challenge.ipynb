{
 "cells": [
  {
   "cell_type": "markdown",
   "id": "1a8b2427-9575-4fdb-972b-fbbc7c11533d",
   "metadata": {},
   "source": [
    "# Python Bootcamp Day 6\n",
    "## Multi-dimensional data with xarray, part 2"
   ]
  },
  {
   "cell_type": "markdown",
   "id": "70b3301e-07ed-4661-ba4f-f240bdc3c06c",
   "metadata": {
    "tags": []
   },
   "source": [
    "# Challenge \n",
    "\n",
    "\"The World Ocean Atlas (WOA) is a collection of objectively analyzed, quality controlled temperature, salinity, oxygen, phosphate, silicate, and nitrate means based on profile data from the World Ocean Database (WOD). It can be used to create boundary and/or initial conditions for a variety of ocean models, verify numerical simulations of the ocean, and corroborate satellite data.\" - [NOAA National Centers for Environmental Information](https://www.ncei.noaa.gov/products/world-ocean-atlas)\n",
    "\n",
    "In this challenge, we will explore WOA temperature and oxygen climatologies. A climatology indicates the average environmental conditions over a long period of time, generally 30 years or more. Here, we are looking at annual means, so all seasonal variability has been removed. \n",
    "\n",
    "### Tasks: \n",
    "\n",
    "1) **Find Data** \n",
    "    * Starting from this website, navigate to the OPENDAP link for temperature and dissolved oxygen and open these datasets in your notebook using xarray.open_dataset(). https://www.ncei.noaa.gov/access/world-ocean-atlas-2018/\n",
    "    * Hint: Select 1 degree NetCDF output for \"Averaged Decades Years\", then select the annual file. (For the oxygen dataset, only one time period is available)\n",
    "<br><br>\n",
    "2) **Understand the Datasets**\n",
    "    * Look through the netcdf metadata. Select the variables of interest.\n",
    "    * You may find the dataset documentation useful: https://www.ncei.noaa.gov/sites/default/files/2020-04/woa18documentation.pdf\n",
    "    * Note the different time periods for temperature and oxygen (1981-2010 vs. 1955-2010). This is not ideal, but we'll have to work with the data that is easily accessible. \n",
    "<br><br>\n",
    "3) **Merge Temperature and Oxygen into one dataset**\n",
    "    * Hint: https://docs.xarray.dev/en/latest/generated/xarray.Dataset.merge.html\n",
    "<br><br>\n",
    "4) **Select surface-level values**\n",
    "\n",
    "5) **Make maps of temperature and oxygen annual mean climatologies**\n",
    "\n",
    "6) **Calculate correlation between temperature datasets**\n",
    "    * Import the mean SST netcdf that we exported earlier\n",
    "    * Calculate the Pearson correlation coefficient between the two temperature datasets\n",
    "    * Hint: https://docs.xarray.dev/en/stable/generated/xarray.corr.html?highlight=corr\n",
    "    * How well do the climatologies match up?\n",
    "<br><br>\n",
    "7) **Calculate correlation between WOA temperature and oxygen**\n",
    "    * First, make a scatter plot of temperature vs. oxygen. Does this relationship make sense based on our knowledge of chemistry?\n",
    "    * Calculate the Pearson correlation coefficient\n",
    "<br><br>\n",
    "8) **Calculate the line of best fit**\n",
    "    * Hint: \n",
    "\n",
    "        ```\n",
    "        # Import stats module\n",
    "        from scipy import stats\n",
    "        # Create 1-D numpy arrays\n",
    "        x = woa_data_surface.t_an.to_numpy().flatten()\n",
    "        y = woa_data_surface.o_an.to_numpy().flatten()\n",
    "        # Remove np.nan values by masking\n",
    "        mask = ~np.isnan(x) & ~np.isnan(y)\n",
    "        slope, intercept, r_value, p_value, std_err = stats.linregress(x[mask], y[mask])\n",
    "        ```\n",
    "<br>\n",
    "9) **Add the line of best fit to your scatter plot**\n",
    "\n",
    "10) **Visualize spatially**\n",
    "    * While most points sit close to the line of best fit, we see some points where our expected oxygen does not match what we observe. Why might this be the case? To investigate, let's plot these points spatially so that we can see if spatial patterns emerge. \n",
    "    * Use the line of best fit, to calculate the 'expected_o2', and add this as a new variable in your dataset. This is the oxygen concentration that we would estimate based on temperature measurements alone.\n",
    "    * Now, calculate the difference between the 'expected_o2' and the measured value. \n",
    "    * Plot this difference on a map. What spatial trends do you observe? Any ideas about why the observed oxygen differs from the expected value in these regions?"
   ]
  }
 ],
 "metadata": {
  "kernelspec": {
   "display_name": "Python 3 (ipykernel)",
   "language": "python",
   "name": "python3"
  },
  "language_info": {
   "codemirror_mode": {
    "name": "ipython",
    "version": 3
   },
   "file_extension": ".py",
   "mimetype": "text/x-python",
   "name": "python",
   "nbconvert_exporter": "python",
   "pygments_lexer": "ipython3",
   "version": "3.9.12"
  }
 },
 "nbformat": 4,
 "nbformat_minor": 5
}
