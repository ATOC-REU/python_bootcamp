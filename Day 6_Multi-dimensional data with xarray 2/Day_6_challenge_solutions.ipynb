{
 "cells": [
  {
   "cell_type": "markdown",
   "id": "5746e014",
   "metadata": {},
   "source": [
    "# ATOC REU Python Bootcamp Day 6\n",
    "## Multi-dimensional data with xarray, part 2"
   ]
  },
  {
   "cell_type": "markdown",
   "id": "2bc782cc",
   "metadata": {
    "tags": []
   },
   "source": [
    "# Challenge \n",
    "\n",
    "\"The World Ocean Atlas (WOA) is a collection of objectively analyzed, quality controlled temperature, salinity, oxygen, phosphate, silicate, and nitrate means based on profile data from the World Ocean Database (WOD). It can be used to create boundary and/or initial conditions for a variety of ocean models, verify numerical simulations of the ocean, and corroborate satellite data.\" - [NOAA National Centers for Environmental Information](https://www.ncei.noaa.gov/products/world-ocean-atlas)\n",
    "\n",
    "In this challenge, we will explore WOA temperature and oxygen climatologies. A climatology indicates the average environmental conditions over a long period of time, generally 30 years or more. Here, we are looking at annual means, so all seasonal variability has been removed. \n",
    "\n",
    "### Tasks: \n",
    "\n",
    "1) **Find Data** \n",
    "    * Starting from this website, navigate to the OPENDAP link for temperature and dissolved oxygen and open these datasets in your notebook using xarray.open_dataset(). https://www.ncei.noaa.gov/access/world-ocean-atlas-2018/\n",
    "    * Hint: Select 1 degree NetCDF output for \"Averaged Decades Years\", then select the annual file. (For the oxygen dataset, only one time period is available)\n",
    "<br><br>\n",
    "2) **Understand the Datasets**\n",
    "    * Look through the netcdf metadata. Select the variables of interest.\n",
    "    * You may find the dataset documentation useful: https://www.ncei.noaa.gov/sites/default/files/2020-04/woa18documentation.pdf\n",
    "    * Note the different time periods for temperature and oxygen (1981-2010 vs. 1955-2010). This is not ideal, but it's ok for our purposes. \n",
    "<br><br>\n",
    "3) **Merge Temperature and Oxygen into one dataset**\n",
    "    * Hint: https://docs.xarray.dev/en/latest/generated/xarray.Dataset.merge.html\n",
    "<br><br>\n",
    "4) **Select surface-level values**\n",
    "\n",
    "5) **Make maps of temperature and oxygen climatologies (average over all years)**\n",
    "\n",
    "6) **Calculate correlation between temperature datasets**\n",
    "    * Import the mean SST netcdf that we exported earlier from the ORAS4 product \n",
    "    * Calculate the Pearson correlation coefficient between the two temperature datasets\n",
    "    * Hint: https://docs.xarray.dev/en/stable/generated/xarray.corr.html?highlight=corr\n",
    "    * How well do the climatologies match up?\n",
    "<br><br>\n",
    "7) **Calculate correlation between WOA temperature and oxygen**\n",
    "    * First, make a scatter plot of temperature vs. oxygen. Does this relationship make sense based on our knowledge of chemistry?\n",
    "    * Calculate the Pearson correlation coefficient\n",
    "<br><br>\n",
    "8) **Calculate the line of best fit**\n",
    "    * Hint: \n",
    "\n",
    "        ```\n",
    "        # Import stats module\n",
    "        from scipy import stats\n",
    "        # Create 1-D numpy arrays\n",
    "        x = woa_data_surface.t_an.to_numpy().flatten()\n",
    "        y = woa_data_surface.o_an.to_numpy().flatten()\n",
    "        # Remove np.nan values by masking\n",
    "        mask = ~np.isnan(x) & ~np.isnan(y)\n",
    "        slope, intercept, r_value, p_value, std_err = stats.linregress(x[mask], y[mask])\n",
    "        ```\n",
    "<br>\n",
    "9) **Add the line of best fit to your scatter plot**\n",
    "\n",
    "10) **Visualize spatially**\n",
    "    * While most points sit close to the line of best fit, we see some points where our expected oxygen does not match what we observe. Why might this be the case? To investigate, let's plot these points spatially so that we can see if spatial patterns emerge. \n",
    "    * Use the line of best fit, to calculate the 'expected_o2', and add this as a new variable in your dataset. This is the oxygen concentration that we would estimate based on temperature measurements alone.\n",
    "    * Now, calculate the difference between the 'expected_o2' and the measured value. \n",
    "    * Plot this difference on a map. What spatial trends do you observe? Any ideas about why the observed oxygen differs from the expected value in these regions?"
   ]
  },
  {
   "cell_type": "markdown",
   "id": "4f5eb9a0",
   "metadata": {},
   "source": [
    "# Solution: "
   ]
  },
  {
   "cell_type": "code",
   "execution_count": null,
   "id": "c24e1482",
   "metadata": {},
   "outputs": [],
   "source": [
    "import numpy as np\n",
    "import pandas as pd\n",
    "import matplotlib.pyplot as plt\n",
    "from scipy import stats\n",
    "import xarray as xr"
   ]
  },
  {
   "cell_type": "markdown",
   "id": "ba4c893d",
   "metadata": {},
   "source": [
    "## Import Temperature data"
   ]
  },
  {
   "cell_type": "code",
   "execution_count": null,
   "id": "c80888b5",
   "metadata": {},
   "outputs": [],
   "source": [
    "path = 'https://www.ncei.noaa.gov/thredds-ocean/dodsC/ncei/woa/temperature/decav/1.00/woa18_decav_t00_01.nc'\n",
    "woa_temp = xr.open_dataset(path, decode_times=False)"
   ]
  },
  {
   "cell_type": "code",
   "execution_count": null,
   "id": "75fc9906",
   "metadata": {},
   "outputs": [],
   "source": [
    "woa_temp = woa_temp.t_an"
   ]
  },
  {
   "cell_type": "markdown",
   "id": "f5a2c8bd",
   "metadata": {},
   "source": [
    "## Import oxygen data"
   ]
  },
  {
   "cell_type": "code",
   "execution_count": null,
   "id": "c2ca1dcf",
   "metadata": {},
   "outputs": [],
   "source": [
    "path = 'https://www.ncei.noaa.gov/thredds-ocean/dodsC/ncei/woa/oxygen/all/1.00/woa18_all_o00_01.nc'\n",
    "woa_oxygen = xr.open_dataset(path, decode_times=False)"
   ]
  },
  {
   "cell_type": "code",
   "execution_count": null,
   "id": "bd295843",
   "metadata": {
    "tags": []
   },
   "outputs": [],
   "source": [
    "woa_oxygen = woa_oxygen.o_an"
   ]
  },
  {
   "cell_type": "code",
   "execution_count": null,
   "id": "73d93450",
   "metadata": {},
   "outputs": [],
   "source": [
    "woa_data = xr.merge([woa_temp, woa_oxygen])"
   ]
  },
  {
   "cell_type": "code",
   "execution_count": null,
   "id": "ba4f6269",
   "metadata": {},
   "outputs": [],
   "source": [
    "woa_data_surface = woa_data.sel(depth=0).mean(dim='time')"
   ]
  },
  {
   "cell_type": "markdown",
   "id": "e099c838",
   "metadata": {},
   "source": [
    "## Plot surface-level data"
   ]
  },
  {
   "cell_type": "code",
   "execution_count": null,
   "id": "26b31a6c",
   "metadata": {},
   "outputs": [],
   "source": [
    "woa_data_surface.t_an.plot()"
   ]
  },
  {
   "cell_type": "code",
   "execution_count": null,
   "id": "119dc5d1",
   "metadata": {},
   "outputs": [],
   "source": [
    "woa_data_surface.o_an.plot()"
   ]
  },
  {
   "cell_type": "markdown",
   "id": "eec8ee7a",
   "metadata": {},
   "source": [
    "## Correlation between datasets\n",
    "\n",
    "Compare the WOA climatology to the ERA5 hindcast"
   ]
  },
  {
   "cell_type": "code",
   "execution_count": null,
   "id": "974149e1",
   "metadata": {},
   "outputs": [],
   "source": [
    "sst_climatology_era5 = xr.open_dataset('sst_climatology_oras4.nc')"
   ]
  },
  {
   "cell_type": "code",
   "execution_count": null,
   "id": "7137dc91",
   "metadata": {},
   "outputs": [],
   "source": [
    "xr.corr(woa_data_surface.t_an, sst_climatology_era5.temp, dim=None)"
   ]
  },
  {
   "cell_type": "markdown",
   "id": "da524b13",
   "metadata": {},
   "source": [
    "## Correlation between variables"
   ]
  },
  {
   "cell_type": "code",
   "execution_count": null,
   "id": "a2d2af9b",
   "metadata": {},
   "outputs": [],
   "source": [
    "plt.plot(woa_data_surface.t_an, woa_data_surface.o_an, 'o', color='blue');\n",
    "plt.xlabel('Temperature [C]')\n",
    "plt.ylabel('Oxygen Concentration [umol/kg]')"
   ]
  },
  {
   "cell_type": "code",
   "execution_count": null,
   "id": "20db6da4",
   "metadata": {},
   "outputs": [],
   "source": [
    "xr.corr(woa_data_surface.t_an, woa_data_surface.o_an, dim=None)"
   ]
  },
  {
   "cell_type": "code",
   "execution_count": null,
   "id": "6462f7b3",
   "metadata": {},
   "outputs": [],
   "source": [
    "# Calculate line of best fit\n",
    "\n",
    "x = woa_data_surface.t_an.to_numpy().flatten()\n",
    "y = woa_data_surface.o_an.to_numpy().flatten()\n",
    "\n",
    "mask = ~np.isnan(x) & ~np.isnan(y)\n",
    "slope, intercept, r_value, p_value, std_err = stats.linregress(x[mask], y[mask])\n",
    "\n",
    "print(slope, intercept, r_value, p_value, std_err)"
   ]
  },
  {
   "cell_type": "code",
   "execution_count": null,
   "id": "97667228",
   "metadata": {},
   "outputs": [],
   "source": [
    "woa_data_surface['expected_o2'] = slope*(woa_data_surface.t_an) + intercept"
   ]
  },
  {
   "cell_type": "code",
   "execution_count": null,
   "id": "67ae6a90",
   "metadata": {},
   "outputs": [],
   "source": [
    "# Plot line on scatter plot\n",
    "plt.plot(woa_data_surface.t_an, woa_data_surface.o_an, 'o', color='blue');\n",
    "plt.plot(woa_data_surface.t_an, woa_data_surface['expected_o2'], color='k')\n",
    "plt.xlabel('Temperature [C]')\n",
    "plt.ylabel('Oxygen Concentration [umol/kg]')"
   ]
  },
  {
   "cell_type": "markdown",
   "id": "d18d1134",
   "metadata": {
    "tags": []
   },
   "source": [
    "### Visualize spatially"
   ]
  },
  {
   "cell_type": "code",
   "execution_count": null,
   "id": "ca0f0eb8",
   "metadata": {},
   "outputs": [],
   "source": [
    "woa_data_surface['o2_anomaly'] = woa_data_surface['expected_o2'] - woa_data_surface['o_an']"
   ]
  },
  {
   "cell_type": "code",
   "execution_count": null,
   "id": "2a4b8b50",
   "metadata": {},
   "outputs": [],
   "source": [
    "woa_data_surface.o2_anomaly.plot()"
   ]
  },
  {
   "cell_type": "code",
   "execution_count": null,
   "id": "15401631",
   "metadata": {},
   "outputs": [],
   "source": []
  }
 ],
 "metadata": {
  "kernelspec": {
   "display_name": "Python 3 (ipykernel)",
   "language": "python",
   "name": "python3"
  },
  "language_info": {
   "codemirror_mode": {
    "name": "ipython",
    "version": 3
   },
   "file_extension": ".py",
   "mimetype": "text/x-python",
   "name": "python",
   "nbconvert_exporter": "python",
   "pygments_lexer": "ipython3",
   "version": "3.8.16"
  }
 },
 "nbformat": 4,
 "nbformat_minor": 5
}
