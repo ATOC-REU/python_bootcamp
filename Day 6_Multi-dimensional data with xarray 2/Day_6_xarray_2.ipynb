{
 "cells": [
  {
   "cell_type": "markdown",
   "id": "1a8b2427-9575-4fdb-972b-fbbc7c11533d",
   "metadata": {},
   "source": [
    "# ATOC REU Python Bootcamp Day 6\n",
    "## Multi-dimensional data with xarray, part 2"
   ]
  },
  {
   "cell_type": "markdown",
   "id": "0f6c0d8c-68c4-43b6-a108-e46820c4386e",
   "metadata": {},
   "source": [
    "## Topics for the day\n",
    "* Review xarray basics \n",
    "* Calculate new xarray variables \n",
    "* Make simple maps \n",
    "* Save a netcdf file from xarray\n",
    "* Filter data with .where()\n",
    "* Area-weighted averaging\n",
    "* Merge datasets together "
   ]
  },
  {
   "cell_type": "code",
   "execution_count": 1,
   "id": "67e513a0-3589-4d51-a4ea-65fe43a0898c",
   "metadata": {},
   "outputs": [],
   "source": [
    "import numpy as np\n",
    "import pandas as pd\n",
    "import matplotlib.pyplot as plt\n",
    "import geopandas as gpd"
   ]
  },
  {
   "cell_type": "code",
   "execution_count": 2,
   "id": "a6ffe513-9f20-4f6b-91b1-39e43af6003c",
   "metadata": {},
   "outputs": [],
   "source": [
    "# Import xarray \n",
    "import xarray as xr"
   ]
  },
  {
   "cell_type": "markdown",
   "id": "687e298a-ff06-4941-af8b-ce00fdca5730",
   "metadata": {},
   "source": [
    "## Import Data\n",
    "\n",
    "**Dataset: ECMWF Ocean Reanalysis System 4 (ORAS4)**\n",
    "\n",
    "* Reanalysis products aim to provide a complete picture of Earth's past weather and climate. Since our observations are limited, we combine them with model outputs to generate continuous space/time fields on a grid. This allows us to estimate past environmental variables at any point on the globe, and at various depths in the ocean or altitudes in the atmosphere.\n",
    "* Period: 1958-2017\n",
    "* Resolution: Horizontal 1°x1°, 42 vertical levels, about 10m-15m level thickness in upper 200m.\n",
    "* For more information, see https://www.cen.uni-hamburg.de/en/icdc/data/ocean/easy-init-ocean/ecmwf-ocean-reanalysis-system-4-oras4.html"
   ]
  },
  {
   "cell_type": "code",
   "execution_count": 3,
   "id": "57224b34-6648-4479-bd52-af31c57fcf32",
   "metadata": {},
   "outputs": [],
   "source": [
    "# Open dataset from OPeNDAP link\n",
    "ocean_temp = xr.open_dataset('https://icdc.cen.uni-hamburg.de/thredds/dodsC/oras4_temp_all')"
   ]
  },
  {
   "cell_type": "markdown",
   "id": "8d14ee23-f06f-44fa-ab05-34de8d817166",
   "metadata": {},
   "source": [
    "Check xarray variables and dimensions"
   ]
  },
  {
   "cell_type": "code",
   "execution_count": 4,
   "id": "cbeb85ec-1c6c-4121-b5fd-4f5f7f7d6ddd",
   "metadata": {
    "tags": []
   },
   "outputs": [
    {
     "data": {
      "text/html": [
       "<div><svg style=\"position: absolute; width: 0; height: 0; overflow: hidden\">\n",
       "<defs>\n",
       "<symbol id=\"icon-database\" viewBox=\"0 0 32 32\">\n",
       "<path d=\"M16 0c-8.837 0-16 2.239-16 5v4c0 2.761 7.163 5 16 5s16-2.239 16-5v-4c0-2.761-7.163-5-16-5z\"></path>\n",
       "<path d=\"M16 17c-8.837 0-16-2.239-16-5v6c0 2.761 7.163 5 16 5s16-2.239 16-5v-6c0 2.761-7.163 5-16 5z\"></path>\n",
       "<path d=\"M16 26c-8.837 0-16-2.239-16-5v6c0 2.761 7.163 5 16 5s16-2.239 16-5v-6c0 2.761-7.163 5-16 5z\"></path>\n",
       "</symbol>\n",
       "<symbol id=\"icon-file-text2\" viewBox=\"0 0 32 32\">\n",
       "<path d=\"M28.681 7.159c-0.694-0.947-1.662-2.053-2.724-3.116s-2.169-2.030-3.116-2.724c-1.612-1.182-2.393-1.319-2.841-1.319h-15.5c-1.378 0-2.5 1.121-2.5 2.5v27c0 1.378 1.122 2.5 2.5 2.5h23c1.378 0 2.5-1.122 2.5-2.5v-19.5c0-0.448-0.137-1.23-1.319-2.841zM24.543 5.457c0.959 0.959 1.712 1.825 2.268 2.543h-4.811v-4.811c0.718 0.556 1.584 1.309 2.543 2.268zM28 29.5c0 0.271-0.229 0.5-0.5 0.5h-23c-0.271 0-0.5-0.229-0.5-0.5v-27c0-0.271 0.229-0.5 0.5-0.5 0 0 15.499-0 15.5 0v7c0 0.552 0.448 1 1 1h7v19.5z\"></path>\n",
       "<path d=\"M23 26h-14c-0.552 0-1-0.448-1-1s0.448-1 1-1h14c0.552 0 1 0.448 1 1s-0.448 1-1 1z\"></path>\n",
       "<path d=\"M23 22h-14c-0.552 0-1-0.448-1-1s0.448-1 1-1h14c0.552 0 1 0.448 1 1s-0.448 1-1 1z\"></path>\n",
       "<path d=\"M23 18h-14c-0.552 0-1-0.448-1-1s0.448-1 1-1h14c0.552 0 1 0.448 1 1s-0.448 1-1 1z\"></path>\n",
       "</symbol>\n",
       "</defs>\n",
       "</svg>\n",
       "<style>/* CSS stylesheet for displaying xarray objects in jupyterlab.\n",
       " *\n",
       " */\n",
       "\n",
       ":root {\n",
       "  --xr-font-color0: var(--jp-content-font-color0, rgba(0, 0, 0, 1));\n",
       "  --xr-font-color2: var(--jp-content-font-color2, rgba(0, 0, 0, 0.54));\n",
       "  --xr-font-color3: var(--jp-content-font-color3, rgba(0, 0, 0, 0.38));\n",
       "  --xr-border-color: var(--jp-border-color2, #e0e0e0);\n",
       "  --xr-disabled-color: var(--jp-layout-color3, #bdbdbd);\n",
       "  --xr-background-color: var(--jp-layout-color0, white);\n",
       "  --xr-background-color-row-even: var(--jp-layout-color1, white);\n",
       "  --xr-background-color-row-odd: var(--jp-layout-color2, #eeeeee);\n",
       "}\n",
       "\n",
       "html[theme=dark],\n",
       "body.vscode-dark {\n",
       "  --xr-font-color0: rgba(255, 255, 255, 1);\n",
       "  --xr-font-color2: rgba(255, 255, 255, 0.54);\n",
       "  --xr-font-color3: rgba(255, 255, 255, 0.38);\n",
       "  --xr-border-color: #1F1F1F;\n",
       "  --xr-disabled-color: #515151;\n",
       "  --xr-background-color: #111111;\n",
       "  --xr-background-color-row-even: #111111;\n",
       "  --xr-background-color-row-odd: #313131;\n",
       "}\n",
       "\n",
       ".xr-wrap {\n",
       "  display: block;\n",
       "  min-width: 300px;\n",
       "  max-width: 700px;\n",
       "}\n",
       "\n",
       ".xr-text-repr-fallback {\n",
       "  /* fallback to plain text repr when CSS is not injected (untrusted notebook) */\n",
       "  display: none;\n",
       "}\n",
       "\n",
       ".xr-header {\n",
       "  padding-top: 6px;\n",
       "  padding-bottom: 6px;\n",
       "  margin-bottom: 4px;\n",
       "  border-bottom: solid 1px var(--xr-border-color);\n",
       "}\n",
       "\n",
       ".xr-header > div,\n",
       ".xr-header > ul {\n",
       "  display: inline;\n",
       "  margin-top: 0;\n",
       "  margin-bottom: 0;\n",
       "}\n",
       "\n",
       ".xr-obj-type,\n",
       ".xr-array-name {\n",
       "  margin-left: 2px;\n",
       "  margin-right: 10px;\n",
       "}\n",
       "\n",
       ".xr-obj-type {\n",
       "  color: var(--xr-font-color2);\n",
       "}\n",
       "\n",
       ".xr-sections {\n",
       "  padding-left: 0 !important;\n",
       "  display: grid;\n",
       "  grid-template-columns: 150px auto auto 1fr 20px 20px;\n",
       "}\n",
       "\n",
       ".xr-section-item {\n",
       "  display: contents;\n",
       "}\n",
       "\n",
       ".xr-section-item input {\n",
       "  display: none;\n",
       "}\n",
       "\n",
       ".xr-section-item input + label {\n",
       "  color: var(--xr-disabled-color);\n",
       "}\n",
       "\n",
       ".xr-section-item input:enabled + label {\n",
       "  cursor: pointer;\n",
       "  color: var(--xr-font-color2);\n",
       "}\n",
       "\n",
       ".xr-section-item input:enabled + label:hover {\n",
       "  color: var(--xr-font-color0);\n",
       "}\n",
       "\n",
       ".xr-section-summary {\n",
       "  grid-column: 1;\n",
       "  color: var(--xr-font-color2);\n",
       "  font-weight: 500;\n",
       "}\n",
       "\n",
       ".xr-section-summary > span {\n",
       "  display: inline-block;\n",
       "  padding-left: 0.5em;\n",
       "}\n",
       "\n",
       ".xr-section-summary-in:disabled + label {\n",
       "  color: var(--xr-font-color2);\n",
       "}\n",
       "\n",
       ".xr-section-summary-in + label:before {\n",
       "  display: inline-block;\n",
       "  content: '►';\n",
       "  font-size: 11px;\n",
       "  width: 15px;\n",
       "  text-align: center;\n",
       "}\n",
       "\n",
       ".xr-section-summary-in:disabled + label:before {\n",
       "  color: var(--xr-disabled-color);\n",
       "}\n",
       "\n",
       ".xr-section-summary-in:checked + label:before {\n",
       "  content: '▼';\n",
       "}\n",
       "\n",
       ".xr-section-summary-in:checked + label > span {\n",
       "  display: none;\n",
       "}\n",
       "\n",
       ".xr-section-summary,\n",
       ".xr-section-inline-details {\n",
       "  padding-top: 4px;\n",
       "  padding-bottom: 4px;\n",
       "}\n",
       "\n",
       ".xr-section-inline-details {\n",
       "  grid-column: 2 / -1;\n",
       "}\n",
       "\n",
       ".xr-section-details {\n",
       "  display: none;\n",
       "  grid-column: 1 / -1;\n",
       "  margin-bottom: 5px;\n",
       "}\n",
       "\n",
       ".xr-section-summary-in:checked ~ .xr-section-details {\n",
       "  display: contents;\n",
       "}\n",
       "\n",
       ".xr-array-wrap {\n",
       "  grid-column: 1 / -1;\n",
       "  display: grid;\n",
       "  grid-template-columns: 20px auto;\n",
       "}\n",
       "\n",
       ".xr-array-wrap > label {\n",
       "  grid-column: 1;\n",
       "  vertical-align: top;\n",
       "}\n",
       "\n",
       ".xr-preview {\n",
       "  color: var(--xr-font-color3);\n",
       "}\n",
       "\n",
       ".xr-array-preview,\n",
       ".xr-array-data {\n",
       "  padding: 0 5px !important;\n",
       "  grid-column: 2;\n",
       "}\n",
       "\n",
       ".xr-array-data,\n",
       ".xr-array-in:checked ~ .xr-array-preview {\n",
       "  display: none;\n",
       "}\n",
       "\n",
       ".xr-array-in:checked ~ .xr-array-data,\n",
       ".xr-array-preview {\n",
       "  display: inline-block;\n",
       "}\n",
       "\n",
       ".xr-dim-list {\n",
       "  display: inline-block !important;\n",
       "  list-style: none;\n",
       "  padding: 0 !important;\n",
       "  margin: 0;\n",
       "}\n",
       "\n",
       ".xr-dim-list li {\n",
       "  display: inline-block;\n",
       "  padding: 0;\n",
       "  margin: 0;\n",
       "}\n",
       "\n",
       ".xr-dim-list:before {\n",
       "  content: '(';\n",
       "}\n",
       "\n",
       ".xr-dim-list:after {\n",
       "  content: ')';\n",
       "}\n",
       "\n",
       ".xr-dim-list li:not(:last-child):after {\n",
       "  content: ',';\n",
       "  padding-right: 5px;\n",
       "}\n",
       "\n",
       ".xr-has-index {\n",
       "  font-weight: bold;\n",
       "}\n",
       "\n",
       ".xr-var-list,\n",
       ".xr-var-item {\n",
       "  display: contents;\n",
       "}\n",
       "\n",
       ".xr-var-item > div,\n",
       ".xr-var-item label,\n",
       ".xr-var-item > .xr-var-name span {\n",
       "  background-color: var(--xr-background-color-row-even);\n",
       "  margin-bottom: 0;\n",
       "}\n",
       "\n",
       ".xr-var-item > .xr-var-name:hover span {\n",
       "  padding-right: 5px;\n",
       "}\n",
       "\n",
       ".xr-var-list > li:nth-child(odd) > div,\n",
       ".xr-var-list > li:nth-child(odd) > label,\n",
       ".xr-var-list > li:nth-child(odd) > .xr-var-name span {\n",
       "  background-color: var(--xr-background-color-row-odd);\n",
       "}\n",
       "\n",
       ".xr-var-name {\n",
       "  grid-column: 1;\n",
       "}\n",
       "\n",
       ".xr-var-dims {\n",
       "  grid-column: 2;\n",
       "}\n",
       "\n",
       ".xr-var-dtype {\n",
       "  grid-column: 3;\n",
       "  text-align: right;\n",
       "  color: var(--xr-font-color2);\n",
       "}\n",
       "\n",
       ".xr-var-preview {\n",
       "  grid-column: 4;\n",
       "}\n",
       "\n",
       ".xr-var-name,\n",
       ".xr-var-dims,\n",
       ".xr-var-dtype,\n",
       ".xr-preview,\n",
       ".xr-attrs dt {\n",
       "  white-space: nowrap;\n",
       "  overflow: hidden;\n",
       "  text-overflow: ellipsis;\n",
       "  padding-right: 10px;\n",
       "}\n",
       "\n",
       ".xr-var-name:hover,\n",
       ".xr-var-dims:hover,\n",
       ".xr-var-dtype:hover,\n",
       ".xr-attrs dt:hover {\n",
       "  overflow: visible;\n",
       "  width: auto;\n",
       "  z-index: 1;\n",
       "}\n",
       "\n",
       ".xr-var-attrs,\n",
       ".xr-var-data {\n",
       "  display: none;\n",
       "  background-color: var(--xr-background-color) !important;\n",
       "  padding-bottom: 5px !important;\n",
       "}\n",
       "\n",
       ".xr-var-attrs-in:checked ~ .xr-var-attrs,\n",
       ".xr-var-data-in:checked ~ .xr-var-data {\n",
       "  display: block;\n",
       "}\n",
       "\n",
       ".xr-var-data > table {\n",
       "  float: right;\n",
       "}\n",
       "\n",
       ".xr-var-name span,\n",
       ".xr-var-data,\n",
       ".xr-attrs {\n",
       "  padding-left: 25px !important;\n",
       "}\n",
       "\n",
       ".xr-attrs,\n",
       ".xr-var-attrs,\n",
       ".xr-var-data {\n",
       "  grid-column: 1 / -1;\n",
       "}\n",
       "\n",
       "dl.xr-attrs {\n",
       "  padding: 0;\n",
       "  margin: 0;\n",
       "  display: grid;\n",
       "  grid-template-columns: 125px auto;\n",
       "}\n",
       "\n",
       ".xr-attrs dt,\n",
       ".xr-attrs dd {\n",
       "  padding: 0;\n",
       "  margin: 0;\n",
       "  float: left;\n",
       "  padding-right: 10px;\n",
       "  width: auto;\n",
       "}\n",
       "\n",
       ".xr-attrs dt {\n",
       "  font-weight: normal;\n",
       "  grid-column: 1;\n",
       "}\n",
       "\n",
       ".xr-attrs dt:hover span {\n",
       "  display: inline-block;\n",
       "  background: var(--xr-background-color);\n",
       "  padding-right: 10px;\n",
       "}\n",
       "\n",
       ".xr-attrs dd {\n",
       "  grid-column: 2;\n",
       "  white-space: pre-wrap;\n",
       "  word-break: break-all;\n",
       "}\n",
       "\n",
       ".xr-icon-database,\n",
       ".xr-icon-file-text2 {\n",
       "  display: inline-block;\n",
       "  vertical-align: middle;\n",
       "  width: 1em;\n",
       "  height: 1.5em !important;\n",
       "  stroke-width: 0;\n",
       "  stroke: currentColor;\n",
       "  fill: currentColor;\n",
       "}\n",
       "</style><pre class='xr-text-repr-fallback'>&lt;xarray.Dataset&gt;\n",
       "Dimensions:  (depth: 42, lon: 360, lat: 180, time: 720)\n",
       "Coordinates:\n",
       "  * depth    (depth) float32 5.022 15.08 25.16 ... 4.752e+03 5.051e+03 5.35e+03\n",
       "  * lon      (lon) float32 0.5 1.5 2.5 3.5 4.5 ... 355.5 356.5 357.5 358.5 359.5\n",
       "  * lat      (lat) float32 -89.5 -88.5 -87.5 -86.5 -85.5 ... 86.5 87.5 88.5 89.5\n",
       "  * time     (time) datetime64[ns] 1958-01-16 1958-02-14 ... 2017-12-16\n",
       "Data variables:\n",
       "    mask     (depth, lat, lon) float32 ...\n",
       "    thetao   (time, depth, lat, lon) float32 ...\n",
       "Attributes:\n",
       "    NCO:                       4.4.6\n",
       "    nco_openmp_thread_number:  1\n",
       "    Conventions:               CF-1.1\n",
       "    title:                     ORAS4 ocean reanalysis\n",
       "    institution:               ECMWF\n",
       "    source:                    Interpolated into WOA 1x1 grid and  monthly av...\n",
       "    references:                http://www.ecmwf.int/products/forecasts/d/char...\n",
       "    history:                   Tue May 22 09:21:39 2018: ncrename -d dep,dept...</pre><div class='xr-wrap' hidden><div class='xr-header'><div class='xr-obj-type'>xarray.Dataset</div></div><ul class='xr-sections'><li class='xr-section-item'><input id='section-d8ec797a-177d-481c-9422-2c8e4cb586fb' class='xr-section-summary-in' type='checkbox' disabled ><label for='section-d8ec797a-177d-481c-9422-2c8e4cb586fb' class='xr-section-summary'  title='Expand/collapse section'>Dimensions:</label><div class='xr-section-inline-details'><ul class='xr-dim-list'><li><span class='xr-has-index'>depth</span>: 42</li><li><span class='xr-has-index'>lon</span>: 360</li><li><span class='xr-has-index'>lat</span>: 180</li><li><span class='xr-has-index'>time</span>: 720</li></ul></div><div class='xr-section-details'></div></li><li class='xr-section-item'><input id='section-c870a94f-a017-45f2-8826-1e6ddeb48905' class='xr-section-summary-in' type='checkbox'  checked><label for='section-c870a94f-a017-45f2-8826-1e6ddeb48905' class='xr-section-summary' >Coordinates: <span>(4)</span></label><div class='xr-section-inline-details'></div><div class='xr-section-details'><ul class='xr-var-list'><li class='xr-var-item'><div class='xr-var-name'><span class='xr-has-index'>depth</span></div><div class='xr-var-dims'>(depth)</div><div class='xr-var-dtype'>float32</div><div class='xr-var-preview xr-preview'>5.022 15.08 ... 5.051e+03 5.35e+03</div><input id='attrs-234c84d3-9d96-4201-8a11-2a4ee3794567' class='xr-var-attrs-in' type='checkbox' ><label for='attrs-234c84d3-9d96-4201-8a11-2a4ee3794567' title='Show/Hide attributes'><svg class='icon xr-icon-file-text2'><use xlink:href='#icon-file-text2'></use></svg></label><input id='data-12ca3328-bcbf-4463-a09b-0703db9bdc25' class='xr-var-data-in' type='checkbox'><label for='data-12ca3328-bcbf-4463-a09b-0703db9bdc25' title='Show/Hide data repr'><svg class='icon xr-icon-database'><use xlink:href='#icon-database'></use></svg></label><div class='xr-var-attrs'><dl class='xr-attrs'><dt><span>axis :</span></dt><dd>Z</dd><dt><span>standard_name :</span></dt><dd>depth</dd><dt><span>units :</span></dt><dd>m</dd><dt><span>positive :</span></dt><dd>down</dd><dt><span>valid_min :</span></dt><dd>5.021589756011963</dd><dt><span>valid_max :</span></dt><dd>5350.27197265625</dd></dl></div><div class='xr-var-data'><pre>array([5.021590e+00, 1.507854e+01, 2.516046e+01, 3.527829e+01, 4.544776e+01,\n",
       "       5.569149e+01, 6.604198e+01, 7.654591e+01, 8.727029e+01, 9.831118e+01,\n",
       "       1.098062e+02, 1.219519e+02, 1.350285e+02, 1.494337e+02, 1.657285e+02,\n",
       "       1.846975e+02, 2.074254e+02, 2.353862e+02, 2.705341e+02, 3.153741e+02,\n",
       "       3.729655e+02, 4.468009e+02, 5.405022e+02, 6.573229e+02, 7.995496e+02,\n",
       "       9.679958e+02, 1.161806e+03, 1.378661e+03, 1.615291e+03, 1.868071e+03,\n",
       "       2.133517e+03, 2.408583e+03, 2.690780e+03, 2.978166e+03, 3.269278e+03,\n",
       "       3.563041e+03, 3.858676e+03, 4.155628e+03, 4.453502e+03, 4.752021e+03,\n",
       "       5.050990e+03, 5.350272e+03], dtype=float32)</pre></div></li><li class='xr-var-item'><div class='xr-var-name'><span class='xr-has-index'>lon</span></div><div class='xr-var-dims'>(lon)</div><div class='xr-var-dtype'>float32</div><div class='xr-var-preview xr-preview'>0.5 1.5 2.5 ... 357.5 358.5 359.5</div><input id='attrs-e6263592-2724-42ce-aa49-53397d258d35' class='xr-var-attrs-in' type='checkbox' ><label for='attrs-e6263592-2724-42ce-aa49-53397d258d35' title='Show/Hide attributes'><svg class='icon xr-icon-file-text2'><use xlink:href='#icon-file-text2'></use></svg></label><input id='data-0bb5271e-b0fe-4287-82d9-e722b7019fc9' class='xr-var-data-in' type='checkbox'><label for='data-0bb5271e-b0fe-4287-82d9-e722b7019fc9' title='Show/Hide data repr'><svg class='icon xr-icon-database'><use xlink:href='#icon-database'></use></svg></label><div class='xr-var-attrs'><dl class='xr-attrs'><dt><span>standard_name :</span></dt><dd>longitude</dd><dt><span>units :</span></dt><dd>degrees_east</dd><dt><span>valid_min :</span></dt><dd>0.0</dd><dt><span>valid_max :</span></dt><dd>360.0</dd><dt><span>long_name :</span></dt><dd>Longitude</dd><dt><span>nav_model :</span></dt><dd>Default grid</dd><dt><span>axis :</span></dt><dd>X</dd><dt><span>_CoordinateAxes :</span></dt><dd>x</dd><dt><span>_CoordinateAxisType :</span></dt><dd>Lon</dd></dl></div><div class='xr-var-data'><pre>array([  0.5,   1.5,   2.5, ..., 357.5, 358.5, 359.5], dtype=float32)</pre></div></li><li class='xr-var-item'><div class='xr-var-name'><span class='xr-has-index'>lat</span></div><div class='xr-var-dims'>(lat)</div><div class='xr-var-dtype'>float32</div><div class='xr-var-preview xr-preview'>-89.5 -88.5 -87.5 ... 88.5 89.5</div><input id='attrs-079cce93-14f4-4f92-8597-4361e2bdd23f' class='xr-var-attrs-in' type='checkbox' ><label for='attrs-079cce93-14f4-4f92-8597-4361e2bdd23f' title='Show/Hide attributes'><svg class='icon xr-icon-file-text2'><use xlink:href='#icon-file-text2'></use></svg></label><input id='data-52db34a8-f3a3-473b-a38f-e0980273cec6' class='xr-var-data-in' type='checkbox'><label for='data-52db34a8-f3a3-473b-a38f-e0980273cec6' title='Show/Hide data repr'><svg class='icon xr-icon-database'><use xlink:href='#icon-database'></use></svg></label><div class='xr-var-attrs'><dl class='xr-attrs'><dt><span>standard_name :</span></dt><dd>latitude</dd><dt><span>units :</span></dt><dd>degrees_north</dd><dt><span>valid_min :</span></dt><dd>0.0</dd><dt><span>valid_max :</span></dt><dd>360.0</dd><dt><span>long_name :</span></dt><dd>Latitude</dd><dt><span>nav_model :</span></dt><dd>Default grid</dd><dt><span>axis :</span></dt><dd>Y</dd><dt><span>_CoordinateAxes :</span></dt><dd>y</dd><dt><span>_CoordinateAxisType :</span></dt><dd>Lat</dd></dl></div><div class='xr-var-data'><pre>array([-89.5, -88.5, -87.5, -86.5, -85.5, -84.5, -83.5, -82.5, -81.5, -80.5,\n",
       "       -79.5, -78.5, -77.5, -76.5, -75.5, -74.5, -73.5, -72.5, -71.5, -70.5,\n",
       "       -69.5, -68.5, -67.5, -66.5, -65.5, -64.5, -63.5, -62.5, -61.5, -60.5,\n",
       "       -59.5, -58.5, -57.5, -56.5, -55.5, -54.5, -53.5, -52.5, -51.5, -50.5,\n",
       "       -49.5, -48.5, -47.5, -46.5, -45.5, -44.5, -43.5, -42.5, -41.5, -40.5,\n",
       "       -39.5, -38.5, -37.5, -36.5, -35.5, -34.5, -33.5, -32.5, -31.5, -30.5,\n",
       "       -29.5, -28.5, -27.5, -26.5, -25.5, -24.5, -23.5, -22.5, -21.5, -20.5,\n",
       "       -19.5, -18.5, -17.5, -16.5, -15.5, -14.5, -13.5, -12.5, -11.5, -10.5,\n",
       "        -9.5,  -8.5,  -7.5,  -6.5,  -5.5,  -4.5,  -3.5,  -2.5,  -1.5,  -0.5,\n",
       "         0.5,   1.5,   2.5,   3.5,   4.5,   5.5,   6.5,   7.5,   8.5,   9.5,\n",
       "        10.5,  11.5,  12.5,  13.5,  14.5,  15.5,  16.5,  17.5,  18.5,  19.5,\n",
       "        20.5,  21.5,  22.5,  23.5,  24.5,  25.5,  26.5,  27.5,  28.5,  29.5,\n",
       "        30.5,  31.5,  32.5,  33.5,  34.5,  35.5,  36.5,  37.5,  38.5,  39.5,\n",
       "        40.5,  41.5,  42.5,  43.5,  44.5,  45.5,  46.5,  47.5,  48.5,  49.5,\n",
       "        50.5,  51.5,  52.5,  53.5,  54.5,  55.5,  56.5,  57.5,  58.5,  59.5,\n",
       "        60.5,  61.5,  62.5,  63.5,  64.5,  65.5,  66.5,  67.5,  68.5,  69.5,\n",
       "        70.5,  71.5,  72.5,  73.5,  74.5,  75.5,  76.5,  77.5,  78.5,  79.5,\n",
       "        80.5,  81.5,  82.5,  83.5,  84.5,  85.5,  86.5,  87.5,  88.5,  89.5],\n",
       "      dtype=float32)</pre></div></li><li class='xr-var-item'><div class='xr-var-name'><span class='xr-has-index'>time</span></div><div class='xr-var-dims'>(time)</div><div class='xr-var-dtype'>datetime64[ns]</div><div class='xr-var-preview xr-preview'>1958-01-16 ... 2017-12-16</div><input id='attrs-853da421-96fa-45b8-a693-901e4e76e6fd' class='xr-var-attrs-in' type='checkbox' ><label for='attrs-853da421-96fa-45b8-a693-901e4e76e6fd' title='Show/Hide attributes'><svg class='icon xr-icon-file-text2'><use xlink:href='#icon-file-text2'></use></svg></label><input id='data-67ed62be-d6b1-4b12-bcfe-3104d239b467' class='xr-var-data-in' type='checkbox'><label for='data-67ed62be-d6b1-4b12-bcfe-3104d239b467' title='Show/Hide data repr'><svg class='icon xr-icon-database'><use xlink:href='#icon-database'></use></svg></label><div class='xr-var-attrs'><dl class='xr-attrs'><dt><span>time_origin :</span></dt><dd>1957090100</dd></dl></div><div class='xr-var-data'><pre>array([&#x27;1958-01-16T00:00:00.000000000&#x27;, &#x27;1958-02-14T00:00:00.000000000&#x27;,\n",
       "       &#x27;1958-03-16T00:00:00.000000000&#x27;, ..., &#x27;2017-10-16T00:00:00.000000000&#x27;,\n",
       "       &#x27;2017-11-15T00:00:00.000000000&#x27;, &#x27;2017-12-16T00:00:00.000000000&#x27;],\n",
       "      dtype=&#x27;datetime64[ns]&#x27;)</pre></div></li></ul></div></li><li class='xr-section-item'><input id='section-6464085d-288a-433f-ab49-027cc0938213' class='xr-section-summary-in' type='checkbox'  checked><label for='section-6464085d-288a-433f-ab49-027cc0938213' class='xr-section-summary' >Data variables: <span>(2)</span></label><div class='xr-section-inline-details'></div><div class='xr-section-details'><ul class='xr-var-list'><li class='xr-var-item'><div class='xr-var-name'><span>mask</span></div><div class='xr-var-dims'>(depth, lat, lon)</div><div class='xr-var-dtype'>float32</div><div class='xr-var-preview xr-preview'>...</div><input id='attrs-907ebc6b-5daf-4f75-95c4-ce12d6e4f2ec' class='xr-var-attrs-in' type='checkbox' ><label for='attrs-907ebc6b-5daf-4f75-95c4-ce12d6e4f2ec' title='Show/Hide attributes'><svg class='icon xr-icon-file-text2'><use xlink:href='#icon-file-text2'></use></svg></label><input id='data-452a3ad5-e2f3-43f3-85a5-f34ed48c6bb7' class='xr-var-data-in' type='checkbox'><label for='data-452a3ad5-e2f3-43f3-85a5-f34ed48c6bb7' title='Show/Hide data repr'><svg class='icon xr-icon-database'><use xlink:href='#icon-database'></use></svg></label><div class='xr-var-attrs'><dl class='xr-attrs'><dt><span>_CoordinateAxes :</span></dt><dd>depth lat lon</dd><dt><span>standard_name :</span></dt><dd>land_sea_mask</dd><dt><span>associate :</span></dt><dd>depth lat lon</dd></dl></div><div class='xr-var-data'><pre>[2721600 values with dtype=float32]</pre></div></li><li class='xr-var-item'><div class='xr-var-name'><span>thetao</span></div><div class='xr-var-dims'>(time, depth, lat, lon)</div><div class='xr-var-dtype'>float32</div><div class='xr-var-preview xr-preview'>...</div><input id='attrs-f3ceb720-b52a-4407-9528-6158aaeadf97' class='xr-var-attrs-in' type='checkbox' ><label for='attrs-f3ceb720-b52a-4407-9528-6158aaeadf97' title='Show/Hide attributes'><svg class='icon xr-icon-file-text2'><use xlink:href='#icon-file-text2'></use></svg></label><input id='data-ac3d3793-5899-487c-b270-5ef03c63b63f' class='xr-var-data-in' type='checkbox'><label for='data-ac3d3793-5899-487c-b270-5ef03c63b63f' title='Show/Hide data repr'><svg class='icon xr-icon-database'><use xlink:href='#icon-database'></use></svg></label><div class='xr-var-attrs'><dl class='xr-attrs'><dt><span>_CoordinateAxes :</span></dt><dd>time depth lat lon</dd><dt><span>_Fillvalue :</span></dt><dd>9.96921e+36</dd><dt><span>associate :</span></dt><dd>time depth lat lon</dd><dt><span>interval_write :</span></dt><dd>monthly</dd><dt><span>long_name :</span></dt><dd>Temperature</dd><dt><span>offline_operation :</span></dt><dd>time average and spatial interpolation</dd><dt><span>standard_name :</span></dt><dd>sea_water_potential_temperature</dd><dt><span>units :</span></dt><dd>degree_Celsius</dd></dl></div><div class='xr-var-data'><pre>[1959552000 values with dtype=float32]</pre></div></li></ul></div></li><li class='xr-section-item'><input id='section-d81db77e-3dba-49ba-b451-1d60c826731c' class='xr-section-summary-in' type='checkbox'  checked><label for='section-d81db77e-3dba-49ba-b451-1d60c826731c' class='xr-section-summary' >Attributes: <span>(8)</span></label><div class='xr-section-inline-details'></div><div class='xr-section-details'><dl class='xr-attrs'><dt><span>NCO :</span></dt><dd>4.4.6</dd><dt><span>nco_openmp_thread_number :</span></dt><dd>1</dd><dt><span>Conventions :</span></dt><dd>CF-1.1</dd><dt><span>title :</span></dt><dd>ORAS4 ocean reanalysis</dd><dt><span>institution :</span></dt><dd>ECMWF</dd><dt><span>source :</span></dt><dd>Interpolated into WOA 1x1 grid and  monthly average</dd><dt><span>references :</span></dt><dd>http://www.ecmwf.int/products/forecasts/d/charts/oras4/</dd><dt><span>history :</span></dt><dd>Tue May 22 09:21:39 2018: ncrename -d dep,depth thetao_oras4_1m_2016_grid_1x1.nc</dd></dl></div></li></ul></div></div>"
      ],
      "text/plain": [
       "<xarray.Dataset>\n",
       "Dimensions:  (depth: 42, lon: 360, lat: 180, time: 720)\n",
       "Coordinates:\n",
       "  * depth    (depth) float32 5.022 15.08 25.16 ... 4.752e+03 5.051e+03 5.35e+03\n",
       "  * lon      (lon) float32 0.5 1.5 2.5 3.5 4.5 ... 355.5 356.5 357.5 358.5 359.5\n",
       "  * lat      (lat) float32 -89.5 -88.5 -87.5 -86.5 -85.5 ... 86.5 87.5 88.5 89.5\n",
       "  * time     (time) datetime64[ns] 1958-01-16 1958-02-14 ... 2017-12-16\n",
       "Data variables:\n",
       "    mask     (depth, lat, lon) float32 ...\n",
       "    thetao   (time, depth, lat, lon) float32 ...\n",
       "Attributes:\n",
       "    NCO:                       4.4.6\n",
       "    nco_openmp_thread_number:  1\n",
       "    Conventions:               CF-1.1\n",
       "    title:                     ORAS4 ocean reanalysis\n",
       "    institution:               ECMWF\n",
       "    source:                    Interpolated into WOA 1x1 grid and  monthly av...\n",
       "    references:                http://www.ecmwf.int/products/forecasts/d/char...\n",
       "    history:                   Tue May 22 09:21:39 2018: ncrename -d dep,dept..."
      ]
     },
     "execution_count": 4,
     "metadata": {},
     "output_type": "execute_result"
    }
   ],
   "source": [
    "ocean_temp"
   ]
  },
  {
   "cell_type": "markdown",
   "id": "ff0ebcdb-5246-4c1a-890a-2e7ef0d4d4f7",
   "metadata": {},
   "source": [
    "Looking at the metadata, we see that the 'thetao' variable is the sea water potential temperature. Potential temperature removes the effect of pressure on water temperature. Since the differences are small for our purposes, we'll consider it equivalent to the measured temperature. Let's rename this variable to 'temp', so that it's easier for us to remember. "
   ]
  },
  {
   "cell_type": "code",
   "execution_count": 5,
   "id": "5fb3403a-e8e4-43ae-85cf-427d7512df68",
   "metadata": {},
   "outputs": [],
   "source": [
    "ocean_temp = ocean_temp.rename({'thetao':'temp'})"
   ]
  },
  {
   "cell_type": "markdown",
   "id": "cff38cd3-2d89-4768-adfe-9bca809db9ac",
   "metadata": {
    "tags": []
   },
   "source": [
    "# Create Temperature-Depth Transect Plot\n",
    "\n",
    "This dataset includes all ocean depth levels! Let's look at how temperature varies with depth and latitude in the Atlantic Ocean. Which line of longitude should we select? Run the cell below to create a simple world map."
   ]
  },
  {
   "cell_type": "code",
   "execution_count": 6,
   "id": "52150ce0-679e-4d72-899d-49d321519a51",
   "metadata": {
    "tags": []
   },
   "outputs": [
    {
     "data": {
      "image/png": "[encoded data removed]",
      "text/plain": [
       "<Figure size 864x432 with 1 Axes>"
      ]
     },
     "metadata": {
      "needs_background": "light"
     },
     "output_type": "display_data"
    }
   ],
   "source": [
    "# From GeoPandas, our world map data\n",
    "worldmap = gpd.read_file(gpd.datasets.get_path(\"naturalearth_lowres\"))\n",
    "\n",
    "# Creating axes and plotting world map\n",
    "fig, ax = plt.subplots(figsize=(12, 6))\n",
    "worldmap.plot(color=\"lightgrey\", ax=ax)\n",
    "\n",
    "# Creating axis limits and title\n",
    "plt.xlim([-180, 180])\n",
    "plt.ylim([-90, 90])\n",
    "plt.xlabel(\"Longitude\")\n",
    "plt.ylabel(\"Latitude\")\n",
    "plt.title('World Map')\n",
    "plt.show()"
   ]
  },
  {
   "cell_type": "markdown",
   "id": "90d085f8-1d8a-4b1c-bbf8-afcd555657fb",
   "metadata": {},
   "source": [
    "-25 seems to be a good line of longitude that will cut through the middle of the Atlantic without running into continents. The only issue is that our xarray dataset has longitude coordinates from 0 to 360 degrees. Let's convert our coordinates to -180 to 180 degrees so that it's easier to select -25."
   ]
  },
  {
   "cell_type": "code",
   "execution_count": 13,
   "id": "7b1922df-b052-4283-8b16-db16feff4420",
   "metadata": {},
   "outputs": [],
   "source": [
    "# Convert coordinates from 0:360 to -180:180\n",
    "ocean_temp.coords['lon'] = (ocean_temp.coords['lon'] + 180) % 360 - 180\n",
    "ocean_temp = ocean_temp.sortby(ocean_temp.lon)"
   ]
  },
  {
   "cell_type": "markdown",
   "id": "d313e510-4172-4fc7-8d13-89cb3e079e5a",
   "metadata": {},
   "source": [
    "Now let's plot our meridional (north/south) cross section. We'll select the most recent time step in the dataset by writing `.isel(time=-1)`."
   ]
  },
  {
   "cell_type": "code",
   "execution_count": 14,
   "id": "ec4c750e-e94c-43ca-aae9-5e40f54297d1",
   "metadata": {},
   "outputs": [
    {
     "data": {
      "text/plain": [
       "<matplotlib.collections.QuadMesh at 0x7f8241d3c810>"
      ]
     },
     "execution_count": 14,
     "metadata": {},
     "output_type": "execute_result"
    },
    {
     "data": {
      "image/png": "[encoded data removed]",
      "text/plain": [
       "<Figure size 432x288 with 2 Axes>"
      ]
     },
     "metadata": {
      "needs_background": "light"
     },
     "output_type": "display_data"
    }
   ],
   "source": [
    "ocean_temp.isel(time=-1).sel(lon=-25.5).temp.plot()"
   ]
  },
  {
   "cell_type": "markdown",
   "id": "4464a599-c7ea-4b04-8856-e5c633bbb37c",
   "metadata": {},
   "source": [
    "How can we make this plot easier to interpret?\n",
    "\n",
    "Since this is a 3-dimensional dataset, the `.plot()` function calls `xarray.plot.pcolormesh`. See the documentation [here](https://docs.xarray.dev/en/stable/generated/xarray.plot.pcolormesh.html#xarray.plot.pcolormesh) to see the parameters that we can change."
   ]
  },
  {
   "cell_type": "code",
   "execution_count": null,
   "id": "704f07fb-0ac7-4a93-9377-df52906241cf",
   "metadata": {
    "tags": []
   },
   "outputs": [],
   "source": [
    "ocean_temp.isel(time=-1).sel(lon=-25.5).temp.plot(vmin=-2, vmax=25, yincrease = False, cmap='plasma')"
   ]
  },
  {
   "cell_type": "markdown",
   "id": "8780a1c9-c9f6-42c5-9a68-c0063dc68f06",
   "metadata": {},
   "source": [
    "Over the next 5 minutes in the cells below, make a few more plots like the one above but this time with the zonal (east/west) mean instead of the meridional mean. Try playing around with different colorbars ('cmap'), and values of 'vmin' and 'vmax', so that your figures are as clear as possible. Remember that each latitude is defined at the center point, so you will need to add 0.5 when selecting."
   ]
  },
  {
   "cell_type": "markdown",
   "id": "8ca0674c-2f5b-4341-90f7-f2d262ad7152",
   "metadata": {},
   "source": [
    "Lat = 0:"
   ]
  },
  {
   "cell_type": "code",
   "execution_count": null,
   "id": "2338ffdf-6d18-4469-b8e3-5c05ae085ea1",
   "metadata": {},
   "outputs": [],
   "source": [
    "# Your answer:\n"
   ]
  },
  {
   "cell_type": "markdown",
   "id": "43e4fd48-e622-487a-aa78-f871d4bb077b",
   "metadata": {},
   "source": [
    "Lat = 30:"
   ]
  },
  {
   "cell_type": "code",
   "execution_count": null,
   "id": "26b73f4d-ee85-4f5e-8cf7-ba08ff16e19d",
   "metadata": {},
   "outputs": [],
   "source": [
    "# Your answer:\n"
   ]
  },
  {
   "cell_type": "markdown",
   "id": "49927437-353f-4ab1-a428-8e3a14fd9665",
   "metadata": {},
   "source": [
    "Lat = 80:"
   ]
  },
  {
   "cell_type": "code",
   "execution_count": null,
   "id": "857868df-c9c9-4d3e-8986-9bc7e1885790",
   "metadata": {},
   "outputs": [],
   "source": [
    "# Your answer:\n"
   ]
  },
  {
   "cell_type": "markdown",
   "id": "9086f3fd-972b-465b-b553-30151b9c79b2",
   "metadata": {},
   "source": [
    "Discussion: what features do we see?"
   ]
  },
  {
   "cell_type": "markdown",
   "id": "c952a0e7-6eed-4a46-9a82-2c256320a20f",
   "metadata": {
    "tags": []
   },
   "source": [
    "# SST analysis"
   ]
  },
  {
   "cell_type": "markdown",
   "id": "ff4dad0d-a56c-458e-bcf6-09d3f6f5c478",
   "metadata": {},
   "source": [
    "Fill in the the the parenthesis to select the first depth in the dataset. Then select the variable 'temp'"
   ]
  },
  {
   "cell_type": "code",
   "execution_count": null,
   "id": "32a2990f-bf5f-4a98-8256-77cf5723ce11",
   "metadata": {},
   "outputs": [],
   "source": [
    "# Your answer:\n",
    "ocean_sst = ocean_temp.isel()"
   ]
  },
  {
   "cell_type": "code",
   "execution_count": null,
   "id": "f5dbc74d-996b-4902-a615-671359c0a70b",
   "metadata": {},
   "outputs": [],
   "source": [
    "ocean_sst"
   ]
  },
  {
   "cell_type": "markdown",
   "id": "42f85219-d813-4185-af5b-9d7554eaeb98",
   "metadata": {},
   "source": [
    "### Make a map of mean SST"
   ]
  },
  {
   "cell_type": "markdown",
   "id": "be69054b-f253-434d-b2d1-9902dd48b33f",
   "metadata": {},
   "source": [
    "Take the mean over all time steps."
   ]
  },
  {
   "cell_type": "code",
   "execution_count": null,
   "id": "e13839a1-9f9c-4d99-9b09-3ad2ac5f3cd4",
   "metadata": {},
   "outputs": [],
   "source": [
    "# This requires a lot of calculations, so it will take a couple minutes to run\n",
    "sst_climo = ocean_sst.mean(dim='time')"
   ]
  },
  {
   "cell_type": "code",
   "execution_count": null,
   "id": "aae7ab35-d2a9-4fd5-9caa-5292af0d595b",
   "metadata": {},
   "outputs": [],
   "source": [
    "sst_climo"
   ]
  },
  {
   "cell_type": "markdown",
   "id": "aead6f6a-5702-49ae-8b66-8311c7d0c227",
   "metadata": {},
   "source": [
    "Now, let's make a map! Looking at `ocean_sst_climo`, we see that is is a DataArray with two dimensions: lat and lon. Therefore, we can make a map using the same function that we used above: `.plot()`."
   ]
  },
  {
   "cell_type": "code",
   "execution_count": null,
   "id": "523a1945-18f0-4e12-92fd-1bcee4fd31c9",
   "metadata": {},
   "outputs": [],
   "source": [
    "sst_climo.plot(vmin=0)"
   ]
  },
  {
   "cell_type": "code",
   "execution_count": null,
   "id": "2e1d023a-9529-4ea9-a9ba-4895ec0d7fd0",
   "metadata": {
    "tags": []
   },
   "outputs": [],
   "source": [
    "# Save output as a netcdf (we will use this for the challenge later)\n",
    "sst_climo.to_netcdf('sst_climatology_oras4.nc')"
   ]
  },
  {
   "cell_type": "markdown",
   "id": "29a03ecb-9f13-4f84-a193-e0a70b414e91",
   "metadata": {},
   "source": [
    "Now take the mean over the entire globe:"
   ]
  },
  {
   "cell_type": "code",
   "execution_count": null,
   "id": "af403847-d1f4-454e-b792-ebd130858eac",
   "metadata": {},
   "outputs": [],
   "source": [
    "sst_climo_global = sst_climo.mean()"
   ]
  },
  {
   "cell_type": "code",
   "execution_count": null,
   "id": "6e3168fc-573a-4260-a1f0-42b8cdf76b79",
   "metadata": {},
   "outputs": [],
   "source": [
    "sst_climo_global"
   ]
  },
  {
   "cell_type": "markdown",
   "id": "eac0c415-686b-47e8-8ecb-4bbb4eb3ef98",
   "metadata": {},
   "source": [
    "### Plot global SST anomaly over time"
   ]
  },
  {
   "cell_type": "markdown",
   "id": "3df2fa12-04f9-4b75-9eb4-9173a933a2e5",
   "metadata": {},
   "source": [
    "Take the annual average. How will the output of the cell below be different from the previously calculated `ocean_sst_climo`?"
   ]
  },
  {
   "cell_type": "code",
   "execution_count": null,
   "id": "b57ca1eb-e88d-42c3-8959-b006c6e62528",
   "metadata": {},
   "outputs": [],
   "source": [
    "sst_annual = ocean_sst.groupby('time.year').mean('time')"
   ]
  },
  {
   "cell_type": "code",
   "execution_count": null,
   "id": "0c0a271d-d7a0-4c3d-bedb-70e552e3a1f6",
   "metadata": {},
   "outputs": [],
   "source": [
    "# Your answer:\n",
    "sst_annual_global = sst_annual.mean(dim=['lat', 'lon'])"
   ]
  },
  {
   "cell_type": "markdown",
   "id": "309df542-c8e2-469a-a597-269774c33528",
   "metadata": {},
   "source": [
    "Now we can subtract the climatology from the annual mean. If a year is warmer than normal, will the value be positive or negative?"
   ]
  },
  {
   "cell_type": "code",
   "execution_count": null,
   "id": "f65c1288-16f6-4d8d-8287-a4c3cb470491",
   "metadata": {},
   "outputs": [],
   "source": [
    "sst_annual_anom = sst_annual_global - sst_climo_global"
   ]
  },
  {
   "cell_type": "code",
   "execution_count": null,
   "id": "11588b8b-25cf-40d2-a4df-9521ab1e3b03",
   "metadata": {},
   "outputs": [],
   "source": [
    "sst_annual_anom.plot()\n",
    "# Change the y-axis label to make it clear that we are plotting the anomaly\n",
    "plt.ylabel(\"Temperature Anomaly (°C)\")"
   ]
  },
  {
   "cell_type": "markdown",
   "id": "f285d17a-e0bc-46e9-823f-4a1f3c4b767d",
   "metadata": {
    "tags": []
   },
   "source": [
    "## Where is temperature increasing at the greatest rate?"
   ]
  },
  {
   "cell_type": "markdown",
   "id": "c34b36af-bcdb-42db-b120-dbb8378e87cc",
   "metadata": {},
   "source": [
    "To calculate the linear trend, we'll use the [xarray polyfit function](https://docs.xarray.dev/en/stable/generated/xarray.Dataset.polyfit.html)."
   ]
  },
  {
   "cell_type": "code",
   "execution_count": null,
   "id": "f439432a-a121-4597-85b8-29570e663dda",
   "metadata": {},
   "outputs": [],
   "source": [
    "sst_trends = sst_annual.polyfit(dim = 'year', deg = 1) "
   ]
  },
  {
   "cell_type": "code",
   "execution_count": null,
   "id": "26ec9ad7-7cf6-4c6c-92fd-67f225fa300a",
   "metadata": {},
   "outputs": [],
   "source": [
    "sst_trends = sst_trends.sel(degree = 1)"
   ]
  },
  {
   "cell_type": "code",
   "execution_count": null,
   "id": "f55a1cc2-c699-4b4e-898e-d9c8afef3a76",
   "metadata": {},
   "outputs": [],
   "source": [
    "sst_trends.plot()"
   ]
  },
  {
   "cell_type": "markdown",
   "id": "12a37a00-2ee2-4ea0-864c-4029523cf9ae",
   "metadata": {},
   "source": [
    "Why doesn't this work? Remember that `.plot()` only works with DataArrays. Even though our Dataset only has one data variable, we need to explicitly call it in order to create the plot. "
   ]
  },
  {
   "cell_type": "code",
   "execution_count": null,
   "id": "2492861e-d911-413a-8e23-ae43df50c2c7",
   "metadata": {},
   "outputs": [],
   "source": [
    "sst_trends.polyfit_coefficients.plot()"
   ]
  },
  {
   "cell_type": "markdown",
   "id": "73c28c92-cc25-490b-898b-aaac8ed1e414",
   "metadata": {},
   "source": [
    "### Are all depths warming the same amount?\n",
    "\n",
    "At one lat/lon point, make a plot of mean temperate as a function of depth and year. "
   ]
  },
  {
   "cell_type": "code",
   "execution_count": null,
   "id": "5f9354d9-6ba9-4768-a3d4-3370ef9fd454",
   "metadata": {},
   "outputs": [],
   "source": [
    "# Select a point \n",
    "depth_temp_trend = ocean_temp.sel(lat=70.5, lon=-10.5).temp"
   ]
  },
  {
   "cell_type": "code",
   "execution_count": null,
   "id": "3d6ca784-865c-4cab-8992-d65ae7b93726",
   "metadata": {},
   "outputs": [],
   "source": [
    "# Take the annual mean\n",
    "depth_temp_trend = depth_temp_trend.groupby('time.year').mean('time')"
   ]
  },
  {
   "cell_type": "markdown",
   "id": "7d45e87d-7351-4bf9-9b3c-4f432a48da61",
   "metadata": {},
   "source": [
    "Now, try making the plot."
   ]
  },
  {
   "cell_type": "code",
   "execution_count": null,
   "id": "a5fbe196-837f-4d39-bb9c-c8cfb3497736",
   "metadata": {},
   "outputs": [],
   "source": [
    "# Your answer: \n"
   ]
  },
  {
   "cell_type": "markdown",
   "id": "2cd1aefb-43c1-4028-8fbf-aa6a98d29d62",
   "metadata": {},
   "source": [
    "Here is makes sense to manually adjust the length of the yaxis using 'ylim' so that we aren't showing depths deeper than the ocean at that location. Set 'ylim' to the ocean depth at this point."
   ]
  },
  {
   "cell_type": "code",
   "execution_count": null,
   "id": "5c17677e-5625-4321-90e6-daf1a4aed5ad",
   "metadata": {},
   "outputs": [],
   "source": [
    "# Your answer: \n"
   ]
  },
  {
   "cell_type": "markdown",
   "id": "445bc80e-e5c5-477b-a644-cfdc6198ba5a",
   "metadata": {},
   "source": [
    "## Calculate average temperature within ocean regions"
   ]
  },
  {
   "cell_type": "markdown",
   "id": "6b6548ca-b928-4c94-bdc0-01f846177d80",
   "metadata": {},
   "source": [
    "First, we need to select our region of interest. Using `xr.where()`, let's select all grid cells between 45:60 in latitude and -50:-10 in longitude. We can visualize this bounding box on a map using the `worldmap` data we imported from geopandas earlier. "
   ]
  },
  {
   "cell_type": "code",
   "execution_count": null,
   "id": "1d2135fa-bba3-4edb-b9a5-518d3d23a183",
   "metadata": {},
   "outputs": [],
   "source": [
    "from shapely.geometry import Polygon\n",
    "region = gpd.GeoDataFrame({'geometry': [Polygon([(-50, 45), (-50, 60), (-10, 60), (-10, 45)])]}, crs=\"EPSG:4326\")\n",
    "\n",
    "# Creating axes and plotting world map\n",
    "fig, ax = plt.subplots(figsize=(12, 6))\n",
    "worldmap.plot(color=\"lightgrey\", ax=ax)\n",
    "region.plot(color='blue', ax=ax)\n",
    "\n",
    "# Creating axis limits and title\n",
    "plt.xlim([-180, 180])\n",
    "plt.ylim([-90, 90])\n",
    "plt.xlabel(\"Longitude\")\n",
    "plt.ylabel(\"Latitude\")\n",
    "plt.title('World Map')\n",
    "plt.show()"
   ]
  },
  {
   "cell_type": "code",
   "execution_count": null,
   "id": "a6276fae-1d48-433a-96ac-c670b5d5252b",
   "metadata": {},
   "outputs": [],
   "source": [
    "north_atlantic = ocean_sst.where(np.logical_and(ocean_sst.lat>45, ocean_sst.lat<60), drop = True).where(np.logical_and(ocean_sst.lon>-50, ocean_sst.lon<-10), drop = True)"
   ]
  },
  {
   "cell_type": "code",
   "execution_count": null,
   "id": "c3439224-b043-4a59-93d0-d78e3f6879d7",
   "metadata": {
    "tags": []
   },
   "outputs": [],
   "source": [
    "north_atlantic"
   ]
  },
  {
   "cell_type": "markdown",
   "id": "e7271bdc-12cc-4ac1-825f-9c9222ea721d",
   "metadata": {},
   "source": [
    "How have the dimensions of our DataArray changed? Let's select the first time step and make a simple map to see the new spatial extent of our data."
   ]
  },
  {
   "cell_type": "code",
   "execution_count": null,
   "id": "dbb15d0d-0200-4fd2-b5ce-3e623559bad3",
   "metadata": {},
   "outputs": [],
   "source": [
    "north_atlantic.isel(time=0).plot()"
   ]
  },
  {
   "cell_type": "markdown",
   "id": "2e58f6c7-f88a-4993-a264-6c439c6b3b10",
   "metadata": {},
   "source": [
    "Now, calculate the regional mean and plot a timeseries. "
   ]
  },
  {
   "cell_type": "code",
   "execution_count": null,
   "id": "42996f3c-108d-4e58-bd07-dd643c90de47",
   "metadata": {},
   "outputs": [],
   "source": [
    "north_atlantic.mean(dim=['lat', 'lon']).plot()"
   ]
  },
  {
   "cell_type": "markdown",
   "id": "95f1a008-0734-4996-a7db-d737bbcdec7e",
   "metadata": {},
   "source": [
    "Sometimes our region of interest can't be defined simply by a bounding lat/lon box. For example, if we were using an atmospheric dataset, we may want to look at temperature values within the United States or only in the Rocky Mountains. If we have another dataset defining our region of interest, we can easily filter our data using the `.where()` function again!\n",
    "\n",
    "Here, we import an ocean biomes dataset. Similar to biomes on land, ocean biomes are defined by certain climate conditions that give rise to unique ecosytems. The ocean biomes here were determines using sea surface temperature, spring/summer chlorophyll-a concentrations, ice fraction, and maximum mixed layer depth. (Fay, A. R. and McKinley, G. A.: Global open-ocean biomes: mean and temporal variability, Earth Syst. Sci. Data, 6, 273–284, https://doi.org/10.5194/essd-6-273-2014, 2014.)"
   ]
  },
  {
   "cell_type": "code",
   "execution_count": null,
   "id": "3b234033-7072-4439-91f4-c4dd6cfa6e08",
   "metadata": {},
   "outputs": [],
   "source": [
    "biomes = xr.open_dataset('Time_Varying_Biomes.nc')"
   ]
  },
  {
   "cell_type": "markdown",
   "id": "08ad4985-54b5-404d-a245-cb2f3e796207",
   "metadata": {},
   "source": [
    "Xarray has no inherent knowledge of geographic coordinates. So we need to flip the x and y coordinates with the `.transpose()` function to make a recognizable map."
   ]
  },
  {
   "cell_type": "code",
   "execution_count": null,
   "id": "44d96aa3-edaf-417c-a1ff-8be0da02129a",
   "metadata": {},
   "outputs": [],
   "source": [
    "biomes.MeanBiomes.transpose().plot()"
   ]
  },
  {
   "cell_type": "markdown",
   "id": "fc4d3048-f59c-4c05-9608-78005820dedf",
   "metadata": {},
   "source": [
    "Fortunately, this dataset is on the same grid as our climatology dataset (check the lat, lon variable metadata to be sure). To merge these two datasets, we can simply set a new 'biomes' variable to our existing dataset like this: "
   ]
  },
  {
   "cell_type": "code",
   "execution_count": null,
   "id": "56ac15d3-bf0d-4592-ab19-4f6eda0fcf78",
   "metadata": {},
   "outputs": [],
   "source": [
    "ocean_sst['biomes'] = biomes.MeanBiomes"
   ]
  },
  {
   "cell_type": "markdown",
   "id": "752fff9c-53f0-4066-a016-4057a9aa9276",
   "metadata": {},
   "source": [
    "Now we can select our regions of interest (where the biomes dataset is equal to 8 and 9)."
   ]
  },
  {
   "cell_type": "code",
   "execution_count": null,
   "id": "bf180a02-e542-4685-a7ea-c4b523f75b46",
   "metadata": {},
   "outputs": [],
   "source": [
    "north_atlantic_sst = ocean_sst.where(biomes.MeanBiomes.isin([8,9]), drop = True)"
   ]
  },
  {
   "cell_type": "markdown",
   "id": "9af35112-7363-41af-b7ca-4f107e47450f",
   "metadata": {},
   "source": [
    "Select a time range (1960-1980): "
   ]
  },
  {
   "cell_type": "code",
   "execution_count": null,
   "id": "f697e24f-675a-4354-8011-4438276f461a",
   "metadata": {
    "tags": []
   },
   "outputs": [],
   "source": [
    "north_atlantic_sst.sel(time=slice('1960-01-01','1979-12-01')).plot()"
   ]
  },
  {
   "cell_type": "markdown",
   "id": "8222a698-4a50-491d-aef7-ec0f60538ce6",
   "metadata": {},
   "source": [
    "Why do we get a histogram instead of a map here?\n",
    "\n",
    "We have multiple time steps! To make maps, we can either take the mean, or make make column faceted plots. First, let's calculate the mean. Complete the code below to calculate the mean over the time dimension, and create a simple map."
   ]
  },
  {
   "cell_type": "code",
   "execution_count": null,
   "id": "99c4581d-1698-4575-a2d9-d551e78967f7",
   "metadata": {},
   "outputs": [],
   "source": [
    "# Your answer: \n",
    "north_atlantic_sst.sel(time=slice('1960-01-01','1979-12-01'))"
   ]
  },
  {
   "cell_type": "markdown",
   "id": "2f1e135a-4904-469a-bd4d-9acdd9ef817e",
   "metadata": {},
   "source": [
    "Taking the mean removes a lot of information. For example, how does the temperature in this region vary seasonally? To investigate this, let's look at one year of data and make column faceted plots. Here we specify that we want to plot each timestep in separate columns by setting `col = 'time'`. The `col_wrap` parameter specifies how many columns we want."
   ]
  },
  {
   "cell_type": "code",
   "execution_count": null,
   "id": "d5c26c8a-1ef2-49a0-8526-8ce54be8d7db",
   "metadata": {},
   "outputs": [],
   "source": [
    "north_atlantic_sst.sel(time=slice('1960-01-01','1960-12-01')).plot(col = 'time', col_wrap = 4,\n",
    "                                                                  vmin = 0, vmax = 15)"
   ]
  },
  {
   "cell_type": "markdown",
   "id": "49ff744a-6a43-4473-a44c-d17089550a36",
   "metadata": {},
   "source": [
    "Now let's make a timeseries plot of temperature, taking the mean over the entire region. "
   ]
  },
  {
   "cell_type": "code",
   "execution_count": null,
   "id": "33d03328-e36d-4d02-8893-68c98299d798",
   "metadata": {},
   "outputs": [],
   "source": [
    "north_atlantic_sst.sel(time=slice('1960-01-01','1979-12-01')).mean(dim=['lat', 'lon']).plot()"
   ]
  },
  {
   "cell_type": "markdown",
   "id": "575b7918-3d1b-40aa-8071-ccd88a269bcc",
   "metadata": {},
   "source": [
    "What is the overall mean for this region over all time steps and lat/lon?"
   ]
  },
  {
   "cell_type": "code",
   "execution_count": null,
   "id": "704b7f86-91bd-4fc2-9e70-dd58725615dc",
   "metadata": {},
   "outputs": [],
   "source": [
    "north_atlantic_sst.mean()"
   ]
  },
  {
   "cell_type": "markdown",
   "id": "12a61aa1-482b-4ed8-9a36-028c74c0188c",
   "metadata": {},
   "source": [
    "### Calculate area-weighted average\n",
    "\n",
    "Since lines of longitude converge at the poles, the total area within a 1x1 degree cell decreases with increasing latitude. So our grid cells at the equator cover much more physical space than cells near the poles. To avoid biases when calculating spatial averages, we need to weight each grid cell according to its actual area. We can do this easily by taking the cosine of the latitude. We can see in the plot below that the weight of each grid cell decreases as we move poleward to account for smaller cells. "
   ]
  },
  {
   "cell_type": "code",
   "execution_count": null,
   "id": "6c15c039-f4dc-4336-b983-96a5e536fa61",
   "metadata": {},
   "outputs": [],
   "source": [
    "# Area weight\n",
    "area_weights = np.cos(np.deg2rad(north_atlantic_sst.lat))\n",
    "area_weights.name = \"area weights\""
   ]
  },
  {
   "cell_type": "code",
   "execution_count": null,
   "id": "42902cd6-e796-4fd3-a6ae-5735752a00f6",
   "metadata": {},
   "outputs": [],
   "source": [
    "area_weights.plot()"
   ]
  },
  {
   "cell_type": "markdown",
   "id": "016b4c26-453a-4db7-8a00-7190db9911d6",
   "metadata": {},
   "source": [
    "Notice how the area weights decrease as latitude increases. Now let's take the average again, applying the area weights"
   ]
  },
  {
   "cell_type": "code",
   "execution_count": null,
   "id": "fba1b9bf-dc85-4c5e-bf65-1ab92241a7ca",
   "metadata": {},
   "outputs": [],
   "source": [
    "north_atlantic_sst.weighted(area_weights).mean()"
   ]
  },
  {
   "cell_type": "markdown",
   "id": "219728c5-2428-404d-be47-ec1f692697b7",
   "metadata": {},
   "source": [
    "How does this compare to the value we calculated previously?\n",
    "What about our time series plot? Let's see if that changes at all when we apply the area weights."
   ]
  },
  {
   "cell_type": "code",
   "execution_count": null,
   "id": "17723a5d-6624-4f1f-b085-06c909d23456",
   "metadata": {},
   "outputs": [],
   "source": [
    "north_atlantic_sst.sel(time=slice('1960-01-01','1979-12-01')).weighted(area_weights).mean(dim=['lat', 'lon']).plot()"
   ]
  },
  {
   "cell_type": "markdown",
   "id": "2f58db61-8e15-4e87-a8a9-9d38e6b4e01a",
   "metadata": {},
   "source": [
    "Our mean value is now much warmer that what we calculated without the area weights. This makes sense becuase the grid cells closer to the poles are artifically large. "
   ]
  },
  {
   "cell_type": "markdown",
   "id": "726a2129-6698-4f84-b76f-c675f234d246",
   "metadata": {
    "tags": []
   },
   "source": [
    "# Conclusion \n",
    "We're now done with the lecture portion of today! We hope that you are now comfortable working with multidimensional datasets in xarray. But we know it's complicated, so don't worry if you are still feeling a little lost. As you move on to the challenge activity, and later to your future research, here are some useful links to xarray documentation and tutorials. \n",
    "\n",
    "**Helpful resources:**\n",
    "* Xarray documentation: https://xarray.pydata.org/en/v0.7.1/index.html or https://docs.xarray.dev/en/stable/index.html\n",
    "* Pangeo Gallery: http://gallery.pangeo.io/repos/pangeo-data/pangeo-tutorial-gallery/xarray.html\n",
    "* Earth Lab Tutorials: https://www.earthdatascience.org/tutorials/\n",
    "* Earth and Environmental Data Science Book: https://earth-env-data-science.github.io/lectures/xarray/xarray_intro.html"
   ]
  }
 ],
 "metadata": {
  "kernelspec": {
   "display_name": "Python 3 (ipykernel)",
   "language": "python",
   "name": "python3"
  },
  "language_info": {
   "codemirror_mode": {
    "name": "ipython",
    "version": 3
   },
   "file_extension": ".py",
   "mimetype": "text/x-python",
   "name": "python",
   "nbconvert_exporter": "python",
   "pygments_lexer": "ipython3",
   "version": "3.7.11"
  }
 },
 "nbformat": 4,
 "nbformat_minor": 5
}
