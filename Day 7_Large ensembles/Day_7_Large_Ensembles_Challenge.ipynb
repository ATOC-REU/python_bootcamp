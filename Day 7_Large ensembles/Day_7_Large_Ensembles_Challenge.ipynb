{
 "cells": [
  {
   "cell_type": "markdown",
   "metadata": {},
   "source": [
    "# 2021-06-09 Large Ensembles - Challenge\n",
    "\n",
    "## Comparing CanESM2 and CESM1 data:\n",
    "* 1 Load the regridded CESM data we made this morning, regird the CanESM2 data for 2000-2020 in September to the same regridded data as we did for CESM\n",
    "* 2 Download the NSIDC CDR sea ice concentration data like yesterday, but this time for the Northern Hemisphere, and for Septembers 2000-2020, load as a single dataset at once\n",
    "* 3 Mask the land, lakes, coast, and pole hole\n",
    "* 4 Regrid the NSIDC data to the same grid as used for CanESM2 and CESM\n",
    "* 5 Take the NSIDC data away from the CESM ensemble mean and CanESM2 ensemble mean \n",
    "* 6 Make a plot of standard deviation with for all 3 of your datasets\n",
    "\n",
    "## Extension:\n",
    "* a Calculate the SIA in CESM, like we did this morning for CanESM2, plot CESM in blue this on the same graph as CanESM2 in magenta\n",
    "* b Download the NSIDC sea ice index V3 CSV file from [here](https://nsidc.org/data/g02135?qt-data_set_tabs=2#qt-data_set_tabs)\n",
    "* c Add in the pole hole to get the whole SIA, this can be found on page 23 of the ['User Guide'](https://nsidc.org/data/g02135?qt-data_set_tabs=2#qt-data_set_tabs)\n",
    "* d Plot the NSIDC data in red alongside the model data from all their ensembles"
   ]
  },
  {
   "cell_type": "code",
   "execution_count": null,
   "metadata": {},
   "outputs": [],
   "source": [
    "#import the Python libraries you'll need (copy from the morning session)"
   ]
  },
  {
   "cell_type": "markdown",
   "metadata": {},
   "source": [
    "## 1 Load the regridded CESM data from this morning"
   ]
  },
  {
   "cell_type": "code",
   "execution_count": null,
   "metadata": {},
   "outputs": [],
   "source": [
    "#use xarray.open_dataset"
   ]
  },
  {
   "cell_type": "code",
   "execution_count": null,
   "metadata": {},
   "outputs": [],
   "source": [
    "#quickly plot to make sure you've got the correct dataset"
   ]
  },
  {
   "cell_type": "markdown",
   "metadata": {},
   "source": [
    "## 2 Download observations of Northern Hemisphere sea ice concentration\n",
    "**First go to https://nsidc.org/data/g02202 and find ftp server button again. This time navigate to** `north>monthly` <br>\n",
    "**Look at the naming convention, either make a loop to download or you can simply drag the correct files to your local file directory**\n",
    "\n",
    "Try a bash loop like this for the different dates (testing with spider first then remove that flag to actually download<br> `!for i in {0..7}; do wget --spider https://nsidc.org/data/g02202/north/monthly/seaice_conc_monthly_nh_f17_200${i}_v0r01.nc; done`\n",
    "<br>\n",
    "Note the you will have to use 3 different loops if you go the bash loop route "
   ]
  },
  {
   "cell_type": "code",
   "execution_count": null,
   "metadata": {},
   "outputs": [],
   "source": [
    "# !for i in {0..7}; do wget --spider https://nsidc.org/data/g02202/north/monthly/seaice_conc_monthly_nh_f17_200${i}_v0r01.nc; done"
   ]
  },
  {
   "cell_type": "code",
   "execution_count": null,
   "metadata": {},
   "outputs": [],
   "source": [
    "#now actually do the downloading"
   ]
  },
  {
   "cell_type": "markdown",
   "metadata": {},
   "source": [
    "## 3 Mask everything but the sea ice "
   ]
  },
  {
   "cell_type": "code",
   "execution_count": null,
   "metadata": {},
   "outputs": [],
   "source": [
    "#open your dataset"
   ]
  },
  {
   "cell_type": "code",
   "execution_count": null,
   "metadata": {},
   "outputs": [],
   "source": [
    "#plot your dataset, again use the 'goddard_merged_seaice_conc_monthly' variable"
   ]
  },
  {
   "cell_type": "code",
   "execution_count": null,
   "metadata": {},
   "outputs": [],
   "source": [
    "#look at the flags, note this time we have a pole hole - think about what this means phyiscally"
   ]
  },
  {
   "cell_type": "code",
   "execution_count": null,
   "metadata": {},
   "outputs": [],
   "source": [
    "#mask grid cells that aren't ocean, (make those data points np.nan values)"
   ]
  },
  {
   "cell_type": "code",
   "execution_count": null,
   "metadata": {},
   "outputs": [],
   "source": [
    "#save this masked data to NetCDF"
   ]
  },
  {
   "cell_type": "markdown",
   "metadata": {},
   "source": [
    "## 4 Regrid"
   ]
  },
  {
   "cell_type": "code",
   "execution_count": null,
   "metadata": {},
   "outputs": [],
   "source": [
    "#use cdo and the same girdfile as we used to regrid CESM data Regrid_1x1_deg_30N.txt"
   ]
  },
  {
   "cell_type": "code",
   "execution_count": null,
   "metadata": {},
   "outputs": [],
   "source": [
    "#plot the regridded NSIDC data and make sure it looks right"
   ]
  },
  {
   "cell_type": "code",
   "execution_count": null,
   "metadata": {},
   "outputs": [],
   "source": [
    "#use cdo again to regrid the CanESM2 data for September 2000-2020 onto the same grid"
   ]
  },
  {
   "cell_type": "code",
   "execution_count": null,
   "metadata": {},
   "outputs": [],
   "source": [
    "#plot the CanESM2 data"
   ]
  },
  {
   "cell_type": "markdown",
   "metadata": {},
   "source": [
    "## 5 Compute differences"
   ]
  },
  {
   "cell_type": "code",
   "execution_count": null,
   "metadata": {},
   "outputs": [],
   "source": [
    "#load the polar plotting function from this morning"
   ]
  },
  {
   "cell_type": "code",
   "execution_count": null,
   "metadata": {},
   "outputs": [],
   "source": [
    "#plot CESM - NSIDC"
   ]
  },
  {
   "cell_type": "code",
   "execution_count": null,
   "metadata": {},
   "outputs": [],
   "source": [
    "#plot CanESM2 - NSIDC"
   ]
  },
  {
   "cell_type": "markdown",
   "metadata": {},
   "source": [
    "## 6"
   ]
  },
  {
   "cell_type": "code",
   "execution_count": null,
   "metadata": {},
   "outputs": [],
   "source": [
    "#plot standard deviation (along the time coordinate) for CESM, CanESM2 and NSIDC"
   ]
  },
  {
   "cell_type": "code",
   "execution_count": null,
   "metadata": {},
   "outputs": [],
   "source": []
  },
  {
   "cell_type": "code",
   "execution_count": null,
   "metadata": {},
   "outputs": [],
   "source": []
  },
  {
   "cell_type": "markdown",
   "metadata": {},
   "source": [
    "# Extension: Adding to the CanESM2 SIA ensemble figure from this morning\n",
    "## a Calculate the SIA in CESM"
   ]
  },
  {
   "cell_type": "code",
   "execution_count": null,
   "metadata": {},
   "outputs": [],
   "source": [
    "#compute the SIA for the ensemble members in CESM from file CESM_LE_SIC_2000_2020_09_NH.nc\n",
    "#note it's always best to do calculations on the native grid first, you'll need the areacello file to do the weighting\n",
    "#the areacello file you'll need is: areacello_fx_CESM1-CAM5_rcp85_r0i0p0.nc"
   ]
  },
  {
   "cell_type": "code",
   "execution_count": null,
   "metadata": {},
   "outputs": [],
   "source": [
    "#remake the plot at the end of section 1 from yesterday, and add in the data you've just made for CESM"
   ]
  },
  {
   "cell_type": "markdown",
   "metadata": {},
   "source": [
    "## b Download the correct CSV file"
   ]
  },
  {
   "cell_type": "code",
   "execution_count": null,
   "metadata": {},
   "outputs": [],
   "source": [
    "#either use wget or copy and paste: ftp://sidads.colorado.edu/DATASETS/NOAA/G02135/north/monthly/data/N_09_extent_v3.0.csv"
   ]
  },
  {
   "cell_type": "code",
   "execution_count": null,
   "metadata": {},
   "outputs": [],
   "source": [
    "#open with pandas and select the 'area' and dates 2000-2020"
   ]
  },
  {
   "cell_type": "markdown",
   "metadata": {},
   "source": [
    "## c Add in the pole hole area"
   ]
  },
  {
   "cell_type": "code",
   "execution_count": null,
   "metadata": {},
   "outputs": [],
   "source": [
    "#this dataset does not already include the pole hole area, you'll need to add this in\n",
    "#note the size of this changes over the time period you're interested in, if can be found in the user guide on P23\n",
    "#https://nsidc.org/data/g02135?qt-data_set_tabs=2#qt-data_set_tabs"
   ]
  },
  {
   "cell_type": "markdown",
   "metadata": {},
   "source": [
    "## d Add the NSIDC data to the plot"
   ]
  },
  {
   "cell_type": "code",
   "execution_count": null,
   "metadata": {},
   "outputs": [],
   "source": [
    "#now you should have CESM and CanESM2 data, now add the NSIDC data you've just made"
   ]
  }
 ],
 "metadata": {
  "kernelspec": {
   "display_name": "Python 3",
   "language": "python",
   "name": "python3"
  },
  "language_info": {
   "codemirror_mode": {
    "name": "ipython",
    "version": 3
   },
   "file_extension": ".py",
   "mimetype": "text/x-python",
   "name": "python",
   "nbconvert_exporter": "python",
   "pygments_lexer": "ipython3",
   "version": "3.7.6"
  }
 },
 "nbformat": 4,
 "nbformat_minor": 4
}
