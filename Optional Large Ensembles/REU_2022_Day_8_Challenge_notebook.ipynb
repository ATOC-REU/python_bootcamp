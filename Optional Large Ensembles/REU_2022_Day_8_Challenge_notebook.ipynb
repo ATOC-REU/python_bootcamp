{
 "cells": [
  {
   "cell_type": "markdown",
   "metadata": {},
   "source": [
    "# REU 2022 Day 8: Challenge\n",
    "\n",
    "**We are going to be comparing the Arctic temperature dataset we used this morning with Arctic sea ice area** <br>\n",
    "\n",
    "* A. Load SIA time series data and compare time series of Arctic temperature and we used this morning\n",
    "* B. Look at 5 coldest and warmest members in July during the period 1980-2000. Look at the same members with SIA in August, do you see any relationship?\n",
    "* C. (Extension) Look at Arctic temperatures in all 6 CMIP5 LEs and compute correlations with SIA in those models, also make scatter plots for each model\n",
    "\n",
    "\n",
    "## A. Compare Arctic temperature time series for CanESM2 in July with sea ice area (SIA) in August"
   ]
  },
  {
   "cell_type": "code",
   "execution_count": 9,
   "metadata": {},
   "outputs": [],
   "source": [
    "import xarray as xr\n",
    "import numpy as np\n",
    "import datetime\n",
    "import matplotlib.pyplot as plt\n",
    "import scipy.stats as stats"
   ]
  },
  {
   "cell_type": "markdown",
   "metadata": {},
   "source": [
    "**Load both sea ice area and Arctic temperature datasets for CanESM2**"
   ]
  },
  {
   "cell_type": "code",
   "execution_count": 72,
   "metadata": {},
   "outputs": [],
   "source": [
    "#Load SIA for all 6 models and make a variable for CanESM2 in August\n",
    "CLIVAR_SIA = xr.open_dataset('CLIVAR_SIA_1850_2100_RCP85.nc')\n",
    "CanESM2_SIA_Aug = CLIVAR_SIA['CanESM2'].sel(time=CLIVAR_SIA['time.month']==8).sel(member=slice(1,50))"
   ]
  },
  {
   "cell_type": "code",
   "execution_count": 71,
   "metadata": {},
   "outputs": [],
   "source": [
    "#Load Arctic temperatures for all 6 models and make a variable for CanESM2 in July\n",
    "CLIVAR_Arctic_temp = xr.open_dataset('CLIVAR_Arctic_surface_temp_1850_2100_RCP85.nc')\n",
    "CanESM2_Arctic_July = CLIVAR_Arctic_temp['CanESM2'].sel(time=CLIVAR_Arctic_temp['time.month']==7).sel(member=slice(1,50))"
   ]
  },
  {
   "cell_type": "markdown",
   "metadata": {},
   "source": [
    "<span style=\"color:blue\"> **Make a scatter plot of July Arctic temperature in 1980-2000 versus August SIA** "
   ]
  },
  {
   "cell_type": "code",
   "execution_count": null,
   "metadata": {},
   "outputs": [],
   "source": []
  },
  {
   "cell_type": "markdown",
   "metadata": {},
   "source": [
    "<span style=\"color:blue\"> **Do you see a correlation? Does this make sense?**"
   ]
  },
  {
   "cell_type": "raw",
   "metadata": {},
   "source": []
  },
  {
   "cell_type": "markdown",
   "metadata": {},
   "source": [
    "<span style=\"color:blue\"> **Compute the correlation, look back at Day 6 if you need to check how this is done. Add a line of best fit and the r value to the figure title**"
   ]
  },
  {
   "cell_type": "code",
   "execution_count": null,
   "metadata": {},
   "outputs": [],
   "source": []
  },
  {
   "cell_type": "markdown",
   "metadata": {},
   "source": [
    "## B. Now just look at the 5 highest and lowest temperature members, plot those against SIA for the same members "
   ]
  },
  {
   "cell_type": "markdown",
   "metadata": {},
   "source": [
    "<span style=\"color:blue\"> **Find the member numbers of the highest and lowest Arctic temperatures in July 1980-2000. Hint look up the `.rank` function for xarray dataarrays**"
   ]
  },
  {
   "cell_type": "code",
   "execution_count": 1,
   "metadata": {},
   "outputs": [],
   "source": [
    "#hint, you want to rank your data in dimension 'member', then on CanESM2_Arctic_July['member'] do .where based on the rank"
   ]
  },
  {
   "cell_type": "code",
   "execution_count": null,
   "metadata": {},
   "outputs": [],
   "source": []
  },
  {
   "cell_type": "markdown",
   "metadata": {},
   "source": [
    "<span style=\"color:blue\"> **Make a scatter plot to compare the July Arctic temperature and August SIA. Use 2 different colors for the high and low groups**\n"
   ]
  },
  {
   "cell_type": "code",
   "execution_count": null,
   "metadata": {},
   "outputs": [],
   "source": []
  },
  {
   "cell_type": "markdown",
   "metadata": {},
   "source": [
    "<span style=\"color:blue\"> **Do these look like 2 distinct groups in their SIA?**\n",
    "\n"
   ]
  },
  {
   "cell_type": "raw",
   "metadata": {},
   "source": []
  },
  {
   "cell_type": "markdown",
   "metadata": {},
   "source": [
    "<span style=\"color:blue\"> **Calculate whether these two groups of SIA are statistically different at the 0.05 level, use `scipy.stats.ttest_ind`**"
   ]
  },
  {
   "cell_type": "code",
   "execution_count": null,
   "metadata": {},
   "outputs": [],
   "source": []
  },
  {
   "cell_type": "raw",
   "metadata": {},
   "source": []
  },
  {
   "cell_type": "markdown",
   "metadata": {},
   "source": [
    "## C. Now compute correlations for the other 5 climate models in the datasets and plot scatter plots as you did for CanESM2 in part A"
   ]
  },
  {
   "cell_type": "markdown",
   "metadata": {},
   "source": [
    "<span style=\"color:blue\"> **Make a variable for Arctic temperatures in July and SIA in August**"
   ]
  },
  {
   "cell_type": "code",
   "execution_count": 127,
   "metadata": {},
   "outputs": [
    {
     "name": "stdout",
     "output_type": "stream",
     "text": [
      "['CanESM2' 'CESM1' 'CSIRO_MK36' 'GFDL_CM3' 'GFDL_ESM2M' 'MPI_ESM1']\n"
     ]
    }
   ],
   "source": [
    "#you can list the model names which are the xarray dataset variable names\n",
    "model_names = np.array(list(CLIVAR_Arctic_temp.keys()))\n",
    "print(model_names)"
   ]
  },
  {
   "cell_type": "code",
   "execution_count": 128,
   "metadata": {},
   "outputs": [],
   "source": [
    "#each of these models have different numbers of ensemble members, in alphabetical order they are as follows\n",
    "mem_len = [50,40,30,20,30,100]"
   ]
  },
  {
   "cell_type": "code",
   "execution_count": 126,
   "metadata": {},
   "outputs": [],
   "source": [
    "Arctic_temp_July = CLIVAR_Arctic_temp.sel(time=CLIVAR_Arctic_temp['time.month']==7)\n",
    "SIA_August = CLIVAR_SIA.sel(time=CLIVAR_SIA['time.month']==8)"
   ]
  },
  {
   "cell_type": "markdown",
   "metadata": {},
   "source": [
    "<span style=\"color:blue\"> **Repeat the same analysis as in A, make individual plots for each member to show a scatter plot with linear regression line and r value.** <br>\n",
    "**Make your code cell run for any of the model names and for any time period without rewriting the whole script**"
   ]
  },
  {
   "cell_type": "code",
   "execution_count": null,
   "metadata": {},
   "outputs": [],
   "source": []
  },
  {
   "cell_type": "markdown",
   "metadata": {},
   "source": [
    "<span style=\"color:blue\"> **Extension, look at longer time periods, e.g. 1950-2100 - do you get better correlations?** \n"
   ]
  },
  {
   "cell_type": "code",
   "execution_count": null,
   "metadata": {},
   "outputs": [],
   "source": []
  },
  {
   "cell_type": "raw",
   "metadata": {},
   "source": []
  }
 ],
 "metadata": {
  "kernelspec": {
   "display_name": "Python 3",
   "language": "python",
   "name": "python3"
  },
  "language_info": {
   "codemirror_mode": {
    "name": "ipython",
    "version": 3
   },
   "file_extension": ".py",
   "mimetype": "text/x-python",
   "name": "python",
   "nbconvert_exporter": "python",
   "pygments_lexer": "ipython3",
   "version": "3.7.6"
  }
 },
 "nbformat": 4,
 "nbformat_minor": 4
}
