{
 "cells": [
  {
   "cell_type": "markdown",
   "id": "03c40fed-7449-46f8-88a1-7fbb337c2874",
   "metadata": {},
   "source": [
    "# Final ATOC REU PBC Review Challenge: Debugging"
   ]
  },
  {
   "cell_type": "markdown",
   "id": "971fa516-364c-41a0-9047-e534c75834ae",
   "metadata": {},
   "source": [
    "### Step 1: Import packages"
   ]
  },
  {
   "cell_type": "code",
   "execution_count": null,
   "id": "ad5312f8-709a-4ffc-9bbf-1329e5236e45",
   "metadata": {},
   "outputs": [],
   "source": [
    "import pandas as pd\n",
    "import xarray as xarr\n",
    "import numpy as np\n",
    "import matplotlib.pyplot as plt"
   ]
  },
  {
   "cell_type": "markdown",
   "id": "8348eaf6-15bc-4c42-96e3-43b53bd994d8",
   "metadata": {},
   "source": [
    "### Step 2: Read in data and convert to nc file"
   ]
  },
  {
   "cell_type": "code",
   "execution_count": null,
   "id": "55df71d8-e211-4f7e-855e-b8dc3be672fd",
   "metadata": {},
   "outputs": [],
   "source": [
    "df = pd.read_csv('Dec2018Components2.csv')"
   ]
  },
  {
   "cell_type": "code",
   "execution_count": null,
   "id": "2cc4c429-9292-4de8-92e6-c427af037150",
   "metadata": {},
   "outputs": [],
   "source": [
    "df['DateTime'] = pd.to_datetime(df['DateTime'], format='%d-%m-%Y %H:%M:%S')"
   ]
  },
  {
   "cell_type": "code",
   "execution_count": null,
   "id": "c6dd56e6-020e-4370-ac4f-610edc48a807",
   "metadata": {},
   "outputs": [],
   "source": [
    "df.set_index(df['DateTime'], inplace=True, drop=False)"
   ]
  },
  {
   "cell_type": "code",
   "execution_count": null,
   "id": "1e99fafa-88e5-4c34-96ea-d1a900edf954",
   "metadata": {},
   "outputs": [],
   "source": [
    "df = df.loc[df['Speed_U']!=-999,:]  # need to remove data flagged for missing values"
   ]
  },
  {
   "cell_type": "code",
   "execution_count": null,
   "id": "64942921-242f-45a0-9895-420df9b35bdc",
   "metadata": {},
   "outputs": [],
   "source": [
    "fig, axs = plt.subplots()\n",
    "plt.plot(df['DateTime'], df['Speed_U'])\n",
    "fig.autofmt_xdate()\n",
    "plt.xlabel('Time')\n",
    "plt.ylabel('Windspeed in U direction (m/s)')\n",
    "plt.title('Timeseries of wind speed in U direction')"
   ]
  },
  {
   "cell_type": "code",
   "execution_count": null,
   "id": "ae4f94d8-effb-40de-9823-423e74a8327d",
   "metadata": {},
   "outputs": [],
   "source": [
    "xr = xarr.Dataset.from_dataframe(df)\n",
    "\n",
    "# Save to netCDF\n",
    "xr.to_netcdf('testComponentsEvenNewer.nc')"
   ]
  },
  {
   "cell_type": "code",
   "execution_count": null,
   "id": "b0a92ef5-4300-4ef7-bf87-d138ac08ba75",
   "metadata": {},
   "outputs": [],
   "source": [
    "ds = xarr.open_dataset('testComponentsEvenNewer.nc')"
   ]
  },
  {
   "cell_type": "markdown",
   "id": "a311bd3e-c924-4655-a13a-8bf935b61709",
   "metadata": {},
   "source": [
    "### Step 3: Create a wind rose that shows a distribution of the wind speeds and wind directions"
   ]
  },
  {
   "cell_type": "markdown",
   "id": "1024752a-9259-46fe-8c3b-2d9adcb04b46",
   "metadata": {},
   "source": [
    "For an overview on wind roses as well as a sample python package to create them, check out this [resource](https://pypi.org/project/windrose/) "
   ]
  },
  {
   "cell_type": "code",
   "execution_count": null,
   "id": "c520fad4-4802-41e6-a714-eaebc0c2f621",
   "metadata": {},
   "outputs": [],
   "source": [
    "### Hint: you may need to install a few new packages for the next few lines of code. Add them all here in this cell...\n",
    "\n",
    "from windrose import WindroseAxes\n",
    "from windrose import plot_windrose\n",
    "import metpy.calc as mp\n",
    "from metpy.units import units"
   ]
  },
  {
   "cell_type": "markdown",
   "id": "be83e80f-6477-46e9-935d-f84346f2ab6f",
   "metadata": {},
   "source": [
    "For our wind rose, we need to calculate the horizontal windspeed using the Pythagorean Theorem:\n",
    "\n",
    "$speed_{horizontal} = [speed_{u}^2 + speed_{v}^2]^{1/2}$"
   ]
  },
  {
   "cell_type": "code",
   "execution_count": null,
   "id": "87815d2e-8f8e-4580-bd21-23a8c1fc55aa",
   "metadata": {},
   "outputs": [],
   "source": [
    "ds['HorizontalSpeed'] = (ds['Speed_U']**2 + ds['Speed_V']**2)**(1/2)"
   ]
  },
  {
   "cell_type": "markdown",
   "id": "23da4597-8e69-4cd2-9e9d-5ef9206ecda0",
   "metadata": {},
   "source": [
    "For our wind rose, we also need to calculate the wind direction. Because this is an involved calculation, we are going to rely on the external libraries, [metpy](https://unidata.github.io/MetPy/latest/api/generated/metpy.calc.wind_direction.html) and [units](https://unidata.github.io/MetPy/latest/tutorials/unit_tutorial.html) to help us."
   ]
  },
  {
   "cell_type": "code",
   "execution_count": null,
   "id": "aa409ab4-bc44-4bb7-97bd-de0571392c0d",
   "metadata": {},
   "outputs": [],
   "source": [
    "ds = ds.assign(dircalc = (['DateTime'], mp.wind_direction(ds.Speed_U * units.meters /units.seconds, ds.Speed_V * units.meters /units.seconds).values))"
   ]
  },
  {
   "cell_type": "markdown",
   "id": "4b72d20e-d07c-42e6-90da-edfa6e17701f",
   "metadata": {},
   "source": [
    "Wind turbines only operate within a range of wind speeds. Here we assume that the wind turbine will start operating at speeds greater than 4 m/s and stop operating at 15 m/s"
   ]
  },
  {
   "cell_type": "code",
   "execution_count": null,
   "id": "2a9dc1af-c609-4125-968b-a52171db50c8",
   "metadata": {},
   "outputs": [],
   "source": [
    "ds_filtered = ds.where(((ds['HorizontalSpeed']>4) & (ds['HorizontalSpeed']<15)))"
   ]
  },
  {
   "cell_type": "code",
   "execution_count": null,
   "id": "c9d89309-5e83-416e-9b0c-a111e4c17dee",
   "metadata": {},
   "outputs": [],
   "source": [
    "fig = plt.figure()\n",
    "ax = plt.subplot(1, 1,1, projection=\"windrose\")\n",
    "ax.bar(ds_filtered['dircalc'], ds_filtered['HorizontalSpeed'], normed=False, edgecolor='white', bins=[0,3,6,9,11,13,15])\n",
    "ax.set_legend(bbox_to_anchor=(1,1), title='Windspeeds (m/s)')"
   ]
  },
  {
   "cell_type": "markdown",
   "id": "4f81e6de-ef4b-46cc-9ae2-c4aa13ef4712",
   "metadata": {},
   "source": [
    "### Step 4: Calculate power according to the equation $P = 0.5C_p\\rho A v^3$"
   ]
  },
  {
   "cell_type": "markdown",
   "id": "000d4d54-3e3b-475f-a280-bdb16fd662ef",
   "metadata": {},
   "source": [
    "The following equation is known as the *wind power equation.* The key variables in this equation are:\n",
    "\n",
    " - Power (W): the amount of power a wind turbine generates.\n",
    " - $C_p$ (unitless): the efficiency of the turbine. Here we assume the maximum possible efficiency, 0.52\n",
    " - $\\rho$ ($kg/m^3$): the air density. Here we will assume an average value of 1.225 $kg/m^3$\n",
    " - A ($m^2$): the area swept by a wind turbine. \n",
    "     - The swept area is generally represented as A = $\\pi r^2$, where $r$ is the blade length in meters. Here we assume the blade length is 132 m.\n",
    " - v ($m/s$): the horizontal windspeed\n",
    " \n",
    "Note: Because wind farm developers tend to report power values in MW instead of W, we are going to divide our power in Watts (W) by $10^6$"
   ]
  },
  {
   "cell_type": "code",
   "execution_count": null,
   "id": "e60da062-755c-4ef3-aeee-0d29180a6a8f",
   "metadata": {},
   "outputs": [],
   "source": [
    "ds_filtered['power'] = (0.5*0.52*1.225*np.pi*132*132*ds_filtered['HorizontalSpeed']**3)/1e6"
   ]
  },
  {
   "cell_type": "markdown",
   "id": "693392f0-0855-48df-8ce5-7f8f80c049fc",
   "metadata": {},
   "source": [
    "Now we need to calculate the average power for every 30-minute period"
   ]
  },
  {
   "cell_type": "code",
   "execution_count": null,
   "id": "138def6b-6763-4e76-832e-cc55cfaedf0b",
   "metadata": {},
   "outputs": [],
   "source": [
    "ds_30 = ds_filtered.resample(DateTime = '30min').mean()"
   ]
  },
  {
   "cell_type": "markdown",
   "id": "b89c0589-8897-40d3-b25c-98e1a5ada825",
   "metadata": {},
   "source": [
    "### Step 5: Plot a scatterplot with the horizontal wind speed on the x-axis and the power on the y-axis"
   ]
  },
  {
   "cell_type": "code",
   "execution_count": null,
   "id": "2c3d68d5-5cb1-43f5-854b-6bc9d5ca6136",
   "metadata": {},
   "outputs": [],
   "source": [
    "plt.scatter(ds_30['HorizontalSpeed'], ds_30['power'])\n",
    "plt.xlabel('Windspeed (m/s)')\n",
    "plt.ylabel('Power (MW)')\n",
    "plt.title('Wind Power at New Site')"
   ]
  },
  {
   "cell_type": "code",
   "execution_count": null,
   "id": "771cdc15-13f3-4739-9573-729b6ee9cedd",
   "metadata": {},
   "outputs": [],
   "source": []
  },
  {
   "cell_type": "code",
   "execution_count": null,
   "id": "a0ee0658-a7d3-41f8-beae-97eafa2b6011",
   "metadata": {},
   "outputs": [],
   "source": []
  }
 ],
 "metadata": {
  "kernelspec": {
   "display_name": "Python 3 (ipykernel)",
   "language": "python",
   "name": "python3"
  },
  "language_info": {
   "codemirror_mode": {
    "name": "ipython",
    "version": 3
   },
   "file_extension": ".py",
   "mimetype": "text/x-python",
   "name": "python",
   "nbconvert_exporter": "python",
   "pygments_lexer": "ipython3",
   "version": "3.8.16"
  }
 },
 "nbformat": 4,
 "nbformat_minor": 5
}
