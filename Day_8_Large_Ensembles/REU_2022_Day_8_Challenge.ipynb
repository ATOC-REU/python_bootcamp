{
 "cells": [
  {
   "cell_type": "markdown",
   "metadata": {},
   "source": [
    "# REU 2022 Day 8: Challenge\n",
    "\n",
    "**We are going to be comparing the Arctic temperature dataset we used this morning with Arctic sea ice area** <br>\n",
    "\n",
    "* A. Load SIA time series data and compare time series of Arctic temperature and we used this morning\n",
    "* B. Look at 5 coldest and warmest members in July during the period 1980-2000. Look at the same members with SIA in August, do you see any relationship?\n",
    "* C. (Extension) Look at Arctic temperatures in all 6 CMIP5 LEs and compute correlations with SIA in those models, also make scatter plots for each model\n",
    "\n",
    "\n",
    "## A. Compare Arctic temperature time series for CanESM2 in July with sea ice area (SIA) in August\n",
    "<span style=\"color:blue\"> **Load both sea ice area and Arctic temperature datasets for CanESM2**"
   ]
  },
  {
   "cell_type": "code",
   "execution_count": 2,
   "metadata": {},
   "outputs": [],
   "source": [
    "import xarray as xr\n",
    "import numpy as np\n",
    "import datetime\n",
    "import matplotlib.pyplot as plt"
   ]
  },
  {
   "cell_type": "code",
   "execution_count": 7,
   "metadata": {},
   "outputs": [],
   "source": [
    "#Start with SIA and load August for CanESM2\n",
    "CLIVAR_SIA = xr.open_dataset('CLIVAR_SIA_1850_2100_RCP85.nc')\n",
    "CanESM2_SIA_Aug = CLIVAR_SIA['CanESM2'].sel(time=CLIVAR_SIA['time.month']==8).sel(time=slice('1980','2000')).sel(member=slice(1,50))"
   ]
  },
  {
   "cell_type": "code",
   "execution_count": 8,
   "metadata": {},
   "outputs": [],
   "source": [
    "#Now we load the CanESM2 Arctic temperatures like this morning\n",
    "CLIVAR_Arctic_temp = xr.open_dataset('CLIVAR_Arctic_surface_temp_1850_2100_RCP85.nc')\n",
    "#now make a new variable which only contains CanESM2 data for July\n",
    "CanESM2_Arctic_July = CLIVAR_Arctic_temp['CanESM2'].sel(member=slice(1,50)).sel(time=CLIVAR_Arctic_temp['time.month']==7)"
   ]
  },
  {
   "cell_type": "markdown",
   "metadata": {},
   "source": [
    "<span style=\"color:blue\"> **Make a scatter plot of July Arctic temperature in 1980-2000 versus August SIA**"
   ]
  },
  {
   "cell_type": "code",
   "execution_count": 9,
   "metadata": {},
   "outputs": [
    {
     "data": {
      "text/plain": [
       "Text(0.5, 0, 'July Arctic Temperature [K]')"
      ]
     },
     "execution_count": 9,
     "metadata": {},
     "output_type": "execute_result"
    },
    {
     "data": {
      "image/png": "[encoded data removed]",
      "text/plain": [
       "<Figure size 432x288 with 1 Axes>"
      ]
     },
     "metadata": {
      "needs_background": "light"
     },
     "output_type": "display_data"
    }
   ],
   "source": [
    "plt.scatter(CanESM2_Arctic_July.sel(time=slice('1980','2000')).mean('time'), CanESM2_SIA_Aug.mean('time').sel(member=slice(1,50)).sortby('member'))\n",
    "plt.ylabel(r'August SIA [10$^6$ km$^2$]', fontsize=14)\n",
    "plt.xlabel('July Arctic Temperature [K]', fontsize=14)"
   ]
  },
  {
   "cell_type": "markdown",
   "metadata": {},
   "source": [
    "<span style=\"color:blue\"> **Do you see a correlation? Does this make sense?**"
   ]
  },
  {
   "cell_type": "raw",
   "metadata": {},
   "source": []
  },
  {
   "cell_type": "markdown",
   "metadata": {},
   "source": [
    "<span style=\"color:blue\"> **Compute the correlation, look back at Day 6 if you need to check how this is done**"
   ]
  },
  {
   "cell_type": "markdown",
   "metadata": {},
   "source": [
    "## B. Now just look at the 5 highest and lowest temperature members, plot those against SIA for the same members "
   ]
  },
  {
   "cell_type": "code",
   "execution_count": null,
   "metadata": {},
   "outputs": [],
   "source": [
    "#find the member numbers of the highest and lowest Arctic temperatures in July 1980-2000"
   ]
  },
  {
   "cell_type": "code",
   "execution_count": null,
   "metadata": {},
   "outputs": [],
   "source": [
    "#select those same members for SIA"
   ]
  },
  {
   "cell_type": "code",
   "execution_count": null,
   "metadata": {},
   "outputs": [],
   "source": [
    "#make a scatter plot to compare the July Arctic temperature and August SIA. Use 2 different colors for the high and low groups"
   ]
  },
  {
   "cell_type": "raw",
   "metadata": {},
   "source": [
    "do you notice any relationship?\n",
    "\n"
   ]
  },
  {
   "cell_type": "markdown",
   "metadata": {},
   "source": [
    "## C. Now compute correlations for the other 5 climate models in the datasets and plot scatter plots as you did for CanESM2 in part A"
   ]
  },
  {
   "cell_type": "code",
   "execution_count": 15,
   "metadata": {},
   "outputs": [],
   "source": [
    "#load the Arctic temperatures and SIA for all of the 6 CLIVAR LE models\n",
    "CLIVAR_Arctic_temp = xr.open_dataset('CLIVAR_Arctic_surface_temp_1850_2100_RCP85.nc')"
   ]
  },
  {
   "cell_type": "code",
   "execution_count": 25,
   "metadata": {},
   "outputs": [],
   "source": [
    "Arctic_temp = CLIVAR_Arctic_temp['CanESM2'].sel(member=slice(1,50)).sel(time=CLIVAR_Arctic_temp['time.month']==7)"
   ]
  },
  {
   "cell_type": "code",
   "execution_count": null,
   "metadata": {},
   "outputs": [],
   "source": [
    "#repeat the same analysis as in A"
   ]
  }
 ],
 "metadata": {
  "kernelspec": {
   "display_name": "Python 3",
   "language": "python",
   "name": "python3"
  },
  "language_info": {
   "codemirror_mode": {
    "name": "ipython",
    "version": 3
   },
   "file_extension": ".py",
   "mimetype": "text/x-python",
   "name": "python",
   "nbconvert_exporter": "python",
   "pygments_lexer": "ipython3",
   "version": "3.7.6"
  }
 },
 "nbformat": 4,
 "nbformat_minor": 4
}
