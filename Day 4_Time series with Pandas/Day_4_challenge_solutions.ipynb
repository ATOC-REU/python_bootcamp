{
 "cells": [
  {
   "cell_type": "markdown",
   "metadata": {
    "id": "REVdkHpEb-Ag"
   },
   "source": [
    "# Day 4 Challenge: Compare data from lidar and a nearby buoy (SOLUTIONS)\n",
    "\n",
    "In today's challenge, your goal is to compare the lidar wind speed data (what we looked at this morning) to a new dataset from a nearby meteorological buoy.\n",
    "\n",
    "The lidar is located at 39.9695, -72.160. We can grab measurements from a meteorological buoy, courtesy of [NOAA National Data Buoy Center](https://www.ndbc.noaa.gov/). [Buoy 44025](https://www.ndbc.noaa.gov/station_history.php?station=44025) is at 40.251, -73.164.\n",
    "\n",
    "Your objectives are to:\n",
    "1. Read in and proccess the lidar data.\n",
    "2. Read in and process the buoy data.\n",
    "3. Plot the processed data.\n",
    "4. Compare the two datasets.\n",
    "\n",
    "<font color='blue'>Tasks you must complete are in blue</font>, <font color='red'>while extra challenge tasks are in red</font>."
   ]
  },
  {
   "cell_type": "markdown",
   "metadata": {
    "id": "sxcs-cKob-Ai"
   },
   "source": [
    "## 1. Read in and process the lidar data\n",
    "\n",
    "In this step, repeat most of what you did this morning to read in the `lidar_winds.csv` file and prepare it for plotting.\n",
    "\n",
    "<font color='blue'>Begin by importing the libraries that you'll be using. You'll need the same four that you used this morning: `datetime`, `numpy`, `pandas`, and `matplotlib.pyplot`. You can just copy and paste this step from the notebook we used earlier if you'd like.</font>"
   ]
  },
  {
   "cell_type": "code",
   "execution_count": null,
   "metadata": {
    "id": "rOiP5Jbsb-Aj"
   },
   "outputs": [],
   "source": [
    "import datetime as datetime\n",
    "import numpy as np\n",
    "import pandas as pd\n",
    "import matplotlib.pyplot as plt"
   ]
  },
  {
   "cell_type": "markdown",
   "metadata": {
    "id": "o2B4beIzb-Aj"
   },
   "source": [
    "<font color='blue'>Read in the tabular data using `pandas`. Since you'll have two datasets, rather than calling the dataframe `df` like we did before, name it `df_lidar` so we can distinguish between the two datasets.</font>"
   ]
  },
  {
   "cell_type": "code",
   "execution_count": null,
   "metadata": {
    "id": "IhHbrhv4b-Aj"
   },
   "outputs": [],
   "source": [
    "df_lidar = pd.read_csv('lidar_winds.csv')"
   ]
  },
  {
   "cell_type": "markdown",
   "metadata": {
    "id": "BrsglX1fb-Ak"
   },
   "source": [
    "We've already looked at this dataset and we know what it looks like, so we can move right into setting the timestamps.\n",
    "\n",
    "<font color='blue'>Use `datetime` to convert the data in the `timestamp` column from an `object` format to a `datetime64` format.</font>"
   ]
  },
  {
   "cell_type": "code",
   "execution_count": null,
   "metadata": {
    "id": "YyG3GcKWb-Ak"
   },
   "outputs": [],
   "source": [
    "df_lidar['timestamp'] = pd.to_datetime(df_lidar['timestamp'])"
   ]
  },
  {
   "cell_type": "markdown",
   "metadata": {
    "id": "Rr6-pcEEb-Ak"
   },
   "source": [
    "<font color='blue'>Next, set the dataframe index as `timestamp`.</font>"
   ]
  },
  {
   "cell_type": "code",
   "execution_count": null,
   "metadata": {
    "id": "6YBmIz08b-Al"
   },
   "outputs": [],
   "source": [
    "df_lidar = df_lidar.set_index(df_lidar['timestamp'])"
   ]
  },
  {
   "cell_type": "markdown",
   "metadata": {
    "id": "iuVVk6lVb-Al"
   },
   "source": [
    "<font color='blue'>Finally, type the name of the dataframe (`df_lidar`) to view the final product.</font>"
   ]
  },
  {
   "cell_type": "code",
   "execution_count": null,
   "metadata": {
    "id": "COHOLtjqb-Al",
    "outputId": "a2f69ab1-7abf-45f0-fe4a-54e21a305ddd"
   },
   "outputs": [],
   "source": [
    "df_lidar"
   ]
  },
  {
   "cell_type": "markdown",
   "metadata": {
    "id": "dMKLbmycb-Am"
   },
   "source": [
    "## 2. Read in and process the buoy data\n",
    "\n",
    "Now that you've had more practice reading in data, go ahead and read in and prepare the data from the meteorological data.\n",
    "\n",
    "The file is called `buoy_data.csv`, and it's the same file type as the lidar dataset. Therefore, you'll want to use `pandas` to process and analyze the data, just like you did earlier.\n",
    "\n",
    "We've given you the column names and units to help out a bit:\n",
    "\n",
    "Column units:\n",
    "* WDIR: degT\n",
    "* WSPD: m/s\n",
    "* GST: m/s\n",
    "* WHVT: m\n",
    "* DPD: sec\n",
    "* APD: sec\n",
    "* MWD: degT\n",
    "* PRES: hPa\n",
    "* ATMP: degC\n",
    "* WTMP: degC\n",
    "* DEWP: degC\n",
    "* VIS: mi\n",
    "* TIDE: ft\n",
    "\n",
    "<font color='blue'>Start by reading in the tabular data with `pandas`. Name the dataframe `df_buoy` so you don't get it confused with the lidar dataframe.</font>"
   ]
  },
  {
   "cell_type": "code",
   "execution_count": null,
   "metadata": {
    "id": "OwveqbUab-Am"
   },
   "outputs": [],
   "source": [
    "df_buoy = pd.read_csv('buoy_data.csv')"
   ]
  },
  {
   "cell_type": "markdown",
   "metadata": {
    "id": "ShboYa0hb-An"
   },
   "source": [
    "<font color='blue'>Just like we did this morning, use the `.head()` command to view the first 5 lines of the dataframe.</font>"
   ]
  },
  {
   "cell_type": "code",
   "execution_count": null,
   "metadata": {
    "id": "lpA-Mvgxb-An",
    "outputId": "538f8a6e-52f8-41e3-a3ff-c30bf763fcd2"
   },
   "outputs": [],
   "source": [
    "df_buoy.head()"
   ]
  },
  {
   "cell_type": "markdown",
   "metadata": {
    "id": "gBhTanuxb-An"
   },
   "source": [
    "This dataset has much more than just wind speed, which is the only type of measurement from the lidar. For now, let's just focus on the wind speed, which is abbreviated `WSPD` and is in units of meters per second (m/s).\n",
    "\n",
    "Let's check out the timestamp column to see what the current data type is.\n",
    "\n",
    "<font color='blue'>View the time column using the same method we used this morning.</font>"
   ]
  },
  {
   "cell_type": "code",
   "execution_count": null,
   "metadata": {
    "id": "qFRrO7cHb-An",
    "outputId": "afeb614d-f565-4584-acff-8fa4cce50e1f"
   },
   "outputs": [],
   "source": [
    "df_buoy['time']"
   ]
  },
  {
   "cell_type": "markdown",
   "metadata": {
    "id": "z40RN1NDb-Ao"
   },
   "source": [
    "You should notice now that the data type (\"dtype\") is `object`. \n",
    "\n",
    "<font color='blue'>Use the same methods that we used this morning and in Step 1 to turn the timestamp into a `datetime64` format.</font>"
   ]
  },
  {
   "cell_type": "code",
   "execution_count": null,
   "metadata": {
    "id": "pw5zKBpLb-Ao"
   },
   "outputs": [],
   "source": [
    "df_buoy['time'] = pd.to_datetime(df_buoy['time'])"
   ]
  },
  {
   "cell_type": "markdown",
   "metadata": {
    "id": "gHjNjU-Ib-Ao"
   },
   "source": [
    "<font color='blue'>Now set the index as the newly formatted timestamps.</font>"
   ]
  },
  {
   "cell_type": "code",
   "execution_count": null,
   "metadata": {
    "id": "ETAfQfKtb-Ao"
   },
   "outputs": [],
   "source": [
    "df_buoy = df_buoy.set_index('time')"
   ]
  },
  {
   "cell_type": "markdown",
   "metadata": {
    "id": "5SpSlInkb-Ao"
   },
   "source": [
    "<font color='blue'>Finally, type the name of the dataframe (`df_buoy`) to view the final product.</font>"
   ]
  },
  {
   "cell_type": "code",
   "execution_count": null,
   "metadata": {
    "id": "Fni9Bgw4b-Ao",
    "outputId": "510520dd-b024-4d96-f04f-cb7cf57005a8"
   },
   "outputs": [],
   "source": [
    "df_buoy"
   ]
  },
  {
   "cell_type": "markdown",
   "metadata": {
    "id": "LV9AVohZb-Ap"
   },
   "source": [
    "We checked out plots of the lidar data this morning, but we haven't taken a look at the buoy data yet. Let's go ahead and plot the buoy data to see what it looks like.\n",
    "\n",
    "<font color='blue'>Plot the buoy wind speed as a function of the index (which we already set as the time stamp). The basics for creating the plot have already been written for you.</font>"
   ]
  },
  {
   "cell_type": "code",
   "execution_count": null,
   "metadata": {
    "id": "qKIQQCg5b-Ap",
    "outputId": "769e6ded-3c82-4bd8-cd0d-3aa7d6255d0a"
   },
   "outputs": [],
   "source": [
    "# Set up figure for plotting\n",
    "fig, ax = plt.subplots(1, 1, figsize=(8,3))\n",
    "\n",
    "# Add axis labels\n",
    "ax.set_ylabel(\"Wind Speed [m/s]\", fontsize=12)\n",
    "ax.set_xlabel(\"Date\", fontsize=12)\n",
    "\n",
    "# Plot the data\n",
    "ax.plot(df_buoy.index, df_buoy['WSPD'])\n",
    "\n",
    "# Show the figure\n",
    "plt.show()"
   ]
  },
  {
   "cell_type": "markdown",
   "metadata": {
    "id": "AE6Jffn9b-Ap"
   },
   "source": [
    "Woah! What's going on with those really high values? Wind speeds of around 100 m/s (which is over 200 mph) seem a little high... Sometimes datasets use numbers like 99, 999, or -999 to denote missing or corrupt data. Sometimes it means that the instrument collecting the data has malfunctioned or there was some issue with the measurements. Regardless, those readings make it difficult to view the real record, which has wind speeds from 0 to about 20 m/s. Let's check to see what those values are by printing the maximum wind speed value.\n",
    "\n",
    "<text color='blue'>Type out `max(df_buoy['WSPD'])` to print the maximum value for that column.</text>"
   ]
  },
  {
   "cell_type": "code",
   "execution_count": null,
   "metadata": {
    "id": "8RoYi4Ykb-Ap",
    "outputId": "014cd1ad-fce0-4e16-9b34-51977fea1324"
   },
   "outputs": [],
   "source": [
    "max(df_buoy['WSPD'])"
   ]
  },
  {
   "cell_type": "markdown",
   "metadata": {
    "id": "MPVAClb8b-Aq"
   },
   "source": [
    "It looks like we'll need to change every value of 99 to something that `pandas` will ignore. This is important not only for plotting, but also for any statistics we use. Imagine how much higher the mean would be if we included a bunch of 99's in our calculation!\n",
    "\n",
    "There are many ways we could handle these data points, but in this example, we'll simply replace \"99\" wtih \"NaN\", which stands for \"not a number.\" NaN's are ignored when you plot or calculate statistics (though sometimes you have to specifically tell the function to ignore them).\n",
    "\n",
    "To replace \"99\" with \"NaN\", type and run the following line: `df_buoy = df_buoy.replace(99, np.nan)`"
   ]
  },
  {
   "cell_type": "code",
   "execution_count": null,
   "metadata": {
    "id": "LxqjJuO_b-Aq"
   },
   "outputs": [],
   "source": [
    "df_buoy = df_buoy.replace(99, np.nan)"
   ]
  },
  {
   "cell_type": "markdown",
   "metadata": {
    "id": "6DgQFZhvb-Aq"
   },
   "source": [
    "<font color='blue'>Plot the data again to see if that worked. You can copy and paste the code we used above to plot.</font>"
   ]
  },
  {
   "cell_type": "code",
   "execution_count": null,
   "metadata": {
    "id": "H4qntpT-b-Aq",
    "outputId": "a538af64-c6dc-44a1-8588-e7d615bc8c36"
   },
   "outputs": [],
   "source": [
    "# Set up figure for plotting\n",
    "fig, ax = plt.subplots(1, 1, figsize=(8,3))\n",
    "\n",
    "# Add axis labels\n",
    "ax.set_ylabel(\"Wind Speed [m/s]\", fontsize=12)\n",
    "ax.set_xlabel(\"Date\", fontsize=12)\n",
    "\n",
    "# Plot the data\n",
    "ax.plot(df_buoy.index, df_buoy['WSPD'])\n",
    "\n",
    "# Show the figure\n",
    "plt.show()"
   ]
  },
  {
   "cell_type": "markdown",
   "metadata": {
    "id": "nuCceu7jb-Ar"
   },
   "source": [
    "Success! Now instead of high values, you'll notice that there are gaps of missing data. Although it doesn't look \"pretty,\" we're now able to view the data and calculate statistics that won't be skewed by the high values of 99.\n",
    "\n",
    "Can you think of any alternative methods we could use to deal with bad data?\n",
    "\n",
    "<font color='red'>As an extra challenge, look up some other methods for dealing with bad or missing data and apply one to the dataset. HINT: look into interpolating to fill gaps...</font>"
   ]
  },
  {
   "cell_type": "markdown",
   "metadata": {
    "id": "uZD3ZNkbb-Ar"
   },
   "source": [
    "## 3. Plot the data\n",
    "\n",
    "We have now successfully prepared our two datasets to plot and compare. The buoy wind speeds are only measured at a single altitude, while the lidar wind speeds are measured at a range of heights. Let's start by plotting the buoy wind speed and the lidar wind speed at the lowest altitude (18 m). \n",
    "\n",
    "<font color='blue'>Following the same methods that we used for plotting above, plot the lidar wind speed at 18 m, which is the column labeled `wspd18m` in the lidar dataframe. Plot the buoy wind speed, which is the column labeled `WSPD` in the buoy dataframe.</font>"
   ]
  },
  {
   "cell_type": "code",
   "execution_count": null,
   "metadata": {
    "id": "WmqyeOZWb-Ar",
    "outputId": "0e59ae85-8fdf-4a1b-f193-3fd80985fd70"
   },
   "outputs": [],
   "source": [
    "# Set up figure for plotting\n",
    "fig, ax = plt.subplots(1, 1, figsize=(8,3))\n",
    "\n",
    "# Add axis labels\n",
    "ax.set_ylabel(\"Wind Speed [m/s]\", fontsize=12)\n",
    "ax.set_xlabel(\"Date\", fontsize=12)\n",
    "\n",
    "# Plot the data\n",
    "ax.plot(df_lidar.index, df_lidar['wspd18m'])\n",
    "ax.plot(df_buoy.index, df_buoy['WSPD'])\n",
    "\n",
    "# Show the figure\n",
    "plt.show()"
   ]
  },
  {
   "cell_type": "markdown",
   "metadata": {
    "id": "Kbgl54LUb-Ar"
   },
   "source": [
    "We should now have one plot with both measured wind speeds. However, we don't have any labels on the data so it's hard to tell which record is which. Let's go ahead and label them and then add a legend. \n",
    "\n",
    "<font color='blue'>To do so, copy and paste the code from the cell above where we plotted both records.</font>\n",
    "\n",
    "1. <font color='blue'>In the line where you plot the lidar data, before the `)`, type `, label='Lidar'`.</font>\n",
    "2. <font color='blue'>In the line where you plot the buoy data, before the `)`, type `, label='Buoy'`.</font>\n",
    "3. <font color='blue'>After those lines, type `plt.legend()`.</font>"
   ]
  },
  {
   "cell_type": "code",
   "execution_count": null,
   "metadata": {
    "id": "zdEmYrJub-As",
    "outputId": "342a9d93-f9fc-4cbb-fe51-21dc5d7c00cb"
   },
   "outputs": [],
   "source": [
    "# Set up figure for plotting\n",
    "fig, ax = plt.subplots(1, 1, figsize=(8,3))\n",
    "\n",
    "# Add axis labels\n",
    "ax.set_ylabel(\"Wind Speed [m/s]\", fontsize=12)\n",
    "ax.set_xlabel(\"Date\", fontsize=12)\n",
    "\n",
    "# Plot the data\n",
    "ax.plot(df_lidar.index, df_lidar['wspd18m'], label='Lidar')\n",
    "ax.plot(df_buoy.index, df_buoy['WSPD'], label='Buoy')\n",
    "\n",
    "# Show legend\n",
    "plt.legend()\n",
    "\n",
    "# Show the figure\n",
    "plt.show()"
   ]
  },
  {
   "cell_type": "markdown",
   "metadata": {},
   "source": [
    "<font color='red'>There are many ways to customize plots and add your own style! If you feel like playing around with the visualization of your data, try changing things like the line color or width.</font>"
   ]
  },
  {
   "cell_type": "markdown",
   "metadata": {
    "id": "kQ9yedHub-As"
   },
   "source": [
    "You might notice now that the records do not cover the same time periods. To make it easier to compare the two records, let's select the overlapping time period. It looks like the lidar record begins after the buoy record, so let's find the start date of the lidar.\n",
    "\n",
    "<font color='blue'>Print the first 5 lines of the lidar dataframe using `.head()`.</font>"
   ]
  },
  {
   "cell_type": "code",
   "execution_count": null,
   "metadata": {
    "id": "o-Ld9UNTb-As",
    "outputId": "03472413-8b69-4449-8a08-3a78dd52a250"
   },
   "outputs": [],
   "source": [
    "df_lidar.head()"
   ]
  },
  {
   "cell_type": "markdown",
   "metadata": {
    "id": "BJtWNwEBb-As"
   },
   "source": [
    "The first timestamp shows us that the first measurement was on 12 August 2019 at midnight. Therefore, we'll want to trim the buoy dataframe to start at that same date. \n",
    "\n",
    "<font color='blue'>Type out and run the following line to ignore all buoy data before 12 August 2019: `df_buoy = df_buoy.loc['2019-8-12':]`</font>"
   ]
  },
  {
   "cell_type": "code",
   "execution_count": null,
   "metadata": {
    "id": "8ZMkY6cub-At"
   },
   "outputs": [],
   "source": [
    "df_buoy = df_buoy.loc['2019-8-12':]"
   ]
  },
  {
   "cell_type": "markdown",
   "metadata": {
    "id": "SCf0h2HHb-At"
   },
   "source": [
    "Now the start dates should be the same, but the end dates are different. The buoy dataset ends before the lidar, so let's find the last date of the buoy measurements.\n",
    "\n",
    "<font color='blue'>Print the last 5 lines of the buoy dataframe using `.tail()`.</font>"
   ]
  },
  {
   "cell_type": "code",
   "execution_count": null,
   "metadata": {
    "id": "bzUanrnMb-At",
    "outputId": "eacde0a1-e796-4ad7-f309-ecbf6dfa11d2"
   },
   "outputs": [],
   "source": [
    "df_buoy.tail()"
   ]
  },
  {
   "cell_type": "markdown",
   "metadata": {
    "id": "fePyQvgYb-At"
   },
   "source": [
    "The last measurement is on 31 December 2020, so let's trim the lidar dataframe to end on that date. \n",
    "\n",
    "<font color='blue'>Use the same method that we used to trim the buoy dataset to now trim the lidar data.</font>\n",
    "\n",
    "**Hint:** When we trimmed the buoy data, we wanted all of the data *after* a certain date so we used the format `['date':]`. If we want all of the data *before* a certain date, we should use the format `[:'date']`."
   ]
  },
  {
   "cell_type": "code",
   "execution_count": null,
   "metadata": {
    "id": "bN8ieCZGb-At"
   },
   "outputs": [],
   "source": [
    "df_lidar = df_lidar.loc[:'2020-12-31']"
   ]
  },
  {
   "cell_type": "markdown",
   "metadata": {
    "id": "NUKpxkP5b-Au"
   },
   "source": [
    "Now that the datasets are the same lengths, let's plot them again and see how they look.\n",
    "\n",
    "<font color='blue'>Copy and paste the block of code that we used to plot both wind speeds below in order to see them over the same period.</font>"
   ]
  },
  {
   "cell_type": "code",
   "execution_count": null,
   "metadata": {
    "id": "n9Riv4iTb-Au",
    "outputId": "40522e78-ab4a-4f2c-e32c-53fd0a1ac65b"
   },
   "outputs": [],
   "source": [
    "# Set up figure for plotting\n",
    "fig, ax = plt.subplots(1, 1, figsize=(8,3))\n",
    "\n",
    "# Add axis labels\n",
    "ax.set_ylabel(\"Wind Speed [m/s]\", fontsize=12)\n",
    "ax.set_xlabel(\"Date\", fontsize=12)\n",
    "\n",
    "# Plot the data\n",
    "ax.plot(df_lidar.index, df_lidar['wspd18m'], label='Lidar')\n",
    "ax.plot(df_buoy.index, df_buoy['WSPD'], label='Buoy')\n",
    "\n",
    "# Show legend\n",
    "plt.legend()\n",
    "\n",
    "# Show the figure\n",
    "plt.show()"
   ]
  },
  {
   "cell_type": "markdown",
   "metadata": {
    "id": "CAK8cRsDb-Au"
   },
   "source": [
    "## 4. Compare the two datasets\n",
    "\n",
    "So far we've been processing the two datasets, preparing them for plotting, and getting ready to compare them. Now let's actually compare the two using some basic statistics. There are an infinite number of statistical measures we could use to compare the records. For now, we'll stick to just a few, but you're more than welcome to use any other methods you're familiar with. [Here](https://www.tutorialspoint.com/python_pandas/python_pandas_descriptive_statistics.htm) is more information on other statistics to calculate. \n",
    "\n",
    "Let's start by looking at the averages of lidar versus the buoy wind speed. In the code below, we calculate the average of the lidar wind speeds at 18 m."
   ]
  },
  {
   "cell_type": "code",
   "execution_count": null,
   "metadata": {
    "colab": {
     "base_uri": "https://localhost:8080/",
     "height": 164
    },
    "executionInfo": {
     "elapsed": 220,
     "status": "error",
     "timestamp": 1629740189150,
     "user": {
      "displayName": "Becca Baiman",
      "photoUrl": "",
      "userId": "10120374032708320775"
     },
     "user_tz": 360
    },
    "id": "yYIvEb65b-Au",
    "outputId": "f512cca3-7f85-405b-9fd9-c8717912b1e3"
   },
   "outputs": [],
   "source": [
    "df_lidar['wspd18m'].mean()"
   ]
  },
  {
   "cell_type": "markdown",
   "metadata": {
    "id": "5nQPkD9Vb-Au"
   },
   "source": [
    "<font color='blue'>Use the same method to find the average of the buoy data.</font>"
   ]
  },
  {
   "cell_type": "code",
   "execution_count": null,
   "metadata": {
    "id": "zqWqJk_zb-Au"
   },
   "outputs": [],
   "source": [
    "df_buoy['WSPD'].mean()"
   ]
  },
  {
   "cell_type": "markdown",
   "metadata": {
    "id": "IlVTzx6mb-Av"
   },
   "source": [
    "The lidar average is higher than the buoy average, but let's take a look at the whole records again. Earlier, we smoothed the data by averaging winds every week. Let's try that again so we can more easily view the data.\n",
    "\n",
    "<font color='blue'>For both datasets, find the weekly averages using `.resample()` and `.mean()` like we did this morning. Name the weekly averages `weekly_lidar` and `weekly_buoy`.</font>"
   ]
  },
  {
   "cell_type": "code",
   "execution_count": null,
   "metadata": {
    "id": "ubQyGDQwb-Av"
   },
   "outputs": [],
   "source": [
    "weekly_lidar = df_lidar.resample('W').mean()\n",
    "weekly_buoy = df_buoy.resample('W').mean()"
   ]
  },
  {
   "cell_type": "markdown",
   "metadata": {
    "id": "tVmiUkJYb-Av"
   },
   "source": [
    "<font color='blue'>Now plot the weekly averages for both the lidar and the buoy data on the same plot. Don't forget to add labels!</font>"
   ]
  },
  {
   "cell_type": "code",
   "execution_count": null,
   "metadata": {
    "id": "jHHuueMxb-Av"
   },
   "outputs": [],
   "source": [
    "# Set up figure for plotting\n",
    "fig, ax = plt.subplots(1, 1, figsize=(8,3))\n",
    "\n",
    "# Add axis labels\n",
    "ax.set_ylabel(\"Wind Speed [m/s]\", fontsize=12)\n",
    "ax.set_xlabel(\"Date\", fontsize=12)\n",
    "\n",
    "# Plot the data\n",
    "ax.plot(weekly_lidar.index, weekly_lidar['wspd18m'], label='Lidar')\n",
    "ax.plot(weekly_buoy.index, weekly_buoy['WSPD'], label='Buoy')\n",
    "\n",
    "# Show legend\n",
    "plt.legend()\n",
    "\n",
    "# Show the figure\n",
    "plt.show()"
   ]
  },
  {
   "cell_type": "markdown",
   "metadata": {
    "id": "Z01ftr-Ab-Av"
   },
   "source": [
    "It looks like the lidar wind speeds are consistently higher than the buoy wind speeds. Why do you think that is?\n",
    "\n",
    "<font color='blue'>Brainstorm a few reasons why the lidar speeds are higher than the buoy speeds.</font>"
   ]
  },
  {
   "cell_type": "markdown",
   "metadata": {},
   "source": [
    "We could also compare the weekly averages by making a scatter plot and fitting a line to the data.\n",
    "\n",
    "<font color='blue'>Below, make a scatter plot of the weekly lidar averages versus the weekly buoy averages.</font>\n",
    "\n",
    "**Hint:** Most of the code is completed for you already, so you'll just need to fill in the parentheses in the `ax.scatter()` line. First type out the lidar wind speed column that you want to use (`weekly_lidar['wspd18m']`). Type a comma after that and then type out the buoy wind speed column (`weekly_buoy['WSPD']`)."
   ]
  },
  {
   "cell_type": "code",
   "execution_count": null,
   "metadata": {
    "id": "je-cqC9Ub-Aw"
   },
   "outputs": [],
   "source": [
    "# Set up figure for plotting\n",
    "fig, ax = plt.subplots(1, 1, figsize=(5,5))\n",
    "\n",
    "# Set axis labels\n",
    "ax.set_xlabel('Lidar Wind Speed [m/s]', fontsize=12)\n",
    "ax.set_ylabel('Buoy Wind Speed [m/s]', fontsize=12)\n",
    "\n",
    "# Set the axis limits\n",
    "ax.set_xlim(0,14)\n",
    "ax.set_ylim(0,14)\n",
    "\n",
    "# Plot a dashed 1:1 line in black with line width of 1\n",
    "ax.plot([0,14],[0,14],c='k',ls='--',lw=1)\n",
    "\n",
    "# Plot the data as a scatter plot\n",
    "ax.scatter(weekly_lidar['wspd18m'], weekly_buoy['WSPD'])\n",
    "\n",
    "# Show the figure\n",
    "plt.show()"
   ]
  },
  {
   "cell_type": "markdown",
   "metadata": {
    "id": "9eE4FMe8b-Aw"
   },
   "source": [
    "You'll notice that there is a dashed black line already plotted on the graph. This is a one-to-one line, which is just like plotting `y = x`. If the data fall on the one-to-one line, they they are very well correlated. In our case, they are all below that line, which means that the lidar wind speeds are greater than the buoy wind speeds. This is exactly what we saw before when we plotted them as functions of time. Let's now quantify the relationship we're seeing in the graph.\n",
    "\n",
    "We're going to use `numpy` for some of these calculations, so let's turn the two weekly averages into arrays, which will be easier to deal with.\n",
    "\n",
    "<font color='blue'>Run the following code to create the arrays.</font>"
   ]
  },
  {
   "cell_type": "code",
   "execution_count": null,
   "metadata": {
    "id": "-jV6mkzUb-Aw"
   },
   "outputs": [],
   "source": [
    "x = np.array(weekly_lidar['wspd18m'])\n",
    "y = np.array(weekly_buoy['WSPD'])"
   ]
  },
  {
   "cell_type": "markdown",
   "metadata": {
    "id": "jaEFzwCbb-Aw"
   },
   "source": [
    "Now, we want to use `np.polyfit` to fit a line to the data. This returns two values, `m` and `b`, which are the slope and intercept of a line, just like in the format: `y = mx + b`. Remember that we had a bunch of NaN's in the buoy dataset, so line 1 in the code block below ignores all infinite or NaN values.\n",
    "\n",
    "<font color='blue'>Run the following code to fit a polynomial to the data.</font>"
   ]
  },
  {
   "cell_type": "code",
   "execution_count": null,
   "metadata": {
    "id": "n24cjWwhb-Aw"
   },
   "outputs": [],
   "source": [
    "idx = np.isfinite(x) & np.isfinite(y)\n",
    "m, b = np.polyfit(x[idx], y[idx], 1)"
   ]
  },
  {
   "cell_type": "markdown",
   "metadata": {
    "id": "J9LnmN5Fb-Aw"
   },
   "source": [
    "Now let's plot!\n",
    "\n",
    "<font color='blue'>In the plotting line below, fill in the empty parentheses in `ax.plot()` to plot the new line. You'll want to plot it as `x, (m*x)+b`. Change the color of the line so it's easier to see.</font>"
   ]
  },
  {
   "cell_type": "code",
   "execution_count": null,
   "metadata": {
    "id": "jxLN6wQ0b-Aw"
   },
   "outputs": [],
   "source": [
    "# Set up figure for plotting\n",
    "fig, ax = plt.subplots(1, 1, figsize=(5,5))\n",
    "\n",
    "# Set axis labels\n",
    "ax.set_xlabel('Lidar Wind Speed [m/s]', fontsize=12)\n",
    "ax.set_ylabel('Buoy Wind Speed [m/s]', fontsize=12)\n",
    "\n",
    "# Set the axis limits\n",
    "ax.set_xlim(0,14)\n",
    "ax.set_ylim(0,14)\n",
    "\n",
    "# Plot a dashed 1:1 line in black with line width of 1\n",
    "ax.plot([0,14],[0,14],c='k',ls='--',lw=1)\n",
    "\n",
    "# Plot the data as a scatter plot\n",
    "ax.scatter(weekly_lidar['wspd18m'], weekly_buoy['WSPD'])\n",
    "\n",
    "# Plot the line of best fit\n",
    "ax.plot(x, (m*x)+b,'r')\n",
    "\n",
    "# Show the figure\n",
    "plt.show()"
   ]
  },
  {
   "cell_type": "markdown",
   "metadata": {
    "id": "mNg2tcyyb-Ay"
   },
   "source": [
    "This was a simple way to show that the data are not perfectly correlated because the one-to-one line and the line of best fit that we just plotted are different. There are more statistically rigorous ways of showing this, such as performing a linear regression. \n",
    "\n",
    "<font color='red'>As an extra challenge, try to perform a linear regression with a different technique and find the r$^2$ value.</font>"
   ]
  },
  {
   "cell_type": "code",
   "execution_count": null,
   "metadata": {},
   "outputs": [],
   "source": []
  }
 ],
 "metadata": {
  "colab": {
   "name": "day03_timeseries_challenge_ANSWERS.ipynb",
   "provenance": []
  },
  "kernelspec": {
   "display_name": "Python 3 (ipykernel)",
   "language": "python",
   "name": "python3"
  },
  "language_info": {
   "codemirror_mode": {
    "name": "ipython",
    "version": 3
   },
   "file_extension": ".py",
   "mimetype": "text/x-python",
   "name": "python",
   "nbconvert_exporter": "python",
   "pygments_lexer": "ipython3",
   "version": "3.8.16"
  }
 },
 "nbformat": 4,
 "nbformat_minor": 4
}
