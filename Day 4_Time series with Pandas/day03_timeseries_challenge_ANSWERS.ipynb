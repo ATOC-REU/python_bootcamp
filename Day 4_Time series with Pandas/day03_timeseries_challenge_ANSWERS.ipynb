{
 "cells": [
  {
   "cell_type": "markdown",
   "metadata": {
    "id": "REVdkHpEb-Ag"
   },
   "source": [
    "# Challenge: Compare data from lidar and a nearby buoy\n",
    "\n",
    "In today's challenge, your goal is to compare the lidar wind speed data (what we looked at this morning) to a new dataset from a nearby meteorological buoy.\n",
    "\n",
    "The lidar is located at 39.9695, -72.160. We can grab measurements from a meteorological buoy, courtesy of [NOAA National Data Buoy Center](https://www.ndbc.noaa.gov/). [Buoy 44025](https://www.ndbc.noaa.gov/station_history.php?station=44025) is at 40.251, -73.164.\n",
    "\n",
    "Your objectives are to:\n",
    "1. Read in and proccess the lidar data.\n",
    "2. Read in and process the buoy data.\n",
    "3. Plot the processed data.\n",
    "4. Compare the two datasets."
   ]
  },
  {
   "cell_type": "markdown",
   "metadata": {
    "id": "sxcs-cKob-Ai"
   },
   "source": [
    "## 1. Read in and process the lidar data\n",
    "\n",
    "In this step, repeat most of what you did this morning to read in the `lidar_winds.csv` file and prepare it for plotting.\n",
    "\n",
    "<font color='blue'>Begin by importing the libraries that you'll be using. You'll need the same four that you used this morning: `datetime`, `numpy`, `pandas`, and `matplotlib.pyplot`. You can just copy and paste this step from the notebook we used earlier if you'd like.</font>"
   ]
  },
  {
   "cell_type": "code",
   "execution_count": null,
   "metadata": {
    "id": "rOiP5Jbsb-Aj"
   },
   "outputs": [],
   "source": [
    "import datetime as datetime\n",
    "import numpy as np\n",
    "import pandas as pd\n",
    "import matplotlib.pyplot as plt"
   ]
  },
  {
   "cell_type": "markdown",
   "metadata": {
    "id": "o2B4beIzb-Aj"
   },
   "source": [
    "<font color='blue'>Read in the tabular data using `pandas`. Since you'll have two datasets, rather than calling the dataframe `df` like we did before, name it `df_lidar` so we can distinguish between the two datasets.</font>"
   ]
  },
  {
   "cell_type": "code",
   "execution_count": null,
   "metadata": {
    "id": "IhHbrhv4b-Aj"
   },
   "outputs": [],
   "source": [
    "df_lidar = pd.read_csv('lidar_winds.csv')"
   ]
  },
  {
   "cell_type": "markdown",
   "metadata": {
    "id": "BrsglX1fb-Ak"
   },
   "source": [
    "We've already looked at this dataset and we know what it looks like, so we can move right into setting the timestamps.\n",
    "\n",
    "<font color='blue'>Use `datetime` to convert the data in the `timestamp` column from an `object` format to a `datetime64` format.</font>"
   ]
  },
  {
   "cell_type": "code",
   "execution_count": null,
   "metadata": {
    "id": "YyG3GcKWb-Ak"
   },
   "outputs": [],
   "source": [
    "df_lidar['timestamp'] = pd.to_datetime(df_lidar['timestamp'])"
   ]
  },
  {
   "cell_type": "markdown",
   "metadata": {
    "id": "Rr6-pcEEb-Ak"
   },
   "source": [
    "<font color='blue'>Next, set the dataframe index as `timestamp`.</font>"
   ]
  },
  {
   "cell_type": "code",
   "execution_count": null,
   "metadata": {
    "id": "6YBmIz08b-Al"
   },
   "outputs": [],
   "source": [
    "df_lidar.set_index(df_lidar['timestamp'])"
   ]
  },
  {
   "cell_type": "markdown",
   "metadata": {
    "id": "iuVVk6lVb-Al"
   },
   "source": [
    "<font color='blue'>Finally, type the name of the dataframe (`df_lidar`) to view the final product.</font>"
   ]
  },
  {
   "cell_type": "code",
   "execution_count": null,
   "metadata": {
    "id": "COHOLtjqb-Al",
    "outputId": "a2f69ab1-7abf-45f0-fe4a-54e21a305ddd"
   },
   "outputs": [
    {
     "data": {
      "text/html": [
       "<div>\n",
       "<style scoped>\n",
       "    .dataframe tbody tr th:only-of-type {\n",
       "        vertical-align: middle;\n",
       "    }\n",
       "\n",
       "    .dataframe tbody tr th {\n",
       "        vertical-align: top;\n",
       "    }\n",
       "\n",
       "    .dataframe thead th {\n",
       "        text-align: right;\n",
       "    }\n",
       "</style>\n",
       "<table border=\"1\" class=\"dataframe\">\n",
       "  <thead>\n",
       "    <tr style=\"text-align: right;\">\n",
       "      <th></th>\n",
       "      <th>wspd18m</th>\n",
       "      <th>wspd38m</th>\n",
       "      <th>wspd58m</th>\n",
       "      <th>wspd78m</th>\n",
       "      <th>wspd98m</th>\n",
       "      <th>wspd118m</th>\n",
       "      <th>wspd138m</th>\n",
       "      <th>wspd158m</th>\n",
       "      <th>wspd178m</th>\n",
       "      <th>wspd198m</th>\n",
       "    </tr>\n",
       "    <tr>\n",
       "      <th>timestamp</th>\n",
       "      <th></th>\n",
       "      <th></th>\n",
       "      <th></th>\n",
       "      <th></th>\n",
       "      <th></th>\n",
       "      <th></th>\n",
       "      <th></th>\n",
       "      <th></th>\n",
       "      <th></th>\n",
       "      <th></th>\n",
       "    </tr>\n",
       "  </thead>\n",
       "  <tbody>\n",
       "    <tr>\n",
       "      <th>2019-08-12 00:00:00</th>\n",
       "      <td>7.2923</td>\n",
       "      <td>7.6785</td>\n",
       "      <td>7.6968</td>\n",
       "      <td>7.8280</td>\n",
       "      <td>7.8013</td>\n",
       "      <td>7.8933</td>\n",
       "      <td>7.8635</td>\n",
       "      <td>7.8858</td>\n",
       "      <td>7.9044</td>\n",
       "      <td>NaN</td>\n",
       "    </tr>\n",
       "    <tr>\n",
       "      <th>2019-08-12 00:10:00</th>\n",
       "      <td>7.8613</td>\n",
       "      <td>8.0330</td>\n",
       "      <td>8.0225</td>\n",
       "      <td>7.9279</td>\n",
       "      <td>7.9980</td>\n",
       "      <td>7.9306</td>\n",
       "      <td>8.1698</td>\n",
       "      <td>8.1405</td>\n",
       "      <td>8.0702</td>\n",
       "      <td>8.0487</td>\n",
       "    </tr>\n",
       "    <tr>\n",
       "      <th>2019-08-12 00:20:00</th>\n",
       "      <td>7.7594</td>\n",
       "      <td>7.9883</td>\n",
       "      <td>8.0180</td>\n",
       "      <td>8.1314</td>\n",
       "      <td>8.0906</td>\n",
       "      <td>8.1408</td>\n",
       "      <td>8.1291</td>\n",
       "      <td>8.0939</td>\n",
       "      <td>8.2030</td>\n",
       "      <td>8.1353</td>\n",
       "    </tr>\n",
       "    <tr>\n",
       "      <th>2019-08-12 00:30:00</th>\n",
       "      <td>7.4891</td>\n",
       "      <td>7.7554</td>\n",
       "      <td>7.7973</td>\n",
       "      <td>7.9551</td>\n",
       "      <td>7.9063</td>\n",
       "      <td>7.9964</td>\n",
       "      <td>7.9652</td>\n",
       "      <td>8.0749</td>\n",
       "      <td>8.0105</td>\n",
       "      <td>8.0792</td>\n",
       "    </tr>\n",
       "    <tr>\n",
       "      <th>2019-08-12 00:40:00</th>\n",
       "      <td>7.8829</td>\n",
       "      <td>8.0248</td>\n",
       "      <td>8.1332</td>\n",
       "      <td>8.1741</td>\n",
       "      <td>7.9927</td>\n",
       "      <td>8.1230</td>\n",
       "      <td>8.0443</td>\n",
       "      <td>8.1074</td>\n",
       "      <td>8.1969</td>\n",
       "      <td>8.1296</td>\n",
       "    </tr>\n",
       "    <tr>\n",
       "      <th>...</th>\n",
       "      <td>...</td>\n",
       "      <td>...</td>\n",
       "      <td>...</td>\n",
       "      <td>...</td>\n",
       "      <td>...</td>\n",
       "      <td>...</td>\n",
       "      <td>...</td>\n",
       "      <td>...</td>\n",
       "      <td>...</td>\n",
       "      <td>...</td>\n",
       "    </tr>\n",
       "    <tr>\n",
       "      <th>2021-03-21 23:10:00</th>\n",
       "      <td>1.7978</td>\n",
       "      <td>1.9557</td>\n",
       "      <td>2.0617</td>\n",
       "      <td>1.9270</td>\n",
       "      <td>1.3744</td>\n",
       "      <td>1.0722</td>\n",
       "      <td>0.9203</td>\n",
       "      <td>0.9038</td>\n",
       "      <td>0.9421</td>\n",
       "      <td>1.2546</td>\n",
       "    </tr>\n",
       "    <tr>\n",
       "      <th>2021-03-21 23:20:00</th>\n",
       "      <td>2.6771</td>\n",
       "      <td>2.8746</td>\n",
       "      <td>2.8993</td>\n",
       "      <td>2.9530</td>\n",
       "      <td>2.9098</td>\n",
       "      <td>2.6337</td>\n",
       "      <td>2.1869</td>\n",
       "      <td>1.7314</td>\n",
       "      <td>1.5436</td>\n",
       "      <td>1.6571</td>\n",
       "    </tr>\n",
       "    <tr>\n",
       "      <th>2021-03-21 23:30:00</th>\n",
       "      <td>3.2416</td>\n",
       "      <td>3.4077</td>\n",
       "      <td>3.5611</td>\n",
       "      <td>3.5823</td>\n",
       "      <td>3.5930</td>\n",
       "      <td>3.3885</td>\n",
       "      <td>2.9375</td>\n",
       "      <td>2.4509</td>\n",
       "      <td>2.2373</td>\n",
       "      <td>2.2883</td>\n",
       "    </tr>\n",
       "    <tr>\n",
       "      <th>2021-03-21 23:40:00</th>\n",
       "      <td>2.7582</td>\n",
       "      <td>2.9039</td>\n",
       "      <td>3.1269</td>\n",
       "      <td>3.4249</td>\n",
       "      <td>3.5028</td>\n",
       "      <td>3.1862</td>\n",
       "      <td>2.9139</td>\n",
       "      <td>2.7500</td>\n",
       "      <td>2.6825</td>\n",
       "      <td>2.6642</td>\n",
       "    </tr>\n",
       "    <tr>\n",
       "      <th>2021-03-21 23:50:00</th>\n",
       "      <td>2.5452</td>\n",
       "      <td>2.6611</td>\n",
       "      <td>3.0353</td>\n",
       "      <td>3.5475</td>\n",
       "      <td>3.4993</td>\n",
       "      <td>3.3521</td>\n",
       "      <td>3.1904</td>\n",
       "      <td>3.1565</td>\n",
       "      <td>3.2213</td>\n",
       "      <td>3.2293</td>\n",
       "    </tr>\n",
       "  </tbody>\n",
       "</table>\n",
       "<p>84396 rows × 10 columns</p>\n",
       "</div>"
      ],
      "text/plain": [
       "                     wspd18m  wspd38m  wspd58m  wspd78m  wspd98m  wspd118m  \\\n",
       "timestamp                                                                    \n",
       "2019-08-12 00:00:00   7.2923   7.6785   7.6968   7.8280   7.8013    7.8933   \n",
       "2019-08-12 00:10:00   7.8613   8.0330   8.0225   7.9279   7.9980    7.9306   \n",
       "2019-08-12 00:20:00   7.7594   7.9883   8.0180   8.1314   8.0906    8.1408   \n",
       "2019-08-12 00:30:00   7.4891   7.7554   7.7973   7.9551   7.9063    7.9964   \n",
       "2019-08-12 00:40:00   7.8829   8.0248   8.1332   8.1741   7.9927    8.1230   \n",
       "...                      ...      ...      ...      ...      ...       ...   \n",
       "2021-03-21 23:10:00   1.7978   1.9557   2.0617   1.9270   1.3744    1.0722   \n",
       "2021-03-21 23:20:00   2.6771   2.8746   2.8993   2.9530   2.9098    2.6337   \n",
       "2021-03-21 23:30:00   3.2416   3.4077   3.5611   3.5823   3.5930    3.3885   \n",
       "2021-03-21 23:40:00   2.7582   2.9039   3.1269   3.4249   3.5028    3.1862   \n",
       "2021-03-21 23:50:00   2.5452   2.6611   3.0353   3.5475   3.4993    3.3521   \n",
       "\n",
       "                     wspd138m  wspd158m  wspd178m  wspd198m  \n",
       "timestamp                                                    \n",
       "2019-08-12 00:00:00    7.8635    7.8858    7.9044       NaN  \n",
       "2019-08-12 00:10:00    8.1698    8.1405    8.0702    8.0487  \n",
       "2019-08-12 00:20:00    8.1291    8.0939    8.2030    8.1353  \n",
       "2019-08-12 00:30:00    7.9652    8.0749    8.0105    8.0792  \n",
       "2019-08-12 00:40:00    8.0443    8.1074    8.1969    8.1296  \n",
       "...                       ...       ...       ...       ...  \n",
       "2021-03-21 23:10:00    0.9203    0.9038    0.9421    1.2546  \n",
       "2021-03-21 23:20:00    2.1869    1.7314    1.5436    1.6571  \n",
       "2021-03-21 23:30:00    2.9375    2.4509    2.2373    2.2883  \n",
       "2021-03-21 23:40:00    2.9139    2.7500    2.6825    2.6642  \n",
       "2021-03-21 23:50:00    3.1904    3.1565    3.2213    3.2293  \n",
       "\n",
       "[84396 rows x 10 columns]"
      ]
     },
     "execution_count": 8,
     "metadata": {
      "tags": []
     },
     "output_type": "execute_result"
    }
   ],
   "source": [
    "df_lidar"
   ]
  },
  {
   "cell_type": "markdown",
   "metadata": {
    "id": "dMKLbmycb-Am"
   },
   "source": [
    "## 2. Read in and process the buoy data\n",
    "\n",
    "Now that you've had more practice reading in data, go ahead and read in and prepare the data from the meteorological data.\n",
    "\n",
    "The file is called `buoy_data.csv`, and it's the same file type as the lidar dataset. Therefore, you'll want to use `pandas` to process and analyze the data, just like you did earlier.\n",
    "\n",
    "We've given you the column names and units to help out a bit:\n",
    "\n",
    "Column units:\n",
    "* WDIR: degT\n",
    "* WSPD: m/s\n",
    "* GST: m/s\n",
    "* WHVT: m\n",
    "* DPD: sec\n",
    "* APD: sec\n",
    "* MWD: degT\n",
    "* PRES: hPa\n",
    "* ATMP: degC\n",
    "* WTMP: degC\n",
    "* DEWP: degC\n",
    "* VIS: mi\n",
    "* TIDE: ft\n",
    "\n",
    "<font color='blue'>Start by reading in the tabular data with `pandas`. Name the dataframe `df_buoy` so you don't get it confused with the lidar dataframe.</font>"
   ]
  },
  {
   "cell_type": "code",
   "execution_count": null,
   "metadata": {
    "id": "OwveqbUab-Am"
   },
   "outputs": [],
   "source": [
    "df_buoy = pd.read_csv('buoy_data.csv')"
   ]
  },
  {
   "cell_type": "markdown",
   "metadata": {
    "id": "ShboYa0hb-An"
   },
   "source": [
    "<font color='blue'>Just like we did this morning, use the `.head()` command to view the first 5 lines of the dataframe.</font>"
   ]
  },
  {
   "cell_type": "code",
   "execution_count": null,
   "metadata": {
    "id": "lpA-Mvgxb-An",
    "outputId": "538f8a6e-52f8-41e3-a3ff-c30bf763fcd2"
   },
   "outputs": [
    {
     "data": {
      "text/html": [
       "<div>\n",
       "<style scoped>\n",
       "    .dataframe tbody tr th:only-of-type {\n",
       "        vertical-align: middle;\n",
       "    }\n",
       "\n",
       "    .dataframe tbody tr th {\n",
       "        vertical-align: top;\n",
       "    }\n",
       "\n",
       "    .dataframe thead th {\n",
       "        text-align: right;\n",
       "    }\n",
       "</style>\n",
       "<table border=\"1\" class=\"dataframe\">\n",
       "  <thead>\n",
       "    <tr style=\"text-align: right;\">\n",
       "      <th></th>\n",
       "      <th>time</th>\n",
       "      <th>WDIR</th>\n",
       "      <th>WSPD</th>\n",
       "      <th>GST</th>\n",
       "      <th>WVHT</th>\n",
       "      <th>DPD</th>\n",
       "      <th>APD</th>\n",
       "      <th>MWD</th>\n",
       "      <th>PRES</th>\n",
       "      <th>ATMP</th>\n",
       "      <th>WTMP</th>\n",
       "      <th>DEWP</th>\n",
       "      <th>VIS</th>\n",
       "      <th>TIDE</th>\n",
       "    </tr>\n",
       "  </thead>\n",
       "  <tbody>\n",
       "    <tr>\n",
       "      <th>0</th>\n",
       "      <td>2019-01-01 00:50:00</td>\n",
       "      <td>135</td>\n",
       "      <td>11.3</td>\n",
       "      <td>14.1</td>\n",
       "      <td>1.56</td>\n",
       "      <td>5.56</td>\n",
       "      <td>4.71</td>\n",
       "      <td>153</td>\n",
       "      <td>1018.4</td>\n",
       "      <td>8.1</td>\n",
       "      <td>7.1</td>\n",
       "      <td>999.0</td>\n",
       "      <td>99.0</td>\n",
       "      <td>99.0</td>\n",
       "    </tr>\n",
       "    <tr>\n",
       "      <th>1</th>\n",
       "      <td>2019-01-01 01:50:00</td>\n",
       "      <td>127</td>\n",
       "      <td>11.2</td>\n",
       "      <td>14.0</td>\n",
       "      <td>1.92</td>\n",
       "      <td>5.88</td>\n",
       "      <td>5.09</td>\n",
       "      <td>135</td>\n",
       "      <td>1016.6</td>\n",
       "      <td>8.3</td>\n",
       "      <td>7.1</td>\n",
       "      <td>999.0</td>\n",
       "      <td>99.0</td>\n",
       "      <td>99.0</td>\n",
       "    </tr>\n",
       "    <tr>\n",
       "      <th>2</th>\n",
       "      <td>2019-01-01 02:50:00</td>\n",
       "      <td>137</td>\n",
       "      <td>12.7</td>\n",
       "      <td>15.3</td>\n",
       "      <td>2.23</td>\n",
       "      <td>6.25</td>\n",
       "      <td>5.22</td>\n",
       "      <td>143</td>\n",
       "      <td>1013.6</td>\n",
       "      <td>8.7</td>\n",
       "      <td>7.2</td>\n",
       "      <td>999.0</td>\n",
       "      <td>99.0</td>\n",
       "      <td>99.0</td>\n",
       "    </tr>\n",
       "    <tr>\n",
       "      <th>3</th>\n",
       "      <td>2019-01-01 03:50:00</td>\n",
       "      <td>150</td>\n",
       "      <td>13.7</td>\n",
       "      <td>16.9</td>\n",
       "      <td>2.52</td>\n",
       "      <td>6.67</td>\n",
       "      <td>5.49</td>\n",
       "      <td>148</td>\n",
       "      <td>1010.7</td>\n",
       "      <td>9.5</td>\n",
       "      <td>7.2</td>\n",
       "      <td>999.0</td>\n",
       "      <td>99.0</td>\n",
       "      <td>99.0</td>\n",
       "    </tr>\n",
       "    <tr>\n",
       "      <th>4</th>\n",
       "      <td>2019-01-01 04:50:00</td>\n",
       "      <td>168</td>\n",
       "      <td>9.5</td>\n",
       "      <td>11.2</td>\n",
       "      <td>2.77</td>\n",
       "      <td>7.14</td>\n",
       "      <td>5.75</td>\n",
       "      <td>141</td>\n",
       "      <td>1010.0</td>\n",
       "      <td>10.2</td>\n",
       "      <td>7.2</td>\n",
       "      <td>999.0</td>\n",
       "      <td>99.0</td>\n",
       "      <td>99.0</td>\n",
       "    </tr>\n",
       "  </tbody>\n",
       "</table>\n",
       "</div>"
      ],
      "text/plain": [
       "                  time  WDIR  WSPD   GST  WVHT   DPD   APD  MWD    PRES  ATMP  \\\n",
       "0  2019-01-01 00:50:00   135  11.3  14.1  1.56  5.56  4.71  153  1018.4   8.1   \n",
       "1  2019-01-01 01:50:00   127  11.2  14.0  1.92  5.88  5.09  135  1016.6   8.3   \n",
       "2  2019-01-01 02:50:00   137  12.7  15.3  2.23  6.25  5.22  143  1013.6   8.7   \n",
       "3  2019-01-01 03:50:00   150  13.7  16.9  2.52  6.67  5.49  148  1010.7   9.5   \n",
       "4  2019-01-01 04:50:00   168   9.5  11.2  2.77  7.14  5.75  141  1010.0  10.2   \n",
       "\n",
       "   WTMP   DEWP   VIS  TIDE  \n",
       "0   7.1  999.0  99.0  99.0  \n",
       "1   7.1  999.0  99.0  99.0  \n",
       "2   7.2  999.0  99.0  99.0  \n",
       "3   7.2  999.0  99.0  99.0  \n",
       "4   7.2  999.0  99.0  99.0  "
      ]
     },
     "execution_count": 33,
     "metadata": {
      "tags": []
     },
     "output_type": "execute_result"
    }
   ],
   "source": [
    "df_buoy.head()"
   ]
  },
  {
   "cell_type": "markdown",
   "metadata": {
    "id": "gBhTanuxb-An"
   },
   "source": [
    "This dataset has much more than just wind speed, which is the only type of measurement from the lidar. For now, let's just focus on the wind speed, which is abbreviated `WSPD` and is in units of meters per second (m/s).\n",
    "\n",
    "Let's check out the timestamp column to see what the current data type is.\n",
    "\n",
    "<font color='blue'>View the time column using the same method we used this morning.</font>"
   ]
  },
  {
   "cell_type": "code",
   "execution_count": null,
   "metadata": {
    "id": "qFRrO7cHb-An",
    "outputId": "afeb614d-f565-4584-acff-8fa4cce50e1f"
   },
   "outputs": [
    {
     "data": {
      "text/plain": [
       "0        2019-01-01 00:50:00\n",
       "1        2019-01-01 01:50:00\n",
       "2        2019-01-01 02:50:00\n",
       "3        2019-01-01 03:50:00\n",
       "4        2019-01-01 04:50:00\n",
       "                ...         \n",
       "45824    2020-12-31 23:10:00\n",
       "45825    2020-12-31 23:20:00\n",
       "45826    2020-12-31 23:30:00\n",
       "45827    2020-12-31 23:40:00\n",
       "45828    2020-12-31 23:50:00\n",
       "Name: time, Length: 45829, dtype: object"
      ]
     },
     "execution_count": 34,
     "metadata": {
      "tags": []
     },
     "output_type": "execute_result"
    }
   ],
   "source": [
    "df_buoy['time']"
   ]
  },
  {
   "cell_type": "markdown",
   "metadata": {
    "id": "z40RN1NDb-Ao"
   },
   "source": [
    "You should notice now that the data type (\"dtype\") is `object`. \n",
    "\n",
    "<font color='blue'>Use the same methods that we used this morning and in Step 1 to turn the timestamp into a `datetime64` format.</font>"
   ]
  },
  {
   "cell_type": "code",
   "execution_count": null,
   "metadata": {
    "id": "pw5zKBpLb-Ao"
   },
   "outputs": [],
   "source": [
    "df_buoy['time'] = pd.to_datetime(df_buoy['time'])"
   ]
  },
  {
   "cell_type": "markdown",
   "metadata": {
    "id": "gHjNjU-Ib-Ao"
   },
   "source": [
    "<font color='blue'>Now set the index as the newly formatted timestamps.</font>"
   ]
  },
  {
   "cell_type": "code",
   "execution_count": null,
   "metadata": {
    "id": "ETAfQfKtb-Ao"
   },
   "outputs": [],
   "source": [
    "df_buoy = df_buoy.set_index('time')"
   ]
  },
  {
   "cell_type": "markdown",
   "metadata": {
    "id": "5SpSlInkb-Ao"
   },
   "source": [
    "<font color='blue'>Finally, type the name of the dataframe (`df_buoy`) to view the final product.</font>"
   ]
  },
  {
   "cell_type": "code",
   "execution_count": null,
   "metadata": {
    "id": "Fni9Bgw4b-Ao",
    "outputId": "510520dd-b024-4d96-f04f-cb7cf57005a8"
   },
   "outputs": [
    {
     "data": {
      "text/html": [
       "<div>\n",
       "<style scoped>\n",
       "    .dataframe tbody tr th:only-of-type {\n",
       "        vertical-align: middle;\n",
       "    }\n",
       "\n",
       "    .dataframe tbody tr th {\n",
       "        vertical-align: top;\n",
       "    }\n",
       "\n",
       "    .dataframe thead th {\n",
       "        text-align: right;\n",
       "    }\n",
       "</style>\n",
       "<table border=\"1\" class=\"dataframe\">\n",
       "  <thead>\n",
       "    <tr style=\"text-align: right;\">\n",
       "      <th></th>\n",
       "      <th>WDIR</th>\n",
       "      <th>WSPD</th>\n",
       "      <th>GST</th>\n",
       "      <th>WVHT</th>\n",
       "      <th>DPD</th>\n",
       "      <th>APD</th>\n",
       "      <th>MWD</th>\n",
       "      <th>PRES</th>\n",
       "      <th>ATMP</th>\n",
       "      <th>WTMP</th>\n",
       "      <th>DEWP</th>\n",
       "      <th>VIS</th>\n",
       "      <th>TIDE</th>\n",
       "    </tr>\n",
       "    <tr>\n",
       "      <th>time</th>\n",
       "      <th></th>\n",
       "      <th></th>\n",
       "      <th></th>\n",
       "      <th></th>\n",
       "      <th></th>\n",
       "      <th></th>\n",
       "      <th></th>\n",
       "      <th></th>\n",
       "      <th></th>\n",
       "      <th></th>\n",
       "      <th></th>\n",
       "      <th></th>\n",
       "      <th></th>\n",
       "    </tr>\n",
       "  </thead>\n",
       "  <tbody>\n",
       "    <tr>\n",
       "      <th>2019-01-01 00:50:00</th>\n",
       "      <td>135</td>\n",
       "      <td>11.3</td>\n",
       "      <td>14.1</td>\n",
       "      <td>1.56</td>\n",
       "      <td>5.56</td>\n",
       "      <td>4.71</td>\n",
       "      <td>153</td>\n",
       "      <td>1018.4</td>\n",
       "      <td>8.1</td>\n",
       "      <td>7.1</td>\n",
       "      <td>999.0</td>\n",
       "      <td>99.0</td>\n",
       "      <td>99.0</td>\n",
       "    </tr>\n",
       "    <tr>\n",
       "      <th>2019-01-01 01:50:00</th>\n",
       "      <td>127</td>\n",
       "      <td>11.2</td>\n",
       "      <td>14.0</td>\n",
       "      <td>1.92</td>\n",
       "      <td>5.88</td>\n",
       "      <td>5.09</td>\n",
       "      <td>135</td>\n",
       "      <td>1016.6</td>\n",
       "      <td>8.3</td>\n",
       "      <td>7.1</td>\n",
       "      <td>999.0</td>\n",
       "      <td>99.0</td>\n",
       "      <td>99.0</td>\n",
       "    </tr>\n",
       "    <tr>\n",
       "      <th>2019-01-01 02:50:00</th>\n",
       "      <td>137</td>\n",
       "      <td>12.7</td>\n",
       "      <td>15.3</td>\n",
       "      <td>2.23</td>\n",
       "      <td>6.25</td>\n",
       "      <td>5.22</td>\n",
       "      <td>143</td>\n",
       "      <td>1013.6</td>\n",
       "      <td>8.7</td>\n",
       "      <td>7.2</td>\n",
       "      <td>999.0</td>\n",
       "      <td>99.0</td>\n",
       "      <td>99.0</td>\n",
       "    </tr>\n",
       "    <tr>\n",
       "      <th>2019-01-01 03:50:00</th>\n",
       "      <td>150</td>\n",
       "      <td>13.7</td>\n",
       "      <td>16.9</td>\n",
       "      <td>2.52</td>\n",
       "      <td>6.67</td>\n",
       "      <td>5.49</td>\n",
       "      <td>148</td>\n",
       "      <td>1010.7</td>\n",
       "      <td>9.5</td>\n",
       "      <td>7.2</td>\n",
       "      <td>999.0</td>\n",
       "      <td>99.0</td>\n",
       "      <td>99.0</td>\n",
       "    </tr>\n",
       "    <tr>\n",
       "      <th>2019-01-01 04:50:00</th>\n",
       "      <td>168</td>\n",
       "      <td>9.5</td>\n",
       "      <td>11.2</td>\n",
       "      <td>2.77</td>\n",
       "      <td>7.14</td>\n",
       "      <td>5.75</td>\n",
       "      <td>141</td>\n",
       "      <td>1010.0</td>\n",
       "      <td>10.2</td>\n",
       "      <td>7.2</td>\n",
       "      <td>999.0</td>\n",
       "      <td>99.0</td>\n",
       "      <td>99.0</td>\n",
       "    </tr>\n",
       "    <tr>\n",
       "      <th>...</th>\n",
       "      <td>...</td>\n",
       "      <td>...</td>\n",
       "      <td>...</td>\n",
       "      <td>...</td>\n",
       "      <td>...</td>\n",
       "      <td>...</td>\n",
       "      <td>...</td>\n",
       "      <td>...</td>\n",
       "      <td>...</td>\n",
       "      <td>...</td>\n",
       "      <td>...</td>\n",
       "      <td>...</td>\n",
       "      <td>...</td>\n",
       "    </tr>\n",
       "    <tr>\n",
       "      <th>2020-12-31 23:10:00</th>\n",
       "      <td>323</td>\n",
       "      <td>7.7</td>\n",
       "      <td>9.8</td>\n",
       "      <td>99.00</td>\n",
       "      <td>99.00</td>\n",
       "      <td>99.00</td>\n",
       "      <td>999</td>\n",
       "      <td>1024.0</td>\n",
       "      <td>999.0</td>\n",
       "      <td>9.0</td>\n",
       "      <td>999.0</td>\n",
       "      <td>99.0</td>\n",
       "      <td>99.0</td>\n",
       "    </tr>\n",
       "    <tr>\n",
       "      <th>2020-12-31 23:20:00</th>\n",
       "      <td>328</td>\n",
       "      <td>8.0</td>\n",
       "      <td>10.1</td>\n",
       "      <td>99.00</td>\n",
       "      <td>99.00</td>\n",
       "      <td>99.00</td>\n",
       "      <td>999</td>\n",
       "      <td>1024.2</td>\n",
       "      <td>999.0</td>\n",
       "      <td>9.0</td>\n",
       "      <td>999.0</td>\n",
       "      <td>99.0</td>\n",
       "      <td>99.0</td>\n",
       "    </tr>\n",
       "    <tr>\n",
       "      <th>2020-12-31 23:30:00</th>\n",
       "      <td>328</td>\n",
       "      <td>8.1</td>\n",
       "      <td>11.0</td>\n",
       "      <td>99.00</td>\n",
       "      <td>99.00</td>\n",
       "      <td>99.00</td>\n",
       "      <td>999</td>\n",
       "      <td>1024.1</td>\n",
       "      <td>999.0</td>\n",
       "      <td>9.0</td>\n",
       "      <td>999.0</td>\n",
       "      <td>99.0</td>\n",
       "      <td>99.0</td>\n",
       "    </tr>\n",
       "    <tr>\n",
       "      <th>2020-12-31 23:40:00</th>\n",
       "      <td>327</td>\n",
       "      <td>6.9</td>\n",
       "      <td>9.5</td>\n",
       "      <td>1.48</td>\n",
       "      <td>7.14</td>\n",
       "      <td>5.03</td>\n",
       "      <td>172</td>\n",
       "      <td>1024.2</td>\n",
       "      <td>999.0</td>\n",
       "      <td>9.0</td>\n",
       "      <td>999.0</td>\n",
       "      <td>99.0</td>\n",
       "      <td>99.0</td>\n",
       "    </tr>\n",
       "    <tr>\n",
       "      <th>2020-12-31 23:50:00</th>\n",
       "      <td>336</td>\n",
       "      <td>6.4</td>\n",
       "      <td>8.6</td>\n",
       "      <td>99.00</td>\n",
       "      <td>99.00</td>\n",
       "      <td>99.00</td>\n",
       "      <td>999</td>\n",
       "      <td>1024.4</td>\n",
       "      <td>999.0</td>\n",
       "      <td>9.0</td>\n",
       "      <td>999.0</td>\n",
       "      <td>99.0</td>\n",
       "      <td>99.0</td>\n",
       "    </tr>\n",
       "  </tbody>\n",
       "</table>\n",
       "<p>45829 rows × 13 columns</p>\n",
       "</div>"
      ],
      "text/plain": [
       "                     WDIR  WSPD   GST   WVHT    DPD    APD  MWD    PRES  \\\n",
       "time                                                                      \n",
       "2019-01-01 00:50:00   135  11.3  14.1   1.56   5.56   4.71  153  1018.4   \n",
       "2019-01-01 01:50:00   127  11.2  14.0   1.92   5.88   5.09  135  1016.6   \n",
       "2019-01-01 02:50:00   137  12.7  15.3   2.23   6.25   5.22  143  1013.6   \n",
       "2019-01-01 03:50:00   150  13.7  16.9   2.52   6.67   5.49  148  1010.7   \n",
       "2019-01-01 04:50:00   168   9.5  11.2   2.77   7.14   5.75  141  1010.0   \n",
       "...                   ...   ...   ...    ...    ...    ...  ...     ...   \n",
       "2020-12-31 23:10:00   323   7.7   9.8  99.00  99.00  99.00  999  1024.0   \n",
       "2020-12-31 23:20:00   328   8.0  10.1  99.00  99.00  99.00  999  1024.2   \n",
       "2020-12-31 23:30:00   328   8.1  11.0  99.00  99.00  99.00  999  1024.1   \n",
       "2020-12-31 23:40:00   327   6.9   9.5   1.48   7.14   5.03  172  1024.2   \n",
       "2020-12-31 23:50:00   336   6.4   8.6  99.00  99.00  99.00  999  1024.4   \n",
       "\n",
       "                      ATMP  WTMP   DEWP   VIS  TIDE  \n",
       "time                                                 \n",
       "2019-01-01 00:50:00    8.1   7.1  999.0  99.0  99.0  \n",
       "2019-01-01 01:50:00    8.3   7.1  999.0  99.0  99.0  \n",
       "2019-01-01 02:50:00    8.7   7.2  999.0  99.0  99.0  \n",
       "2019-01-01 03:50:00    9.5   7.2  999.0  99.0  99.0  \n",
       "2019-01-01 04:50:00   10.2   7.2  999.0  99.0  99.0  \n",
       "...                    ...   ...    ...   ...   ...  \n",
       "2020-12-31 23:10:00  999.0   9.0  999.0  99.0  99.0  \n",
       "2020-12-31 23:20:00  999.0   9.0  999.0  99.0  99.0  \n",
       "2020-12-31 23:30:00  999.0   9.0  999.0  99.0  99.0  \n",
       "2020-12-31 23:40:00  999.0   9.0  999.0  99.0  99.0  \n",
       "2020-12-31 23:50:00  999.0   9.0  999.0  99.0  99.0  \n",
       "\n",
       "[45829 rows x 13 columns]"
      ]
     },
     "execution_count": 37,
     "metadata": {
      "tags": []
     },
     "output_type": "execute_result"
    }
   ],
   "source": [
    "df_buoy"
   ]
  },
  {
   "cell_type": "markdown",
   "metadata": {
    "id": "LV9AVohZb-Ap"
   },
   "source": [
    "We checked out plots of the lidar data this morning, but we haven't taken a look at the buoy data yet. Let's go ahead and plot the buoy data to see what it looks like.\n",
    "\n",
    "<font color='blue'>In line 3, plot the buoy wind speed as a function of the index (which we already set as the time stamp).</font>"
   ]
  },
  {
   "cell_type": "code",
   "execution_count": null,
   "metadata": {
    "id": "qKIQQCg5b-Ap",
    "outputId": "769e6ded-3c82-4bd8-cd0d-3aa7d6255d0a"
   },
   "outputs": [
    {
     "data": {
      "image/png": "[encoded data removed]",
      "text/plain": [
       "<Figure size 576x216 with 1 Axes>"
      ]
     },
     "metadata": {
      "needs_background": "light",
      "tags": []
     },
     "output_type": "display_data"
    }
   ],
   "source": [
    "fig, ax = plt.subplots(1, 1, figsize=(8,3))\n",
    "\n",
    "ax.plot(df_buoy.index, df_buoy['WSPD'])\n",
    "\n",
    "ax.set_ylabel(\"Wind Speed [m/s]\", fontsize=12)\n",
    "ax.set_xlabel(\"Date\", fontsize=12)\n",
    "\n",
    "plt.show()"
   ]
  },
  {
   "cell_type": "markdown",
   "metadata": {
    "id": "AE6Jffn9b-Ap"
   },
   "source": [
    "Woah! What's going on with those really high values? Wind speeds of around 100 m/s (which is over 200 mph) seem a little high... Sometimes datasets use numbers like 99, 999, or -999 to denote missing or corrupt data. Sometimes it means that the instrument collecting the data malfunctioned or there was some issue with the measurements. Regardless, those readings make it difficult to view the more real record, which has wind speeds from 0 to about 20 m/s. Let's check to see what those values are by printing the maximum wind speed value.\n",
    "\n",
    "<text color='blue'>Type out `max(df_buoy['WSPD'])` to print the maximum value for that column.</text>"
   ]
  },
  {
   "cell_type": "code",
   "execution_count": null,
   "metadata": {
    "id": "8RoYi4Ykb-Ap",
    "outputId": "014cd1ad-fce0-4e16-9b34-51977fea1324"
   },
   "outputs": [
    {
     "data": {
      "text/plain": [
       "99.0"
      ]
     },
     "execution_count": 39,
     "metadata": {
      "tags": []
     },
     "output_type": "execute_result"
    }
   ],
   "source": [
    "max(df_buoy['WSPD'])"
   ]
  },
  {
   "cell_type": "markdown",
   "metadata": {
    "id": "MPVAClb8b-Aq"
   },
   "source": [
    "It looks like we'll need to change every value of 99 to something that `pandas` will ignore. This is important not only for plotting, but also for any statistics we use. Imagine how much higher the mean would be if we included a bunch of 99's in our calculation!\n",
    "\n",
    "There are many ways we could handle these data points, but in this example, we'll simply replace \"99\" wtih \"NaN\", which stands for \"not a number.\" NaN's are ignored when you plot or calculate statistics (though sometimes you have to specifically tell the function to ignore them).\n",
    "\n",
    "To replace \"99\" with \"NaN\", type and run the following line: `df_buoy = df_buoy.replace(99, np.nan)`"
   ]
  },
  {
   "cell_type": "code",
   "execution_count": null,
   "metadata": {
    "id": "LxqjJuO_b-Aq"
   },
   "outputs": [],
   "source": [
    "df_buoy = df_buoy.replace(99, np.nan)"
   ]
  },
  {
   "cell_type": "markdown",
   "metadata": {
    "id": "6DgQFZhvb-Aq"
   },
   "source": [
    "<font color='blue'>Plot the data again to see if that worked. You can copy and paste the code we used above to plot.</font>"
   ]
  },
  {
   "cell_type": "code",
   "execution_count": null,
   "metadata": {
    "id": "H4qntpT-b-Aq",
    "outputId": "a538af64-c6dc-44a1-8588-e7d615bc8c36"
   },
   "outputs": [
    {
     "data": {
      "image/png": "[encoded data removed]",
      "text/plain": [
       "<Figure size 576x216 with 1 Axes>"
      ]
     },
     "metadata": {
      "needs_background": "light",
      "tags": []
     },
     "output_type": "display_data"
    }
   ],
   "source": [
    "fig, ax = plt.subplots(1, 1, figsize=(8,3))\n",
    "\n",
    "ax.plot(df_buoy.index, df_buoy['WSPD'])\n",
    "\n",
    "ax.set_ylabel(\"Wind Speed [m/s]\", fontsize=12)\n",
    "ax.set_xlabel(\"Date\", fontsize=12)\n",
    "\n",
    "plt.show()"
   ]
  },
  {
   "cell_type": "markdown",
   "metadata": {
    "id": "nuCceu7jb-Ar"
   },
   "source": [
    "Success! Now instead of high values, you'll notice that there are gaps of missing data. Sometimes we'll fill those gaps in by interpolating across missing values, but for now we'll just keep those values as NaN's."
   ]
  },
  {
   "cell_type": "markdown",
   "metadata": {
    "id": "uZD3ZNkbb-Ar"
   },
   "source": [
    "## 3. Plot the data\n",
    "\n",
    "We have now successfully prepared our two datasets to plot and compare. The buoy wind speeds are only measured at a single altitude, while the lidar wind speeds are measured at a range of heights. Let's start by plotting the buoy wind speed and the lidar wind speed at the lowest altitude (18 m). \n",
    "\n",
    "<font color='blue'>In line 3, plot the lidar wind speed at 18 m, which is the column labeled `wspd18m` in the lidar dataframe. \n",
    "    \n",
    "In line 4, plot the buoy wind speed, which is the column labeled `WSPD` in the buoy dataframe.</font>"
   ]
  },
  {
   "cell_type": "code",
   "execution_count": null,
   "metadata": {
    "id": "WmqyeOZWb-Ar",
    "outputId": "0e59ae85-8fdf-4a1b-f193-3fd80985fd70"
   },
   "outputs": [
    {
     "data": {
      "image/png": "[encoded data removed]",
      "text/plain": [
       "<Figure size 576x216 with 1 Axes>"
      ]
     },
     "metadata": {
      "needs_background": "light",
      "tags": []
     },
     "output_type": "display_data"
    }
   ],
   "source": [
    "fig, ax = plt.subplots(1, 1, figsize=(8,3))\n",
    "\n",
    "ax.plot(df_lidar.index, df_lidar['wspd18m'])\n",
    "ax.plot(df_buoy.index, df_buoy['WSPD'])\n",
    "\n",
    "ax.set_ylabel(\"Wind Speed [m/s]\", fontsize=12)\n",
    "ax.set_xlabel(\"Date\", fontsize=12)\n",
    "\n",
    "plt.show()"
   ]
  },
  {
   "cell_type": "markdown",
   "metadata": {
    "id": "Kbgl54LUb-Ar"
   },
   "source": [
    "We should now have one plot with both measured wind speeds. However, we don't have any labels so it's hard to tell which record is which. Let's go ahead and label them and then add a legend. To do so, complete the following steps in the code block below:\n",
    "<font color='blue'>\n",
    "1. In line 3, before the `)`, type `, label='Lidar'`.\n",
    "2. In line 4, before the `)`, type `, label='Buoy'`.\n",
    "3. In line 9, type `plt.legend()`.\n",
    "</font>"
   ]
  },
  {
   "cell_type": "code",
   "execution_count": null,
   "metadata": {
    "id": "zdEmYrJub-As",
    "outputId": "342a9d93-f9fc-4cbb-fe51-21dc5d7c00cb"
   },
   "outputs": [
    {
     "data": {
      "image/png": "[encoded data removed]",
      "text/plain": [
       "<Figure size 576x216 with 1 Axes>"
      ]
     },
     "metadata": {
      "needs_background": "light",
      "tags": []
     },
     "output_type": "display_data"
    }
   ],
   "source": [
    "fig, ax = plt.subplots(1, 1, figsize=(8,3))\n",
    "\n",
    "ax.plot(df_lidar.index, df_lidar['wspd18m'], label='Lidar')\n",
    "ax.plot(df_buoy.index, df_buoy['WSPD'], label='Buoy')\n",
    "\n",
    "ax.set_ylabel(\"Wind Speed [m/s]\", fontsize=12)\n",
    "ax.set_xlabel(\"Date\", fontsize=12)\n",
    "\n",
    "plt.legend()\n",
    "\n",
    "plt.show()"
   ]
  },
  {
   "cell_type": "markdown",
   "metadata": {
    "id": "kQ9yedHub-As"
   },
   "source": [
    "Now we can see which plot is which! You might notice now that the records do not cover the same time periods. To make it easier to compare the two records, let's select the overlapping time period. It looks like the lidar record begins after the buoy record, so let's find the start date of the lidar.\n",
    "\n",
    "<font color='blue'>Print the first 5 lines of the lidar dataframe using `.head()`.</font>"
   ]
  },
  {
   "cell_type": "code",
   "execution_count": null,
   "metadata": {
    "id": "o-Ld9UNTb-As",
    "outputId": "03472413-8b69-4449-8a08-3a78dd52a250"
   },
   "outputs": [
    {
     "data": {
      "text/html": [
       "<div>\n",
       "<style scoped>\n",
       "    .dataframe tbody tr th:only-of-type {\n",
       "        vertical-align: middle;\n",
       "    }\n",
       "\n",
       "    .dataframe tbody tr th {\n",
       "        vertical-align: top;\n",
       "    }\n",
       "\n",
       "    .dataframe thead th {\n",
       "        text-align: right;\n",
       "    }\n",
       "</style>\n",
       "<table border=\"1\" class=\"dataframe\">\n",
       "  <thead>\n",
       "    <tr style=\"text-align: right;\">\n",
       "      <th></th>\n",
       "      <th>wspd18m</th>\n",
       "      <th>wspd38m</th>\n",
       "      <th>wspd58m</th>\n",
       "      <th>wspd78m</th>\n",
       "      <th>wspd98m</th>\n",
       "      <th>wspd118m</th>\n",
       "      <th>wspd138m</th>\n",
       "      <th>wspd158m</th>\n",
       "      <th>wspd178m</th>\n",
       "      <th>wspd198m</th>\n",
       "    </tr>\n",
       "    <tr>\n",
       "      <th>timestamp</th>\n",
       "      <th></th>\n",
       "      <th></th>\n",
       "      <th></th>\n",
       "      <th></th>\n",
       "      <th></th>\n",
       "      <th></th>\n",
       "      <th></th>\n",
       "      <th></th>\n",
       "      <th></th>\n",
       "      <th></th>\n",
       "    </tr>\n",
       "  </thead>\n",
       "  <tbody>\n",
       "    <tr>\n",
       "      <th>2019-08-12 00:00:00</th>\n",
       "      <td>7.2923</td>\n",
       "      <td>7.6785</td>\n",
       "      <td>7.6968</td>\n",
       "      <td>7.8280</td>\n",
       "      <td>7.8013</td>\n",
       "      <td>7.8933</td>\n",
       "      <td>7.8635</td>\n",
       "      <td>7.8858</td>\n",
       "      <td>7.9044</td>\n",
       "      <td>NaN</td>\n",
       "    </tr>\n",
       "    <tr>\n",
       "      <th>2019-08-12 00:10:00</th>\n",
       "      <td>7.8613</td>\n",
       "      <td>8.0330</td>\n",
       "      <td>8.0225</td>\n",
       "      <td>7.9279</td>\n",
       "      <td>7.9980</td>\n",
       "      <td>7.9306</td>\n",
       "      <td>8.1698</td>\n",
       "      <td>8.1405</td>\n",
       "      <td>8.0702</td>\n",
       "      <td>8.0487</td>\n",
       "    </tr>\n",
       "    <tr>\n",
       "      <th>2019-08-12 00:20:00</th>\n",
       "      <td>7.7594</td>\n",
       "      <td>7.9883</td>\n",
       "      <td>8.0180</td>\n",
       "      <td>8.1314</td>\n",
       "      <td>8.0906</td>\n",
       "      <td>8.1408</td>\n",
       "      <td>8.1291</td>\n",
       "      <td>8.0939</td>\n",
       "      <td>8.2030</td>\n",
       "      <td>8.1353</td>\n",
       "    </tr>\n",
       "    <tr>\n",
       "      <th>2019-08-12 00:30:00</th>\n",
       "      <td>7.4891</td>\n",
       "      <td>7.7554</td>\n",
       "      <td>7.7973</td>\n",
       "      <td>7.9551</td>\n",
       "      <td>7.9063</td>\n",
       "      <td>7.9964</td>\n",
       "      <td>7.9652</td>\n",
       "      <td>8.0749</td>\n",
       "      <td>8.0105</td>\n",
       "      <td>8.0792</td>\n",
       "    </tr>\n",
       "    <tr>\n",
       "      <th>2019-08-12 00:40:00</th>\n",
       "      <td>7.8829</td>\n",
       "      <td>8.0248</td>\n",
       "      <td>8.1332</td>\n",
       "      <td>8.1741</td>\n",
       "      <td>7.9927</td>\n",
       "      <td>8.1230</td>\n",
       "      <td>8.0443</td>\n",
       "      <td>8.1074</td>\n",
       "      <td>8.1969</td>\n",
       "      <td>8.1296</td>\n",
       "    </tr>\n",
       "  </tbody>\n",
       "</table>\n",
       "</div>"
      ],
      "text/plain": [
       "                     wspd18m  wspd38m  wspd58m  wspd78m  wspd98m  wspd118m  \\\n",
       "timestamp                                                                    \n",
       "2019-08-12 00:00:00   7.2923   7.6785   7.6968   7.8280   7.8013    7.8933   \n",
       "2019-08-12 00:10:00   7.8613   8.0330   8.0225   7.9279   7.9980    7.9306   \n",
       "2019-08-12 00:20:00   7.7594   7.9883   8.0180   8.1314   8.0906    8.1408   \n",
       "2019-08-12 00:30:00   7.4891   7.7554   7.7973   7.9551   7.9063    7.9964   \n",
       "2019-08-12 00:40:00   7.8829   8.0248   8.1332   8.1741   7.9927    8.1230   \n",
       "\n",
       "                     wspd138m  wspd158m  wspd178m  wspd198m  \n",
       "timestamp                                                    \n",
       "2019-08-12 00:00:00    7.8635    7.8858    7.9044       NaN  \n",
       "2019-08-12 00:10:00    8.1698    8.1405    8.0702    8.0487  \n",
       "2019-08-12 00:20:00    8.1291    8.0939    8.2030    8.1353  \n",
       "2019-08-12 00:30:00    7.9652    8.0749    8.0105    8.0792  \n",
       "2019-08-12 00:40:00    8.0443    8.1074    8.1969    8.1296  "
      ]
     },
     "execution_count": 49,
     "metadata": {
      "tags": []
     },
     "output_type": "execute_result"
    }
   ],
   "source": [
    "df_lidar.head()"
   ]
  },
  {
   "cell_type": "markdown",
   "metadata": {
    "id": "BJtWNwEBb-As"
   },
   "source": [
    "The first timestamp shows us that the first measurement was on 12 August 2019 at midnight. Therefore, we'll want to trim the buoy dataframe to start at that same date. \n",
    "\n",
    "<font color='blue'>Type out and run the following line to ignore all buoy data before 12 August 2019: `df_buoy = df_buoy.loc['2019-8-12':]`</font>"
   ]
  },
  {
   "cell_type": "code",
   "execution_count": null,
   "metadata": {
    "id": "8ZMkY6cub-At"
   },
   "outputs": [],
   "source": [
    "df_buoy = df_buoy.loc['2019-8-12':]"
   ]
  },
  {
   "cell_type": "markdown",
   "metadata": {
    "id": "SCf0h2HHb-At"
   },
   "source": [
    "Now the start dates should be the same, but the end dates are different. The buoy dataset ends before the lidar, so let's find the last date of the buoy measurements.\n",
    "\n",
    "<font color='blue'>Print the last 5 lines of the buoy dataframe using `.tail()`.</font>"
   ]
  },
  {
   "cell_type": "code",
   "execution_count": null,
   "metadata": {
    "id": "bzUanrnMb-At",
    "outputId": "eacde0a1-e796-4ad7-f309-ecbf6dfa11d2"
   },
   "outputs": [
    {
     "data": {
      "text/html": [
       "<div>\n",
       "<style scoped>\n",
       "    .dataframe tbody tr th:only-of-type {\n",
       "        vertical-align: middle;\n",
       "    }\n",
       "\n",
       "    .dataframe tbody tr th {\n",
       "        vertical-align: top;\n",
       "    }\n",
       "\n",
       "    .dataframe thead th {\n",
       "        text-align: right;\n",
       "    }\n",
       "</style>\n",
       "<table border=\"1\" class=\"dataframe\">\n",
       "  <thead>\n",
       "    <tr style=\"text-align: right;\">\n",
       "      <th></th>\n",
       "      <th>WDIR</th>\n",
       "      <th>WSPD</th>\n",
       "      <th>GST</th>\n",
       "      <th>WVHT</th>\n",
       "      <th>DPD</th>\n",
       "      <th>APD</th>\n",
       "      <th>MWD</th>\n",
       "      <th>PRES</th>\n",
       "      <th>ATMP</th>\n",
       "      <th>WTMP</th>\n",
       "      <th>DEWP</th>\n",
       "      <th>VIS</th>\n",
       "      <th>TIDE</th>\n",
       "    </tr>\n",
       "    <tr>\n",
       "      <th>time</th>\n",
       "      <th></th>\n",
       "      <th></th>\n",
       "      <th></th>\n",
       "      <th></th>\n",
       "      <th></th>\n",
       "      <th></th>\n",
       "      <th></th>\n",
       "      <th></th>\n",
       "      <th></th>\n",
       "      <th></th>\n",
       "      <th></th>\n",
       "      <th></th>\n",
       "      <th></th>\n",
       "    </tr>\n",
       "  </thead>\n",
       "  <tbody>\n",
       "    <tr>\n",
       "      <th>2020-12-31 23:10:00</th>\n",
       "      <td>323.0</td>\n",
       "      <td>7.7</td>\n",
       "      <td>9.8</td>\n",
       "      <td>NaN</td>\n",
       "      <td>NaN</td>\n",
       "      <td>NaN</td>\n",
       "      <td>999.0</td>\n",
       "      <td>1024.0</td>\n",
       "      <td>999.0</td>\n",
       "      <td>9.0</td>\n",
       "      <td>999.0</td>\n",
       "      <td>NaN</td>\n",
       "      <td>NaN</td>\n",
       "    </tr>\n",
       "    <tr>\n",
       "      <th>2020-12-31 23:20:00</th>\n",
       "      <td>328.0</td>\n",
       "      <td>8.0</td>\n",
       "      <td>10.1</td>\n",
       "      <td>NaN</td>\n",
       "      <td>NaN</td>\n",
       "      <td>NaN</td>\n",
       "      <td>999.0</td>\n",
       "      <td>1024.2</td>\n",
       "      <td>999.0</td>\n",
       "      <td>9.0</td>\n",
       "      <td>999.0</td>\n",
       "      <td>NaN</td>\n",
       "      <td>NaN</td>\n",
       "    </tr>\n",
       "    <tr>\n",
       "      <th>2020-12-31 23:30:00</th>\n",
       "      <td>328.0</td>\n",
       "      <td>8.1</td>\n",
       "      <td>11.0</td>\n",
       "      <td>NaN</td>\n",
       "      <td>NaN</td>\n",
       "      <td>NaN</td>\n",
       "      <td>999.0</td>\n",
       "      <td>1024.1</td>\n",
       "      <td>999.0</td>\n",
       "      <td>9.0</td>\n",
       "      <td>999.0</td>\n",
       "      <td>NaN</td>\n",
       "      <td>NaN</td>\n",
       "    </tr>\n",
       "    <tr>\n",
       "      <th>2020-12-31 23:40:00</th>\n",
       "      <td>327.0</td>\n",
       "      <td>6.9</td>\n",
       "      <td>9.5</td>\n",
       "      <td>1.48</td>\n",
       "      <td>7.14</td>\n",
       "      <td>5.03</td>\n",
       "      <td>172.0</td>\n",
       "      <td>1024.2</td>\n",
       "      <td>999.0</td>\n",
       "      <td>9.0</td>\n",
       "      <td>999.0</td>\n",
       "      <td>NaN</td>\n",
       "      <td>NaN</td>\n",
       "    </tr>\n",
       "    <tr>\n",
       "      <th>2020-12-31 23:50:00</th>\n",
       "      <td>336.0</td>\n",
       "      <td>6.4</td>\n",
       "      <td>8.6</td>\n",
       "      <td>NaN</td>\n",
       "      <td>NaN</td>\n",
       "      <td>NaN</td>\n",
       "      <td>999.0</td>\n",
       "      <td>1024.4</td>\n",
       "      <td>999.0</td>\n",
       "      <td>9.0</td>\n",
       "      <td>999.0</td>\n",
       "      <td>NaN</td>\n",
       "      <td>NaN</td>\n",
       "    </tr>\n",
       "  </tbody>\n",
       "</table>\n",
       "</div>"
      ],
      "text/plain": [
       "                      WDIR  WSPD   GST  WVHT   DPD   APD    MWD    PRES  \\\n",
       "time                                                                      \n",
       "2020-12-31 23:10:00  323.0   7.7   9.8   NaN   NaN   NaN  999.0  1024.0   \n",
       "2020-12-31 23:20:00  328.0   8.0  10.1   NaN   NaN   NaN  999.0  1024.2   \n",
       "2020-12-31 23:30:00  328.0   8.1  11.0   NaN   NaN   NaN  999.0  1024.1   \n",
       "2020-12-31 23:40:00  327.0   6.9   9.5  1.48  7.14  5.03  172.0  1024.2   \n",
       "2020-12-31 23:50:00  336.0   6.4   8.6   NaN   NaN   NaN  999.0  1024.4   \n",
       "\n",
       "                      ATMP  WTMP   DEWP  VIS  TIDE  \n",
       "time                                                \n",
       "2020-12-31 23:10:00  999.0   9.0  999.0  NaN   NaN  \n",
       "2020-12-31 23:20:00  999.0   9.0  999.0  NaN   NaN  \n",
       "2020-12-31 23:30:00  999.0   9.0  999.0  NaN   NaN  \n",
       "2020-12-31 23:40:00  999.0   9.0  999.0  NaN   NaN  \n",
       "2020-12-31 23:50:00  999.0   9.0  999.0  NaN   NaN  "
      ]
     },
     "execution_count": 56,
     "metadata": {
      "tags": []
     },
     "output_type": "execute_result"
    }
   ],
   "source": [
    "df_buoy.tail()"
   ]
  },
  {
   "cell_type": "markdown",
   "metadata": {
    "id": "fePyQvgYb-At"
   },
   "source": [
    "The last measurement is on 31 December 2020, so let's trim the lidar dataframe to end on that date. \n",
    "\n",
    "<font color='blue'>Use the same method that we used to trim the buoy dataset to now trim the lidar data.</font>\n",
    "\n",
    "**Hint:** When we trimmed the buoy data, we wanted all of the data *after* a certain date so we used the format `['date':]`. If we want all of the data *before* a certain date, we should use the format `[:'date']`."
   ]
  },
  {
   "cell_type": "code",
   "execution_count": null,
   "metadata": {
    "id": "bN8ieCZGb-At"
   },
   "outputs": [],
   "source": [
    "df_lidar = df_lidar.loc[:'2020-12-31']"
   ]
  },
  {
   "cell_type": "markdown",
   "metadata": {
    "id": "NUKpxkP5b-Au"
   },
   "source": [
    "Now that the datasets are the same lengths, let's plot them again and see how they look.\n",
    "\n",
    "<font color='blue'>Copy and paste the block of code that we used to plot both wind speeds below.</font>"
   ]
  },
  {
   "cell_type": "code",
   "execution_count": null,
   "metadata": {
    "id": "n9Riv4iTb-Au",
    "outputId": "40522e78-ab4a-4f2c-e32c-53fd0a1ac65b"
   },
   "outputs": [
    {
     "data": {
      "image/png": "[encoded data removed]",
      "text/plain": [
       "<Figure size 576x216 with 1 Axes>"
      ]
     },
     "metadata": {
      "needs_background": "light",
      "tags": []
     },
     "output_type": "display_data"
    }
   ],
   "source": [
    "fig, ax = plt.subplots(1, 1, figsize=(8,3))\n",
    "\n",
    "ax.plot(df_lidar.index, df_lidar['wspd18m'], label='Lidar')\n",
    "ax.plot(df_buoy.index, df_buoy['WSPD'], label='Buoy')\n",
    "\n",
    "ax.set_ylabel(\"Wind Speed [m/s]\", fontsize=12)\n",
    "ax.set_xlabel(\"Date\", fontsize=12)\n",
    "\n",
    "plt.legend()\n",
    "\n",
    "plt.show()"
   ]
  },
  {
   "cell_type": "markdown",
   "metadata": {
    "id": "CAK8cRsDb-Au"
   },
   "source": [
    "## 4. Compare the two datasets\n",
    "\n",
    "So far we've been processing the two datasets, preparing them for plotting, and getting ready to compare them. Now let's actually compare the two using some basic statistics. There are an infinite number of statistical measures we could use to compare the records. For now, we'll stick to just a few, but you're more than welcome to use any other methods you're familiar with.\n",
    "\n",
    "Let's start by looking at the averages of lidar versus the buoy wind speed. In the code below, line 1 calculates the average of the lidar wind speeds at 18 m."
   ]
  },
  {
   "cell_type": "code",
   "execution_count": null,
   "metadata": {
    "colab": {
     "base_uri": "https://localhost:8080/",
     "height": 164
    },
    "executionInfo": {
     "elapsed": 220,
     "status": "error",
     "timestamp": 1629740189150,
     "user": {
      "displayName": "Becca Baiman",
      "photoUrl": "",
      "userId": "10120374032708320775"
     },
     "user_tz": 360
    },
    "id": "yYIvEb65b-Au",
    "outputId": "f512cca3-7f85-405b-9fd9-c8717912b1e3"
   },
   "outputs": [
    {
     "ename": "NameError",
     "evalue": "ignored",
     "output_type": "error",
     "traceback": [
      "\u001b[0;31m---------------------------------------------------------------------------\u001b[0m",
      "\u001b[0;31mNameError\u001b[0m                                 Traceback (most recent call last)",
      "\u001b[0;32m<ipython-input-1-57d75ffa2cf2>\u001b[0m in \u001b[0;36m<module>\u001b[0;34m()\u001b[0m\n\u001b[0;32m----> 1\u001b[0;31m \u001b[0mdf_lidar\u001b[0m\u001b[0;34m[\u001b[0m\u001b[0;34m'wspd18m'\u001b[0m\u001b[0;34m]\u001b[0m\u001b[0;34m.\u001b[0m\u001b[0mmean\u001b[0m\u001b[0;34m(\u001b[0m\u001b[0;34m)\u001b[0m\u001b[0;34m\u001b[0m\u001b[0;34m\u001b[0m\u001b[0m\n\u001b[0m",
      "\u001b[0;31mNameError\u001b[0m: name 'df_lidar' is not defined"
     ]
    }
   ],
   "source": [
    "df_lidar['wspd18m'].mean()"
   ]
  },
  {
   "cell_type": "markdown",
   "metadata": {
    "id": "5nQPkD9Vb-Au"
   },
   "source": [
    "<font color='blue'>Use the same method to find the average of the buoy data.</font>"
   ]
  },
  {
   "cell_type": "code",
   "execution_count": null,
   "metadata": {
    "id": "zqWqJk_zb-Au"
   },
   "outputs": [],
   "source": [
    "df_buoy['WSPD'].mean()"
   ]
  },
  {
   "cell_type": "markdown",
   "metadata": {
    "id": "IlVTzx6mb-Av"
   },
   "source": [
    "The lidar average is higher than the buoy average, but let's take a look at the whole records again. This morning, we smoothed the data by averaging winds every week. Let's try that again so we can more easily view the data.\n",
    "\n",
    "<font color='blue'>For both datasets, find the weekly averages using `.resample()` and `.mean()` like we did this morning. Name the weekly averages `weekly_lidar` and `weekly_buoy`.</font>"
   ]
  },
  {
   "cell_type": "code",
   "execution_count": null,
   "metadata": {
    "id": "ubQyGDQwb-Av"
   },
   "outputs": [],
   "source": [
    "weekly_lidar = df_lidar.resample('W').mean()\n",
    "weekly_buoy = df_buoy.resample('W').mean()"
   ]
  },
  {
   "cell_type": "markdown",
   "metadata": {
    "id": "tVmiUkJYb-Av"
   },
   "source": [
    "<font color='blue'>Now plot the weekly averages for both the lidar and the buoy data on the same plot.</font>"
   ]
  },
  {
   "cell_type": "code",
   "execution_count": null,
   "metadata": {
    "id": "jHHuueMxb-Av"
   },
   "outputs": [],
   "source": [
    "fig, ax = plt.subplots(1, 1, figsize=(8,3))\n",
    "\n",
    "ax.plot(weekly_lidar.index, weekly_lidar['wspd18m'], label='Lidar')\n",
    "ax.plot(weekly_buoy.index, weekly_buoy['WSPD'], label='Buoy')\n",
    "\n",
    "ax.set_ylabel(\"Wind Speed [m/s]\", fontsize=12)\n",
    "ax.set_xlabel(\"Date\", fontsize=12)\n",
    "\n",
    "plt.legend()\n",
    "\n",
    "plt.show()"
   ]
  },
  {
   "cell_type": "markdown",
   "metadata": {
    "id": "Z01ftr-Ab-Av"
   },
   "source": [
    "It looks like the lidar wind speeds are consistently higher than the buoy wind speeds. Perhaps that's because the lidar measurements are taken at a slightly higher altitude where wind speeds are generally higher. We could also compare the weekly averages by making a scatter plot and fitting a line to the data.\n",
    "\n",
    "<font color='blue'>In line 3 below, make a scatter plot of the weekly lidar averages versus the weekly buoy averages.</font>\n",
    "\n",
    "**Hint:** Most of the code is completed for you already, so you'll just need to fill in the parentheses in line 3. First type out the lidar wind speed column you want to use (`weekly_lidar['wspd18m']`). Type a comma after that and then type out the buoy wind speed column (`weekly_buoy['WSPD']`)."
   ]
  },
  {
   "cell_type": "code",
   "execution_count": null,
   "metadata": {
    "id": "je-cqC9Ub-Aw"
   },
   "outputs": [],
   "source": [
    "fig, ax = plt.subplots(1, 1, figsize=(5,5))\n",
    "\n",
    "ax.scatter(weekly_lidar['wspd18m'], weekly_buoy['WSPD'])\n",
    "\n",
    "ax.plot([0,14],[0,14],'k')\n",
    "\n",
    "ax.set_xlim(0,14)\n",
    "ax.set_ylim(0,14)\n",
    "\n",
    "ax.set_xlabel('Lidar Wind Speed [m/s]', fontsize=12)\n",
    "ax.set_ylabel('Buoy Wind Speed [m/s]', fontsize=12)\n",
    "\n",
    "plt.show()"
   ]
  },
  {
   "cell_type": "markdown",
   "metadata": {
    "id": "9eE4FMe8b-Aw"
   },
   "source": [
    "You'll notice that there is a black line already plotted on the graph. This is a one-to-one line, which is just like plotting `y = x`. If the data fall on the one-to-one line, they they are very well correlated. In our case, they are all below that line, which means that the lidar wind speeds are greater than the buoy wind speeds. This is exactly what we saw before when we plotted them as functions of time. Let's now quantify the relationship we're seeing in the graph.\n",
    "\n",
    "We're going to use `numpy` for some of these calculations, so let's turn the two weekly averages into arrays, which will be easier to deal with.\n",
    "\n",
    "<font color='blue'>Run the following code to create the arrays.</font>"
   ]
  },
  {
   "cell_type": "code",
   "execution_count": null,
   "metadata": {
    "id": "-jV6mkzUb-Aw"
   },
   "outputs": [],
   "source": [
    "x = np.array(weekly_lidar['wspd18m'])\n",
    "y = np.array(weekly_buoy['WSPD'])"
   ]
  },
  {
   "cell_type": "markdown",
   "metadata": {
    "id": "jaEFzwCbb-Aw"
   },
   "source": [
    "Now, we want to use `np.polyfit` to fit a line to the data. This returns two values, `m` and `b`, which are the slope and intercept of a line, just like in the format: `y = mx + b`. Remember that we had a bunch of NaN's in the buoy dataset, so line 1 in the code block below ignores all infinite or NaN values.\n",
    "\n",
    "<font color='blue'>Run the following code to fit a polynomial to the data.</font>"
   ]
  },
  {
   "cell_type": "code",
   "execution_count": null,
   "metadata": {
    "id": "n24cjWwhb-Aw"
   },
   "outputs": [],
   "source": [
    "idx = np.isfinite(x) & np.isfinite(y)\n",
    "m, b = np.polyfit(x[idx], y[idx], 1)"
   ]
  },
  {
   "cell_type": "markdown",
   "metadata": {
    "id": "J9LnmN5Fb-Aw"
   },
   "source": [
    "Now let's plot!\n",
    "\n",
    "<font color='blue'>In line 7, fill in the parentheses to plot the new line. You'll want to plot it as `x, (m*x)+b`.</font>"
   ]
  },
  {
   "cell_type": "code",
   "execution_count": null,
   "metadata": {
    "id": "jxLN6wQ0b-Aw"
   },
   "outputs": [],
   "source": [
    "fig, ax = plt.subplots(1, 1, figsize=(5,5))\n",
    "\n",
    "ax.scatter(weekly_lidar['wspd18m'], weekly_buoy['WSPD'])\n",
    "\n",
    "ax.plot([0,14],[0,14],'k')\n",
    "\n",
    "ax.plot(x, (m*x)+b, 'r')\n",
    "\n",
    "ax.set_xlim(0,14)\n",
    "ax.set_ylim(0,14)\n",
    "\n",
    "ax.set_xlabel('Lidar Wind Speed [m/s]', fontsize=12)\n",
    "ax.set_ylabel('Buoy Wind Speed [m/s]', fontsize=12)\n",
    "\n",
    "plt.show()"
   ]
  },
  {
   "cell_type": "markdown",
   "metadata": {
    "id": "mNg2tcyyb-Ay"
   },
   "source": [
    "This was a simple way to show that the data are not perfectly correlated because the one-to-one line and the line of best fit that we just plotted are different. There are more statistically rigorous ways of showing this, such as performing a linear regression. As an extra challenge, try to perform a linear regression and find the r$^2$ value."
   ]
  }
 ],
 "metadata": {
  "colab": {
   "name": "day03_timeseries_challenge_ANSWERS.ipynb",
   "provenance": []
  },
  "kernelspec": {
   "display_name": "Python 3",
   "language": "python",
   "name": "python3"
  },
  "language_info": {
   "codemirror_mode": {
    "name": "ipython",
    "version": 3
   },
   "file_extension": ".py",
   "mimetype": "text/x-python",
   "name": "python",
   "nbconvert_exporter": "python",
   "pygments_lexer": "ipython3",
   "version": "3.8.3"
  }
 },
 "nbformat": 4,
 "nbformat_minor": 4
}
