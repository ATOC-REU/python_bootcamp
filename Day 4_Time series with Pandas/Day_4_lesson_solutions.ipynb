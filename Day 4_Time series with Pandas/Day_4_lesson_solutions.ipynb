{
 "cells": [
  {
   "cell_type": "markdown",
   "metadata": {
    "id": "RsmNxsNuueIl"
   },
   "source": [
    "# Python Bootcamp Day 4:\n",
    "## Timeseries & Pandas\n",
    "\n",
    "Today, we will practice manipulating timeseries data. We will use lidar measurements of wind speeds as our toy dataset. These measurements were gathered off the East coast in an area where companies are planning to build wind turbines. We will use these measurements to answer questions like \"what month has the strongest average winds\" and \"how often are winds so weak that they don't spin the turbine\".\n",
    "\n",
    "### Goals for the day:\n",
    "- Learn how to read in data from csv files\n",
    "- Learn how to pre-process and process the data \n",
    "    - Learn how to make some simple plots of the data\n",
    "\n",
    "\n",
    "Reminder:\n",
    "<br/><font color='blue'>* Blue text indicates activities that you should complete as a student\n",
    "<br/><font color='red'>* Red text indicates extra challenge questions "
   ]
  },
  {
   "cell_type": "code",
   "execution_count": 1,
   "metadata": {
    "id": "bXur6asVueJH"
   },
   "outputs": [],
   "source": [
    "### Import libraries / packages\n",
    "from datetime import datetime  # for some datetime manipulations\n",
    "import numpy as np # for data storage and math\n",
    "import pandas as pd # for data storage and timeseries math\n",
    "import matplotlib.pyplot as plt # for plotting"
   ]
  },
  {
   "cell_type": "markdown",
   "metadata": {
    "id": "X9ZCLGqBueJS"
   },
   "source": [
    "# 1. Read in data\n",
    "Our lidar measurements are saved as `.csv`'s, which stands for Comma Separated Values. You can think of `.csv` files as spreadsheets where data within a row is seperated with a comma. You can double click on `lidar_winds.csv` in the sidebar and glimpse the data. Tabular data shows up all the time in the geosciences, and one place it is especially common is observational timeseries. \n",
    "\n",
    "`pandas` is a library that is specifically designed to read and analyze tabular data. We will start off by reading our toy dataset of lidar winds into a `pandas` DataFrame. More on `pandas` tools [here](https://pandas.pydata.org/docs/user_guide/index.html)."
   ]
  },
  {
   "cell_type": "code",
   "execution_count": 2,
   "metadata": {
    "id": "SJ4B1pdBueJT"
   },
   "outputs": [],
   "source": [
    "### Read tabluar data into a pandas DataFrame\n",
    "df = pd.read_csv(\"lidar_winds.csv\")"
   ]
  },
  {
   "cell_type": "markdown",
   "metadata": {
    "id": "Uu3YD-saueJU"
   },
   "source": [
    "We can get a quick idea of what data inside our DataFrame looks like by looking at the first 5 rows with the `.head()` command."
   ]
  },
  {
   "cell_type": "code",
   "execution_count": 3,
   "metadata": {
    "id": "jncIGCB9ueJV"
   },
   "outputs": [
    {
     "data": {
      "text/html": [
       "<div>\n",
       "<style scoped>\n",
       "    .dataframe tbody tr th:only-of-type {\n",
       "        vertical-align: middle;\n",
       "    }\n",
       "\n",
       "    .dataframe tbody tr th {\n",
       "        vertical-align: top;\n",
       "    }\n",
       "\n",
       "    .dataframe thead th {\n",
       "        text-align: right;\n",
       "    }\n",
       "</style>\n",
       "<table border=\"1\" class=\"dataframe\">\n",
       "  <thead>\n",
       "    <tr style=\"text-align: right;\">\n",
       "      <th></th>\n",
       "      <th>timestamp</th>\n",
       "      <th>wspd18m</th>\n",
       "      <th>wspd38m</th>\n",
       "      <th>wspd58m</th>\n",
       "      <th>wspd78m</th>\n",
       "      <th>wspd98m</th>\n",
       "      <th>wspd118m</th>\n",
       "      <th>wspd138m</th>\n",
       "      <th>wspd158m</th>\n",
       "      <th>wspd178m</th>\n",
       "      <th>wspd198m</th>\n",
       "    </tr>\n",
       "  </thead>\n",
       "  <tbody>\n",
       "    <tr>\n",
       "      <th>0</th>\n",
       "      <td>08-12-2019 00:00</td>\n",
       "      <td>7.2923</td>\n",
       "      <td>7.6785</td>\n",
       "      <td>7.6968</td>\n",
       "      <td>7.8280</td>\n",
       "      <td>7.8013</td>\n",
       "      <td>7.8933</td>\n",
       "      <td>7.8635</td>\n",
       "      <td>7.8858</td>\n",
       "      <td>7.9044</td>\n",
       "      <td>NaN</td>\n",
       "    </tr>\n",
       "    <tr>\n",
       "      <th>1</th>\n",
       "      <td>08-12-2019 00:10</td>\n",
       "      <td>7.8613</td>\n",
       "      <td>8.0330</td>\n",
       "      <td>8.0225</td>\n",
       "      <td>7.9279</td>\n",
       "      <td>7.9980</td>\n",
       "      <td>7.9306</td>\n",
       "      <td>8.1698</td>\n",
       "      <td>8.1405</td>\n",
       "      <td>8.0702</td>\n",
       "      <td>8.0487</td>\n",
       "    </tr>\n",
       "    <tr>\n",
       "      <th>2</th>\n",
       "      <td>08-12-2019 00:20</td>\n",
       "      <td>7.7594</td>\n",
       "      <td>7.9883</td>\n",
       "      <td>8.0180</td>\n",
       "      <td>8.1314</td>\n",
       "      <td>8.0906</td>\n",
       "      <td>8.1408</td>\n",
       "      <td>8.1291</td>\n",
       "      <td>8.0939</td>\n",
       "      <td>8.2030</td>\n",
       "      <td>8.1353</td>\n",
       "    </tr>\n",
       "    <tr>\n",
       "      <th>3</th>\n",
       "      <td>08-12-2019 00:30</td>\n",
       "      <td>7.4891</td>\n",
       "      <td>7.7554</td>\n",
       "      <td>7.7973</td>\n",
       "      <td>7.9551</td>\n",
       "      <td>7.9063</td>\n",
       "      <td>7.9964</td>\n",
       "      <td>7.9652</td>\n",
       "      <td>8.0749</td>\n",
       "      <td>8.0105</td>\n",
       "      <td>8.0792</td>\n",
       "    </tr>\n",
       "    <tr>\n",
       "      <th>4</th>\n",
       "      <td>08-12-2019 00:40</td>\n",
       "      <td>7.8829</td>\n",
       "      <td>8.0248</td>\n",
       "      <td>8.1332</td>\n",
       "      <td>8.1741</td>\n",
       "      <td>7.9927</td>\n",
       "      <td>8.1230</td>\n",
       "      <td>8.0443</td>\n",
       "      <td>8.1074</td>\n",
       "      <td>8.1969</td>\n",
       "      <td>8.1296</td>\n",
       "    </tr>\n",
       "  </tbody>\n",
       "</table>\n",
       "</div>"
      ],
      "text/plain": [
       "          timestamp  wspd18m  wspd38m  wspd58m  wspd78m  wspd98m  wspd118m  \\\n",
       "0  08-12-2019 00:00   7.2923   7.6785   7.6968   7.8280   7.8013    7.8933   \n",
       "1  08-12-2019 00:10   7.8613   8.0330   8.0225   7.9279   7.9980    7.9306   \n",
       "2  08-12-2019 00:20   7.7594   7.9883   8.0180   8.1314   8.0906    8.1408   \n",
       "3  08-12-2019 00:30   7.4891   7.7554   7.7973   7.9551   7.9063    7.9964   \n",
       "4  08-12-2019 00:40   7.8829   8.0248   8.1332   8.1741   7.9927    8.1230   \n",
       "\n",
       "   wspd138m  wspd158m  wspd178m  wspd198m  \n",
       "0    7.8635    7.8858    7.9044       NaN  \n",
       "1    8.1698    8.1405    8.0702    8.0487  \n",
       "2    8.1291    8.0939    8.2030    8.1353  \n",
       "3    7.9652    8.0749    8.0105    8.0792  \n",
       "4    8.0443    8.1074    8.1969    8.1296  "
      ]
     },
     "execution_count": 3,
     "metadata": {},
     "output_type": "execute_result"
    }
   ],
   "source": [
    "df.head()"
   ]
  },
  {
   "cell_type": "markdown",
   "metadata": {
    "id": "n0VFmzxgueJX"
   },
   "source": [
    "and you can look at the end of the DataFram with the `.tail()` command."
   ]
  },
  {
   "cell_type": "code",
   "execution_count": 4,
   "metadata": {
    "id": "ecDJkcPtueJZ"
   },
   "outputs": [
    {
     "data": {
      "text/html": [
       "<div>\n",
       "<style scoped>\n",
       "    .dataframe tbody tr th:only-of-type {\n",
       "        vertical-align: middle;\n",
       "    }\n",
       "\n",
       "    .dataframe tbody tr th {\n",
       "        vertical-align: top;\n",
       "    }\n",
       "\n",
       "    .dataframe thead th {\n",
       "        text-align: right;\n",
       "    }\n",
       "</style>\n",
       "<table border=\"1\" class=\"dataframe\">\n",
       "  <thead>\n",
       "    <tr style=\"text-align: right;\">\n",
       "      <th></th>\n",
       "      <th>timestamp</th>\n",
       "      <th>wspd18m</th>\n",
       "      <th>wspd38m</th>\n",
       "      <th>wspd58m</th>\n",
       "      <th>wspd78m</th>\n",
       "      <th>wspd98m</th>\n",
       "      <th>wspd118m</th>\n",
       "      <th>wspd138m</th>\n",
       "      <th>wspd158m</th>\n",
       "      <th>wspd178m</th>\n",
       "      <th>wspd198m</th>\n",
       "    </tr>\n",
       "  </thead>\n",
       "  <tbody>\n",
       "    <tr>\n",
       "      <th>84391</th>\n",
       "      <td>03-21-2021 23:10</td>\n",
       "      <td>1.7978</td>\n",
       "      <td>1.9557</td>\n",
       "      <td>2.0617</td>\n",
       "      <td>1.9270</td>\n",
       "      <td>1.3744</td>\n",
       "      <td>1.0722</td>\n",
       "      <td>0.9203</td>\n",
       "      <td>0.9038</td>\n",
       "      <td>0.9421</td>\n",
       "      <td>1.2546</td>\n",
       "    </tr>\n",
       "    <tr>\n",
       "      <th>84392</th>\n",
       "      <td>03-21-2021 23:20</td>\n",
       "      <td>2.6771</td>\n",
       "      <td>2.8746</td>\n",
       "      <td>2.8993</td>\n",
       "      <td>2.9530</td>\n",
       "      <td>2.9098</td>\n",
       "      <td>2.6337</td>\n",
       "      <td>2.1869</td>\n",
       "      <td>1.7314</td>\n",
       "      <td>1.5436</td>\n",
       "      <td>1.6571</td>\n",
       "    </tr>\n",
       "    <tr>\n",
       "      <th>84393</th>\n",
       "      <td>03-21-2021 23:30</td>\n",
       "      <td>3.2416</td>\n",
       "      <td>3.4077</td>\n",
       "      <td>3.5611</td>\n",
       "      <td>3.5823</td>\n",
       "      <td>3.5930</td>\n",
       "      <td>3.3885</td>\n",
       "      <td>2.9375</td>\n",
       "      <td>2.4509</td>\n",
       "      <td>2.2373</td>\n",
       "      <td>2.2883</td>\n",
       "    </tr>\n",
       "    <tr>\n",
       "      <th>84394</th>\n",
       "      <td>03-21-2021 23:40</td>\n",
       "      <td>2.7582</td>\n",
       "      <td>2.9039</td>\n",
       "      <td>3.1269</td>\n",
       "      <td>3.4249</td>\n",
       "      <td>3.5028</td>\n",
       "      <td>3.1862</td>\n",
       "      <td>2.9139</td>\n",
       "      <td>2.7500</td>\n",
       "      <td>2.6825</td>\n",
       "      <td>2.6642</td>\n",
       "    </tr>\n",
       "    <tr>\n",
       "      <th>84395</th>\n",
       "      <td>03-21-2021 23:50</td>\n",
       "      <td>2.5452</td>\n",
       "      <td>2.6611</td>\n",
       "      <td>3.0353</td>\n",
       "      <td>3.5475</td>\n",
       "      <td>3.4993</td>\n",
       "      <td>3.3521</td>\n",
       "      <td>3.1904</td>\n",
       "      <td>3.1565</td>\n",
       "      <td>3.2213</td>\n",
       "      <td>3.2293</td>\n",
       "    </tr>\n",
       "  </tbody>\n",
       "</table>\n",
       "</div>"
      ],
      "text/plain": [
       "              timestamp  wspd18m  wspd38m  wspd58m  wspd78m  wspd98m  \\\n",
       "84391  03-21-2021 23:10   1.7978   1.9557   2.0617   1.9270   1.3744   \n",
       "84392  03-21-2021 23:20   2.6771   2.8746   2.8993   2.9530   2.9098   \n",
       "84393  03-21-2021 23:30   3.2416   3.4077   3.5611   3.5823   3.5930   \n",
       "84394  03-21-2021 23:40   2.7582   2.9039   3.1269   3.4249   3.5028   \n",
       "84395  03-21-2021 23:50   2.5452   2.6611   3.0353   3.5475   3.4993   \n",
       "\n",
       "       wspd118m  wspd138m  wspd158m  wspd178m  wspd198m  \n",
       "84391    1.0722    0.9203    0.9038    0.9421    1.2546  \n",
       "84392    2.6337    2.1869    1.7314    1.5436    1.6571  \n",
       "84393    3.3885    2.9375    2.4509    2.2373    2.2883  \n",
       "84394    3.1862    2.9139    2.7500    2.6825    2.6642  \n",
       "84395    3.3521    3.1904    3.1565    3.2213    3.2293  "
      ]
     },
     "execution_count": 4,
     "metadata": {},
     "output_type": "execute_result"
    }
   ],
   "source": [
    "df.tail()"
   ]
  },
  {
   "cell_type": "markdown",
   "metadata": {
    "id": "XzG-oQUXueJb"
   },
   "source": [
    "`df` has 11 **columns**. One has timestamps of wind speed measurements, and the rest are wind speed measurements at heights between 18 m and 198 m above the surface. We can isolate just one column of the DataFrame by using `df[\"wspd18\"]`, for example"
   ]
  },
  {
   "cell_type": "code",
   "execution_count": 5,
   "metadata": {
    "id": "4Zlpgb_lueJc"
   },
   "outputs": [
    {
     "data": {
      "text/plain": [
       "0        7.2923\n",
       "1        7.8613\n",
       "2        7.7594\n",
       "3        7.4891\n",
       "4        7.8829\n",
       "          ...  \n",
       "84391    1.7978\n",
       "84392    2.6771\n",
       "84393    3.2416\n",
       "84394    2.7582\n",
       "84395    2.5452\n",
       "Name: wspd18m, Length: 84396, dtype: float64"
      ]
     },
     "execution_count": 5,
     "metadata": {},
     "output_type": "execute_result"
    }
   ],
   "source": [
    "df['wspd18m']"
   ]
  },
  {
   "cell_type": "markdown",
   "metadata": {
    "id": "d6mrlgLJueJd"
   },
   "source": [
    "Or, if we want to look at timestamp values, we run"
   ]
  },
  {
   "cell_type": "code",
   "execution_count": 6,
   "metadata": {
    "id": "e9x0FgOeueJe"
   },
   "outputs": [
    {
     "data": {
      "text/plain": [
       "0        08-12-2019 00:00\n",
       "1        08-12-2019 00:10\n",
       "2        08-12-2019 00:20\n",
       "3        08-12-2019 00:30\n",
       "4        08-12-2019 00:40\n",
       "               ...       \n",
       "84391    03-21-2021 23:10\n",
       "84392    03-21-2021 23:20\n",
       "84393    03-21-2021 23:30\n",
       "84394    03-21-2021 23:40\n",
       "84395    03-21-2021 23:50\n",
       "Name: timestamp, Length: 84396, dtype: object"
      ]
     },
     "execution_count": 6,
     "metadata": {},
     "output_type": "execute_result"
    }
   ],
   "source": [
    "df['timestamp']"
   ]
  },
  {
   "cell_type": "markdown",
   "metadata": {},
   "source": [
    "<font color='blue'> In the cell below, print the 'wspd38m' column in the df DataFrame."
   ]
  },
  {
   "cell_type": "code",
   "execution_count": 7,
   "metadata": {},
   "outputs": [
    {
     "data": {
      "text/plain": [
       "0        7.6785\n",
       "1        8.0330\n",
       "2        7.9883\n",
       "3        7.7554\n",
       "4        8.0248\n",
       "          ...  \n",
       "84391    1.9557\n",
       "84392    2.8746\n",
       "84393    3.4077\n",
       "84394    2.9039\n",
       "84395    2.6611\n",
       "Name: wspd38m, Length: 84396, dtype: float64"
      ]
     },
     "execution_count": 7,
     "metadata": {},
     "output_type": "execute_result"
    }
   ],
   "source": [
    "df['wspd38m']"
   ]
  },
  {
   "cell_type": "markdown",
   "metadata": {},
   "source": [
    "Let's do a quick plot of the 18m wind speed to see what it looks like (note the x-axis is not intuitive! It would make more sense if it used the dates):"
   ]
  },
  {
   "cell_type": "code",
   "execution_count": 8,
   "metadata": {},
   "outputs": [
    {
     "data": {
      "text/plain": [
       "<AxesSubplot:>"
      ]
     },
     "execution_count": 8,
     "metadata": {},
     "output_type": "execute_result"
    },
    {
     "data": {
      "image/png": "[encoded data removed]",
      "text/plain": [
       "<Figure size 432x288 with 1 Axes>"
      ]
     },
     "metadata": {
      "needs_background": "light"
     },
     "output_type": "display_data"
    }
   ],
   "source": [
    "df['wspd18m'].plot()"
   ]
  },
  {
   "cell_type": "markdown",
   "metadata": {},
   "source": [
    "<font color='red'> In the cell below, make the same plot as above but for the 'wspd38m' column and add labels for the x and y axes."
   ]
  },
  {
   "cell_type": "code",
   "execution_count": 9,
   "metadata": {},
   "outputs": [
    {
     "data": {
      "text/plain": [
       "Text(0, 0.5, 'Wind Speed (m/s)')"
      ]
     },
     "execution_count": 9,
     "metadata": {},
     "output_type": "execute_result"
    },
    {
     "data": {
      "image/png": "[encoded data removed]",
      "text/plain": [
       "<Figure size 432x288 with 1 Axes>"
      ]
     },
     "metadata": {
      "needs_background": "light"
     },
     "output_type": "display_data"
    }
   ],
   "source": [
    "df['wspd38m'].plot()\n",
    "plt.xlabel('Time')\n",
    "plt.ylabel('Wind Speed (m/s)')"
   ]
  },
  {
   "cell_type": "markdown",
   "metadata": {
    "id": "drcKctCyueJe"
   },
   "source": [
    "# 2. Preprocessing\n",
    "\n",
    "Before doing any sort of analysis (for example, calculating things like average wind speeds), you often need to preprocess data. `pandas` is very powerful at doing timeseries analysis, but in order to do timeseries analysis, we must reformat the data in a way that is friendly to timeseries analysis. We are going to do two things: reformat the data and change the index.\n",
    "\n",
    "The last row of the above outputs tells us that the data in `wspd18m` is `float64` (a decimal number) and the data in `timestamp` is `object` (which usually means a string). We need to tell `pandas` that the `timestamp` column actually contains timestamps, not just any old regular strings. To do that, we will run the following line"
   ]
  },
  {
   "cell_type": "code",
   "execution_count": 10,
   "metadata": {
    "id": "bJNknJhrueJf"
   },
   "outputs": [
    {
     "data": {
      "text/plain": [
       "0       2019-08-12 00:00:00\n",
       "1       2019-08-12 00:10:00\n",
       "2       2019-08-12 00:20:00\n",
       "3       2019-08-12 00:30:00\n",
       "4       2019-08-12 00:40:00\n",
       "                ...        \n",
       "84391   2021-03-21 23:10:00\n",
       "84392   2021-03-21 23:20:00\n",
       "84393   2021-03-21 23:30:00\n",
       "84394   2021-03-21 23:40:00\n",
       "84395   2021-03-21 23:50:00\n",
       "Name: timestamp, Length: 84396, dtype: datetime64[ns]"
      ]
     },
     "execution_count": 10,
     "metadata": {},
     "output_type": "execute_result"
    }
   ],
   "source": [
    "pd.to_datetime(df['timestamp'])"
   ]
  },
  {
   "cell_type": "markdown",
   "metadata": {
    "id": "kiAtayYlueJg"
   },
   "source": [
    "You can now see that the `dtype` in the last line is now `datetime64`. In `pd.to_datetime()`, `pandas` reads though all the data and guessts its format. If you know the format ahead of time, you can specify the format and the data conversion will run quicker. For example, the conversion for the above code would read `pd.to_datetime(df['timestamp'], format='%m-%d-%Y %H:%M')`. [More on conversion codes here.](https://strftime.org/)"
   ]
  },
  {
   "cell_type": "markdown",
   "metadata": {
    "id": "0rWjiafMueJh"
   },
   "source": [
    "### Common pitfall\n",
    "Above, we ran a line of code that converted the timestamp data from `object` format data to `datetime64` formatted data. So, if we rerun `df['timestamp']`, we should see that our data is now `datetime64` data, right?"
   ]
  },
  {
   "cell_type": "code",
   "execution_count": 11,
   "metadata": {
    "id": "nSL2md_0ueJh"
   },
   "outputs": [
    {
     "data": {
      "text/plain": [
       "0        08-12-2019 00:00\n",
       "1        08-12-2019 00:10\n",
       "2        08-12-2019 00:20\n",
       "3        08-12-2019 00:30\n",
       "4        08-12-2019 00:40\n",
       "               ...       \n",
       "84391    03-21-2021 23:10\n",
       "84392    03-21-2021 23:20\n",
       "84393    03-21-2021 23:30\n",
       "84394    03-21-2021 23:40\n",
       "84395    03-21-2021 23:50\n",
       "Name: timestamp, Length: 84396, dtype: object"
      ]
     },
     "execution_count": 11,
     "metadata": {},
     "output_type": "execute_result"
    }
   ],
   "source": [
    "df['timestamp']"
   ]
  },
  {
   "cell_type": "markdown",
   "metadata": {
    "id": "i7ON_s8kueJi"
   },
   "source": [
    "But in actuality, it's still the `object` datatype. What gives? \n",
    "\n",
    "In `pandas`, **you often need to explicitly state that you want to replace the data in your DataFrame**. In order to replace the data in `timestamp`, run"
   ]
  },
  {
   "cell_type": "code",
   "execution_count": 12,
   "metadata": {
    "id": "BnPukEGZueJi"
   },
   "outputs": [],
   "source": [
    "df['timestamp'] = pd.to_datetime(df['timestamp'])"
   ]
  },
  {
   "cell_type": "markdown",
   "metadata": {
    "id": "yF8ejKhpueJj"
   },
   "source": [
    "Now, when we look at the data in the `timestamp` column, we see that it is indeed `datetime64`."
   ]
  },
  {
   "cell_type": "code",
   "execution_count": 13,
   "metadata": {
    "id": "RqO4mQjYueJj"
   },
   "outputs": [
    {
     "data": {
      "text/plain": [
       "0       2019-08-12 00:00:00\n",
       "1       2019-08-12 00:10:00\n",
       "2       2019-08-12 00:20:00\n",
       "3       2019-08-12 00:30:00\n",
       "4       2019-08-12 00:40:00\n",
       "                ...        \n",
       "84391   2021-03-21 23:10:00\n",
       "84392   2021-03-21 23:20:00\n",
       "84393   2021-03-21 23:30:00\n",
       "84394   2021-03-21 23:40:00\n",
       "84395   2021-03-21 23:50:00\n",
       "Name: timestamp, Length: 84396, dtype: datetime64[ns]"
      ]
     },
     "execution_count": 13,
     "metadata": {},
     "output_type": "execute_result"
    }
   ],
   "source": [
    "df['timestamp']"
   ]
  },
  {
   "cell_type": "markdown",
   "metadata": {
    "id": "PfXTQMwqueJj"
   },
   "source": [
    "Now that `pandas` knows that we are working with timeseries data, we need to replace the index with these timestamps. In the above code outputs, you see the numbers `0, 1, 2, ...` to the left of all the data, one for every row. This is the **index**. When reading in data via `pd.read_csv()`, we didn't specify the value of the index, so `pandas` set the value of the index to its default value of `0, 1, 2, ...`. We want to replace this default index with the timeseries index. To do this, run `df = df.set_index(\"<column name>\")`."
   ]
  },
  {
   "cell_type": "code",
   "execution_count": 14,
   "metadata": {
    "id": "vKEG4lhfueJk"
   },
   "outputs": [],
   "source": [
    "df = df.set_index('timestamp')"
   ]
  },
  {
   "cell_type": "markdown",
   "metadata": {
    "id": "TdRZrIcpueJk"
   },
   "source": [
    "After running this command, we are done preprocessing. You can output the value of `df` and verify that it looks slightly different now than when we started."
   ]
  },
  {
   "cell_type": "code",
   "execution_count": 15,
   "metadata": {
    "id": "lWwtu1jYueJl"
   },
   "outputs": [
    {
     "data": {
      "text/html": [
       "<div>\n",
       "<style scoped>\n",
       "    .dataframe tbody tr th:only-of-type {\n",
       "        vertical-align: middle;\n",
       "    }\n",
       "\n",
       "    .dataframe tbody tr th {\n",
       "        vertical-align: top;\n",
       "    }\n",
       "\n",
       "    .dataframe thead th {\n",
       "        text-align: right;\n",
       "    }\n",
       "</style>\n",
       "<table border=\"1\" class=\"dataframe\">\n",
       "  <thead>\n",
       "    <tr style=\"text-align: right;\">\n",
       "      <th></th>\n",
       "      <th>wspd18m</th>\n",
       "      <th>wspd38m</th>\n",
       "      <th>wspd58m</th>\n",
       "      <th>wspd78m</th>\n",
       "      <th>wspd98m</th>\n",
       "      <th>wspd118m</th>\n",
       "      <th>wspd138m</th>\n",
       "      <th>wspd158m</th>\n",
       "      <th>wspd178m</th>\n",
       "      <th>wspd198m</th>\n",
       "    </tr>\n",
       "    <tr>\n",
       "      <th>timestamp</th>\n",
       "      <th></th>\n",
       "      <th></th>\n",
       "      <th></th>\n",
       "      <th></th>\n",
       "      <th></th>\n",
       "      <th></th>\n",
       "      <th></th>\n",
       "      <th></th>\n",
       "      <th></th>\n",
       "      <th></th>\n",
       "    </tr>\n",
       "  </thead>\n",
       "  <tbody>\n",
       "    <tr>\n",
       "      <th>2019-08-12 00:00:00</th>\n",
       "      <td>7.2923</td>\n",
       "      <td>7.6785</td>\n",
       "      <td>7.6968</td>\n",
       "      <td>7.8280</td>\n",
       "      <td>7.8013</td>\n",
       "      <td>7.8933</td>\n",
       "      <td>7.8635</td>\n",
       "      <td>7.8858</td>\n",
       "      <td>7.9044</td>\n",
       "      <td>NaN</td>\n",
       "    </tr>\n",
       "    <tr>\n",
       "      <th>2019-08-12 00:10:00</th>\n",
       "      <td>7.8613</td>\n",
       "      <td>8.0330</td>\n",
       "      <td>8.0225</td>\n",
       "      <td>7.9279</td>\n",
       "      <td>7.9980</td>\n",
       "      <td>7.9306</td>\n",
       "      <td>8.1698</td>\n",
       "      <td>8.1405</td>\n",
       "      <td>8.0702</td>\n",
       "      <td>8.0487</td>\n",
       "    </tr>\n",
       "    <tr>\n",
       "      <th>2019-08-12 00:20:00</th>\n",
       "      <td>7.7594</td>\n",
       "      <td>7.9883</td>\n",
       "      <td>8.0180</td>\n",
       "      <td>8.1314</td>\n",
       "      <td>8.0906</td>\n",
       "      <td>8.1408</td>\n",
       "      <td>8.1291</td>\n",
       "      <td>8.0939</td>\n",
       "      <td>8.2030</td>\n",
       "      <td>8.1353</td>\n",
       "    </tr>\n",
       "    <tr>\n",
       "      <th>2019-08-12 00:30:00</th>\n",
       "      <td>7.4891</td>\n",
       "      <td>7.7554</td>\n",
       "      <td>7.7973</td>\n",
       "      <td>7.9551</td>\n",
       "      <td>7.9063</td>\n",
       "      <td>7.9964</td>\n",
       "      <td>7.9652</td>\n",
       "      <td>8.0749</td>\n",
       "      <td>8.0105</td>\n",
       "      <td>8.0792</td>\n",
       "    </tr>\n",
       "    <tr>\n",
       "      <th>2019-08-12 00:40:00</th>\n",
       "      <td>7.8829</td>\n",
       "      <td>8.0248</td>\n",
       "      <td>8.1332</td>\n",
       "      <td>8.1741</td>\n",
       "      <td>7.9927</td>\n",
       "      <td>8.1230</td>\n",
       "      <td>8.0443</td>\n",
       "      <td>8.1074</td>\n",
       "      <td>8.1969</td>\n",
       "      <td>8.1296</td>\n",
       "    </tr>\n",
       "    <tr>\n",
       "      <th>...</th>\n",
       "      <td>...</td>\n",
       "      <td>...</td>\n",
       "      <td>...</td>\n",
       "      <td>...</td>\n",
       "      <td>...</td>\n",
       "      <td>...</td>\n",
       "      <td>...</td>\n",
       "      <td>...</td>\n",
       "      <td>...</td>\n",
       "      <td>...</td>\n",
       "    </tr>\n",
       "    <tr>\n",
       "      <th>2021-03-21 23:10:00</th>\n",
       "      <td>1.7978</td>\n",
       "      <td>1.9557</td>\n",
       "      <td>2.0617</td>\n",
       "      <td>1.9270</td>\n",
       "      <td>1.3744</td>\n",
       "      <td>1.0722</td>\n",
       "      <td>0.9203</td>\n",
       "      <td>0.9038</td>\n",
       "      <td>0.9421</td>\n",
       "      <td>1.2546</td>\n",
       "    </tr>\n",
       "    <tr>\n",
       "      <th>2021-03-21 23:20:00</th>\n",
       "      <td>2.6771</td>\n",
       "      <td>2.8746</td>\n",
       "      <td>2.8993</td>\n",
       "      <td>2.9530</td>\n",
       "      <td>2.9098</td>\n",
       "      <td>2.6337</td>\n",
       "      <td>2.1869</td>\n",
       "      <td>1.7314</td>\n",
       "      <td>1.5436</td>\n",
       "      <td>1.6571</td>\n",
       "    </tr>\n",
       "    <tr>\n",
       "      <th>2021-03-21 23:30:00</th>\n",
       "      <td>3.2416</td>\n",
       "      <td>3.4077</td>\n",
       "      <td>3.5611</td>\n",
       "      <td>3.5823</td>\n",
       "      <td>3.5930</td>\n",
       "      <td>3.3885</td>\n",
       "      <td>2.9375</td>\n",
       "      <td>2.4509</td>\n",
       "      <td>2.2373</td>\n",
       "      <td>2.2883</td>\n",
       "    </tr>\n",
       "    <tr>\n",
       "      <th>2021-03-21 23:40:00</th>\n",
       "      <td>2.7582</td>\n",
       "      <td>2.9039</td>\n",
       "      <td>3.1269</td>\n",
       "      <td>3.4249</td>\n",
       "      <td>3.5028</td>\n",
       "      <td>3.1862</td>\n",
       "      <td>2.9139</td>\n",
       "      <td>2.7500</td>\n",
       "      <td>2.6825</td>\n",
       "      <td>2.6642</td>\n",
       "    </tr>\n",
       "    <tr>\n",
       "      <th>2021-03-21 23:50:00</th>\n",
       "      <td>2.5452</td>\n",
       "      <td>2.6611</td>\n",
       "      <td>3.0353</td>\n",
       "      <td>3.5475</td>\n",
       "      <td>3.4993</td>\n",
       "      <td>3.3521</td>\n",
       "      <td>3.1904</td>\n",
       "      <td>3.1565</td>\n",
       "      <td>3.2213</td>\n",
       "      <td>3.2293</td>\n",
       "    </tr>\n",
       "  </tbody>\n",
       "</table>\n",
       "<p>84396 rows × 10 columns</p>\n",
       "</div>"
      ],
      "text/plain": [
       "                     wspd18m  wspd38m  wspd58m  wspd78m  wspd98m  wspd118m  \\\n",
       "timestamp                                                                    \n",
       "2019-08-12 00:00:00   7.2923   7.6785   7.6968   7.8280   7.8013    7.8933   \n",
       "2019-08-12 00:10:00   7.8613   8.0330   8.0225   7.9279   7.9980    7.9306   \n",
       "2019-08-12 00:20:00   7.7594   7.9883   8.0180   8.1314   8.0906    8.1408   \n",
       "2019-08-12 00:30:00   7.4891   7.7554   7.7973   7.9551   7.9063    7.9964   \n",
       "2019-08-12 00:40:00   7.8829   8.0248   8.1332   8.1741   7.9927    8.1230   \n",
       "...                      ...      ...      ...      ...      ...       ...   \n",
       "2021-03-21 23:10:00   1.7978   1.9557   2.0617   1.9270   1.3744    1.0722   \n",
       "2021-03-21 23:20:00   2.6771   2.8746   2.8993   2.9530   2.9098    2.6337   \n",
       "2021-03-21 23:30:00   3.2416   3.4077   3.5611   3.5823   3.5930    3.3885   \n",
       "2021-03-21 23:40:00   2.7582   2.9039   3.1269   3.4249   3.5028    3.1862   \n",
       "2021-03-21 23:50:00   2.5452   2.6611   3.0353   3.5475   3.4993    3.3521   \n",
       "\n",
       "                     wspd138m  wspd158m  wspd178m  wspd198m  \n",
       "timestamp                                                    \n",
       "2019-08-12 00:00:00    7.8635    7.8858    7.9044       NaN  \n",
       "2019-08-12 00:10:00    8.1698    8.1405    8.0702    8.0487  \n",
       "2019-08-12 00:20:00    8.1291    8.0939    8.2030    8.1353  \n",
       "2019-08-12 00:30:00    7.9652    8.0749    8.0105    8.0792  \n",
       "2019-08-12 00:40:00    8.0443    8.1074    8.1969    8.1296  \n",
       "...                       ...       ...       ...       ...  \n",
       "2021-03-21 23:10:00    0.9203    0.9038    0.9421    1.2546  \n",
       "2021-03-21 23:20:00    2.1869    1.7314    1.5436    1.6571  \n",
       "2021-03-21 23:30:00    2.9375    2.4509    2.2373    2.2883  \n",
       "2021-03-21 23:40:00    2.9139    2.7500    2.6825    2.6642  \n",
       "2021-03-21 23:50:00    3.1904    3.1565    3.2213    3.2293  \n",
       "\n",
       "[84396 rows x 10 columns]"
      ]
     },
     "execution_count": 15,
     "metadata": {},
     "output_type": "execute_result"
    }
   ],
   "source": [
    "df"
   ]
  },
  {
   "cell_type": "markdown",
   "metadata": {},
   "source": [
    "Why do we care about `datetime`; isn't the date already in the dataframe? Turns out `Pandas` has certain functionality that only works if the date is formatted correctly. Originally, it was just a string of characters. Let's say we just want to know the month or day of each of our dataset, we can use `.day` or `.month`:"
   ]
  },
  {
   "cell_type": "code",
   "execution_count": 16,
   "metadata": {},
   "outputs": [
    {
     "data": {
      "text/plain": [
       "(Int64Index([8, 8, 8, 8, 8, 8, 8, 8, 8, 8,\n",
       "             ...\n",
       "             3, 3, 3, 3, 3, 3, 3, 3, 3, 3],\n",
       "            dtype='int64', name='timestamp', length=84396),\n",
       " Int64Index([12, 12, 12, 12, 12, 12, 12, 12, 12, 12,\n",
       "             ...\n",
       "             21, 21, 21, 21, 21, 21, 21, 21, 21, 21],\n",
       "            dtype='int64', name='timestamp', length=84396))"
      ]
     },
     "execution_count": 16,
     "metadata": {},
     "output_type": "execute_result"
    }
   ],
   "source": [
    "df.index.month, df.index.day"
   ]
  },
  {
   "cell_type": "markdown",
   "metadata": {},
   "source": [
    "If we don't convert to datetime, we can't use the full power of `Pandas` (See error below!):"
   ]
  },
  {
   "cell_type": "code",
   "execution_count": 17,
   "metadata": {},
   "outputs": [
    {
     "ename": "AttributeError",
     "evalue": "'Index' object has no attribute 'month'",
     "output_type": "error",
     "traceback": [
      "\u001b[0;31m---------------------------------------------------------------------------\u001b[0m",
      "\u001b[0;31mAttributeError\u001b[0m                            Traceback (most recent call last)",
      "Input \u001b[0;32mIn [17]\u001b[0m, in \u001b[0;36m<cell line: 4>\u001b[0;34m()\u001b[0m\n\u001b[1;32m      1\u001b[0m df2 \u001b[38;5;241m=\u001b[39m pd\u001b[38;5;241m.\u001b[39mread_csv(\u001b[38;5;124m\"\u001b[39m\u001b[38;5;124mlidar_winds.csv\u001b[39m\u001b[38;5;124m\"\u001b[39m)\n\u001b[1;32m      2\u001b[0m df2 \u001b[38;5;241m=\u001b[39m df2\u001b[38;5;241m.\u001b[39mset_index(\u001b[38;5;124m'\u001b[39m\u001b[38;5;124mtimestamp\u001b[39m\u001b[38;5;124m'\u001b[39m)\n\u001b[0;32m----> 4\u001b[0m \u001b[43mdf2\u001b[49m\u001b[38;5;241;43m.\u001b[39;49m\u001b[43mindex\u001b[49m\u001b[38;5;241;43m.\u001b[39;49m\u001b[43mmonth\u001b[49m\n",
      "\u001b[0;31mAttributeError\u001b[0m: 'Index' object has no attribute 'month'"
     ]
    }
   ],
   "source": [
    "df2 = pd.read_csv(\"lidar_winds.csv\")\n",
    "df2 = df2.set_index('timestamp')\n",
    "\n",
    "df2.index.month"
   ]
  },
  {
   "cell_type": "markdown",
   "metadata": {},
   "source": [
    "<font color='blue'> Add on to the code in the cell below to look at the datatype of the 'timestamp' column if df3."
   ]
  },
  {
   "cell_type": "code",
   "execution_count": 18,
   "metadata": {},
   "outputs": [
    {
     "data": {
      "text/plain": [
       "0        08-12-2019 00:00\n",
       "1        08-12-2019 00:10\n",
       "2        08-12-2019 00:20\n",
       "3        08-12-2019 00:30\n",
       "4        08-12-2019 00:40\n",
       "               ...       \n",
       "84391    03-21-2021 23:10\n",
       "84392    03-21-2021 23:20\n",
       "84393    03-21-2021 23:30\n",
       "84394    03-21-2021 23:40\n",
       "84395    03-21-2021 23:50\n",
       "Name: timestamp, Length: 84396, dtype: object"
      ]
     },
     "execution_count": 18,
     "metadata": {},
     "output_type": "execute_result"
    }
   ],
   "source": [
    "df3 = pd.read_csv(\"lidar_winds.csv\")\n",
    "\n",
    "# Add code here to print 'timestamp'\n",
    "df3['timestamp']"
   ]
  },
  {
   "cell_type": "markdown",
   "metadata": {},
   "source": [
    "<font color='red'> Convert the timestamp column of df3 from type `object` into type `datetime64` and set the timestamp column as the index like we did above. Print the data by typing `df3` to see if this worked."
   ]
  },
  {
   "cell_type": "code",
   "execution_count": 19,
   "metadata": {},
   "outputs": [
    {
     "data": {
      "text/html": [
       "<div>\n",
       "<style scoped>\n",
       "    .dataframe tbody tr th:only-of-type {\n",
       "        vertical-align: middle;\n",
       "    }\n",
       "\n",
       "    .dataframe tbody tr th {\n",
       "        vertical-align: top;\n",
       "    }\n",
       "\n",
       "    .dataframe thead th {\n",
       "        text-align: right;\n",
       "    }\n",
       "</style>\n",
       "<table border=\"1\" class=\"dataframe\">\n",
       "  <thead>\n",
       "    <tr style=\"text-align: right;\">\n",
       "      <th></th>\n",
       "      <th>wspd18m</th>\n",
       "      <th>wspd38m</th>\n",
       "      <th>wspd58m</th>\n",
       "      <th>wspd78m</th>\n",
       "      <th>wspd98m</th>\n",
       "      <th>wspd118m</th>\n",
       "      <th>wspd138m</th>\n",
       "      <th>wspd158m</th>\n",
       "      <th>wspd178m</th>\n",
       "      <th>wspd198m</th>\n",
       "    </tr>\n",
       "    <tr>\n",
       "      <th>timestamp</th>\n",
       "      <th></th>\n",
       "      <th></th>\n",
       "      <th></th>\n",
       "      <th></th>\n",
       "      <th></th>\n",
       "      <th></th>\n",
       "      <th></th>\n",
       "      <th></th>\n",
       "      <th></th>\n",
       "      <th></th>\n",
       "    </tr>\n",
       "  </thead>\n",
       "  <tbody>\n",
       "    <tr>\n",
       "      <th>2019-08-12 00:00:00</th>\n",
       "      <td>7.2923</td>\n",
       "      <td>7.6785</td>\n",
       "      <td>7.6968</td>\n",
       "      <td>7.8280</td>\n",
       "      <td>7.8013</td>\n",
       "      <td>7.8933</td>\n",
       "      <td>7.8635</td>\n",
       "      <td>7.8858</td>\n",
       "      <td>7.9044</td>\n",
       "      <td>NaN</td>\n",
       "    </tr>\n",
       "    <tr>\n",
       "      <th>2019-08-12 00:10:00</th>\n",
       "      <td>7.8613</td>\n",
       "      <td>8.0330</td>\n",
       "      <td>8.0225</td>\n",
       "      <td>7.9279</td>\n",
       "      <td>7.9980</td>\n",
       "      <td>7.9306</td>\n",
       "      <td>8.1698</td>\n",
       "      <td>8.1405</td>\n",
       "      <td>8.0702</td>\n",
       "      <td>8.0487</td>\n",
       "    </tr>\n",
       "    <tr>\n",
       "      <th>2019-08-12 00:20:00</th>\n",
       "      <td>7.7594</td>\n",
       "      <td>7.9883</td>\n",
       "      <td>8.0180</td>\n",
       "      <td>8.1314</td>\n",
       "      <td>8.0906</td>\n",
       "      <td>8.1408</td>\n",
       "      <td>8.1291</td>\n",
       "      <td>8.0939</td>\n",
       "      <td>8.2030</td>\n",
       "      <td>8.1353</td>\n",
       "    </tr>\n",
       "    <tr>\n",
       "      <th>2019-08-12 00:30:00</th>\n",
       "      <td>7.4891</td>\n",
       "      <td>7.7554</td>\n",
       "      <td>7.7973</td>\n",
       "      <td>7.9551</td>\n",
       "      <td>7.9063</td>\n",
       "      <td>7.9964</td>\n",
       "      <td>7.9652</td>\n",
       "      <td>8.0749</td>\n",
       "      <td>8.0105</td>\n",
       "      <td>8.0792</td>\n",
       "    </tr>\n",
       "    <tr>\n",
       "      <th>2019-08-12 00:40:00</th>\n",
       "      <td>7.8829</td>\n",
       "      <td>8.0248</td>\n",
       "      <td>8.1332</td>\n",
       "      <td>8.1741</td>\n",
       "      <td>7.9927</td>\n",
       "      <td>8.1230</td>\n",
       "      <td>8.0443</td>\n",
       "      <td>8.1074</td>\n",
       "      <td>8.1969</td>\n",
       "      <td>8.1296</td>\n",
       "    </tr>\n",
       "    <tr>\n",
       "      <th>...</th>\n",
       "      <td>...</td>\n",
       "      <td>...</td>\n",
       "      <td>...</td>\n",
       "      <td>...</td>\n",
       "      <td>...</td>\n",
       "      <td>...</td>\n",
       "      <td>...</td>\n",
       "      <td>...</td>\n",
       "      <td>...</td>\n",
       "      <td>...</td>\n",
       "    </tr>\n",
       "    <tr>\n",
       "      <th>2021-03-21 23:10:00</th>\n",
       "      <td>1.7978</td>\n",
       "      <td>1.9557</td>\n",
       "      <td>2.0617</td>\n",
       "      <td>1.9270</td>\n",
       "      <td>1.3744</td>\n",
       "      <td>1.0722</td>\n",
       "      <td>0.9203</td>\n",
       "      <td>0.9038</td>\n",
       "      <td>0.9421</td>\n",
       "      <td>1.2546</td>\n",
       "    </tr>\n",
       "    <tr>\n",
       "      <th>2021-03-21 23:20:00</th>\n",
       "      <td>2.6771</td>\n",
       "      <td>2.8746</td>\n",
       "      <td>2.8993</td>\n",
       "      <td>2.9530</td>\n",
       "      <td>2.9098</td>\n",
       "      <td>2.6337</td>\n",
       "      <td>2.1869</td>\n",
       "      <td>1.7314</td>\n",
       "      <td>1.5436</td>\n",
       "      <td>1.6571</td>\n",
       "    </tr>\n",
       "    <tr>\n",
       "      <th>2021-03-21 23:30:00</th>\n",
       "      <td>3.2416</td>\n",
       "      <td>3.4077</td>\n",
       "      <td>3.5611</td>\n",
       "      <td>3.5823</td>\n",
       "      <td>3.5930</td>\n",
       "      <td>3.3885</td>\n",
       "      <td>2.9375</td>\n",
       "      <td>2.4509</td>\n",
       "      <td>2.2373</td>\n",
       "      <td>2.2883</td>\n",
       "    </tr>\n",
       "    <tr>\n",
       "      <th>2021-03-21 23:40:00</th>\n",
       "      <td>2.7582</td>\n",
       "      <td>2.9039</td>\n",
       "      <td>3.1269</td>\n",
       "      <td>3.4249</td>\n",
       "      <td>3.5028</td>\n",
       "      <td>3.1862</td>\n",
       "      <td>2.9139</td>\n",
       "      <td>2.7500</td>\n",
       "      <td>2.6825</td>\n",
       "      <td>2.6642</td>\n",
       "    </tr>\n",
       "    <tr>\n",
       "      <th>2021-03-21 23:50:00</th>\n",
       "      <td>2.5452</td>\n",
       "      <td>2.6611</td>\n",
       "      <td>3.0353</td>\n",
       "      <td>3.5475</td>\n",
       "      <td>3.4993</td>\n",
       "      <td>3.3521</td>\n",
       "      <td>3.1904</td>\n",
       "      <td>3.1565</td>\n",
       "      <td>3.2213</td>\n",
       "      <td>3.2293</td>\n",
       "    </tr>\n",
       "  </tbody>\n",
       "</table>\n",
       "<p>84396 rows × 10 columns</p>\n",
       "</div>"
      ],
      "text/plain": [
       "                     wspd18m  wspd38m  wspd58m  wspd78m  wspd98m  wspd118m  \\\n",
       "timestamp                                                                    \n",
       "2019-08-12 00:00:00   7.2923   7.6785   7.6968   7.8280   7.8013    7.8933   \n",
       "2019-08-12 00:10:00   7.8613   8.0330   8.0225   7.9279   7.9980    7.9306   \n",
       "2019-08-12 00:20:00   7.7594   7.9883   8.0180   8.1314   8.0906    8.1408   \n",
       "2019-08-12 00:30:00   7.4891   7.7554   7.7973   7.9551   7.9063    7.9964   \n",
       "2019-08-12 00:40:00   7.8829   8.0248   8.1332   8.1741   7.9927    8.1230   \n",
       "...                      ...      ...      ...      ...      ...       ...   \n",
       "2021-03-21 23:10:00   1.7978   1.9557   2.0617   1.9270   1.3744    1.0722   \n",
       "2021-03-21 23:20:00   2.6771   2.8746   2.8993   2.9530   2.9098    2.6337   \n",
       "2021-03-21 23:30:00   3.2416   3.4077   3.5611   3.5823   3.5930    3.3885   \n",
       "2021-03-21 23:40:00   2.7582   2.9039   3.1269   3.4249   3.5028    3.1862   \n",
       "2021-03-21 23:50:00   2.5452   2.6611   3.0353   3.5475   3.4993    3.3521   \n",
       "\n",
       "                     wspd138m  wspd158m  wspd178m  wspd198m  \n",
       "timestamp                                                    \n",
       "2019-08-12 00:00:00    7.8635    7.8858    7.9044       NaN  \n",
       "2019-08-12 00:10:00    8.1698    8.1405    8.0702    8.0487  \n",
       "2019-08-12 00:20:00    8.1291    8.0939    8.2030    8.1353  \n",
       "2019-08-12 00:30:00    7.9652    8.0749    8.0105    8.0792  \n",
       "2019-08-12 00:40:00    8.0443    8.1074    8.1969    8.1296  \n",
       "...                       ...       ...       ...       ...  \n",
       "2021-03-21 23:10:00    0.9203    0.9038    0.9421    1.2546  \n",
       "2021-03-21 23:20:00    2.1869    1.7314    1.5436    1.6571  \n",
       "2021-03-21 23:30:00    2.9375    2.4509    2.2373    2.2883  \n",
       "2021-03-21 23:40:00    2.9139    2.7500    2.6825    2.6642  \n",
       "2021-03-21 23:50:00    3.1904    3.1565    3.2213    3.2293  \n",
       "\n",
       "[84396 rows x 10 columns]"
      ]
     },
     "execution_count": 19,
     "metadata": {},
     "output_type": "execute_result"
    }
   ],
   "source": [
    "df3['timestamp'] = pd.to_datetime(df3['timestamp'])\n",
    "df3 = df3.set_index('timestamp')\n",
    "df3"
   ]
  },
  {
   "cell_type": "markdown",
   "metadata": {},
   "source": [
    "Let's do that quick plot again of the 18m wind speed to see what it looks like now after changing the index to the timestamp: "
   ]
  },
  {
   "cell_type": "code",
   "execution_count": 20,
   "metadata": {},
   "outputs": [
    {
     "data": {
      "text/plain": [
       "<AxesSubplot:xlabel='timestamp'>"
      ]
     },
     "execution_count": 20,
     "metadata": {},
     "output_type": "execute_result"
    },
    {
     "data": {
      "image/png": "[encoded data removed]",
      "text/plain": [
       "<Figure size 432x288 with 1 Axes>"
      ]
     },
     "metadata": {
      "needs_background": "light"
     },
     "output_type": "display_data"
    }
   ],
   "source": [
    "df['wspd18m'].plot()"
   ]
  },
  {
   "cell_type": "markdown",
   "metadata": {
    "id": "Bps-RQSwueJl"
   },
   "source": [
    "### By the way: selecting data by row\n",
    "We earlier isolated data by column. We can also isolate data by row. There are two ways to do this, by \"position\" and by \"row value\". If you want to access the data in the 3rd row by \"position\", run `df.iloc[2]` (remember Python's zero-indexing). If you want to access data by \"value\", run `df.loc[datetime(2019, 8, 12, 0, 20)]`. We need to be verbose and state `datetime(2019, 8, 12, 0, 20)` because our data is the `datetime64` data type."
   ]
  },
  {
   "cell_type": "code",
   "execution_count": 21,
   "metadata": {
    "tags": []
   },
   "outputs": [
    {
     "data": {
      "text/plain": [
       "wspd18m     7.0827\n",
       "wspd38m     7.1664\n",
       "wspd58m     7.1680\n",
       "wspd78m     7.2605\n",
       "wspd98m     7.3490\n",
       "wspd118m    7.3269\n",
       "wspd138m    7.3430\n",
       "wspd158m    7.3944\n",
       "wspd178m    7.2722\n",
       "wspd198m    7.3654\n",
       "Name: 2019-08-12 03:20:00, dtype: float64"
      ]
     },
     "execution_count": 21,
     "metadata": {},
     "output_type": "execute_result"
    }
   ],
   "source": [
    "df.iloc[20]"
   ]
  },
  {
   "cell_type": "markdown",
   "metadata": {},
   "source": [
    "This also works for selecting a specific `row` and a specific `column`:"
   ]
  },
  {
   "cell_type": "code",
   "execution_count": 22,
   "metadata": {},
   "outputs": [
    {
     "data": {
      "text/plain": [
       "7.2605"
      ]
     },
     "execution_count": 22,
     "metadata": {},
     "output_type": "execute_result"
    }
   ],
   "source": [
    "df.iloc[20,3] # remember python numbering starts at 0!"
   ]
  },
  {
   "cell_type": "markdown",
   "metadata": {
    "id": "bcWaqZvVueJo"
   },
   "source": [
    "# 3. Processing the data\n",
    "\n",
    "Now that our data is nicely formatted, we can begin to ask questions. For example, what is the average wind speed at every height? To get the average wind speed across all timesteps, run `df.mean()`. This function averages every **column!**"
   ]
  },
  {
   "cell_type": "code",
   "execution_count": 23,
   "metadata": {
    "id": "m_0QDsKZueJo"
   },
   "outputs": [
    {
     "data": {
      "text/plain": [
       "wspd18m      8.445270\n",
       "wspd38m      8.992000\n",
       "wspd58m      9.415993\n",
       "wspd78m      9.729263\n",
       "wspd98m      9.956969\n",
       "wspd118m    10.147648\n",
       "wspd138m    10.291444\n",
       "wspd158m    10.410221\n",
       "wspd178m    10.507574\n",
       "wspd198m    10.587666\n",
       "dtype: float64"
      ]
     },
     "execution_count": 23,
     "metadata": {},
     "output_type": "execute_result"
    }
   ],
   "source": [
    "df.mean()"
   ]
  },
  {
   "cell_type": "markdown",
   "metadata": {
    "id": "v6D_hFOpueJu"
   },
   "source": [
    "Instead of selecting all timestamps, we can also subselect data by characteristics. For example, we can subselect all data in September. Note, this grabs data in *both* September 2019 *and* September 2020."
   ]
  },
  {
   "cell_type": "code",
   "execution_count": 24,
   "metadata": {
    "id": "-oUcb_JYueJv"
   },
   "outputs": [
    {
     "data": {
      "text/html": [
       "<div>\n",
       "<style scoped>\n",
       "    .dataframe tbody tr th:only-of-type {\n",
       "        vertical-align: middle;\n",
       "    }\n",
       "\n",
       "    .dataframe tbody tr th {\n",
       "        vertical-align: top;\n",
       "    }\n",
       "\n",
       "    .dataframe thead th {\n",
       "        text-align: right;\n",
       "    }\n",
       "</style>\n",
       "<table border=\"1\" class=\"dataframe\">\n",
       "  <thead>\n",
       "    <tr style=\"text-align: right;\">\n",
       "      <th></th>\n",
       "      <th>wspd18m</th>\n",
       "      <th>wspd38m</th>\n",
       "      <th>wspd58m</th>\n",
       "      <th>wspd78m</th>\n",
       "      <th>wspd98m</th>\n",
       "      <th>wspd118m</th>\n",
       "      <th>wspd138m</th>\n",
       "      <th>wspd158m</th>\n",
       "      <th>wspd178m</th>\n",
       "      <th>wspd198m</th>\n",
       "    </tr>\n",
       "    <tr>\n",
       "      <th>timestamp</th>\n",
       "      <th></th>\n",
       "      <th></th>\n",
       "      <th></th>\n",
       "      <th></th>\n",
       "      <th></th>\n",
       "      <th></th>\n",
       "      <th></th>\n",
       "      <th></th>\n",
       "      <th></th>\n",
       "      <th></th>\n",
       "    </tr>\n",
       "  </thead>\n",
       "  <tbody>\n",
       "    <tr>\n",
       "      <th>2019-09-01 00:00:00</th>\n",
       "      <td>3.2105</td>\n",
       "      <td>3.2385</td>\n",
       "      <td>3.3626</td>\n",
       "      <td>3.7104</td>\n",
       "      <td>4.1178</td>\n",
       "      <td>4.6203</td>\n",
       "      <td>5.0136</td>\n",
       "      <td>5.3203</td>\n",
       "      <td>5.5163</td>\n",
       "      <td>5.6751</td>\n",
       "    </tr>\n",
       "    <tr>\n",
       "      <th>2019-09-01 00:10:00</th>\n",
       "      <td>3.3964</td>\n",
       "      <td>3.4400</td>\n",
       "      <td>3.5732</td>\n",
       "      <td>3.8556</td>\n",
       "      <td>4.3204</td>\n",
       "      <td>4.8156</td>\n",
       "      <td>5.2021</td>\n",
       "      <td>5.4885</td>\n",
       "      <td>5.6509</td>\n",
       "      <td>5.8073</td>\n",
       "    </tr>\n",
       "    <tr>\n",
       "      <th>2019-09-01 00:20:00</th>\n",
       "      <td>3.6487</td>\n",
       "      <td>3.6850</td>\n",
       "      <td>3.7574</td>\n",
       "      <td>3.9230</td>\n",
       "      <td>4.2971</td>\n",
       "      <td>4.7130</td>\n",
       "      <td>5.2817</td>\n",
       "      <td>5.7442</td>\n",
       "      <td>6.0274</td>\n",
       "      <td>6.2620</td>\n",
       "    </tr>\n",
       "    <tr>\n",
       "      <th>2019-09-01 00:30:00</th>\n",
       "      <td>3.6954</td>\n",
       "      <td>3.8106</td>\n",
       "      <td>3.8466</td>\n",
       "      <td>4.0392</td>\n",
       "      <td>4.4134</td>\n",
       "      <td>4.8945</td>\n",
       "      <td>5.4744</td>\n",
       "      <td>5.9791</td>\n",
       "      <td>6.3216</td>\n",
       "      <td>6.7377</td>\n",
       "    </tr>\n",
       "    <tr>\n",
       "      <th>2019-09-01 00:40:00</th>\n",
       "      <td>3.8427</td>\n",
       "      <td>3.8364</td>\n",
       "      <td>3.9178</td>\n",
       "      <td>4.1122</td>\n",
       "      <td>4.5196</td>\n",
       "      <td>4.9611</td>\n",
       "      <td>5.4682</td>\n",
       "      <td>5.9173</td>\n",
       "      <td>6.4331</td>\n",
       "      <td>7.1283</td>\n",
       "    </tr>\n",
       "    <tr>\n",
       "      <th>...</th>\n",
       "      <td>...</td>\n",
       "      <td>...</td>\n",
       "      <td>...</td>\n",
       "      <td>...</td>\n",
       "      <td>...</td>\n",
       "      <td>...</td>\n",
       "      <td>...</td>\n",
       "      <td>...</td>\n",
       "      <td>...</td>\n",
       "      <td>...</td>\n",
       "    </tr>\n",
       "    <tr>\n",
       "      <th>2020-09-30 23:10:00</th>\n",
       "      <td>10.9256</td>\n",
       "      <td>11.5187</td>\n",
       "      <td>11.4358</td>\n",
       "      <td>11.9205</td>\n",
       "      <td>12.0746</td>\n",
       "      <td>12.1553</td>\n",
       "      <td>11.9714</td>\n",
       "      <td>12.0186</td>\n",
       "      <td>12.0909</td>\n",
       "      <td>12.2526</td>\n",
       "    </tr>\n",
       "    <tr>\n",
       "      <th>2020-09-30 23:20:00</th>\n",
       "      <td>11.2253</td>\n",
       "      <td>12.0756</td>\n",
       "      <td>12.0432</td>\n",
       "      <td>12.5301</td>\n",
       "      <td>12.4020</td>\n",
       "      <td>12.3580</td>\n",
       "      <td>12.6023</td>\n",
       "      <td>12.4554</td>\n",
       "      <td>12.5982</td>\n",
       "      <td>12.5310</td>\n",
       "    </tr>\n",
       "    <tr>\n",
       "      <th>2020-09-30 23:30:00</th>\n",
       "      <td>10.7675</td>\n",
       "      <td>11.4955</td>\n",
       "      <td>11.7748</td>\n",
       "      <td>11.8653</td>\n",
       "      <td>11.9229</td>\n",
       "      <td>12.0874</td>\n",
       "      <td>12.1902</td>\n",
       "      <td>12.2825</td>\n",
       "      <td>12.3476</td>\n",
       "      <td>12.5317</td>\n",
       "    </tr>\n",
       "    <tr>\n",
       "      <th>2020-09-30 23:40:00</th>\n",
       "      <td>10.9355</td>\n",
       "      <td>11.9461</td>\n",
       "      <td>12.0984</td>\n",
       "      <td>12.4160</td>\n",
       "      <td>12.4157</td>\n",
       "      <td>12.4459</td>\n",
       "      <td>12.6327</td>\n",
       "      <td>12.7712</td>\n",
       "      <td>12.7478</td>\n",
       "      <td>12.7007</td>\n",
       "    </tr>\n",
       "    <tr>\n",
       "      <th>2020-09-30 23:50:00</th>\n",
       "      <td>10.9355</td>\n",
       "      <td>11.9461</td>\n",
       "      <td>12.0984</td>\n",
       "      <td>12.4160</td>\n",
       "      <td>12.4157</td>\n",
       "      <td>12.4459</td>\n",
       "      <td>12.6327</td>\n",
       "      <td>12.7712</td>\n",
       "      <td>12.7478</td>\n",
       "      <td>12.7007</td>\n",
       "    </tr>\n",
       "  </tbody>\n",
       "</table>\n",
       "<p>8640 rows × 10 columns</p>\n",
       "</div>"
      ],
      "text/plain": [
       "                     wspd18m  wspd38m  wspd58m  wspd78m  wspd98m  wspd118m  \\\n",
       "timestamp                                                                    \n",
       "2019-09-01 00:00:00   3.2105   3.2385   3.3626   3.7104   4.1178    4.6203   \n",
       "2019-09-01 00:10:00   3.3964   3.4400   3.5732   3.8556   4.3204    4.8156   \n",
       "2019-09-01 00:20:00   3.6487   3.6850   3.7574   3.9230   4.2971    4.7130   \n",
       "2019-09-01 00:30:00   3.6954   3.8106   3.8466   4.0392   4.4134    4.8945   \n",
       "2019-09-01 00:40:00   3.8427   3.8364   3.9178   4.1122   4.5196    4.9611   \n",
       "...                      ...      ...      ...      ...      ...       ...   \n",
       "2020-09-30 23:10:00  10.9256  11.5187  11.4358  11.9205  12.0746   12.1553   \n",
       "2020-09-30 23:20:00  11.2253  12.0756  12.0432  12.5301  12.4020   12.3580   \n",
       "2020-09-30 23:30:00  10.7675  11.4955  11.7748  11.8653  11.9229   12.0874   \n",
       "2020-09-30 23:40:00  10.9355  11.9461  12.0984  12.4160  12.4157   12.4459   \n",
       "2020-09-30 23:50:00  10.9355  11.9461  12.0984  12.4160  12.4157   12.4459   \n",
       "\n",
       "                     wspd138m  wspd158m  wspd178m  wspd198m  \n",
       "timestamp                                                    \n",
       "2019-09-01 00:00:00    5.0136    5.3203    5.5163    5.6751  \n",
       "2019-09-01 00:10:00    5.2021    5.4885    5.6509    5.8073  \n",
       "2019-09-01 00:20:00    5.2817    5.7442    6.0274    6.2620  \n",
       "2019-09-01 00:30:00    5.4744    5.9791    6.3216    6.7377  \n",
       "2019-09-01 00:40:00    5.4682    5.9173    6.4331    7.1283  \n",
       "...                       ...       ...       ...       ...  \n",
       "2020-09-30 23:10:00   11.9714   12.0186   12.0909   12.2526  \n",
       "2020-09-30 23:20:00   12.6023   12.4554   12.5982   12.5310  \n",
       "2020-09-30 23:30:00   12.1902   12.2825   12.3476   12.5317  \n",
       "2020-09-30 23:40:00   12.6327   12.7712   12.7478   12.7007  \n",
       "2020-09-30 23:50:00   12.6327   12.7712   12.7478   12.7007  \n",
       "\n",
       "[8640 rows x 10 columns]"
      ]
     },
     "execution_count": 24,
     "metadata": {},
     "output_type": "execute_result"
    }
   ],
   "source": [
    "df[df.index.month == 9]"
   ]
  },
  {
   "cell_type": "markdown",
   "metadata": {
    "id": "o4QXHmfDueJw"
   },
   "source": [
    "You can also grab data from *only* September 2020."
   ]
  },
  {
   "cell_type": "code",
   "execution_count": 25,
   "metadata": {
    "id": "9aK9jhvAueJw"
   },
   "outputs": [
    {
     "data": {
      "text/html": [
       "<div>\n",
       "<style scoped>\n",
       "    .dataframe tbody tr th:only-of-type {\n",
       "        vertical-align: middle;\n",
       "    }\n",
       "\n",
       "    .dataframe tbody tr th {\n",
       "        vertical-align: top;\n",
       "    }\n",
       "\n",
       "    .dataframe thead th {\n",
       "        text-align: right;\n",
       "    }\n",
       "</style>\n",
       "<table border=\"1\" class=\"dataframe\">\n",
       "  <thead>\n",
       "    <tr style=\"text-align: right;\">\n",
       "      <th></th>\n",
       "      <th>wspd18m</th>\n",
       "      <th>wspd38m</th>\n",
       "      <th>wspd58m</th>\n",
       "      <th>wspd78m</th>\n",
       "      <th>wspd98m</th>\n",
       "      <th>wspd118m</th>\n",
       "      <th>wspd138m</th>\n",
       "      <th>wspd158m</th>\n",
       "      <th>wspd178m</th>\n",
       "      <th>wspd198m</th>\n",
       "    </tr>\n",
       "    <tr>\n",
       "      <th>timestamp</th>\n",
       "      <th></th>\n",
       "      <th></th>\n",
       "      <th></th>\n",
       "      <th></th>\n",
       "      <th></th>\n",
       "      <th></th>\n",
       "      <th></th>\n",
       "      <th></th>\n",
       "      <th></th>\n",
       "      <th></th>\n",
       "    </tr>\n",
       "  </thead>\n",
       "  <tbody>\n",
       "    <tr>\n",
       "      <th>2020-09-01 00:00:00</th>\n",
       "      <td>7.4121</td>\n",
       "      <td>7.5442</td>\n",
       "      <td>7.6316</td>\n",
       "      <td>7.7129</td>\n",
       "      <td>7.7869</td>\n",
       "      <td>7.7355</td>\n",
       "      <td>7.8697</td>\n",
       "      <td>7.9952</td>\n",
       "      <td>7.9353</td>\n",
       "      <td>7.9827</td>\n",
       "    </tr>\n",
       "    <tr>\n",
       "      <th>2020-09-01 00:10:00</th>\n",
       "      <td>7.6411</td>\n",
       "      <td>7.7939</td>\n",
       "      <td>7.7469</td>\n",
       "      <td>7.8915</td>\n",
       "      <td>7.7785</td>\n",
       "      <td>7.7956</td>\n",
       "      <td>7.9123</td>\n",
       "      <td>7.8311</td>\n",
       "      <td>7.8518</td>\n",
       "      <td>7.9834</td>\n",
       "    </tr>\n",
       "    <tr>\n",
       "      <th>2020-09-01 00:20:00</th>\n",
       "      <td>7.1965</td>\n",
       "      <td>7.3810</td>\n",
       "      <td>7.6062</td>\n",
       "      <td>7.5653</td>\n",
       "      <td>7.7067</td>\n",
       "      <td>7.7435</td>\n",
       "      <td>7.8671</td>\n",
       "      <td>7.8824</td>\n",
       "      <td>7.7973</td>\n",
       "      <td>7.8998</td>\n",
       "    </tr>\n",
       "    <tr>\n",
       "      <th>2020-09-01 00:30:00</th>\n",
       "      <td>7.8957</td>\n",
       "      <td>8.0605</td>\n",
       "      <td>8.0568</td>\n",
       "      <td>8.1648</td>\n",
       "      <td>8.3873</td>\n",
       "      <td>8.4980</td>\n",
       "      <td>8.5168</td>\n",
       "      <td>8.4518</td>\n",
       "      <td>8.6610</td>\n",
       "      <td>8.5862</td>\n",
       "    </tr>\n",
       "    <tr>\n",
       "      <th>2020-09-01 00:40:00</th>\n",
       "      <td>8.0709</td>\n",
       "      <td>8.3440</td>\n",
       "      <td>8.5717</td>\n",
       "      <td>8.5766</td>\n",
       "      <td>8.5445</td>\n",
       "      <td>8.6061</td>\n",
       "      <td>8.6648</td>\n",
       "      <td>8.7680</td>\n",
       "      <td>8.6943</td>\n",
       "      <td>8.8744</td>\n",
       "    </tr>\n",
       "    <tr>\n",
       "      <th>...</th>\n",
       "      <td>...</td>\n",
       "      <td>...</td>\n",
       "      <td>...</td>\n",
       "      <td>...</td>\n",
       "      <td>...</td>\n",
       "      <td>...</td>\n",
       "      <td>...</td>\n",
       "      <td>...</td>\n",
       "      <td>...</td>\n",
       "      <td>...</td>\n",
       "    </tr>\n",
       "    <tr>\n",
       "      <th>2020-09-30 23:10:00</th>\n",
       "      <td>10.9256</td>\n",
       "      <td>11.5187</td>\n",
       "      <td>11.4358</td>\n",
       "      <td>11.9205</td>\n",
       "      <td>12.0746</td>\n",
       "      <td>12.1553</td>\n",
       "      <td>11.9714</td>\n",
       "      <td>12.0186</td>\n",
       "      <td>12.0909</td>\n",
       "      <td>12.2526</td>\n",
       "    </tr>\n",
       "    <tr>\n",
       "      <th>2020-09-30 23:20:00</th>\n",
       "      <td>11.2253</td>\n",
       "      <td>12.0756</td>\n",
       "      <td>12.0432</td>\n",
       "      <td>12.5301</td>\n",
       "      <td>12.4020</td>\n",
       "      <td>12.3580</td>\n",
       "      <td>12.6023</td>\n",
       "      <td>12.4554</td>\n",
       "      <td>12.5982</td>\n",
       "      <td>12.5310</td>\n",
       "    </tr>\n",
       "    <tr>\n",
       "      <th>2020-09-30 23:30:00</th>\n",
       "      <td>10.7675</td>\n",
       "      <td>11.4955</td>\n",
       "      <td>11.7748</td>\n",
       "      <td>11.8653</td>\n",
       "      <td>11.9229</td>\n",
       "      <td>12.0874</td>\n",
       "      <td>12.1902</td>\n",
       "      <td>12.2825</td>\n",
       "      <td>12.3476</td>\n",
       "      <td>12.5317</td>\n",
       "    </tr>\n",
       "    <tr>\n",
       "      <th>2020-09-30 23:40:00</th>\n",
       "      <td>10.9355</td>\n",
       "      <td>11.9461</td>\n",
       "      <td>12.0984</td>\n",
       "      <td>12.4160</td>\n",
       "      <td>12.4157</td>\n",
       "      <td>12.4459</td>\n",
       "      <td>12.6327</td>\n",
       "      <td>12.7712</td>\n",
       "      <td>12.7478</td>\n",
       "      <td>12.7007</td>\n",
       "    </tr>\n",
       "    <tr>\n",
       "      <th>2020-09-30 23:50:00</th>\n",
       "      <td>10.9355</td>\n",
       "      <td>11.9461</td>\n",
       "      <td>12.0984</td>\n",
       "      <td>12.4160</td>\n",
       "      <td>12.4157</td>\n",
       "      <td>12.4459</td>\n",
       "      <td>12.6327</td>\n",
       "      <td>12.7712</td>\n",
       "      <td>12.7478</td>\n",
       "      <td>12.7007</td>\n",
       "    </tr>\n",
       "  </tbody>\n",
       "</table>\n",
       "<p>4320 rows × 10 columns</p>\n",
       "</div>"
      ],
      "text/plain": [
       "                     wspd18m  wspd38m  wspd58m  wspd78m  wspd98m  wspd118m  \\\n",
       "timestamp                                                                    \n",
       "2020-09-01 00:00:00   7.4121   7.5442   7.6316   7.7129   7.7869    7.7355   \n",
       "2020-09-01 00:10:00   7.6411   7.7939   7.7469   7.8915   7.7785    7.7956   \n",
       "2020-09-01 00:20:00   7.1965   7.3810   7.6062   7.5653   7.7067    7.7435   \n",
       "2020-09-01 00:30:00   7.8957   8.0605   8.0568   8.1648   8.3873    8.4980   \n",
       "2020-09-01 00:40:00   8.0709   8.3440   8.5717   8.5766   8.5445    8.6061   \n",
       "...                      ...      ...      ...      ...      ...       ...   \n",
       "2020-09-30 23:10:00  10.9256  11.5187  11.4358  11.9205  12.0746   12.1553   \n",
       "2020-09-30 23:20:00  11.2253  12.0756  12.0432  12.5301  12.4020   12.3580   \n",
       "2020-09-30 23:30:00  10.7675  11.4955  11.7748  11.8653  11.9229   12.0874   \n",
       "2020-09-30 23:40:00  10.9355  11.9461  12.0984  12.4160  12.4157   12.4459   \n",
       "2020-09-30 23:50:00  10.9355  11.9461  12.0984  12.4160  12.4157   12.4459   \n",
       "\n",
       "                     wspd138m  wspd158m  wspd178m  wspd198m  \n",
       "timestamp                                                    \n",
       "2020-09-01 00:00:00    7.8697    7.9952    7.9353    7.9827  \n",
       "2020-09-01 00:10:00    7.9123    7.8311    7.8518    7.9834  \n",
       "2020-09-01 00:20:00    7.8671    7.8824    7.7973    7.8998  \n",
       "2020-09-01 00:30:00    8.5168    8.4518    8.6610    8.5862  \n",
       "2020-09-01 00:40:00    8.6648    8.7680    8.6943    8.8744  \n",
       "...                       ...       ...       ...       ...  \n",
       "2020-09-30 23:10:00   11.9714   12.0186   12.0909   12.2526  \n",
       "2020-09-30 23:20:00   12.6023   12.4554   12.5982   12.5310  \n",
       "2020-09-30 23:30:00   12.1902   12.2825   12.3476   12.5317  \n",
       "2020-09-30 23:40:00   12.6327   12.7712   12.7478   12.7007  \n",
       "2020-09-30 23:50:00   12.6327   12.7712   12.7478   12.7007  \n",
       "\n",
       "[4320 rows x 10 columns]"
      ]
     },
     "execution_count": 25,
     "metadata": {},
     "output_type": "execute_result"
    }
   ],
   "source": [
    "df[(df.index.month == 9) & (df.index.year == 2020)]"
   ]
  },
  {
   "cell_type": "markdown",
   "metadata": {
    "id": "0EQpZod6ueJx"
   },
   "source": [
    "We can find the average wind speeds in September 2020 by running `.mean()` on the data that we subselect."
   ]
  },
  {
   "cell_type": "code",
   "execution_count": 26,
   "metadata": {
    "id": "T88mybtbueJx"
   },
   "outputs": [
    {
     "data": {
      "text/plain": [
       "wspd18m     6.898349\n",
       "wspd38m     7.353087\n",
       "wspd58m     7.683202\n",
       "wspd78m     7.964463\n",
       "wspd98m     8.164553\n",
       "wspd118m    8.329269\n",
       "wspd138m    8.448159\n",
       "wspd158m    8.540355\n",
       "wspd178m    8.602126\n",
       "wspd198m    8.665282\n",
       "dtype: float64"
      ]
     },
     "execution_count": 26,
     "metadata": {},
     "output_type": "execute_result"
    }
   ],
   "source": [
    "df[(df.index.month == 9) & (df.index.year == 2020)].mean()"
   ]
  },
  {
   "cell_type": "markdown",
   "metadata": {
    "id": "EOLPYrnIueJy"
   },
   "source": [
    "### Visualizing the data\n",
    "\n",
    "So far, we have been looking at average wind speed behavior. How do winds behave throughout time? Let's plot 138 m winds."
   ]
  },
  {
   "cell_type": "code",
   "execution_count": 27,
   "metadata": {
    "id": "kVabKFGBueJy"
   },
   "outputs": [
    {
     "data": {
      "image/png": "[encoded data removed]",
      "text/plain": [
       "<Figure size 576x216 with 1 Axes>"
      ]
     },
     "metadata": {
      "needs_background": "light"
     },
     "output_type": "display_data"
    }
   ],
   "source": [
    "fig, ax = plt.subplots(1, 1, figsize=(8,3))\n",
    "\n",
    "ax.plot(df.index, df['wspd138m'])\n",
    "\n",
    "ax.set_ylabel(\"Wind Speed [m/s]\", fontsize=12)\n",
    "ax.set_xlabel(\"Date\", fontsize=12)\n",
    "\n",
    "plt.show()"
   ]
  },
  {
   "cell_type": "markdown",
   "metadata": {
    "id": "Tvf4m77HueJz"
   },
   "source": [
    "We can see that instantaneous winds can be as strong as 30 m/s or as weak as 0 m/s. Let's smooth this time series by averaging winds every week. More information on the `pandas` resample function can be found [here](https://pandas.pydata.org/docs/reference/api/pandas.DataFrame.resample.html)."
   ]
  },
  {
   "cell_type": "code",
   "execution_count": 28,
   "metadata": {
    "id": "UVBb9cSIueJz"
   },
   "outputs": [],
   "source": [
    "weekly_winds = df.resample(\"W\").mean() # note the \"W\" stands for 'week'"
   ]
  },
  {
   "cell_type": "code",
   "execution_count": 29,
   "metadata": {
    "id": "4sEwmdhAueJ0"
   },
   "outputs": [
    {
     "data": {
      "image/png": "[encoded data removed]",
      "text/plain": [
       "<Figure size 576x216 with 1 Axes>"
      ]
     },
     "metadata": {
      "needs_background": "light"
     },
     "output_type": "display_data"
    }
   ],
   "source": [
    "fig, ax = plt.subplots(1, 1, figsize=(8,3))\n",
    "\n",
    "ax.plot(df.index, df['wspd138m'])\n",
    "ax.plot(weekly_winds.index, weekly_winds['wspd138m'], color='orange')\n",
    "\n",
    "ax.set_ylabel(\"Wind Speed [m/s]\", fontsize=12)\n",
    "ax.set_xlabel(\"Date\", fontsize=12)\n",
    "\n",
    "plt.show()"
   ]
  },
  {
   "cell_type": "markdown",
   "metadata": {},
   "source": [
    "### Bonus: Adding a new column to your Dataframe\n",
    "\n",
    "What if we want to add a column of the average windspeed at all altitudes? It only requires 1 line of code!"
   ]
  },
  {
   "cell_type": "code",
   "execution_count": 30,
   "metadata": {},
   "outputs": [],
   "source": [
    "df['avg_wspd'] = df.mean(axis = 1)"
   ]
  },
  {
   "cell_type": "code",
   "execution_count": 31,
   "metadata": {},
   "outputs": [
    {
     "data": {
      "text/html": [
       "<div>\n",
       "<style scoped>\n",
       "    .dataframe tbody tr th:only-of-type {\n",
       "        vertical-align: middle;\n",
       "    }\n",
       "\n",
       "    .dataframe tbody tr th {\n",
       "        vertical-align: top;\n",
       "    }\n",
       "\n",
       "    .dataframe thead th {\n",
       "        text-align: right;\n",
       "    }\n",
       "</style>\n",
       "<table border=\"1\" class=\"dataframe\">\n",
       "  <thead>\n",
       "    <tr style=\"text-align: right;\">\n",
       "      <th></th>\n",
       "      <th>wspd18m</th>\n",
       "      <th>wspd38m</th>\n",
       "      <th>wspd58m</th>\n",
       "      <th>wspd78m</th>\n",
       "      <th>wspd98m</th>\n",
       "      <th>wspd118m</th>\n",
       "      <th>wspd138m</th>\n",
       "      <th>wspd158m</th>\n",
       "      <th>wspd178m</th>\n",
       "      <th>wspd198m</th>\n",
       "      <th>avg_wspd</th>\n",
       "    </tr>\n",
       "    <tr>\n",
       "      <th>timestamp</th>\n",
       "      <th></th>\n",
       "      <th></th>\n",
       "      <th></th>\n",
       "      <th></th>\n",
       "      <th></th>\n",
       "      <th></th>\n",
       "      <th></th>\n",
       "      <th></th>\n",
       "      <th></th>\n",
       "      <th></th>\n",
       "      <th></th>\n",
       "    </tr>\n",
       "  </thead>\n",
       "  <tbody>\n",
       "    <tr>\n",
       "      <th>2019-08-12 00:00:00</th>\n",
       "      <td>7.2923</td>\n",
       "      <td>7.6785</td>\n",
       "      <td>7.6968</td>\n",
       "      <td>7.8280</td>\n",
       "      <td>7.8013</td>\n",
       "      <td>7.8933</td>\n",
       "      <td>7.8635</td>\n",
       "      <td>7.8858</td>\n",
       "      <td>7.9044</td>\n",
       "      <td>NaN</td>\n",
       "      <td>7.760433</td>\n",
       "    </tr>\n",
       "    <tr>\n",
       "      <th>2019-08-12 00:10:00</th>\n",
       "      <td>7.8613</td>\n",
       "      <td>8.0330</td>\n",
       "      <td>8.0225</td>\n",
       "      <td>7.9279</td>\n",
       "      <td>7.9980</td>\n",
       "      <td>7.9306</td>\n",
       "      <td>8.1698</td>\n",
       "      <td>8.1405</td>\n",
       "      <td>8.0702</td>\n",
       "      <td>8.0487</td>\n",
       "      <td>8.020250</td>\n",
       "    </tr>\n",
       "    <tr>\n",
       "      <th>2019-08-12 00:20:00</th>\n",
       "      <td>7.7594</td>\n",
       "      <td>7.9883</td>\n",
       "      <td>8.0180</td>\n",
       "      <td>8.1314</td>\n",
       "      <td>8.0906</td>\n",
       "      <td>8.1408</td>\n",
       "      <td>8.1291</td>\n",
       "      <td>8.0939</td>\n",
       "      <td>8.2030</td>\n",
       "      <td>8.1353</td>\n",
       "      <td>8.068980</td>\n",
       "    </tr>\n",
       "    <tr>\n",
       "      <th>2019-08-12 00:30:00</th>\n",
       "      <td>7.4891</td>\n",
       "      <td>7.7554</td>\n",
       "      <td>7.7973</td>\n",
       "      <td>7.9551</td>\n",
       "      <td>7.9063</td>\n",
       "      <td>7.9964</td>\n",
       "      <td>7.9652</td>\n",
       "      <td>8.0749</td>\n",
       "      <td>8.0105</td>\n",
       "      <td>8.0792</td>\n",
       "      <td>7.902940</td>\n",
       "    </tr>\n",
       "    <tr>\n",
       "      <th>2019-08-12 00:40:00</th>\n",
       "      <td>7.8829</td>\n",
       "      <td>8.0248</td>\n",
       "      <td>8.1332</td>\n",
       "      <td>8.1741</td>\n",
       "      <td>7.9927</td>\n",
       "      <td>8.1230</td>\n",
       "      <td>8.0443</td>\n",
       "      <td>8.1074</td>\n",
       "      <td>8.1969</td>\n",
       "      <td>8.1296</td>\n",
       "      <td>8.080890</td>\n",
       "    </tr>\n",
       "    <tr>\n",
       "      <th>...</th>\n",
       "      <td>...</td>\n",
       "      <td>...</td>\n",
       "      <td>...</td>\n",
       "      <td>...</td>\n",
       "      <td>...</td>\n",
       "      <td>...</td>\n",
       "      <td>...</td>\n",
       "      <td>...</td>\n",
       "      <td>...</td>\n",
       "      <td>...</td>\n",
       "      <td>...</td>\n",
       "    </tr>\n",
       "    <tr>\n",
       "      <th>2021-03-21 23:10:00</th>\n",
       "      <td>1.7978</td>\n",
       "      <td>1.9557</td>\n",
       "      <td>2.0617</td>\n",
       "      <td>1.9270</td>\n",
       "      <td>1.3744</td>\n",
       "      <td>1.0722</td>\n",
       "      <td>0.9203</td>\n",
       "      <td>0.9038</td>\n",
       "      <td>0.9421</td>\n",
       "      <td>1.2546</td>\n",
       "      <td>1.420960</td>\n",
       "    </tr>\n",
       "    <tr>\n",
       "      <th>2021-03-21 23:20:00</th>\n",
       "      <td>2.6771</td>\n",
       "      <td>2.8746</td>\n",
       "      <td>2.8993</td>\n",
       "      <td>2.9530</td>\n",
       "      <td>2.9098</td>\n",
       "      <td>2.6337</td>\n",
       "      <td>2.1869</td>\n",
       "      <td>1.7314</td>\n",
       "      <td>1.5436</td>\n",
       "      <td>1.6571</td>\n",
       "      <td>2.406650</td>\n",
       "    </tr>\n",
       "    <tr>\n",
       "      <th>2021-03-21 23:30:00</th>\n",
       "      <td>3.2416</td>\n",
       "      <td>3.4077</td>\n",
       "      <td>3.5611</td>\n",
       "      <td>3.5823</td>\n",
       "      <td>3.5930</td>\n",
       "      <td>3.3885</td>\n",
       "      <td>2.9375</td>\n",
       "      <td>2.4509</td>\n",
       "      <td>2.2373</td>\n",
       "      <td>2.2883</td>\n",
       "      <td>3.068820</td>\n",
       "    </tr>\n",
       "    <tr>\n",
       "      <th>2021-03-21 23:40:00</th>\n",
       "      <td>2.7582</td>\n",
       "      <td>2.9039</td>\n",
       "      <td>3.1269</td>\n",
       "      <td>3.4249</td>\n",
       "      <td>3.5028</td>\n",
       "      <td>3.1862</td>\n",
       "      <td>2.9139</td>\n",
       "      <td>2.7500</td>\n",
       "      <td>2.6825</td>\n",
       "      <td>2.6642</td>\n",
       "      <td>2.991350</td>\n",
       "    </tr>\n",
       "    <tr>\n",
       "      <th>2021-03-21 23:50:00</th>\n",
       "      <td>2.5452</td>\n",
       "      <td>2.6611</td>\n",
       "      <td>3.0353</td>\n",
       "      <td>3.5475</td>\n",
       "      <td>3.4993</td>\n",
       "      <td>3.3521</td>\n",
       "      <td>3.1904</td>\n",
       "      <td>3.1565</td>\n",
       "      <td>3.2213</td>\n",
       "      <td>3.2293</td>\n",
       "      <td>3.143800</td>\n",
       "    </tr>\n",
       "  </tbody>\n",
       "</table>\n",
       "<p>84396 rows × 11 columns</p>\n",
       "</div>"
      ],
      "text/plain": [
       "                     wspd18m  wspd38m  wspd58m  wspd78m  wspd98m  wspd118m  \\\n",
       "timestamp                                                                    \n",
       "2019-08-12 00:00:00   7.2923   7.6785   7.6968   7.8280   7.8013    7.8933   \n",
       "2019-08-12 00:10:00   7.8613   8.0330   8.0225   7.9279   7.9980    7.9306   \n",
       "2019-08-12 00:20:00   7.7594   7.9883   8.0180   8.1314   8.0906    8.1408   \n",
       "2019-08-12 00:30:00   7.4891   7.7554   7.7973   7.9551   7.9063    7.9964   \n",
       "2019-08-12 00:40:00   7.8829   8.0248   8.1332   8.1741   7.9927    8.1230   \n",
       "...                      ...      ...      ...      ...      ...       ...   \n",
       "2021-03-21 23:10:00   1.7978   1.9557   2.0617   1.9270   1.3744    1.0722   \n",
       "2021-03-21 23:20:00   2.6771   2.8746   2.8993   2.9530   2.9098    2.6337   \n",
       "2021-03-21 23:30:00   3.2416   3.4077   3.5611   3.5823   3.5930    3.3885   \n",
       "2021-03-21 23:40:00   2.7582   2.9039   3.1269   3.4249   3.5028    3.1862   \n",
       "2021-03-21 23:50:00   2.5452   2.6611   3.0353   3.5475   3.4993    3.3521   \n",
       "\n",
       "                     wspd138m  wspd158m  wspd178m  wspd198m  avg_wspd  \n",
       "timestamp                                                              \n",
       "2019-08-12 00:00:00    7.8635    7.8858    7.9044       NaN  7.760433  \n",
       "2019-08-12 00:10:00    8.1698    8.1405    8.0702    8.0487  8.020250  \n",
       "2019-08-12 00:20:00    8.1291    8.0939    8.2030    8.1353  8.068980  \n",
       "2019-08-12 00:30:00    7.9652    8.0749    8.0105    8.0792  7.902940  \n",
       "2019-08-12 00:40:00    8.0443    8.1074    8.1969    8.1296  8.080890  \n",
       "...                       ...       ...       ...       ...       ...  \n",
       "2021-03-21 23:10:00    0.9203    0.9038    0.9421    1.2546  1.420960  \n",
       "2021-03-21 23:20:00    2.1869    1.7314    1.5436    1.6571  2.406650  \n",
       "2021-03-21 23:30:00    2.9375    2.4509    2.2373    2.2883  3.068820  \n",
       "2021-03-21 23:40:00    2.9139    2.7500    2.6825    2.6642  2.991350  \n",
       "2021-03-21 23:50:00    3.1904    3.1565    3.2213    3.2293  3.143800  \n",
       "\n",
       "[84396 rows x 11 columns]"
      ]
     },
     "execution_count": 31,
     "metadata": {},
     "output_type": "execute_result"
    }
   ],
   "source": [
    "df"
   ]
  }
 ],
 "metadata": {
  "colab": {
   "name": "day03_timeseries.ipynb",
   "provenance": []
  },
  "kernelspec": {
   "display_name": "Python 3 (ipykernel)",
   "language": "python",
   "name": "python3"
  },
  "language_info": {
   "codemirror_mode": {
    "name": "ipython",
    "version": 3
   },
   "file_extension": ".py",
   "mimetype": "text/x-python",
   "name": "python",
   "nbconvert_exporter": "python",
   "pygments_lexer": "ipython3",
   "version": "3.8.13"
  }
 },
 "nbformat": 4,
 "nbformat_minor": 4
}
