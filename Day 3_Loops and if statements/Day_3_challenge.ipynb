{
 "cells": [
  {
   "cell_type": "markdown",
   "metadata": {},
   "source": [
    "## Day 3 Afternoon Challenge\n",
    "The goal today is to compare seasonal timeseries of the lidar 18m wind data. A suggestion of steps are shown below, but this code can be written many different ways (and more efficiently than suggested below). If you have an idea of how to proceed, ignore the comments! The comments should be used if you have no idea where to get started.\n",
    "\n",
    "<font color='blue'>Tasks you must complete are in blue</font>, <font color='red'>while extra challenge tasks are in red</font>.\n",
    "\n",
    "The challenge is to: \n",
    "    <br/> <font color='blue'>1. Make a plot or plots that compare(s) data from each season in 2020. The timesteps should be daily-averaged windspeed.\n",
    "    <br/> <font color='blue'>2. Write a description comparing the seasonal wind trends\n",
    "    <br/> <font color='red'>3. Produce the same comparison as 1 but this time, using both 2019 and 2020 dates to calculate the daily-averaged windspeed."
   ]
  },
  {
   "cell_type": "markdown",
   "metadata": {},
   "source": [
    "<h1><font color='blue'> 1. "
   ]
  },
  {
   "cell_type": "code",
   "execution_count": null,
   "metadata": {},
   "outputs": [],
   "source": [
    "# Load in libraries / packages you might need here\n",
    "\n",
    "\n",
    "\n"
   ]
  },
  {
   "cell_type": "code",
   "execution_count": null,
   "metadata": {},
   "outputs": [],
   "source": [
    "# Load in the exact same wind data we used previously (feel free to copy and paste the code from the\n",
    "# morning session).\n",
    "\n",
    "\n"
   ]
  },
  {
   "cell_type": "code",
   "execution_count": null,
   "metadata": {},
   "outputs": [],
   "source": [
    "# Using a 'for' loop (or using separate for loops for each season if you prefer), create numpy arrays for \n",
    "# each season containing wind speed data for that season\n",
    "\n",
    "# We will define the seasons here as:\n",
    "#  Winter: Dec, Jan, Feb\n",
    "#  Spring: March, Apr, May\n",
    "#  Summer: June, July, Aug\n",
    "#  Fall: Sept, Oct, Nov\n",
    "\n",
    "\n",
    "\n",
    "\n"
   ]
  },
  {
   "cell_type": "code",
   "execution_count": null,
   "metadata": {},
   "outputs": [],
   "source": [
    "# Using a 'for' loop or multiple for loops, retrieve the average daily windspeed for each of the seasons\n",
    "\n"
   ]
  },
  {
   "cell_type": "code",
   "execution_count": null,
   "metadata": {},
   "outputs": [],
   "source": [
    "# Plot the daily windspeed for each of the four seasons as a timeseries on the same plot. \n",
    "# Use different colors and add a legend to make it beautiful!\n",
    "\n"
   ]
  },
  {
   "cell_type": "markdown",
   "metadata": {},
   "source": [
    "<h1><font color='blue'> 2. "
   ]
  },
  {
   "cell_type": "markdown",
   "metadata": {},
   "source": [
    "Write a few sentences of observations you see based on your seasonal wind results\n",
    "\n"
   ]
  },
  {
   "cell_type": "markdown",
   "metadata": {},
   "source": [
    "<h1><font color='red'> 3. "
   ]
  },
  {
   "cell_type": "code",
   "execution_count": null,
   "metadata": {},
   "outputs": [],
   "source": []
  }
 ],
 "metadata": {
  "kernelspec": {
   "display_name": "Python 3 (ipykernel)",
   "language": "python",
   "name": "python3"
  },
  "language_info": {
   "codemirror_mode": {
    "name": "ipython",
    "version": 3
   },
   "file_extension": ".py",
   "mimetype": "text/x-python",
   "name": "python",
   "nbconvert_exporter": "python",
   "pygments_lexer": "ipython3",
   "version": "3.8.13"
  }
 },
 "nbformat": 4,
 "nbformat_minor": 4
}
