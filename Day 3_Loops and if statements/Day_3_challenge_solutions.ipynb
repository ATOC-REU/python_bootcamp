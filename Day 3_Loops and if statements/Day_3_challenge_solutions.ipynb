{
 "cells": [
  {
   "cell_type": "markdown",
   "metadata": {},
   "source": [
    "## Day 3 Afternoon Challenge\n",
    "The goal today is to compare seasonal timeseries of the lidar 18m wind data. A suggestion of steps are shown below, but this code can be written many different ways (and more efficiently than suggested below). If you have an idea of how to proceed, ignore the comments! The comments should be used if you have no idea where to get started.\n",
    "\n",
    "<font color='blue'>Tasks you must complete are in blue</font>, <font color='red'>while extra challenge tasks are in red</font>.\n",
    "\n",
    "The challenge is to: \n",
    "    <br/> <font color='blue'>1. Make a plot or plots that compare(s) data from each season in 2020. The timesteps should be daily-averaged windspeed.\n",
    "    <br/> <font color='blue'>2. Write a description comparing the seasonal wind trends\n",
    "    <br/> <font color='red'>3. Produce the same comparison as 1 but this time, using both 2019 and 2020 dates to calculate the daily-averaged windspeed."
   ]
  },
  {
   "cell_type": "markdown",
   "metadata": {},
   "source": [
    "<h1><font color='blue'> 1. "
   ]
  },
  {
   "cell_type": "code",
   "execution_count": null,
   "metadata": {},
   "outputs": [],
   "source": [
    "# Load in libraries / packages you might need here\n",
    "import matplotlib.path as mpath\n",
    "import matplotlib.pyplot as plt\n",
    "import numpy as np\n",
    "from numpy import savetxt\n",
    "import pandas as pd\n",
    "import matplotlib.colors\n",
    "from matplotlib import cm"
   ]
  },
  {
   "cell_type": "code",
   "execution_count": null,
   "metadata": {},
   "outputs": [],
   "source": [
    "# Load in the exact same wind data we used previously (feel free to copy and paste the code from the\n",
    "# morning session).\n",
    "\n",
    "# Uploading data-don't need to worry about how to write any of this code yet!\n",
    "lidar_winds = pd.read_csv('lidar_winds_short.csv')\n",
    "lidar_winds['timestamp'] = pd.to_datetime(lidar_winds['timestamp'])\n",
    "\n",
    "# Separate our year, month, day, time\n",
    "lidar_winds['Year'] = pd.DatetimeIndex(lidar_winds['timestamp']).year\n",
    "lidar_winds['Month'] = pd.DatetimeIndex(lidar_winds['timestamp']).month\n",
    "lidar_winds['Day'] = pd.DatetimeIndex(lidar_winds['timestamp']).day\n",
    "lidar_winds['Time'] = pd.DatetimeIndex(lidar_winds['timestamp']).time\n",
    "\n",
    "# Create numpy arrays of values from dataarray\n",
    "wind18m = np.asarray(lidar_winds['wspd18m'])\n",
    "year = np.asarray(lidar_winds['Year'])\n",
    "month = np.asarray(lidar_winds['Month'])\n",
    "day = np.asarray(lidar_winds['Day'])\n",
    "time = np.asarray(lidar_winds['Time'])"
   ]
  },
  {
   "cell_type": "markdown",
   "metadata": {},
   "source": [
    "<h3> Retrieve arrays containing daily averages of wind speed for all four seasons in 2020"
   ]
  },
  {
   "cell_type": "code",
   "execution_count": null,
   "metadata": {},
   "outputs": [],
   "source": [
    "# Using a 'for' loop (or using separate for loops for each season if you prefer), create numpy arrays for \n",
    "# each season containing wind speed data for that season\n",
    "\n",
    "# We will define the seasons here as:\n",
    "#  Winter: Dec, Jan, Feb\n",
    "#  Spring: March, Apr, May\n",
    "#  Summer: June, July, Aug\n",
    "#  Fall: Sept, Oct, Nov\n",
    "\n",
    "# Let the variable num_times represent the number of times we have in our data \n",
    "num_times = len(wind18m)\n",
    "\n",
    "# Initialize empty numpy arrays to store the wind speed for all times in each season\n",
    "wind_winter_2020 = np.array([])\n",
    "wind_spring_2020 = np.array([])\n",
    "wind_summer_2020 = np.array([])\n",
    "wind_fall_2020 = np.array([])\n",
    "\n",
    "# For a range of consecutive values from zero to the number of values in the wind array, do the following\n",
    "for i in range(num_times):\n",
    "    \n",
    "    # Save the information we need for the next steps of the loop into variables\n",
    "    year_i = year[i]\n",
    "    month_i = month[i]\n",
    "    wdsp = wind18m[i]\n",
    "    \n",
    "    # If the year is 2020 then do the following\n",
    "    if(year_i ==2020):\n",
    "        \n",
    "        # If the month is in the winter, then add the wind speed to the winter wind array\n",
    "        if (month_i == 12 or month_i == 1 or month_i == 2):\n",
    "            wind_winter_2020 = np.append(wind_winter_2020,wdsp)\n",
    "        \n",
    "        # If the month is in the spring, then add the wind speed to the spring wind array\n",
    "        elif (month_i == 3 or month_i == 4 or month_i == 5):\n",
    "            wind_spring_2020 = np.append(wind_spring_2020,wdsp)\n",
    "            \n",
    "        # If the month is in the summer, then add the wind speed to the spring wind array\n",
    "        elif (month_i == 6 or month_i == 7 or month_i == 8):\n",
    "            wind_summer_2020 = np.append(wind_summer_2020,wdsp)\n",
    "            \n",
    "        # If none of the conditions above are met, then the month must be in Fall, and we \n",
    "        # should add the wind speed to the fall wind array\n",
    "        else:\n",
    "            wind_fall_2020 = np.append(wind_fall_2020,wdsp)"
   ]
  },
  {
   "cell_type": "code",
   "execution_count": null,
   "metadata": {},
   "outputs": [],
   "source": [
    "# Using a 'for' loop or multiple for loops, retrieve the average daily windspeed for each of the seasons\n",
    "\n",
    "# Initialize new empty numpy arrays to store the daily-averaged wind speed for season\n",
    "daily_wind_winter_2020 = np.array([])\n",
    "daily_wind_spring_2020 = np.array([])\n",
    "daily_wind_summer_2020 = np.array([])\n",
    "daily_wind_fall_2020 = np.array([])\n",
    "\n",
    "# Assign to four different variables the number of times in each season of 2020\n",
    "num_times_winter_2020 = len(wind_winter_2020)\n",
    "num_times_spring_2020 = len(wind_spring_2020)\n",
    "num_times_summer_2020 = len(wind_summer_2020)\n",
    "num_times_fall_2020 = len(wind_fall_2020)\n",
    "\n",
    "# Since each seasonal array of winds has a different number of days/times, we can use four separate\n",
    "# for loops to iterate through the wind speeds in each season and calculate the daily averages\n",
    "\n",
    "# For a range of consecutive values from zero to the total number of daily timesteps in Fall (the number \n",
    "# of 10 minutely timesteps divided by 6*24, since there are six 10-minute intervals in an hour, and 24\n",
    "# hours in a day)\n",
    "for j in range(int(num_times_winter_2020/(6*24))):\n",
    "    \n",
    "    # Make a separate counter k, which counts through all of the 10-minutely winter timesteps in each day\n",
    "    k=j*6*24\n",
    "    \n",
    "    # Calculate the wind speed for this day as the average wind speed across the the k, k+1, k+2,...,k+6*24\n",
    "    # timesteps of the 10 minute data\n",
    "    daily_wdsp = np.nanmean(wind_winter_2020[k:k+(6*24)])\n",
    "    \n",
    "    # Save the new average of wind speed found for the current day into our new arrays\n",
    "    daily_wind_winter_2020 = np.append(daily_wind_winter_2020, daily_wdsp)\n",
    "    \n",
    "# Repeat the same procedure as above but for spring\n",
    "for j in range(int(num_times_spring_2020/(6*24))):\n",
    "    k=j*6*24\n",
    "    daily_wdsp = np.nanmean(wind_spring_2020[k:k+(6*24)])\n",
    "    daily_wind_spring_2020 = np.append(daily_wind_spring_2020, daily_wdsp)\n",
    "\n",
    "# Repeat the same procedure as above but for summer\n",
    "for j in range(int(num_times_summer_2020/(6*24))):\n",
    "    k=j*6*24\n",
    "    daily_wdsp = np.nanmean(wind_summer_2020[k:k+(6*24)])\n",
    "    daily_wind_summer_2020 = np.append(daily_wind_summer_2020, daily_wdsp)\n",
    "\n",
    "# Repeat the same procedure as above but for fall\n",
    "for j in range(int(num_times_fall_2020/(6*24))):\n",
    "    k=j*6*24\n",
    "    daily_wdsp = np.nanmean(wind_fall_2020[k:k+(6*24)])\n",
    "    daily_wind_fall_2020 = np.append(daily_wind_fall_2020, daily_wdsp)\n"
   ]
  },
  {
   "cell_type": "markdown",
   "metadata": {},
   "source": [
    "<h2> Plot all of the seasons on one graph"
   ]
  },
  {
   "cell_type": "code",
   "execution_count": null,
   "metadata": {},
   "outputs": [],
   "source": [
    "# Plot the daily windspeed for each of the four seasons as a timeseries on the same plot. \n",
    "# Use different colors and add a legend to make it beautiful!\n",
    "\n",
    "# For each season, make arrays that mark the number of the day of each avarage wind speed\n",
    "days_winter = np.arange(0,len(daily_wind_winter_2020))\n",
    "days_spring = np.arange(0,len(daily_wind_spring_2020))\n",
    "days_summer = np.arange(0,len(daily_wind_summer_2020))\n",
    "days_fall = np.arange(0,len(daily_wind_fall_2020))\n",
    "\n",
    "# Plot each of the four seasons as a timeseries on the same plot. \n",
    "# Use different colors and add a legend to make it beautiful!\n",
    "\n",
    "# Create the figure\n",
    "fig=plt.figure(figsize=(24,6))\n",
    "# Add one subplot to figure\n",
    "ax= fig.add_subplot(1, 1, 1)\n",
    "\n",
    "# Name and plot day on the x axis, wind on the y\n",
    "# plot each season. Make sure to include a label for the legend\n",
    "plt.plot(days_winter, daily_wind_winter_2020, color='orange', label='Winter (DJF)')\n",
    "plt.plot(days_spring, daily_wind_spring_2020, color='blue', label='Spring (MAM)')\n",
    "plt.plot(days_summer, daily_wind_summer_2020, color='red', label='Summer (JJA)')\n",
    "plt.plot(days_fall, daily_wind_fall_2020, color='green', label='Fall (SON)')\n",
    "\n",
    "\n",
    "# Add grid lines\n",
    "plt.grid()\n",
    "\n",
    "# Add title and axis labels\n",
    "ax.set_title('Daily Averaged 18m Wind in 2020')\n",
    "ax.set_xlabel('Day of the Season')\n",
    "ax.set_ylabel('Wind (m/s)')\n",
    "\n",
    "# Add a legend for each season\n",
    "plt.legend()\n",
    "\n",
    "\n",
    "plt.show()"
   ]
  },
  {
   "cell_type": "markdown",
   "metadata": {},
   "source": [
    "<h1><font color='blue'> 2. "
   ]
  },
  {
   "cell_type": "markdown",
   "metadata": {},
   "source": [
    "Write a few sentences of observations you see based on your seasonal winds.\n",
    "\n",
    "- Winter tends to have higher 18m winds than Summer. \n",
    "- The maximum winds occurred in Fall.\n",
    "- The minimum winds occurred in Summer. "
   ]
  },
  {
   "cell_type": "markdown",
   "metadata": {},
   "source": [
    "<h1><font color='red'> 3. "
   ]
  },
  {
   "cell_type": "code",
   "execution_count": null,
   "metadata": {},
   "outputs": [],
   "source": []
  }
 ],
 "metadata": {
  "kernelspec": {
   "display_name": "Python 3 (ipykernel)",
   "language": "python",
   "name": "python3"
  },
  "language_info": {
   "codemirror_mode": {
    "name": "ipython",
    "version": 3
   },
   "file_extension": ".py",
   "mimetype": "text/x-python",
   "name": "python",
   "nbconvert_exporter": "python",
   "pygments_lexer": "ipython3",
   "version": "3.8.16"
  }
 },
 "nbformat": 4,
 "nbformat_minor": 4
}
