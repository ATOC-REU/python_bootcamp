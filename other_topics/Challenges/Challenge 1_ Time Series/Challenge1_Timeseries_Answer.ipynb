{
 "cells": [
  {
   "cell_type": "markdown",
   "metadata": {},
   "source": [
    "<h1> Time Series Challenge!"
   ]
  },
  {
   "cell_type": "markdown",
   "metadata": {},
   "source": [
    "You will be working with lightening data and graphing time series. <br/> <font color='blue'>1. Import any libraries you might need. "
   ]
  },
  {
   "cell_type": "code",
   "execution_count": 2,
   "metadata": {},
   "outputs": [],
   "source": [
    "import cartopy.crs as ccrs\n",
    "import cartopy.feature as cfeature\n",
    "import matplotlib.path as mpath\n",
    "import matplotlib.pyplot as plt\n",
    "import numpy as np\n",
    "from numpy import savetxt\n",
    "import xarray as xr\n",
    "import os\n",
    "import scipy\n",
    "import pandas as pd\n",
    "import matplotlib.colors\n",
    "from matplotlib import cm\n",
    "import netCDF4\n",
    "from netCDF4 import Dataset"
   ]
  },
  {
   "cell_type": "markdown",
   "metadata": {},
   "source": [
    "The data file is named lightening_2019.csv\n",
    "\n",
    "<font color='blue'> <br/> 2. Read in the data. Here you can use numpy arrays or panda dataframes. "
   ]
  },
  {
   "cell_type": "code",
   "execution_count": 11,
   "metadata": {},
   "outputs": [],
   "source": [
    "lightening=pd.read_csv('lightening_2019.csv')\n",
    "time=np.asarray(lightening['date'])\n",
    "lightening_count=np.asarray(lightening['number'])"
   ]
  },
  {
   "cell_type": "markdown",
   "metadata": {},
   "source": [
    "<font color='blue'> 3. Figure out what each column contains"
   ]
  },
  {
   "cell_type": "code",
   "execution_count": 9,
   "metadata": {},
   "outputs": [
    {
     "data": {
      "text/html": [
       "<div>\n",
       "<style scoped>\n",
       "    .dataframe tbody tr th:only-of-type {\n",
       "        vertical-align: middle;\n",
       "    }\n",
       "\n",
       "    .dataframe tbody tr th {\n",
       "        vertical-align: top;\n",
       "    }\n",
       "\n",
       "    .dataframe thead th {\n",
       "        text-align: right;\n",
       "    }\n",
       "</style>\n",
       "<table border=\"1\" class=\"dataframe\">\n",
       "  <thead>\n",
       "    <tr style=\"text-align: right;\">\n",
       "      <th></th>\n",
       "      <th>date</th>\n",
       "      <th>lat</th>\n",
       "      <th>lon</th>\n",
       "      <th>number</th>\n",
       "    </tr>\n",
       "  </thead>\n",
       "  <tbody>\n",
       "    <tr>\n",
       "      <th>0</th>\n",
       "      <td>20190101</td>\n",
       "      <td>-83.4</td>\n",
       "      <td>36.3</td>\n",
       "      <td>1</td>\n",
       "    </tr>\n",
       "    <tr>\n",
       "      <th>1</th>\n",
       "      <td>20190101</td>\n",
       "      <td>-88.5</td>\n",
       "      <td>29.0</td>\n",
       "      <td>2</td>\n",
       "    </tr>\n",
       "    <tr>\n",
       "      <th>2</th>\n",
       "      <td>20190101</td>\n",
       "      <td>-87.2</td>\n",
       "      <td>32.0</td>\n",
       "      <td>1</td>\n",
       "    </tr>\n",
       "    <tr>\n",
       "      <th>3</th>\n",
       "      <td>20190101</td>\n",
       "      <td>-84.2</td>\n",
       "      <td>35.0</td>\n",
       "      <td>1</td>\n",
       "    </tr>\n",
       "    <tr>\n",
       "      <th>4</th>\n",
       "      <td>20190101</td>\n",
       "      <td>-83.6</td>\n",
       "      <td>35.0</td>\n",
       "      <td>1</td>\n",
       "    </tr>\n",
       "    <tr>\n",
       "      <th>...</th>\n",
       "      <td>...</td>\n",
       "      <td>...</td>\n",
       "      <td>...</td>\n",
       "      <td>...</td>\n",
       "    </tr>\n",
       "    <tr>\n",
       "      <th>3073230</th>\n",
       "      <td>20191231</td>\n",
       "      <td>-63.0</td>\n",
       "      <td>40.1</td>\n",
       "      <td>1</td>\n",
       "    </tr>\n",
       "    <tr>\n",
       "      <th>3073231</th>\n",
       "      <td>20191231</td>\n",
       "      <td>-63.2</td>\n",
       "      <td>40.1</td>\n",
       "      <td>1</td>\n",
       "    </tr>\n",
       "    <tr>\n",
       "      <th>3073232</th>\n",
       "      <td>20191231</td>\n",
       "      <td>-63.0</td>\n",
       "      <td>40.2</td>\n",
       "      <td>1</td>\n",
       "    </tr>\n",
       "    <tr>\n",
       "      <th>3073233</th>\n",
       "      <td>20191231</td>\n",
       "      <td>-64.2</td>\n",
       "      <td>40.2</td>\n",
       "      <td>1</td>\n",
       "    </tr>\n",
       "    <tr>\n",
       "      <th>3073234</th>\n",
       "      <td>20191231</td>\n",
       "      <td>-63.9</td>\n",
       "      <td>40.2</td>\n",
       "      <td>1</td>\n",
       "    </tr>\n",
       "  </tbody>\n",
       "</table>\n",
       "<p>3073235 rows × 4 columns</p>\n",
       "</div>"
      ],
      "text/plain": [
       "             date   lat   lon  number\n",
       "0        20190101 -83.4  36.3       1\n",
       "1        20190101 -88.5  29.0       2\n",
       "2        20190101 -87.2  32.0       1\n",
       "3        20190101 -84.2  35.0       1\n",
       "4        20190101 -83.6  35.0       1\n",
       "...           ...   ...   ...     ...\n",
       "3073230  20191231 -63.0  40.1       1\n",
       "3073231  20191231 -63.2  40.1       1\n",
       "3073232  20191231 -63.0  40.2       1\n",
       "3073233  20191231 -64.2  40.2       1\n",
       "3073234  20191231 -63.9  40.2       1\n",
       "\n",
       "[3073235 rows x 4 columns]"
      ]
     },
     "execution_count": 9,
     "metadata": {},
     "output_type": "execute_result"
    }
   ],
   "source": [
    "lightening"
   ]
  },
  {
   "cell_type": "markdown",
   "metadata": {},
   "source": [
    "<font color='blue'> 4. You will notice that each row is a date and a location that has a certain count of lightening strikes. We want to know how many strikes happen per day, no matter where they occur. Use your epic new coding skills to create this dataset. "
   ]
  },
  {
   "cell_type": "code",
   "execution_count": 45,
   "metadata": {},
   "outputs": [],
   "source": [
    "##This can be done many ways so don't worry if yours looks different!\n",
    "\n",
    "#initialize a np array that you will use to store data\n",
    "final_count_data=np.array([0,0])\n",
    "new_data=[0,0]\n",
    "\n",
    "#loop through each row of original data\n",
    "for i in range(len(lightening_count)-1):\n",
    "    #if the time in the i position is the same as the time int he i+1 position, we want to have a\n",
    "    #new row of data with the data and the two counts of lightening added together\n",
    "    if (time[i]==time[i+1]):\n",
    "        new_data=[time[i],new_data[1]+lightening_count[i+1]]\n",
    "    #if the two dates are not the same, we want to add the data from the old date to out \n",
    "    #new data storage, and we want to then make the new data reflect the new data and the initial \n",
    "    #lightening count from that date\n",
    "    else:\n",
    "        final_count_data=np.vstack((final_count_data,new_data))\n",
    "        new_data=[time[i+1],lightening_count[i+1]]\n",
    "\n",
    "#For the last day, we need to make sure        \n",
    "final_count_data=np.vstack((final_count_data,new_data))\n",
    "final_count_data=np.delete(final_count_data,0,0)\n"
   ]
  },
  {
   "cell_type": "markdown",
   "metadata": {},
   "source": [
    "<font color='blue'>5. You know should a time series of dates with total lightening strikes for each day. Graph this time series and make it beautiful! Experiment with:\n",
    "* <font color='blue'>Formatting the dates nicely on the x-axis\n",
    "* <font color='blue'>Making sure the x and y axes have readable labels and titles\n",
    "* <font color='blue'>Labeling the months along the x axis instead of days\n"
   ]
  },
  {
   "cell_type": "code",
   "execution_count": 79,
   "metadata": {},
   "outputs": [
    {
     "data": {
      "image/png": "[encoded data removed]",
      "text/plain": [
       "<Figure size 864x432 with 1 Axes>"
      ]
     },
     "metadata": {
      "needs_background": "light"
     },
     "output_type": "display_data"
    }
   ],
   "source": [
    "#Create the figure\n",
    "fig=plt.figure(figsize=(12,6))\n",
    "#add one subplot to figure\n",
    "ax= fig.add_subplot(1, 1, 1)\n",
    "\n",
    "#name and plot time on the x axis, wind on the y\n",
    "time=np.linspace(0,358,359)\n",
    "wind=final_count_data[:,1].astype('float64')\n",
    "\n",
    "plt.plot(time, wind,color='black')\n",
    "\n",
    "plt.show()"
   ]
  },
  {
   "cell_type": "markdown",
   "metadata": {},
   "source": [
    "<font color='red'> 6. We have now seen the time series of total number of lightening strikes per day.\n",
    "<br/> Based on the latitude and longitude in each row of the original data, try to make a spatial map to visualize that data."
   ]
  },
  {
   "cell_type": "code",
   "execution_count": null,
   "metadata": {},
   "outputs": [],
   "source": []
  }
 ],
 "metadata": {
  "kernelspec": {
   "display_name": "Python 3",
   "language": "python",
   "name": "python3"
  },
  "language_info": {
   "codemirror_mode": {
    "name": "ipython",
    "version": 3
   },
   "file_extension": ".py",
   "mimetype": "text/x-python",
   "name": "python",
   "nbconvert_exporter": "python",
   "pygments_lexer": "ipython3",
   "version": "3.8.5"
  }
 },
 "nbformat": 4,
 "nbformat_minor": 4
}
