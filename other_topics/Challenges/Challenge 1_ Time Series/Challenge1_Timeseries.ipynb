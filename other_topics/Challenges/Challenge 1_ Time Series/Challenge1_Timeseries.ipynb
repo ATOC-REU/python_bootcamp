{
 "cells": [
  {
   "cell_type": "markdown",
   "metadata": {},
   "source": [
    "<h1> Time Series Challenge!"
   ]
  },
  {
   "cell_type": "markdown",
   "metadata": {},
   "source": [
    "You will be working with lightening data and graphing time series. <br/> <font color='blue'>1. Import any libraries you might need. "
   ]
  },
  {
   "cell_type": "code",
   "execution_count": 2,
   "metadata": {},
   "outputs": [],
   "source": []
  },
  {
   "cell_type": "markdown",
   "metadata": {},
   "source": [
    "The data file is named lightening_2019.csv\n",
    "\n",
    "<font color='blue'> <br/> 2. Read in the data. Here you can use numpy arrays or panda dataframes. "
   ]
  },
  {
   "cell_type": "code",
   "execution_count": 11,
   "metadata": {},
   "outputs": [],
   "source": []
  },
  {
   "cell_type": "markdown",
   "metadata": {},
   "source": [
    "<font color='blue'> 3. Figure out what each column contains"
   ]
  },
  {
   "cell_type": "code",
   "execution_count": null,
   "metadata": {},
   "outputs": [],
   "source": [
    "\n"
   ]
  },
  {
   "cell_type": "markdown",
   "metadata": {},
   "source": [
    "<font color='blue'> 4. You will notice that each row is a date and a location that has a certain count of lightening strikes. We want to know how many strikes happen per day, no matter where they occur. Use your epic new coding skills to create this dataset. "
   ]
  },
  {
   "cell_type": "code",
   "execution_count": 45,
   "metadata": {},
   "outputs": [],
   "source": [
    "\n"
   ]
  },
  {
   "cell_type": "markdown",
   "metadata": {},
   "source": [
    "<font color='blue'>5. You know should a time series of dates with total lightening strikes for each day. Graph this time series and make it beautiful! Experiment with:\n",
    "* <font color='blue'>Formatting the dates nicely on the x-axis\n",
    "* <font color='blue'>Making sure the x and y axes have readable labels and titles\n",
    "* <font color='blue'>Labeling the months along the x axis instead of days\n"
   ]
  },
  {
   "cell_type": "code",
   "execution_count": null,
   "metadata": {},
   "outputs": [],
   "source": []
  },
  {
   "cell_type": "markdown",
   "metadata": {},
   "source": [
    "<font color='red'> 6. We have now seen the time series of total number of lightening strikes per day.\n",
    "<br/> Based on the latitude and longitude in each row of the original data, try to make a spatial map to visualize that data."
   ]
  },
  {
   "cell_type": "code",
   "execution_count": null,
   "metadata": {},
   "outputs": [],
   "source": []
  }
 ],
 "metadata": {
  "kernelspec": {
   "display_name": "Python 3",
   "language": "python",
   "name": "python3"
  },
  "language_info": {
   "codemirror_mode": {
    "name": "ipython",
    "version": 3
   },
   "file_extension": ".py",
   "mimetype": "text/x-python",
   "name": "python",
   "nbconvert_exporter": "python",
   "pygments_lexer": "ipython3",
   "version": "3.8.5"
  }
 },
 "nbformat": 4,
 "nbformat_minor": 4
}
