{
 "cells": [
  {
   "cell_type": "markdown",
   "id": "bd772ae4-d455-4cd3-a0e6-48482476c82d",
   "metadata": {},
   "source": [
    "# Final Day Challenge - Simple PDE System Lorenz Chaos"
   ]
  },
  {
   "cell_type": "markdown",
   "id": "99fdf45d-71ee-476a-a41e-b5c4de3ee71d",
   "metadata": {},
   "source": [
    "Use the included L63.py file to run a set of simulations of the Lorenz system and explore chaos"
   ]
  },
  {
   "cell_type": "code",
   "execution_count": null,
   "id": "30f34b54-905e-4436-87c9-8732e6950329",
   "metadata": {},
   "outputs": [],
   "source": [
    "#Example usage of generating the data and plotting in 3D\n",
    "from L63 import *\n",
    "\n",
    "output_data = run_l63([0,0.1, 0.2], 100, 10000)\n",
    "plot_l63(output_data)"
   ]
  },
  {
   "cell_type": "markdown",
   "id": "31928961-90c6-4ff0-ab6c-b2bcfc79a801",
   "metadata": {},
   "source": [
    "### Ideas for exploring chaos.\n",
    "\n",
    "Plot multiple data runs with different initial conditions. Use a varying number of steps and time length to explore the variety of results.\n",
    "\n",
    "Using only one data run, verify that the line never intesects itself, anywhere.\n",
    "\n",
    "Look into further details of 3D plotting or run this with a python command line to work as an interactive plot.\n",
    "\n",
    "Try using initial conditions that are extremely similar (10e-4) or smaller and see how long until the solutions diverge (different answers by 10e-2 or more).\n",
    "\n",
    "Try adjusting some of the internal parameters in the L63 file to see the responses to chaos. If you can calculate a divergence time, see how that changes as the parameters change.\n"
   ]
  },
  {
   "cell_type": "code",
   "execution_count": null,
   "id": "88d0284f-c1ad-4cf6-8327-5a9dee4e26d8",
   "metadata": {},
   "outputs": [],
   "source": []
  }
 ],
 "metadata": {
  "kernelspec": {
   "display_name": "Python 3",
   "language": "python",
   "name": "python3"
  },
  "language_info": {
   "codemirror_mode": {
    "name": "ipython",
    "version": 3
   },
   "file_extension": ".py",
   "mimetype": "text/x-python",
   "name": "python",
   "nbconvert_exporter": "python",
   "pygments_lexer": "ipython3",
   "version": "3.9.5"
  }
 },
 "nbformat": 4,
 "nbformat_minor": 5
}
