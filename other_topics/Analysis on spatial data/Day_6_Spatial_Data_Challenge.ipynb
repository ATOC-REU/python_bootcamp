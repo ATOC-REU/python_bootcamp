{
 "cells": [
  {
   "cell_type": "markdown",
   "metadata": {},
   "source": [
    "# REU 2021-06-08 Spatial Data - Challenge"
   ]
  },
  {
   "cell_type": "markdown",
   "metadata": {},
   "source": [
    "## Instructions\n",
    "**Your aim is to compute the southern hemisphere sea ice area for the month of March in 2020, and if you have time expand this code to download all months in 2020 and compute the sea ice area**\n",
    "\n",
    "- **1 Download March 2020 Southern Hemisphere sea ice concentration data (monthly) from NSIDC from this [website](https://nsidc.org/data/g02202) using their FTP server. You are looking to use the data variable** `goddard_merged_seaice_conc_monthly`\n",
    "- **2 Plot the data values and remove the pole hole, lakes, coastal, land, and missing_data (set values in these regions to np.nan), you'll want to use [`xarray.where`]\n",
    "(http://xarray.pydata.org/en/stable/generated/xarray.DataArray.where.html)**\n",
    "- **3 Weight the gridded data and sum up the sea ice area (cell area x sea ice conentration per grid cell)**<br>\n",
    "\n",
    "### Extension\n",
    "- **4 Now download and compute the southern hemisphere sea ice area for all months from 2020**"
   ]
  },
  {
   "cell_type": "markdown",
   "metadata": {},
   "source": [
    "## 1 Download March 2020 Southern Hemisphere data\n",
    "### 1.1 Find the URL to use with wget to download the data\n",
    "**Go to https://nsidc.org/data/g02202 and navigate to the 'Download Data' tab and click 'Go to FTP'**<br>\n",
    "**Then open this in 'finder', you'll then want to navigate to** `south>monthly` **and find the correct file name for March 2020**<br>\n",
    "**Use wget. Hinkt: the start of your URL should start with** `ftp://sidads.colorado.edu/pub/DATASETS/NOAA/G02202_V3`"
   ]
  },
  {
   "cell_type": "code",
   "execution_count": null,
   "metadata": {},
   "outputs": [],
   "source": [
    "#use wget --spider to check you're downloading the correct file and its size"
   ]
  },
  {
   "cell_type": "code",
   "execution_count": null,
   "metadata": {},
   "outputs": [],
   "source": [
    "#use wget"
   ]
  },
  {
   "cell_type": "code",
   "execution_count": null,
   "metadata": {},
   "outputs": [],
   "source": [
    "#check you directory to see if you need to unzip the file"
   ]
  },
  {
   "cell_type": "markdown",
   "metadata": {},
   "source": [
    "## 1.2 Open the NetCDF file you downloaded and have a look at it\n",
    "**Plot the variable** `goddard_merged_seaice_conc_monthly`"
   ]
  },
  {
   "cell_type": "code",
   "execution_count": null,
   "metadata": {},
   "outputs": [],
   "source": [
    "#open the netcdf file using xarray"
   ]
  },
  {
   "cell_type": "code",
   "execution_count": null,
   "metadata": {},
   "outputs": [],
   "source": [
    "#look at the variables and corddinates"
   ]
  },
  {
   "cell_type": "code",
   "execution_count": null,
   "metadata": {},
   "outputs": [],
   "source": [
    "#make a simple plot of the variable `goddard_merged_seaice_conc_monthly`"
   ]
  },
  {
   "cell_type": "markdown",
   "metadata": {},
   "source": [
    "# 2 Exclude grid cells which don't have sea ice\n",
    "**Have a look at the `flag_values` and `flag_meanings`. You will want to remove data with both of these flags, use [`xarray.where`](http://xarray.pydata.org/en/stable/generated/xarray.DataArray.where.html) for this** <br>\n",
    "**Hint: sea ice concentration can only be between 0 and 1, so values other than this should be excluded**"
   ]
  },
  {
   "cell_type": "code",
   "execution_count": null,
   "metadata": {},
   "outputs": [],
   "source": [
    "#use xarray.where to exclude values above 1"
   ]
  },
  {
   "cell_type": "code",
   "execution_count": null,
   "metadata": {},
   "outputs": [],
   "source": [
    "#plot your new data"
   ]
  },
  {
   "cell_type": "markdown",
   "metadata": {},
   "source": [
    "## 3 Weight the data\n",
    "### 3.1 Make a grid cell file using `cdo`"
   ]
  },
  {
   "cell_type": "code",
   "execution_count": null,
   "metadata": {},
   "outputs": [],
   "source": [
    "#use cdo gridarea"
   ]
  },
  {
   "cell_type": "markdown",
   "metadata": {},
   "source": [
    "### 3.2 Check your cell area file looks right by using `ncdump` and/or 'xarray'"
   ]
  },
  {
   "cell_type": "code",
   "execution_count": null,
   "metadata": {},
   "outputs": [],
   "source": []
  },
  {
   "cell_type": "code",
   "execution_count": null,
   "metadata": {},
   "outputs": [],
   "source": []
  },
  {
   "cell_type": "markdown",
   "metadata": {},
   "source": [
    "### 3.3 Multiply the sea ice concentration data by the area file "
   ]
  },
  {
   "cell_type": "code",
   "execution_count": null,
   "metadata": {},
   "outputs": [],
   "source": []
  },
  {
   "cell_type": "markdown",
   "metadata": {},
   "source": [
    "### 3.4 Sum the data\n",
    "**Use** `.sum('<coordinate>')`**, then plot your total sea ice area on a graph**\n",
    "**Use the internet and try and find out if your answer looks right, remember to think about units!**"
   ]
  },
  {
   "cell_type": "code",
   "execution_count": null,
   "metadata": {},
   "outputs": [],
   "source": [
    "#sum the data"
   ]
  },
  {
   "cell_type": "code",
   "execution_count": null,
   "metadata": {},
   "outputs": [],
   "source": [
    "#plot the summed data"
   ]
  },
  {
   "cell_type": "markdown",
   "metadata": {},
   "source": [
    "## 4 Extension\n",
    "### Make code to:\n",
    "- Download\n",
    "- Read the downloaded files (x12)\n",
    "- Mask grid cells that aren't sea ice\n",
    "- Weight the grid cells (you can reuse you grid area file from (3)\n",
    "- Sum to get sea ice area\n",
    "- Plot the annual cycle for 2020, see if it look like the data shown [here](https://nsidc.org/arcticseaicenews/charctic-interactive-sea-ice-graph/)"
   ]
  },
  {
   "cell_type": "markdown",
   "metadata": {},
   "source": [
    "### 4.1 Download all NetCDF files for 2020"
   ]
  },
  {
   "cell_type": "code",
   "execution_count": null,
   "metadata": {},
   "outputs": [],
   "source": [
    "#note it will be easiest to drag and drop the files from the ftp directory to your local directory"
   ]
  },
  {
   "cell_type": "markdown",
   "metadata": {},
   "source": [
    "### 4.2 Read in the files"
   ]
  },
  {
   "cell_type": "code",
   "execution_count": null,
   "metadata": {},
   "outputs": [],
   "source": []
  },
  {
   "cell_type": "markdown",
   "metadata": {},
   "source": [
    "### 4.3 Exclude non-sea ice grid cells"
   ]
  },
  {
   "cell_type": "code",
   "execution_count": null,
   "metadata": {},
   "outputs": [],
   "source": []
  },
  {
   "cell_type": "markdown",
   "metadata": {},
   "source": [
    "### 4.4 Weight the grid cells"
   ]
  },
  {
   "cell_type": "code",
   "execution_count": null,
   "metadata": {},
   "outputs": [],
   "source": []
  },
  {
   "cell_type": "markdown",
   "metadata": {},
   "source": [
    "### 4.5 Sum each of your months"
   ]
  },
  {
   "cell_type": "code",
   "execution_count": null,
   "metadata": {},
   "outputs": [],
   "source": []
  },
  {
   "cell_type": "markdown",
   "metadata": {},
   "source": [
    "### 4.6 Plot the annual cycle for 2020 and compare to real data"
   ]
  },
  {
   "cell_type": "code",
   "execution_count": null,
   "metadata": {},
   "outputs": [],
   "source": [
    "#visually compare your data to the real data"
   ]
  }
 ],
 "metadata": {
  "kernelspec": {
   "display_name": "Python 3",
   "language": "python",
   "name": "python3"
  },
  "language_info": {
   "codemirror_mode": {
    "name": "ipython",
    "version": 3
   },
   "file_extension": ".py",
   "mimetype": "text/x-python",
   "name": "python",
   "nbconvert_exporter": "python",
   "pygments_lexer": "ipython3",
   "version": "3.7.6"
  }
 },
 "nbformat": 4,
 "nbformat_minor": 4
}
