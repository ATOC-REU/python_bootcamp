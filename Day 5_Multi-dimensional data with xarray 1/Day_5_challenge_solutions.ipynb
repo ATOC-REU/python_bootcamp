{
 "cells": [
  {
   "cell_type": "markdown",
   "metadata": {},
   "source": [
    "## Day 5 Challenge Solutions"
   ]
  },
  {
   "cell_type": "code",
   "execution_count": null,
   "metadata": {},
   "outputs": [],
   "source": [
    "import numpy as np\n",
    "import matplotlib.pyplot as plt\n",
    "import xarray as xr"
   ]
  },
  {
   "cell_type": "code",
   "execution_count": null,
   "metadata": {},
   "outputs": [],
   "source": [
    "relative_humidity = xr.open_dataset('rhum.mon.mean.nc')"
   ]
  },
  {
   "cell_type": "code",
   "execution_count": null,
   "metadata": {},
   "outputs": [],
   "source": [
    "relative_humidity"
   ]
  },
  {
   "cell_type": "markdown",
   "metadata": {},
   "source": [
    "### 1. What are the ranges of latitude, longitue, and time? Explain briefly what these ranges physically represent."
   ]
  },
  {
   "cell_type": "markdown",
   "metadata": {},
   "source": [
    "Latitude: -90 to 90, data extends from the south pole to the north poles\n",
    "\n",
    "Longitude: 0 to 357.5, data extend around the world (every longitude)\n",
    "\n",
    "time: 1948/01/01 to 2021/04/01, one timestep per month that is the monthly mean value"
   ]
  },
  {
   "cell_type": "markdown",
   "metadata": {},
   "source": [
    "### 2. Plots"
   ]
  },
  {
   "cell_type": "code",
   "execution_count": null,
   "metadata": {},
   "outputs": [],
   "source": [
    "rhum_SON_1970_equator = relative_humidity['rhum'].sel(time = slice('1970-09-01', '1970-11-30')).mean(dim = 'time').sel(lat = 0)\n",
    "rhum_SON_2020_equator = relative_humidity['rhum'].sel(time = slice('2020-09-01', '2020-11-30')).mean(dim = 'time').sel(lat = 0)"
   ]
  },
  {
   "cell_type": "code",
   "execution_count": null,
   "metadata": {},
   "outputs": [],
   "source": [
    "rhum_SON_1970_equator.plot();\n"
   ]
  },
  {
   "cell_type": "code",
   "execution_count": null,
   "metadata": {},
   "outputs": [],
   "source": [
    "rhum_SON_2020_equator.plot();"
   ]
  },
  {
   "cell_type": "code",
   "execution_count": null,
   "metadata": {},
   "outputs": [],
   "source": [
    "rhum_SON_1970_90n = relative_humidity['rhum'].sel(time = slice('1970-09-01', '1970-11-30')).mean(dim = 'time').sel(lat = 90)\n",
    "rhum_SON_2020_90n = relative_humidity['rhum'].sel(time = slice('2020-09-01', '2020-11-30')).mean(dim = 'time').sel(lat = 90)\n"
   ]
  },
  {
   "cell_type": "code",
   "execution_count": null,
   "metadata": {},
   "outputs": [],
   "source": [
    "rhum_SON_1970_90n.plot();"
   ]
  },
  {
   "cell_type": "code",
   "execution_count": null,
   "metadata": {},
   "outputs": [],
   "source": [
    "rhum_SON_2020_90n.plot();"
   ]
  },
  {
   "cell_type": "markdown",
   "metadata": {},
   "source": [
    "### 3. Without knowing anything about relative humidity, what observations and comparisons can you make based on these plots?"
   ]
  },
  {
   "cell_type": "markdown",
   "metadata": {},
   "source": [
    "Relative humidity at the equator varies a lot along longitude. Values range from near zero to above 90.The variation by longitude changes a bit from 1970 to 2020. \n",
    "\n",
    "At the north pole, relative humidity stays constant around 95. This does not change between 1970 and 2020. "
   ]
  },
  {
   "cell_type": "code",
   "execution_count": null,
   "metadata": {},
   "outputs": [],
   "source": []
  }
 ],
 "metadata": {
  "kernelspec": {
   "display_name": "Python 3 (ipykernel)",
   "language": "python",
   "name": "python3"
  },
  "language_info": {
   "codemirror_mode": {
    "name": "ipython",
    "version": 3
   },
   "file_extension": ".py",
   "mimetype": "text/x-python",
   "name": "python",
   "nbconvert_exporter": "python",
   "pygments_lexer": "ipython3",
   "version": "3.8.16"
  }
 },
 "nbformat": 4,
 "nbformat_minor": 4
}
