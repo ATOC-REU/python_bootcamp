{
 "cells": [
  {
   "cell_type": "markdown",
   "metadata": {},
   "source": [
    "# 2021-06-09 Large Ensembles\n",
    "\n",
    "\n",
    "## Scientific Goals:\n",
    "- Understand what at large ensemble is and what model output looks like\n",
    "- Know where to look for help when navigating the huge array of output data\n",
    "- How to calculate common ensemble metrics\n",
    "\n",
    "## Coding Goals:\n",
    "- Loading data with dask\n",
    "- Combining data from mltiple files\n",
    "- Calculating ensemble means and other statistics\n",
    "\n",
    "## Notebook Outline:\n",
    "\n",
    "**1. CanESM2 data:**\n",
    "* 1.1 Download a zipped file of 50 NetCDF files and `unzip` into new directory\n",
    "* 1.2 Load all 50 files into memory using `dask` chunks\n",
    "* 1.3 Select the northern hemisphere ice (>30N) using `xaray.where`\n",
    "* 1.4 Plot with polar stereographic plots using `cartopy`\n",
    "* 1.5 Mask the land using a new file\n",
    "* 1.6 Plot the masked data using `cartopy`\n",
    "* 1.7 Sum up the sea ice area for each member using `xarray.sum()`\n",
    "* 1.8 Save a `NetCDF` file of the data for September for the years 2000-2020\n",
    "\n",
    "**2. CESM1 data**\n",
    "* 2.1 Load and plot reduced CESM dataset using `xarray` and `cartopy`\n",
    "* 2.2 Regrid CESM data into a new net `NetCDF` file\n",
    "* 2.3 Plot our regridded data using `cartopy`"
   ]
  },
  {
   "cell_type": "markdown",
   "metadata": {},
   "source": [
    "# Large Ensemble overview\n",
    "**Climate models are essentually a whole load of code computing changes of variables for each grid cell for every time step. <br>\n",
    "Climate models follow prescribed forcings (see [CMIP6](https://www.wcrp-climate.org/wgcm-cmip/wgcm-cmip6)), differences between models are due to differing understandings between the mathematical interpretation of these forcings.<br>  \n",
    "Large ensembles do the same thing, but they induce a small amount of uncertainty to diverge the model output<br>\n",
    "For example in CESM1 LE temperature is perturbed by 10$^{-14}$K which causes global temperature divergence in January 1920 (see below)**<br>\n",
    "\n",
    "<img src=\"http://www.cesm.ucar.edu/projects/community-projects/LENS/images/Figure2.gif\" alt=\"CESM LE divergence\" width=\"700\"/>\n",
    "\n",
    "**The atmosphere, land, and sea ice have short 'memories' so can quickly diverge. The ocean has a longer memory so it initialized from observations and only the uppper ocean can diverge over the run of the model.<br>\n",
    "In a practical sense, this means that different ensemble members will diverge to have different 'weather' within a few days to months.<br>\n",
    "Different modes of climate variability e.g. ENSO will appear slightly later, but very low frequency variability (that associated with the deep ocean) will not be captured.<br>\n",
    "This means each different ensemble member is equally likely to occur and the only difference between them is random or 'internal variability' as it is not caused by the model or forcings.**<br>\n",
    "\n",
    "**One of the most important differences between models is their use of grids, which can be a headache, today we'll go over some examples to help you deal with some common issues.<br>\n",
    "Don't worry if some of this goes over your heads, this is mostly for reference.<br>\n",
    "The figure below shows an exampled of a 'tripolar' grid, CESM uses a 'displaced pole' in Greenland, and CanESM2 which we'll use as our first example today uses a regular lat/lon grid** <br>\n",
    "<img src=\"https://www.researchgate.net/profile/V-Balaji-4/publication/228641121/figure/fig2/AS:301996147003394@1449012900530/The-tripolar-grid-often-used-in-ocean-modeling-Polar-singularities-are-placed-over-land.png\" alt=\"Tripolar grid\" width=\"400\"/>\n",
    "<img src=\"https://www.cesm.ucar.edu/models/cesm1.0/cesm/cesm_doc_1_0_4/greenland_pole_grid.jpg\" alt=\"Displaced Greenland Pole (CESM)\" width=\"400\"/>\n"
   ]
  },
  {
   "cell_type": "markdown",
   "metadata": {},
   "source": [
    "# Activities"
   ]
  },
  {
   "cell_type": "code",
   "execution_count": 1,
   "metadata": {},
   "outputs": [],
   "source": [
    "import datetime\n",
    "import os\n",
    "import numpy as np\n",
    "import xarray as xr\n",
    "import matplotlib.pyplot as plt\n",
    "import matplotlib.path as mpath\n",
    "import cartopy.crs as ccrs\n",
    "import dask"
   ]
  },
  {
   "cell_type": "code",
   "execution_count": null,
   "metadata": {},
   "outputs": [],
   "source": [
    "#sometimes cartopy has difficulties with shapely, don't run this unless your kernel dies when trying to use caropy.ccrs (you will need to rerun all you cells again from after unzipping the data - start a 1.2)\n",
    "# !pip install --no-binary shapely shapely --force"
   ]
  },
  {
   "cell_type": "markdown",
   "metadata": {},
   "source": [
    "# 1. Download the CanESM2 data\n",
    "## 1.1 Download a zipped file and unzip into a single directory of 50 NetCDF files\n",
    "**<span style=\"color:blue\">Maually download `CanESM2_SIC_1950_2100.zip` from [Google Drive](https://drive.google.com/drive/folders/1k_cdO6wtwK6TkufIOeZPiLFORW897N17?usp=sharing) <br>\n",
    "Then in your terminal use the following command in that directory** <br>\n",
    "`unzip CanESM2_SIC_1950_2100.zip -d CanESM2_SIC_members` <br>\n",
    "**This unzips files of the 50 members into a new directory 'CanESM2_SIC_members'** <br><br>\n",
    "\n",
    "**Firstly, look at the size of each of the files with `ls -lh`. <br>\n",
    "    You should see they are ~6 MB. It would be okay to load all of these into memory, but for this exercise we'll follow a proceedure to assume this would not be possible.** "
   ]
  },
  {
   "cell_type": "code",
   "execution_count": null,
   "metadata": {},
   "outputs": [],
   "source": [
    "!ls -lh CanESM2_SIC_members"
   ]
  },
  {
   "cell_type": "markdown",
   "metadata": {},
   "source": [
    "**Let's quickly load the first member (look at the naming convention and note** `_r1i1p1_` **tells us this)**"
   ]
  },
  {
   "cell_type": "code",
   "execution_count": null,
   "metadata": {},
   "outputs": [],
   "source": [
    "CanESM2_member_1 = xr.open_dataset('CanESM2_SIC_members/sic_OImon_CanESM2_historical_rcp85_r1i1p1_195001-210012.nc')"
   ]
  },
  {
   "cell_type": "code",
   "execution_count": null,
   "metadata": {},
   "outputs": [],
   "source": [
    "CanESM2_member_1"
   ]
  },
  {
   "cell_type": "markdown",
   "metadata": {},
   "source": [
    "## 1.2 Load all of the 50 members into xarray\n",
    "**To load a whole load of large files into memory we can either:**\n",
    "- Sequentially load the files and extract a portion of each file to a variable or output to a reduced dataset file\n",
    "- Use dask to avoid reading in the data explicitly into memory, rather it just looks at how the data is structured and grabs the part of the dataset that's needed for a specific computation <br> This is like having all of Google Maps availible to you, but you don't download it all before you start navigating, instead you just get the route you will use to get to your destination.\n",
    "\n",
    "**Loading all of these into an** `xarray.DataSet` **requires obtaining a list of the files we want**"
   ]
  },
  {
   "cell_type": "code",
   "execution_count": null,
   "metadata": {},
   "outputs": [],
   "source": [
    "CanESM2_file_list = os.listdir('CanESM2_SIC_members')"
   ]
  },
  {
   "cell_type": "markdown",
   "metadata": {},
   "source": [
    "**The method above produces an unordered list, furthermore if we were to sort this list `r19i` comes before `r1i`**<br>\n",
    "Note here `r19i` means the 19th ensemble member and CanESM5 has 50 members"
   ]
  },
  {
   "cell_type": "code",
   "execution_count": null,
   "metadata": {},
   "outputs": [],
   "source": [
    "CanESM2_file_list[:10]"
   ]
  },
  {
   "cell_type": "markdown",
   "metadata": {},
   "source": [
    "**Instead one way of doing this is by constructing the file names ourselves as below.** <br>\n",
    "**Note we call `chunks=25` here, this does not load the data into memory. The chunk size is not overly important, it is usually a similar or smaller size to one of your dimensions**"
   ]
  },
  {
   "cell_type": "code",
   "execution_count": null,
   "metadata": {},
   "outputs": [],
   "source": [
    "%%time \n",
    "#this will output how long this cell took to run\n",
    "\n",
    "CanESM2_files = [] #initialize list\n",
    "member_numbers = np.arange(1,51,1) #we have member numbers 1-50\n",
    "\n",
    "for mem_i in member_numbers: #loop through the 50 members\n",
    "    temp_file = xr.open_dataset('CanESM2_SIC_members/sic_OImon_CanESM2_historical_rcp85_r{}i1p1_195001-210012.nc'.format(mem_i), chunks=25)\n",
    "    CanESM2_files.append(temp_file)"
   ]
  },
  {
   "cell_type": "code",
   "execution_count": null,
   "metadata": {},
   "outputs": [],
   "source": [
    "CanESM2_files[:2]"
   ]
  },
  {
   "cell_type": "markdown",
   "metadata": {},
   "source": [
    "**We now have a long list of** `xarray DataSets`**, to combine into a single dataset we can use** `xr.concat`"
   ]
  },
  {
   "cell_type": "code",
   "execution_count": null,
   "metadata": {},
   "outputs": [],
   "source": [
    "CanESM2_SIC_1950_2100 = xr.concat((CanESM2_files), dim='member') #this concatenates along a new dimension called 'member'"
   ]
  },
  {
   "cell_type": "markdown",
   "metadata": {},
   "source": [
    "<span style=\"color:blue\"> **Look at the dask vizualization by clicking on the disk icon in the far left, after executing the next cell**"
   ]
  },
  {
   "cell_type": "code",
   "execution_count": null,
   "metadata": {},
   "outputs": [],
   "source": [
    "CanESM2_SIC_1950_2100['sic'].sel(time='2020')"
   ]
  },
  {
   "cell_type": "markdown",
   "metadata": {},
   "source": [
    "**Note the dimension** `member` **doesn't have coordinates, so we can add those in like this. Note also all the origional attributes have been retained**"
   ]
  },
  {
   "cell_type": "code",
   "execution_count": null,
   "metadata": {},
   "outputs": [],
   "source": [
    "CanESM2_SIC_1950_2100['member'] = np.arange(1,51,1)"
   ]
  },
  {
   "cell_type": "code",
   "execution_count": null,
   "metadata": {},
   "outputs": [],
   "source": [
    "CanESM2_SIC_1950_2100"
   ]
  },
  {
   "cell_type": "markdown",
   "metadata": {},
   "source": [
    "**Alternatively we can use** `xarray.open_mf_dataest` **which is a much simpler process if we want to load all of the files, we still use dask with the keyword** `chunks=25`. <br>\n",
    "**Note we use** `concat_dim = 'member'` **(a new dimension) and** `combine='nested'` **to reuse the same coordinates for all files.**"
   ]
  },
  {
   "cell_type": "code",
   "execution_count": null,
   "metadata": {},
   "outputs": [],
   "source": [
    "%time\n",
    "\n",
    "CanESM2_SIC_1950_2100_alt = xr.open_mfdataset('CanESM2_SIC_members/*.nc', concat_dim='member', combine='nested', chunks=25)\n",
    "#here we use concat_dim = 'member' (a new dimension) and combine='nested' to reuse the same coordinates for all files"
   ]
  },
  {
   "cell_type": "code",
   "execution_count": null,
   "metadata": {},
   "outputs": [],
   "source": [
    "CanESM2_SIC_1950_2100_alt['member'] = member_numbers\n",
    "CanESM2_SIC_1950_2100_alt"
   ]
  },
  {
   "cell_type": "markdown",
   "metadata": {},
   "source": [
    "## 1.3 Select the northern hemisphere ice (>30N)\n",
    "**Instead of using the whole dataset we just want to look at September in the northern hemisphere, and only the** `sic` **variable**\n"
   ]
  },
  {
   "cell_type": "code",
   "execution_count": null,
   "metadata": {},
   "outputs": [],
   "source": [
    "month_ = 9\n",
    "CanESM2_month = CanESM2_SIC_1950_2100_alt['sic'].sel(time=CanESM2_SIC_1950_2100_alt['time.month']==month_)"
   ]
  },
  {
   "cell_type": "code",
   "execution_count": null,
   "metadata": {},
   "outputs": [],
   "source": [
    "CanESM2_month.sel(member=1).sel(time='2020').plot()"
   ]
  },
  {
   "cell_type": "markdown",
   "metadata": {},
   "source": [
    "**Now let's just select the Arctic, >30N should be fine**<br>\n",
    "<span style=\"color:blue\"> **Take a quick look at the** [`xarray.where`](http://xarray.pydata.org/en/stable/generated/xarray.DataArray.where.html) **documentation before executing the cells below**"
   ]
  },
  {
   "cell_type": "code",
   "execution_count": null,
   "metadata": {},
   "outputs": [],
   "source": [
    "CanESM2_arctic = CanESM2_month.where(CanESM2_month['lat']>30, drop=True) #we use drop == True to drop the coordinate rather than return nan values"
   ]
  },
  {
   "cell_type": "code",
   "execution_count": 4,
   "metadata": {},
   "outputs": [],
   "source": [
    "CanESM2_arctic"
   ]
  },
  {
   "cell_type": "markdown",
   "metadata": {},
   "source": [
    "**Plot 1950 year from this time series, just using** `xarray` <br>"
   ]
  },
  {
   "cell_type": "code",
   "execution_count": null,
   "metadata": {},
   "outputs": [],
   "source": [
    "CanESM2_arctic.sel(member=1).sel(time='1950').plot();"
   ]
  },
  {
   "cell_type": "markdown",
   "metadata": {},
   "source": [
    "<span style=\"color:blue\">**Also plot a few other members to see how they differ**<br>"
   ]
  },
  {
   "cell_type": "code",
   "execution_count": null,
   "metadata": {},
   "outputs": [],
   "source": [
    "CanESM2_arctic.sel(member=5).sel(time='1950').plot();"
   ]
  },
  {
   "cell_type": "markdown",
   "metadata": {},
   "source": [
    "<span style=\"color:red\">**You can also make adifference plot between a member and the ensemble mean**"
   ]
  },
  {
   "cell_type": "code",
   "execution_count": null,
   "metadata": {},
   "outputs": [],
   "source": [
    "(CanESM2_arctic.sel(member=5).sel(time='1950') - CanESM2_arctic.mean('member').sel(time='1950')).plot();"
   ]
  },
  {
   "cell_type": "markdown",
   "metadata": {},
   "source": [
    "## 1.4 Plot with a polar stereographic projection\n",
    "<span style=\"color:blue\">**Take a few minutes to have a look through this plotting function**"
   ]
  },
  {
   "cell_type": "code",
   "execution_count": null,
   "metadata": {},
   "outputs": [],
   "source": [
    "def circular_polar_plot(data, lat_min, colors, title_, no_col_bar=False, \n",
    "                        cbar_label=False, levels_=False, cbar_levels_=False, \n",
    "                        extend_kw=False, horizontal=False):\n",
    "    \n",
    "    '''\n",
    "    This function requires an input of an xarray dataarray with lat/lon and a third varaible\n",
    "    '''\n",
    "    \n",
    "    #define the overall figure charachteristics\n",
    "    fig = plt.figure(figsize=[8,8]) #set the size of the figure\n",
    "    ax = fig.add_subplot(projection = ccrs.NorthPolarStereo(central_longitude=0)) #define the axes in terms of the polar projection\n",
    "    ax.set_extent((-180,180,int(lat_min),90), ccrs.PlateCarree()) #only include data above the minimum latitude\n",
    "    \n",
    "    #make the plot circular using matplotlib.path\n",
    "    theta = np.linspace(0, 2*np.pi, 100) \n",
    "    center, radius = [0.5, 0.5], 0.5\n",
    "    verts = np.vstack([np.sin(theta), np.cos(theta)]).T #matrix transpose\n",
    "    circle = mpath.Path(verts * radius + center) #this is now a circle boundary defined in matplotlib\n",
    "    ax.set_boundary(circle, transform=ax.transAxes) #cut the plot at the circle boundary\n",
    "    \n",
    "    if no_col_bar: #we don't include a colorbar if this argument is True\n",
    "        data.plot(ax=ax,cmap=str(colors), add_colorbar=False, add_labels=False, transform=ccrs.PlateCarree())\n",
    "    else:\n",
    "        fig.subplots_adjust(right=0.87) #make space at the right side of the plot for the colorbar\n",
    "        plotting = data.plot(ax=ax, cmap=str(colors), add_colorbar=False, transform=ccrs.PlateCarree(), levels=levels_, add_labels=False)\n",
    "\n",
    "        ####################################### define the colorbar ############################################\n",
    "        if horizontal: #=True means we want the colobar horizontal\n",
    "            orient = 'horizontal'\n",
    "            cbar_ax = fig.add_axes([0.1, 0.05, 0.8, 0.04]) #this is x,y position of the colorbar and length and height\n",
    "        else:\n",
    "            orient = 'vertical'\n",
    "            cbar_ax = fig.add_axes([0.9, 0.15, 0.05, 0.7])\n",
    "        \n",
    "        #define whether the colorbar should be capped, default if no 'extend_kw' keyword is for both caps to be there so 'extend=both'\n",
    "        if extend_kw:\n",
    "             cb = fig.colorbar(plotting, cax=cbar_ax, ticks=cbar_levels_, spacing='uniform', extend=extend_kw, orientation=orient)\n",
    "        else:\n",
    "             cb = fig.colorbar(plotting, cax=cbar_ax, ticks=cbar_levels_, spacing='uniform', extend='both', orientation=orient)\n",
    "        \n",
    "        #set the label and label size of the colorbar\n",
    "        if horizontal:\n",
    "            cb.ax.set_xlabel(str(cbar_label), fontsize=20)\n",
    "        else:\n",
    "            cb.ax.set_ylabel(str(cbar_label), fontsize=20)\n",
    "    \n",
    "        cb.ax.tick_params(labelsize=20) #set the tick size on the colobar\n",
    "        #####################################################################################################\n",
    "    \n",
    "    #add details to the figure after the data is plotted\n",
    "    ax.coastlines() #add coastlines\n",
    "    ax.gridlines() #add gridlines\n",
    "    ax.set_title(str(title_), fontsize=20) #set the title and fontzise\n",
    "    ax.set_facecolor('0.5') #make the background (usually land) gray"
   ]
  },
  {
   "cell_type": "code",
   "execution_count": null,
   "metadata": {},
   "outputs": [],
   "source": [
    "circular_polar_plot(CanESM2_arctic.sel(member=1).sel(time='1950'), 50, 'Blues', 'CanESM2 September 1950, Member 1',\n",
    "                    cbar_label='SIC [%]', levels_=np.arange(0,101,1), cbar_levels_=np.arange(0,101,10))"
   ]
  },
  {
   "cell_type": "markdown",
   "metadata": {},
   "source": [
    "## 1.5 Mask the land\n",
    "**This doesn't look great, all the land and non-sea ice ocean has a value of 0 so it all looks the same** <br>\n",
    "**We can make a land mask from the file** `sftlf_fx_CanESM2_historical_r0i0p0.nc` **which can also be downloaded from [Google Drive](https://drive.google.com/drive/folders/1k_cdO6wtwK6TkufIOeZPiLFORW897N17?usp=sharing)** <br>\n",
    "**This data is freely availible (as is the rest of CMIP5) from https://esgf-node.llnl.gov/search/cmip5/**"
   ]
  },
  {
   "cell_type": "code",
   "execution_count": null,
   "metadata": {},
   "outputs": [],
   "source": [
    "area_land = xr.open_dataset('sftlf_fx_CanESM2_historical_r0i0p0.nc')"
   ]
  },
  {
   "cell_type": "code",
   "execution_count": null,
   "metadata": {},
   "outputs": [],
   "source": [
    "area_land"
   ]
  },
  {
   "cell_type": "code",
   "execution_count": null,
   "metadata": {},
   "outputs": [],
   "source": [
    "area_land['sftlf'].plot();"
   ]
  },
  {
   "cell_type": "markdown",
   "metadata": {},
   "source": [
    "**The ocean is 0 and the land is 100, we only want the grid cells which = 0**"
   ]
  },
  {
   "cell_type": "code",
   "execution_count": null,
   "metadata": {},
   "outputs": [],
   "source": [
    "area_ocean = area_land['sftlf'].where(area_land['sftlf']==0) + 1 #cells which !=0 are defined as np.nan \n",
    "area_ocean.plot();"
   ]
  },
  {
   "cell_type": "markdown",
   "metadata": {},
   "source": [
    "**Now we'll just select the data above 30N**"
   ]
  },
  {
   "cell_type": "code",
   "execution_count": null,
   "metadata": {},
   "outputs": [],
   "source": [
    "area_ocean_NH = area_ocean.where(area_ocean['lat']>30,drop=True) #drop = True means we don't have data for coordinates below 30N, if =False these would be np.nan\n",
    "area_ocean_NH.plot();"
   ]
  },
  {
   "cell_type": "markdown",
   "metadata": {},
   "source": [
    "**Now let's use this mask to mask our SIC data** <br>\n",
    "**Note we are using dask chunks so this next cell executes almost instantly, but the calculations have not occured yet**<br>\n",
    "N.B. sometimes if we're doing an operation such as addition or multiplication with 2 datasets which don't have exactly the same coordinate names but are the right size, `xarray` will get confused so we can ues `.values` after the dataarray with the coordinates we don't like."
   ]
  },
  {
   "cell_type": "code",
   "execution_count": null,
   "metadata": {},
   "outputs": [],
   "source": [
    "CanESM2_SIC_masked = CanESM2_arctic * area_ocean_NH"
   ]
  },
  {
   "cell_type": "markdown",
   "metadata": {},
   "source": [
    "## 1.6 Plot the masked data"
   ]
  },
  {
   "cell_type": "markdown",
   "metadata": {},
   "source": [
    "**Let's plot this for 1950, both member 1 and the ensemble mean**"
   ]
  },
  {
   "cell_type": "code",
   "execution_count": null,
   "metadata": {},
   "outputs": [],
   "source": [
    "%%time\n",
    "CanESM2_SIC_masked.sel(member=1).sel(time='1950').plot();"
   ]
  },
  {
   "cell_type": "markdown",
   "metadata": {},
   "source": [
    "**The cell below should take a bit less than 50 times longer to run than the cell above**"
   ]
  },
  {
   "cell_type": "code",
   "execution_count": null,
   "metadata": {},
   "outputs": [],
   "source": [
    "%%time\n",
    "CanESM2_SIC_masked.mean('member').sel(time='1950').plot();"
   ]
  },
  {
   "cell_type": "markdown",
   "metadata": {},
   "source": [
    "**It took quite a while to calculate the ensemble mean, note xarray is clever and whatever order you ask the calculations to be done (in a single line) it shouldn't matter for run time**"
   ]
  },
  {
   "cell_type": "code",
   "execution_count": null,
   "metadata": {},
   "outputs": [],
   "source": [
    "%%time\n",
    "CanESM2_SIC_masked.sel(time='1950').mean('member').plot();"
   ]
  },
  {
   "cell_type": "markdown",
   "metadata": {},
   "source": [
    "**Now let's plot this with the land masked (it's now nan values so the gray background will show through)**"
   ]
  },
  {
   "cell_type": "code",
   "execution_count": null,
   "metadata": {},
   "outputs": [],
   "source": [
    "circular_polar_plot(CanESM2_SIC_masked.sel(time='1950').sel(member=1), 50, 'Blues_r', 'CanESM2 September 1950, Member 1',\n",
    "                    cbar_label='SIC [%]', levels_=np.arange(0,101,1), cbar_levels_=np.arange(0,101,10))"
   ]
  },
  {
   "cell_type": "markdown",
   "metadata": {},
   "source": [
    "**Let's also try two other key words:** `extend_kw='neither', horizontal=True` **to cut off the white caps of the colorbar and make the colorbar horizontal**"
   ]
  },
  {
   "cell_type": "code",
   "execution_count": null,
   "metadata": {},
   "outputs": [],
   "source": [
    "circular_polar_plot(CanESM2_SIC_masked.sel(time='1950').sel(member=1), 50, 'Blues_r', 'CanESM2 September 1950, Member 1',\n",
    "                    cbar_label='SIC [%]', levels_=np.arange(0,101,1), cbar_levels_=np.arange(0,101,10), extend_kw='neither', horizontal=True)"
   ]
  },
  {
   "cell_type": "markdown",
   "metadata": {},
   "source": [
    "## 1.7 Weight the grid cells and sum\n",
    "**Let's use the areacello, we can obtain this from the website below** <br>\n",
    "I found the link we're using by searching 'areacello CanESM2' in the search bar on https://esgf-node.llnl.gov/search/cmip5/"
   ]
  },
  {
   "cell_type": "code",
   "execution_count": null,
   "metadata": {},
   "outputs": [],
   "source": [
    "!wget http://crd-esgf-drc.ec.gc.ca/thredds/fileServer/esg_dataroot/AR5/CMIP5/output/CCCma/CanESM2/piControl/fx/ocean/areacello/r0i0p0/areacello_fx_CanESM2_piControl_r0i0p0.nc"
   ]
  },
  {
   "cell_type": "code",
   "execution_count": null,
   "metadata": {},
   "outputs": [],
   "source": [
    "CanESM2_areacello = xr.open_dataset('areacello_fx_CanESM2_piControl_r0i0p0.nc')"
   ]
  },
  {
   "cell_type": "markdown",
   "metadata": {},
   "source": [
    "**Look at the lat coordinate, the resolution for this file is larger than our dataset. We therefore can't use this dataset** <br>\n",
    "**Long story short, we have to use the** `areacella` **file wich is the grid cell size of the atmoshperic component of the model**"
   ]
  },
  {
   "cell_type": "code",
   "execution_count": null,
   "metadata": {},
   "outputs": [],
   "source": [
    "CanESM2_areacello"
   ]
  },
  {
   "cell_type": "markdown",
   "metadata": {},
   "source": [
    "**So, let's instead download this** `areacella` **file, and have a look at it**"
   ]
  },
  {
   "cell_type": "code",
   "execution_count": null,
   "metadata": {},
   "outputs": [],
   "source": [
    "!wget http://crd-esgf-drc.ec.gc.ca/thredds/fileServer/esg_dataroot/AR5/CMIP5/output/CCCma/CanESM2/piControl/fx/atmos/areacella/r0i0p0/areacella_fx_CanESM2_piControl_r0i0p0.nc"
   ]
  },
  {
   "cell_type": "code",
   "execution_count": null,
   "metadata": {},
   "outputs": [],
   "source": [
    "CanESM2_areacella = xr.open_dataset('areacella_fx_CanESM2_piControl_r0i0p0.nc')"
   ]
  },
  {
   "cell_type": "code",
   "execution_count": null,
   "metadata": {},
   "outputs": [],
   "source": [
    "CanESM2_areacella"
   ]
  },
  {
   "cell_type": "code",
   "execution_count": null,
   "metadata": {},
   "outputs": [],
   "source": [
    "CanESM2_areacella['areacella'].plot();"
   ]
  },
  {
   "cell_type": "markdown",
   "metadata": {},
   "source": [
    "**We now have cell areas for the correct grid, but this is for the atmoshpere so there aren't any coastlines** <br>\n",
    "**Now let's just select the cells >30N to match our dataset**"
   ]
  },
  {
   "cell_type": "code",
   "execution_count": null,
   "metadata": {},
   "outputs": [],
   "source": [
    "CanESM2_areacella_NH = CanESM2_areacella['areacella'].where(CanESM2_areacella['lat']>30, drop=True)\n",
    "CanESM2_areacella_NH.plot();"
   ]
  },
  {
   "cell_type": "markdown",
   "metadata": {},
   "source": [
    "**Now we can multiply our masked data with the cell areas**<br>\n",
    "**Note we use** `.values` **here as without using** `.values` **xarray gets confused that there is no time dimension for** `area_ocean_NH`"
   ]
  },
  {
   "cell_type": "code",
   "execution_count": null,
   "metadata": {},
   "outputs": [],
   "source": [
    "weighted_masked_CanESM2 = CanESM2_SIC_masked * area_ocean_NH.values #note this is quick to execute"
   ]
  },
  {
   "cell_type": "code",
   "execution_count": null,
   "metadata": {},
   "outputs": [],
   "source": [
    "weighted_masked_CanESM2.sel(member=1).sel(time='1950').plot(); #note this is slow to execute"
   ]
  },
  {
   "cell_type": "markdown",
   "metadata": {},
   "source": [
    "**Now we can sum up the grid cells to get total Arctic sea ice area**"
   ]
  },
  {
   "cell_type": "code",
   "execution_count": null,
   "metadata": {},
   "outputs": [],
   "source": [
    "start = datetime.datetime.now()\n",
    "sum_CanESM2 = weighted_masked_CanESM2.sel(member=1).sum('lat').sum('lon')\n",
    "end = datetime.datetime.now()\n",
    "print(end-start)\n",
    "\n",
    "plt.plot(sum_CanESM2) #the calculation occurs on this line\n",
    "end2 = datetime.datetime.now()\n",
    "print(end2-end)"
   ]
  },
  {
   "cell_type": "code",
   "execution_count": null,
   "metadata": {},
   "outputs": [],
   "source": [
    "start = datetime.datetime.now()\n",
    "sum_CanESM2 = weighted_masked_CanESM2.sel(member=1).sum('lat').sum('lon').compute() #compute make the caluclation complete on this line\n",
    "end = datetime.datetime.now()\n",
    "print(end-start)\n",
    "\n",
    "plt.plot(sum_CanESM2)"
   ]
  },
  {
   "cell_type": "code",
   "execution_count": null,
   "metadata": {},
   "outputs": [],
   "source": [
    "start = datetime.datetime.now()\n",
    "weight_mem = weighted_masked_CanESM2.sel(member=1).compute() #the first part of the calculation occurs here (slow)\n",
    "end = datetime.datetime.now()\n",
    "\n",
    "SIA = weight_mem.sum('lat').sum('lon') #the second calculation occurs here (fast)\n",
    "end2 = datetime.datetime.now()\n",
    "\n",
    "plt.plot(SIA)\n",
    "\n",
    "print(end-start)\n",
    "print(end2-end)\n",
    "print(end2-start)"
   ]
  },
  {
   "cell_type": "markdown",
   "metadata": {},
   "source": [
    "**DONT'T RUN THIS CELL, IT WILL TAKE TOO LONG**<br>\n",
    "**To calculate the SIA for all member this will take (? seconds) x 50, ~10 minutes on my machine** <br>\n",
    "**Let's not do this now (skip 2 cells ahead). If you have access to many cores (super computer) you can reduce this time by using dask (see end of notebook)**"
   ]
  },
  {
   "cell_type": "code",
   "execution_count": null,
   "metadata": {},
   "outputs": [],
   "source": [
    "%%time\n",
    "CanESM2_SIA_all_mem = weighted_masked_CanESM2.sum('lat').sum('lon').compute()"
   ]
  },
  {
   "cell_type": "markdown",
   "metadata": {},
   "source": [
    "**DONT'T RUN THIS CELL, IT WILL TAKE TOO LONG**<br>\n",
    "**It should take the same amount of time to do it in a list, it takes more lines of code, but way you can see your progress**"
   ]
  },
  {
   "cell_type": "code",
   "execution_count": null,
   "metadata": {},
   "outputs": [],
   "source": [
    "SIA_list = []\n",
    "for mem_i in np.arange(1,51,1):\n",
    "    if mem_i %5 == 0:\n",
    "        print(datetime.datetime.now(), mem_i)\n",
    "        \n",
    "    weight_mem = weighted_masked_CanESM2.sel(member=mem_i).compute()\n",
    "    SIA_list.append(weight_mem.sum('lat').sum('lon')) \n",
    "    \n",
    "CanESM2_SIA_all_mem = xr.concat((SIA_list), dim='member')"
   ]
  },
  {
   "cell_type": "markdown",
   "metadata": {},
   "source": [
    "**RUN THIS CELL INSTEAD**<br>\n",
    "**Open this file that I made earlier from this output (and divided by $10^{14}$ to get into million $km^2$ not $m^2$)**"
   ]
  },
  {
   "cell_type": "code",
   "execution_count": null,
   "metadata": {},
   "outputs": [],
   "source": [
    "CanESM2_SIA_all_mem = xr.open_dataset('CanESM2_SIA_1950_2100_NH.nc')"
   ]
  },
  {
   "cell_type": "code",
   "execution_count": null,
   "metadata": {},
   "outputs": [],
   "source": [
    "CanESM2_SIA_all_mem"
   ]
  },
  {
   "cell_type": "markdown",
   "metadata": {},
   "source": [
    "**Let's plot this as a time series for a single member**"
   ]
  },
  {
   "cell_type": "code",
   "execution_count": null,
   "metadata": {},
   "outputs": [],
   "source": [
    "CanESM2_SIA_all_mem['sic'].sel(member=1).plot()"
   ]
  },
  {
   "cell_type": "markdown",
   "metadata": {},
   "source": [
    "**Oh dear.** `matplotlib` **doesn't know how to plot** `cftime.DatetimeNoLeap`**, so let's change the time coordinate to** `np.datetime64`"
   ]
  },
  {
   "cell_type": "code",
   "execution_count": null,
   "metadata": {},
   "outputs": [],
   "source": [
    "new_time = []\n",
    "for i in (CanESM2_SIA_all_mem['time']): #i is each date, we will then use the charachters within each date to change to np.datetime64\n",
    "    new_time.append(np.datetime64(str(i.values)[:4]+'-'+str(i.values)[5:7].zfill(2)+'-'+str(i.values)[8:10]+'T'+str(i.values)[11:13].zfill(2)+':00:00.000'))\n",
    "    \n",
    "SIA_list_new_time = CanESM2_SIA_all_mem.copy()\n",
    "SIA_list_new_time['time'] = new_time"
   ]
  },
  {
   "cell_type": "code",
   "execution_count": null,
   "metadata": {},
   "outputs": [],
   "source": [
    "plt.figure(figsize=[12,5])\n",
    "for mem_ in np.arange(1,51,1):\n",
    "    SIA_list_new_time['sic'].sel(member=mem_).plot(c='m',alpha=0.1)\n",
    "\n",
    "SIA_list_new_time['sic'].mean('member').plot(c='0.2', linestyle='--', linewidth=3, label='Ensemble mean')\n",
    "    \n",
    "plt.ylim(bottom=0)\n",
    "plt.xlim(SIA_list_new_time['time'].min().values, SIA_list_new_time['time'].max().values)\n",
    "plt.ylabel(r'$SIA \\ [10^6 / km^2]$', fontsize=14)\n",
    "plt.xlabel('Year', fontsize=14)\n",
    "plt.xticks(fontsize=14)\n",
    "plt.yticks(fontsize=14);\n",
    "plt.legend();\n",
    "plt.title('CanESM2 NH SIA 1950-2100 Historical and RCP 8.5', fontsize=16);"
   ]
  },
  {
   "cell_type": "markdown",
   "metadata": {},
   "source": [
    "## 2. CESM1 data\n",
    "### 2.1 Load and plot reduced CESM dataset"
   ]
  },
  {
   "cell_type": "markdown",
   "metadata": {},
   "source": [
    "**This is data I've already subsampled, each of the 40 CESM1 ensemble member have a file size of ~140MB, therefore we'll just be using September between 2000-2020** <br>\n",
    "**unzip** `CESM_LE_SIC_2000_2020_09_NH.zip` **into a single file**"
   ]
  },
  {
   "cell_type": "code",
   "execution_count": null,
   "metadata": {},
   "outputs": [],
   "source": [
    "!unzip CESM_LE_SIC_2000_2020_09_NH.zip"
   ]
  },
  {
   "cell_type": "code",
   "execution_count": null,
   "metadata": {},
   "outputs": [],
   "source": [
    "CESM1_SIC = xr.open_dataset('CESM_LE_SIC_2000_2020_09_NH.nc')"
   ]
  },
  {
   "cell_type": "code",
   "execution_count": null,
   "metadata": {},
   "outputs": [],
   "source": [
    "CESM1_SIC"
   ]
  },
  {
   "cell_type": "markdown",
   "metadata": {},
   "source": [
    "<span style=\"color:blue\">**Plot the data for member 1 in the year 2020 - look at the date in the title, what's going on here?** <br> </span>\n",
    "**CESM uses the beginning of the next month to denote the midpoint of the previous month.<br>\n",
    "BE VERY CAREFUL WITH THIS!<br>\n",
    "For now I've already just included September in our dataset so we can just select a year and the only month availible is September**"
   ]
  },
  {
   "cell_type": "code",
   "execution_count": null,
   "metadata": {},
   "outputs": [],
   "source": [
    "CESM1_SIC['sic'].sel(member=1).sel(time='2020').plot();"
   ]
  },
  {
   "cell_type": "markdown",
   "metadata": {},
   "source": [
    "**Note the strange layout when we plot, we can see that instead of the north pole at the top we have a pole within Greenland.** <br>\n",
    "**This grid is more efficient for computation and avoids a pole hole, but it complicates our analysis** <br>\n",
    "**If we try and plot this using** `cartopy`**, we find that we don't get any data**"
   ]
  },
  {
   "cell_type": "code",
   "execution_count": null,
   "metadata": {},
   "outputs": [],
   "source": [
    "circular_polar_plot(CESM1_SIC['sic'].sel(member=1).sel(time='2020'), 60, 'Blues_r', 'CESM1 September 2020 SIC',\n",
    "                    cbar_label='SIC [%]', levels_=np.arange(0,101,1), cbar_levels_=np.arange(0,101,10))"
   ]
  },
  {
   "cell_type": "markdown",
   "metadata": {},
   "source": [
    "## 2.2 Regrid"
   ]
  },
  {
   "cell_type": "markdown",
   "metadata": {},
   "source": [
    "**In order to plot or compared CESM data we need to regrid** <br>\n",
    "**Let's first try regridding right out of the box. We'll use the very simple file I've provided to tell** `cdo` **how to do the regirdding:** `Regrid_1x1_deg_30N.txt`"
   ]
  },
  {
   "cell_type": "code",
   "execution_count": null,
   "metadata": {},
   "outputs": [],
   "source": [
    "!head Regrid_1x1_deg_30N.txt #this prints the first 10 lines of a file (in this case the whole thing is <10 lines)"
   ]
  },
  {
   "cell_type": "markdown",
   "metadata": {},
   "source": [
    "**We now follow the format** `cdo remap<TYPE>,<GRID_FILE>, <INFILE> <OUTFILE>`**Find the [documentation is here](https://code.mpimet.mpg.de/projects/cdo/embedded/cdo.pdf).**"
   ]
  },
  {
   "cell_type": "code",
   "execution_count": null,
   "metadata": {},
   "outputs": [],
   "source": [
    "!cdo remapbil,Regrid_1x1_deg_30N.txt, CESM_LE_SIC_2000_2020_09_NH.nc CESM_LE_SIC_2000_2020_09_NH_regrid.nc"
   ]
  },
  {
   "cell_type": "markdown",
   "metadata": {},
   "source": [
    "**Oh no! We got an error. First we need to make some changes to the file** <br>\n",
    "`cdo` **requires variables** `lat_vertices` **and** `lon_vertices`**, the easiest way to get this is from the** `areacello` **file and overwrite our data onto the** `areacello` **variable**"
   ]
  },
  {
   "cell_type": "code",
   "execution_count": null,
   "metadata": {},
   "outputs": [],
   "source": [
    "CESM_areacello = xr.open_dataset('areacello_fx_CESM1-CAM5_rcp85_r0i0p0.nc')"
   ]
  },
  {
   "cell_type": "code",
   "execution_count": null,
   "metadata": {},
   "outputs": [],
   "source": [
    "CESM_areacello_NH = CESM_areacello.where(CESM_areacello['lat']>30,drop=True) #just use the coordinates we're interested in"
   ]
  },
  {
   "cell_type": "code",
   "execution_count": null,
   "metadata": {},
   "outputs": [],
   "source": [
    "CESM_areacello_NH['areacello'] = CESM1_SIC['sic'].transpose('time','member','j','i').copy() #CDO needs the time dimension first\n",
    "CESM_areacello_NH = CESM_areacello_NH.rename({'areacello':'sic'}) #rename the variable to something sensible!\n",
    "\n",
    "#add attributes\n",
    "CESM_areacello_NH.attrs = {'Description': 'CESM SIC >30N 2000-2020, Historical and RCP8.5, all 40 members from the large ensemble',\n",
    "                          'Units': '[million square km]',\n",
    "                          'Timestamp': str(datetime.datetime.utcnow().strftime(\"%H:%M UTC %a %Y-%m-%d\")),\n",
    "                          'Souce': 'areacello: /glade/collections/cmip/cmip5/output1/NSF-DOE-NCAR/CESM1-CAM5/rcp85/fx/ocean/fx/r0i0p0/latest/areacello/areacello_fx_CESM1-CAM5_rcp85_r0i0p0.nc, sic: /glade/collections/cdg/data/CLIVAR_LE/cesm_lens/OImon/sic, analysis: REU_2021-06-09_Large_Ensemble.ipynb'}"
   ]
  },
  {
   "cell_type": "code",
   "execution_count": null,
   "metadata": {},
   "outputs": [],
   "source": [
    "CESM_areacello_NH"
   ]
  },
  {
   "cell_type": "markdown",
   "metadata": {},
   "source": [
    "**Looks good, now save this to a NetCDF file**"
   ]
  },
  {
   "cell_type": "code",
   "execution_count": null,
   "metadata": {},
   "outputs": [],
   "source": [
    "CESM_areacello_NH.to_netcdf('CESM_SIC_2000_2020_09_NH_with_coords.nc')"
   ]
  },
  {
   "cell_type": "markdown",
   "metadata": {},
   "source": [
    "**Now we're going to do the regridding on this file we've just made.**"
   ]
  },
  {
   "cell_type": "code",
   "execution_count": null,
   "metadata": {},
   "outputs": [],
   "source": [
    "!cdo remapbil,Regrid_1x1_deg_30N.txt, CESM_SIC_2000_2020_09_NH_with_coords.nc CESM_SIC_2000_2020_09_NH_with_coords_regrid.nc"
   ]
  },
  {
   "cell_type": "markdown",
   "metadata": {},
   "source": [
    "## 2.3 Plot the regridded data\n",
    "**Yay! It worked this time** <br>\n",
    "**N.B. this is often a tedious process of trial and error getting everything just right for regridding. Don't exect your first try to work, there are different 'tricks' for other non regular models** <br>\n",
    "**Now let's open up this regridded datat and plot it**"
   ]
  },
  {
   "cell_type": "code",
   "execution_count": null,
   "metadata": {},
   "outputs": [],
   "source": [
    "CESM_SIC_regrid = xr.open_dataset('CESM_SIC_2000_2020_09_NH_with_coords_regrid.nc')"
   ]
  },
  {
   "cell_type": "code",
   "execution_count": null,
   "metadata": {},
   "outputs": [],
   "source": [
    "CESM_SIC_regrid"
   ]
  },
  {
   "cell_type": "code",
   "execution_count": null,
   "metadata": {},
   "outputs": [],
   "source": [
    "CESM_SIC_regrid['sic'].sel(member=1).sel(time='2020').plot()"
   ]
  },
  {
   "cell_type": "markdown",
   "metadata": {},
   "source": [
    "**Now we'll plot the regridded CESM data with Cartopy**"
   ]
  },
  {
   "cell_type": "code",
   "execution_count": null,
   "metadata": {},
   "outputs": [],
   "source": [
    "circular_polar_plot(CESM_SIC_regrid['sic'].sel(member=1).sel(time='2020'), 60, 'Blues_r', 'CESM1 September 2020 SIC',\n",
    "                    cbar_label='SIC [%]', levels_=np.arange(0,101,1), cbar_levels_=np.arange(0,101,10))"
   ]
  },
  {
   "cell_type": "markdown",
   "metadata": {},
   "source": [
    "**You're done for this morning!** <br>\n",
    "**Nice job!**"
   ]
  },
  {
   "cell_type": "code",
   "execution_count": null,
   "metadata": {},
   "outputs": [],
   "source": []
  },
  {
   "cell_type": "markdown",
   "metadata": {},
   "source": [
    "## Dask stuff - for use with a large number of cores to speed up computation"
   ]
  },
  {
   "cell_type": "code",
   "execution_count": 2,
   "metadata": {},
   "outputs": [
    {
     "data": {
      "text/html": [
       "<table style=\"border: 2px solid white;\">\n",
       "<tr>\n",
       "<td style=\"vertical-align: top; border: 0px solid white\">\n",
       "<h3 style=\"text-align: left;\">Client</h3>\n",
       "<ul style=\"text-align: left; list-style: none; margin: 0; padding: 0;\">\n",
       "  <li><b>Scheduler: </b>tcp://127.0.0.1:56680</li>\n",
       "  <li><b>Dashboard: </b><a href='http://127.0.0.1:8787/status' target='_blank'>http://127.0.0.1:8787/status</a></li>\n",
       "</ul>\n",
       "</td>\n",
       "<td style=\"vertical-align: top; border: 0px solid white\">\n",
       "<h3 style=\"text-align: left;\">Cluster</h3>\n",
       "<ul style=\"text-align: left; list-style:none; margin: 0; padding: 0;\">\n",
       "  <li><b>Workers: </b>4</li>\n",
       "  <li><b>Cores: </b>4</li>\n",
       "  <li><b>Memory: </b>17.18 GB</li>\n",
       "</ul>\n",
       "</td>\n",
       "</tr>\n",
       "</table>"
      ],
      "text/plain": [
       "<Client: 'tcp://127.0.0.1:56680' processes=4 threads=4, memory=17.18 GB>"
      ]
     },
     "execution_count": 2,
     "metadata": {},
     "output_type": "execute_result"
    }
   ],
   "source": [
    "from dask.distributed import Client\n",
    "client = Client()\n",
    "client"
   ]
  },
  {
   "cell_type": "code",
   "execution_count": null,
   "metadata": {},
   "outputs": [],
   "source": [
    "client"
   ]
  },
  {
   "cell_type": "markdown",
   "metadata": {},
   "source": [
    "**This takes a long time, so we can parallelize this using dask, here is a simple example**"
   ]
  },
  {
   "cell_type": "code",
   "execution_count": null,
   "metadata": {},
   "outputs": [],
   "source": [
    "def SIA_for_member(mem_):\n",
    "    sum_CanESM2 = weighted_masked_CanESM2.sel(member=mem_).sum('lat').sum('lon')\n",
    "    return(sum_CanESM2)"
   ]
  },
  {
   "cell_type": "code",
   "execution_count": null,
   "metadata": {},
   "outputs": [],
   "source": [
    "result_list = []\n",
    "for mem_i in np.arange(1,5,1):\n",
    "    result_list.append(dask.delayed(SIA_for_member)(mem_i))"
   ]
  },
  {
   "cell_type": "code",
   "execution_count": null,
   "metadata": {},
   "outputs": [],
   "source": [
    "results = dask.compute(*result_list)"
   ]
  },
  {
   "cell_type": "code",
   "execution_count": null,
   "metadata": {},
   "outputs": [],
   "source": [
    "@dask.delayed\n",
    "def SIA_all_members(weighted_masked_data, mem_len):\n",
    "    SIA_list = []\n",
    "    for mem_ in np.arange(1,mem_len+1,1):\n",
    "        SIA_list.append(weighted_masked_data.sel(member=mem_).sum('lat').sum('lon'))\n",
    "    \n",
    "    return(SIA_list)"
   ]
  },
  {
   "cell_type": "code",
   "execution_count": null,
   "metadata": {},
   "outputs": [],
   "source": [
    "SIA_results = SIA_all_members(weighted_masked_CanESM2, 4)"
   ]
  },
  {
   "cell_type": "code",
   "execution_count": null,
   "metadata": {},
   "outputs": [],
   "source": [
    "SIA_results.compute()"
   ]
  },
  {
   "cell_type": "code",
   "execution_count": null,
   "metadata": {},
   "outputs": [],
   "source": [
    "SIA_results"
   ]
  },
  {
   "cell_type": "code",
   "execution_count": null,
   "metadata": {},
   "outputs": [],
   "source": [
    "CanESM2_SIA_month = xr.concat((results), dim='member')"
   ]
  },
  {
   "cell_type": "code",
   "execution_count": null,
   "metadata": {},
   "outputs": [],
   "source": [
    "CanESM2_SIA_month"
   ]
  },
  {
   "cell_type": "code",
   "execution_count": null,
   "metadata": {},
   "outputs": [],
   "source": [
    "new_time = []\n",
    "for i in (CanESM2_SIA_month['time']):\n",
    "    new_time.append(np.datetime64(str(i.values)[:4]+'-'+str(i.values)[5:7].zfill(2)+'-'+str(i.values)[8:10]+'T'+str(i.values)[11:13].zfill(2)+':00:00.000'))"
   ]
  },
  {
   "cell_type": "code",
   "execution_count": null,
   "metadata": {},
   "outputs": [],
   "source": [
    "CanESM2_SIA_month['time'] = new_time"
   ]
  }
 ],
 "metadata": {
  "kernelspec": {
   "display_name": "Python 3",
   "language": "python",
   "name": "python3"
  },
  "language_info": {
   "codemirror_mode": {
    "name": "ipython",
    "version": 3
   },
   "file_extension": ".py",
   "mimetype": "text/x-python",
   "name": "python",
   "nbconvert_exporter": "python",
   "pygments_lexer": "ipython3",
   "version": "3.8.3"
  }
 },
 "nbformat": 4,
 "nbformat_minor": 4
}
