{
 "cells": [
  {
   "cell_type": "markdown",
   "id": "c06c365a",
   "metadata": {},
   "source": [
    "# Python Bootcamp Day 2:\n",
    "## Arrays and Plotting\n",
    "### Instructors: "
   ]
  },
  {
   "cell_type": "markdown",
   "id": "19a8682a",
   "metadata": {},
   "source": [
    "## Goals for the Day\n",
    "\n",
    "- Review of Lists\n",
    "- Arrays\n",
    "    - Introduction to Numpy\n",
    "    - Arrays\n",
    "    - Numpy Functions\n",
    "- Plotting\n",
    "    - Introduction to Matplotlib\n",
    "    - 1D arrays\n",
    "    - 2D arrays\n",
    "    - Histograms"
   ]
  },
  {
   "cell_type": "markdown",
   "id": "5f61d26a",
   "metadata": {},
   "source": [
    "## Notebook and Learning Structure\n",
    "\n",
    "Any text in black will be instruction and guidance and will usually start with a section number.<br>\n",
    "<span style=\"color:blue\"> Any text in blue will be tasks to do and start with \"Task\".</span><br>\n",
    "<span style=\"color:red\"> Any text in red will be optional challenges and advanced concepts for anyone looking to try more and say \"Challenge\".</span>\n"
   ]
  },
  {
   "cell_type": "markdown",
   "id": "d79881c0",
   "metadata": {},
   "source": [
    "## 1.0 How to use lists\n",
    "\n",
    "Lists are used to store multiple variables in a single variable <br>\n",
    "Empy lists can be initialised by either of the following: <br>\n",
    ">x = list() <br>\n",
    ">x=[ ]\n",
    "\n",
    "Here is a good tutorial for lists if you want more: https://www.w3schools.com/python/python_lists.asp"
   ]
  },
  {
   "cell_type": "code",
   "execution_count": null,
   "id": "09351f17",
   "metadata": {},
   "outputs": [],
   "source": [
    "x = [0,1,2,3,4] #create a list\n",
    "print(type(x))"
   ]
  },
  {
   "cell_type": "markdown",
   "id": "5af1642b",
   "metadata": {},
   "source": [
    "As we can see, x is a 'list'.<br>\n",
    "We can get the length of our array with:\n",
    "> len(x)"
   ]
  },
  {
   "cell_type": "code",
   "execution_count": null,
   "id": "b9586786",
   "metadata": {},
   "outputs": [],
   "source": [
    "print('Our array has', len(x), 'elements') #print length of our array"
   ]
  },
  {
   "cell_type": "markdown",
   "id": "225c97ce",
   "metadata": {},
   "source": [
    "You can easily access items in a list by 'indexing'<br>\n",
    "__In python, indexing starts at 0.__ <br>\n",
    "This means that the first item in our list is at index 0 and the second item is at index 1 and so on..."
   ]
  },
  {
   "cell_type": "code",
   "execution_count": null,
   "id": "74ddb286",
   "metadata": {},
   "outputs": [],
   "source": [
    "print('The first item in our list is: ', x[0]) #access the first element of our array (index = 0)"
   ]
  },
  {
   "cell_type": "markdown",
   "id": "204a4cf9",
   "metadata": {},
   "source": [
    "Lists are also nice because you can easily add items to them or remove items"
   ]
  },
  {
   "cell_type": "code",
   "execution_count": null,
   "id": "c15edff8",
   "metadata": {},
   "outputs": [],
   "source": [
    "x.append(5) #adds 5 to the end of the list\n",
    "print(x)"
   ]
  },
  {
   "cell_type": "markdown",
   "id": "bf2d8718",
   "metadata": {},
   "source": [
    "What is the difference between these two methods to remove values from the list?"
   ]
  },
  {
   "cell_type": "code",
   "execution_count": null,
   "id": "40f68f89",
   "metadata": {},
   "outputs": [],
   "source": [
    "x.remove(1)\n",
    "print(x)\n",
    "del x[3]\n",
    "print(x)"
   ]
  },
  {
   "cell_type": "markdown",
   "id": "88f52816",
   "metadata": {},
   "source": [
    "Lists can contain data of different data types:"
   ]
  },
  {
   "cell_type": "code",
   "execution_count": null,
   "id": "7c3c187a",
   "metadata": {},
   "outputs": [],
   "source": [
    "x2 = [\"Hi\", 0, True, \"no\"]\n",
    "print(x2)"
   ]
  },
  {
   "cell_type": "markdown",
   "id": "7df57e5c",
   "metadata": {},
   "source": [
    "To combine lists you can simply add them together:"
   ]
  },
  {
   "cell_type": "code",
   "execution_count": null,
   "id": "49128255",
   "metadata": {},
   "outputs": [],
   "source": [
    "x3 = x + x2\n",
    "print(x3)"
   ]
  },
  {
   "cell_type": "markdown",
   "id": "f6fed2d2",
   "metadata": {},
   "source": [
    "## 2.0 Arrays and Numpy\n",
    "\n",
    "The bad thing about lists is that they can be slow to manipulate <br>\n",
    "NumPy arrays are stored at one continuous place in memory unlike lists, so processes can access and manipulate them very efficiently.\n",
    "\n",
    "We import the NumPy package with:<br>\n",
    ">import numpy as np\n",
    "\n",
    "A good numpy tutorial can be found herehere: https://www.w3schools.com/python/numpy/numpy_intro.asp"
   ]
  },
  {
   "cell_type": "markdown",
   "id": "d1936237",
   "metadata": {},
   "source": [
    "### 2.1 Numpy installation and arrays"
   ]
  },
  {
   "cell_type": "code",
   "execution_count": null,
   "id": "08a52e94",
   "metadata": {},
   "outputs": [],
   "source": [
    "import numpy as np"
   ]
  },
  {
   "cell_type": "code",
   "execution_count": null,
   "id": "4a558c72",
   "metadata": {},
   "outputs": [],
   "source": [
    "arr = np.array([0,1,2,3,4]) #initialize numpy array\n",
    "print(type(arr))"
   ]
  },
  {
   "cell_type": "markdown",
   "id": "d254c9cf",
   "metadata": {},
   "source": [
    "To add values to the end of an array you can also use the 'append' method but it is implemented a bit differently: <br>\n",
    ">np.append(arr, 6)"
   ]
  },
  {
   "cell_type": "code",
   "execution_count": null,
   "id": "8ff29a73",
   "metadata": {},
   "outputs": [],
   "source": [
    "np.append(arr, 6)\n",
    "print(arr)"
   ]
  },
  {
   "cell_type": "markdown",
   "id": "7055b292",
   "metadata": {},
   "source": [
    "What happened to our appended value?<br>\n",
    "We need to 'reset' the array like so:<br>\n",
    ">arr = np.append(arr, 6)"
   ]
  },
  {
   "cell_type": "code",
   "execution_count": null,
   "id": "41e7b469",
   "metadata": {},
   "outputs": [],
   "source": [
    "arr = np.append(arr, 6)\n",
    "print(arr)"
   ]
  },
  {
   "cell_type": "markdown",
   "id": "f83ad066",
   "metadata": {},
   "source": [
    "Here are a few other ways to initialize 1D arrays:\n",
    "\n",
    "What is the difference between these two methods? Can you figure out what the (-10,150,20) means for each?"
   ]
  },
  {
   "cell_type": "code",
   "execution_count": null,
   "id": "9ecdf80c",
   "metadata": {},
   "outputs": [],
   "source": [
    "a1 = np.linspace(-10,150, 20)\n",
    "print(a1)\n",
    "a2 = np.arange(-10,150, 20)\n",
    "print(a2)"
   ]
  },
  {
   "cell_type": "markdown",
   "id": "17952005",
   "metadata": {},
   "source": [
    "We can also initialize an array full of zeros or ones:<br>\n",
    "> arr = np.zeros(6) <br>\n",
    "> arr = np.ones(6)\n",
    "\n",
    "*The value in parenthesis (6) is the shape of the array that is being created"
   ]
  },
  {
   "cell_type": "code",
   "execution_count": null,
   "id": "669c0b2b",
   "metadata": {},
   "outputs": [],
   "source": [
    "arr = np.zeros((2,3)) #What does the (2,3) mean?\n",
    "print(arr)"
   ]
  },
  {
   "cell_type": "code",
   "execution_count": null,
   "id": "5d3fb296",
   "metadata": {},
   "outputs": [],
   "source": [
    "print(arr.shape)"
   ]
  },
  {
   "cell_type": "markdown",
   "id": "664bffbb",
   "metadata": {},
   "source": [
    "We can change the values in the array by indexing:"
   ]
  },
  {
   "cell_type": "code",
   "execution_count": null,
   "id": "33f45e9b",
   "metadata": {},
   "outputs": [],
   "source": [
    "arr[0,1] = 3.14 #change the value in the first row, second column to 3.14\n",
    "print(arr)"
   ]
  },
  {
   "cell_type": "code",
   "execution_count": null,
   "id": "a26017d8",
   "metadata": {},
   "outputs": [],
   "source": [
    "arr(0,1) = 3.14 #change the value in the first row, second column to 3.14\n",
    "print(arr)"
   ]
  },
  {
   "cell_type": "markdown",
   "id": "86a5b376",
   "metadata": {},
   "source": [
    "<span style=\"color:blue\"> Now change all the rest of the values to numbers of your choosing!"
   ]
  },
  {
   "cell_type": "code",
   "execution_count": null,
   "id": "e826d6c8",
   "metadata": {},
   "outputs": [],
   "source": []
  },
  {
   "cell_type": "markdown",
   "id": "9b257762",
   "metadata": {},
   "source": [
    "We can flip our array up/down or left/right using:<br>\n",
    ">np.flipud(arr) #flips array vertically <br>\n",
    ">np.fliplr(arr) #flips array horizontally"
   ]
  },
  {
   "cell_type": "code",
   "execution_count": null,
   "id": "02541732",
   "metadata": {},
   "outputs": [],
   "source": [
    "arr_flipud = np.flipud(arr)\n",
    "print(arr_flipud)\n",
    "arr_fliplr = np.fliplr(arr)\n",
    "print(arr_fliplr)"
   ]
  },
  {
   "cell_type": "markdown",
   "id": "29466b94",
   "metadata": {},
   "source": [
    "We can also reverse the dimensions of our array ('transpose'):<br>\n",
    "> np.transpose(arr) <br>\n",
    "> arr.T"
   ]
  },
  {
   "cell_type": "code",
   "execution_count": null,
   "id": "94b7d4ca",
   "metadata": {},
   "outputs": [],
   "source": [
    "print(np.transpose(arr))\n",
    "print(arr.T)"
   ]
  },
  {
   "cell_type": "markdown",
   "id": "88bdd196",
   "metadata": {},
   "source": [
    "Lets do some math with our array! Here are a few mathematical functions we can use with NumPy arrays: <br>\n",
    ">np.mean(arr) #take mean of array <br>\n",
    ">np.sin(arr) #take the sin of all array elements <br>\n",
    ">np.log(arr) #take the natural log of all array elements <br>\n",
    ">arr-2 #subtract 2 from all array elements <br>\n",
    ">arr**2 #square all array elements\n",
    "\n",
    "<span style=\"color:blue\"> How do you think you might calculate the sum of all array elements>?"
   ]
  },
  {
   "cell_type": "code",
   "execution_count": null,
   "id": "97c71f25",
   "metadata": {},
   "outputs": [],
   "source": []
  },
  {
   "cell_type": "markdown",
   "id": "88765c6d",
   "metadata": {},
   "source": [
    "<span style=\"color:blue\"> What does the following piece of code below do?"
   ]
  },
  {
   "cell_type": "code",
   "execution_count": null,
   "id": "57663033",
   "metadata": {},
   "outputs": [],
   "source": [
    "print(np.mean(arr, axis = 0))"
   ]
  },
  {
   "cell_type": "markdown",
   "id": "6ef6b150",
   "metadata": {},
   "source": [
    "### 2.2 Manipulating Arrays and Using Functions"
   ]
  },
  {
   "cell_type": "code",
   "execution_count": null,
   "id": "732ee907",
   "metadata": {},
   "outputs": [],
   "source": [
    "#Some other calculations:\n",
    "print(np.cos(arr)) #cosine of all array elements\n",
    "print(np.std(arr)) #standard deviation of array\n",
    "print(np.min(arr)) #minimum value of array\n",
    "print(arr + 2) #all array values plus 2"
   ]
  },
  {
   "cell_type": "markdown",
   "id": "1e7e7583",
   "metadata": {},
   "source": [
    "We can also flatten our array into 1D:"
   ]
  },
  {
   "cell_type": "code",
   "execution_count": null,
   "id": "4f03b88c",
   "metadata": {},
   "outputs": [],
   "source": [
    "arr_flat = arr.flatten()\n",
    "print(arr_flat)"
   ]
  },
  {
   "cell_type": "markdown",
   "id": "ae602c72",
   "metadata": {},
   "source": [
    "Converting between arrays and lists is easy!<br>\n",
    "> arr.tolist() #convert numpy array --> list <br>\n",
    "> np.array(list_name) #convert list --> numpy array "
   ]
  },
  {
   "cell_type": "code",
   "execution_count": null,
   "id": "f85001dd",
   "metadata": {},
   "outputs": [],
   "source": [
    "arr_list = arr_flat.tolist()\n",
    "print(arr_list)\n",
    "print(type(arr_list))"
   ]
  },
  {
   "cell_type": "code",
   "execution_count": null,
   "id": "239490ed",
   "metadata": {},
   "outputs": [],
   "source": [
    "arr_np = np.array(arr_list)\n",
    "print(type(arr_np))"
   ]
  },
  {
   "cell_type": "markdown",
   "id": "abbebfaa",
   "metadata": {},
   "source": [
    "\"Slicing\" an array is a great way to only get part of the array!<br>\n",
    "The __:__ operator slices an array between the indexes provided"
   ]
  },
  {
   "cell_type": "code",
   "execution_count": null,
   "id": "eae9af9c",
   "metadata": {},
   "outputs": [],
   "source": [
    "print(arr_np)\n",
    "print(arr_np[1:4]) #here were are slicing from the 1st to the 4th elements"
   ]
  },
  {
   "cell_type": "markdown",
   "id": "58e93156",
   "metadata": {},
   "source": [
    "We can also use 'negative' indexing to get the last element!"
   ]
  },
  {
   "cell_type": "code",
   "execution_count": null,
   "id": "d5862467",
   "metadata": {},
   "outputs": [],
   "source": [
    "print(arr_np[-1]) #get last value of array"
   ]
  },
  {
   "cell_type": "markdown",
   "id": "69a98bca",
   "metadata": {},
   "source": [
    "Let's try slicing on a 2d array:"
   ]
  },
  {
   "cell_type": "code",
   "execution_count": null,
   "id": "a85246df",
   "metadata": {},
   "outputs": [],
   "source": [
    "arr = np.array([[1,2,3,4,5],[6,7,8,9,2], [3,6,8,4,9]]) #initialize a 2d array\n",
    "print(arr)"
   ]
  },
  {
   "cell_type": "markdown",
   "id": "0063b5bb",
   "metadata": {},
   "source": [
    "You can also take every other value of an array like this:"
   ]
  },
  {
   "cell_type": "code",
   "execution_count": null,
   "id": "f2e63822",
   "metadata": {},
   "outputs": [],
   "source": [
    "arr = np.array([0,1,2,3,4,5,6,7,8,9,10])\n",
    "print(arr[::2])"
   ]
  },
  {
   "cell_type": "markdown",
   "id": "2e7b499c",
   "metadata": {},
   "source": [
    "There are many ways we can create arrays filled with random values. One of them is with the np.random.rand() function"
   ]
  },
  {
   "cell_type": "code",
   "execution_count": null,
   "id": "1b2aeeb4",
   "metadata": {},
   "outputs": [],
   "source": [
    "random_arr = np.random.rand(10) #initialize a random array (10 random numbers between 0 and 1)\n",
    "print(random_arr)"
   ]
  },
  {
   "cell_type": "markdown",
   "id": "d3b35369",
   "metadata": {},
   "source": [
    "Finally, lets talk about merging arrays! There are a number of ways that we could do this: <br>\n",
    ">np.vstack() #combine arrays vertically <br>\n",
    ">np.hstack() #combine arrays horizontally <br>\n",
    ">np.append() #append one array to another <br>\n",
    ">np.concatinate() <br>"
   ]
  },
  {
   "cell_type": "code",
   "execution_count": null,
   "id": "01a47c0f",
   "metadata": {},
   "outputs": [],
   "source": [
    "a1 = np.array([0,1,2,3,4])\n",
    "a2 = np.array([5,6,7,8,9])\n",
    "\n",
    "a_vstack = np.vstack([a1,a2]) #notice that the arrays are within square brackets\n",
    "print(a_vstack)\n",
    "\n",
    "a_hstack = np.hstack([a1,a2]) #notice that the arrays are within square brackets\n",
    "print(a_hstack)\n",
    "\n",
    "a_append = np.append(a1, a2) #no sqaure brackets here\n",
    "print(a_append)\n",
    "\n",
    "a_concat = np.concatenate([a1,a2])\n",
    "print(a_concat)"
   ]
  },
  {
   "cell_type": "markdown",
   "id": "9fa4fcbe",
   "metadata": {},
   "source": [
    "One final important NumPy thing: __null values__\n",
    "\n",
    "Often when working with atmospheric science data there are periods where data is not availabe (due to instrument error or other reasons). In these instances you might see a 'NaN' value. This stands for 'not a number'. It is essentially a placeholder for when data is not available."
   ]
  },
  {
   "cell_type": "code",
   "execution_count": null,
   "id": "b4c81e98",
   "metadata": {},
   "outputs": [],
   "source": [
    "x = np.array([0,1,6,3,np.nan, 8,5])\n",
    "print(x)"
   ]
  },
  {
   "cell_type": "markdown",
   "id": "c37aa514",
   "metadata": {},
   "source": [
    "## <span style=\"color:blue\"> Challenge #1:\n",
    "\n",
    "- <span style=\"color:blue\"> x1: Create an evenly spaced array of integers from 1 to 25. ie: [1,2,3...25]\n",
    "\n",
    "- <span style=\"color:blue\"> x2: Create another array of 25 random values\n",
    "\n",
    "- <span style=\"color:blue\"> x3: Subtract x2 from x1\n",
    "\n",
    "- <span style=\"color:blue\"> x4: Reverse x3\n",
    "\n",
    "- <span style=\"color:blue\"> x5: vertically combine x3 and x4\n",
    "\n",
    "- <span style=\"color:blue\"> x6: slice the array from the 4th to the 18th column, including all rows\n",
    "\n",
    "- <span style=\"color:blue\"> x7: Flatten the array\n",
    "\n",
    "- <span style=\"color:blue\"> x8: Take every 3rd value from x7\n",
    "\n",
    "- <span style=\"color:blue\"> x9 Calculate the mean of x6\n",
    "    \n",
    "- <span style=\"color:red\"> x10 Look at the [Numpy Documentation](https://numpy.org/doc/1.24/user/quickstart.html) and try out 3 new functions"
   ]
  },
  {
   "cell_type": "code",
   "execution_count": null,
   "id": "81a6cadd",
   "metadata": {},
   "outputs": [],
   "source": []
  },
  {
   "cell_type": "markdown",
   "id": "ee2f71cd",
   "metadata": {},
   "source": [
    "## 3.0 Plotting using Matplotlib\n",
    "\n",
    "### 3.1 Importing the function and make a basic plot\n",
    "We import the plotting package (matplotlib) with the following command:<br>\n",
    "> import matplotlib.pyplot as plt\n",
    "\n",
    "Matplotlib has two basic interfaces to create a plot. <br>\n",
    "   > 1) Object Oriented <br>\n",
    "   > 2) Pyplot model"
   ]
  },
  {
   "cell_type": "code",
   "execution_count": null,
   "id": "6eef6820",
   "metadata": {},
   "outputs": [],
   "source": [
    "import matplotlib.pyplot as plt #package to plot data"
   ]
  },
  {
   "cell_type": "code",
   "execution_count": null,
   "id": "e688bf5e",
   "metadata": {},
   "outputs": [],
   "source": [
    "fig, ax = plt.subplots() #Creating a plot via the object oriented method"
   ]
  },
  {
   "cell_type": "code",
   "execution_count": null,
   "id": "a948c3cb",
   "metadata": {},
   "outputs": [],
   "source": [
    "plt.plot() #creating a plot via the pyplot module"
   ]
  },
  {
   "cell_type": "markdown",
   "id": "0a672c7c",
   "metadata": {},
   "source": [
    "__We will use the first method here!__\n",
    "\n",
    "To plot data on the axis we created we do: <br>\n",
    "> ax.plot(data)"
   ]
  },
  {
   "cell_type": "markdown",
   "id": "a0b75eef",
   "metadata": {},
   "source": [
    "### 3.2 Add data"
   ]
  },
  {
   "cell_type": "code",
   "execution_count": null,
   "id": "5df60cfa",
   "metadata": {},
   "outputs": [],
   "source": [
    "random_arr = np.random.rand(10) #create random array\n",
    "\n",
    "fig, ax = plt.subplots()\n",
    "ax.plot(random_arr) #plot data on the axis we created!"
   ]
  },
  {
   "cell_type": "markdown",
   "id": "62d53e67",
   "metadata": {},
   "source": [
    "You can see we have the annoying [<matplotlib.lines.Line2D at 0x7fc6849f8c50>] line above the plot. To get rid of this we can add a semi-colon to the last line of our code:"
   ]
  },
  {
   "cell_type": "code",
   "execution_count": null,
   "id": "0617181e",
   "metadata": {},
   "outputs": [],
   "source": [
    "fig, ax = plt.subplots()\n",
    "ax.plot(random_arr);"
   ]
  },
  {
   "cell_type": "markdown",
   "id": "2a083450",
   "metadata": {},
   "source": [
    "Let's explore the matplot lib documentation a bit: <br>\n",
    "https://matplotlib.org/stable/api/_as_gen/matplotlib.pyplot.plot.html\n",
    "\n",
    "<span style=\"color:blue\"> Try changing the color and width of your line!"
   ]
  },
  {
   "cell_type": "code",
   "execution_count": null,
   "id": "bf565112",
   "metadata": {},
   "outputs": [],
   "source": []
  },
  {
   "cell_type": "markdown",
   "id": "27a1fab4",
   "metadata": {},
   "source": [
    "### 3.3: Axes"
   ]
  },
  {
   "cell_type": "markdown",
   "id": "c261608a",
   "metadata": {},
   "source": [
    "We can change the axis properties by calling the following functions: <br>\n",
    "> ax.set_xlabel('label') #set x-axis label <br>\n",
    "> ax.set_xlim([0,5]) #set the x-axis to only go between 0 and 5\n",
    "> ax.set_xticks([0,2,5]) #only have x-ticks at the designated numbers"
   ]
  },
  {
   "cell_type": "code",
   "execution_count": null,
   "id": "51bdee16",
   "metadata": {},
   "outputs": [],
   "source": [
    "fig, ax = plt.subplots()\n",
    "ax.plot(random_arr)\n",
    "ax.set_ylabel('Random number', fontsize = 15) #change y-axis label\n",
    "\n",
    "ax.set_xlim([0,8]) #set x-axis to go between 0 and 8\n",
    "ax.ylim([0,1]) #set x-axis to go between 0 and 8\n",
    "\n",
    "ax.set_yticks([0,0.1,0.8]); #change y-axis ticks"
   ]
  },
  {
   "cell_type": "markdown",
   "id": "f65f9770",
   "metadata": {},
   "source": [
    "You can also plot 2 lines on the same plot"
   ]
  },
  {
   "cell_type": "markdown",
   "id": "a2525ae3",
   "metadata": {},
   "source": [
    "### 3.4: Add multiple lines"
   ]
  },
  {
   "cell_type": "code",
   "execution_count": null,
   "id": "b2fffcd7",
   "metadata": {},
   "outputs": [],
   "source": [
    "random_arr2 = np.random.rand(10)\n",
    "\n",
    "fig, ax = plt.subplots()\n",
    "\n",
    "ax.plot(random_arr, color = 'red', linestyle = 'dashed', label = 'line1')\n",
    "ax.plot(random_arr2, color = 'blue', linewidth = 2, label = 'line2')\n",
    "ax.legend();"
   ]
  },
  {
   "cell_type": "markdown",
   "id": "aa3ce9bf",
   "metadata": {},
   "source": [
    "Or we can give each line its own plot: <br>\n",
    "\n",
    "> fig, ax = plt.subplots(2,3) #creates 2 rows of 3 subplots each"
   ]
  },
  {
   "cell_type": "code",
   "execution_count": null,
   "id": "090e518e",
   "metadata": {},
   "outputs": [],
   "source": [
    "fig, ax = plt.subplots(1,2, figsize = (20,5))\n",
    "ax[0].plot(random_arr)\n",
    "ax[0].set_xlabel('x', fontsize = 16)\n",
    "ax[0].set_ylabel('Random number', fontsize = 16)\n",
    "\n",
    "\n",
    "ax[1].plot(random_arr2)\n",
    "ax[1].set_xlabel('x', fontsize = 16)\n",
    "ax[1].set_ylabel('Random number', fontsize = 16);"
   ]
  },
  {
   "cell_type": "markdown",
   "id": "9f5086fe",
   "metadata": {},
   "source": [
    "Or we can plot the data sets against eachother:\n",
    "\n",
    "'.' specifies we want to plot the data with dots instead of lines"
   ]
  },
  {
   "cell_type": "markdown",
   "id": "4150a840",
   "metadata": {},
   "source": [
    "### 3.4 What if we don't want a line?"
   ]
  },
  {
   "cell_type": "code",
   "execution_count": null,
   "id": "343e7865",
   "metadata": {},
   "outputs": [],
   "source": [
    "fig, ax = plt.subplots()\n",
    "plt.plot(random_arr, random_arr2, '.', markersize = 10)\n",
    "plt.xlabel('line1')\n",
    "plt.ylabel('line2');"
   ]
  },
  {
   "cell_type": "markdown",
   "id": "2df93ed7",
   "metadata": {},
   "source": [
    "You can also create scatter plots with the scatter() function:"
   ]
  },
  {
   "cell_type": "code",
   "execution_count": null,
   "id": "3816bd2b",
   "metadata": {},
   "outputs": [],
   "source": [
    "fig, ax = plt.subplots()\n",
    "ax.scatter(random_arr, random_arr2);"
   ]
  },
  {
   "cell_type": "markdown",
   "id": "c0daabed",
   "metadata": {},
   "source": [
    "### 3.5: Plotting 2D arrays"
   ]
  },
  {
   "cell_type": "code",
   "execution_count": null,
   "id": "026e354c",
   "metadata": {},
   "outputs": [],
   "source": [
    "random_arr2d = np.random.rand(10,10) #10x10 array\n",
    "print(random_arr2d)"
   ]
  },
  {
   "cell_type": "code",
   "execution_count": null,
   "id": "6acf7fe2",
   "metadata": {},
   "outputs": [],
   "source": [
    "fig, ax = plt.subplots()\n",
    "ax.imshow(random_arr2d);"
   ]
  },
  {
   "cell_type": "markdown",
   "id": "ed9a85f2",
   "metadata": {},
   "source": [
    "You can find other possible colormaps here: https://matplotlib.org/3.5.0/tutorials/colors/colormaps.html\n",
    "\n",
    "And we add a colorbar with: <br>\n",
    "> ax.colorbar(im), __where we have to set im equal to our plot__"
   ]
  },
  {
   "cell_type": "code",
   "execution_count": null,
   "id": "998de593",
   "metadata": {},
   "outputs": [],
   "source": [
    "fig, ax = plt.subplots()\n",
    "im = ax.imshow(random_arr2d, cmap = 'inferno')\n",
    "plt.colorbar(im);"
   ]
  },
  {
   "cell_type": "markdown",
   "id": "e0c8ba8f",
   "metadata": {},
   "source": [
    "### 3.6: Histograms"
   ]
  },
  {
   "cell_type": "markdown",
   "id": "144f7da6",
   "metadata": {},
   "source": [
    "Histograms are another common plot type! Here is some sample code to create a histogram plot. You can explore histograms more later if you like!"
   ]
  },
  {
   "cell_type": "code",
   "execution_count": null,
   "id": "1c0eae84",
   "metadata": {},
   "outputs": [],
   "source": [
    "rng = np.random.default_rng(12) #create random number generator with a fixed seed (12)\n",
    "dist1 = rng.standard_normal(100000) #creates an normally distributed array of 100000 points\n",
    "\n",
    "fig, axs = plt.subplots()\n",
    "axs.hist(dist1, bins=20, color = 'red', alpha =0.5, edgecolor = 'maroon') ;\n",
    "    #bins = 20 means we will have 20 bins for our data\n",
    "    #color set to indianred\n",
    "    #alpha changes the transparency\n",
    "    #edgecolor outlines our bins\n"
   ]
  },
  {
   "cell_type": "markdown",
   "id": "328e73fa",
   "metadata": {},
   "source": [
    "We can save any figure we create with the following command: <br>\n",
    ">plt.savefig('fig_name.png')"
   ]
  },
  {
   "cell_type": "markdown",
   "id": "ded56b94",
   "metadata": {},
   "source": [
    "##  <span style=\"color:blue\"> Challenge #2:\n",
    "\n",
    "-  <span style=\"color:blue\">1: Create an array from 0 to 10 with a size of 100\n",
    "\n",
    "-  <span style=\"color:blue\">2: create a new array that is the sin of x\n",
    "\n",
    "-  <span style=\"color:blue\">3: create a new array that is equal to x^2\n",
    "\n",
    "-  <span style=\"color:blue\">3: On two different subplots, plot x and y, and x and y2.\n",
    "\n",
    "-  <span style=\"color:red\"> 5: Add axis labels, titles, and change the line properties for each subplot!"
   ]
  },
  {
   "cell_type": "code",
   "execution_count": null,
   "id": "be584b8d",
   "metadata": {},
   "outputs": [],
   "source": []
  },
  {
   "cell_type": "code",
   "execution_count": null,
   "id": "b16a2c41",
   "metadata": {},
   "outputs": [],
   "source": []
  }
 ],
 "metadata": {
  "kernelspec": {
   "display_name": "Python 3 (ipykernel)",
   "language": "python",
   "name": "python3"
  },
  "language_info": {
   "codemirror_mode": {
    "name": "ipython",
    "version": 3
   },
   "file_extension": ".py",
   "mimetype": "text/x-python",
   "name": "python",
   "nbconvert_exporter": "python",
   "pygments_lexer": "ipython3",
   "version": "3.8.16"
  }
 },
 "nbformat": 4,
 "nbformat_minor": 5
}
