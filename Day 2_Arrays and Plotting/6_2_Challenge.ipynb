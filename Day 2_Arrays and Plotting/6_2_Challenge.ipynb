{
 "cells": [
  {
   "cell_type": "markdown",
   "metadata": {},
   "source": [
    "<h2> <font color='blue'> Day 2 afternoon Challenge"
   ]
  },
  {
   "cell_type": "markdown",
   "metadata": {},
   "source": [
    "<h3><font color=blue> The goal today is to compare seasonal timeseries of the lidar 18m wind data. A suggestion of steps are shown below, but this code can be written many different ways (and much more effieiciently than suggested below) If you have an idea of how to procede, ignore the comments! The comments should be used if you have no idea where to get started.<br/><br/>Ultimately the end goal is to have: \n",
    "    <br/> 1. a plot or plots that compares seasonal data from each month in 2020. The timesteps should be daily averaged windspeed.\n",
    "    <font color='red'><br/> 2. accomplished using only one big loop (can have nested loops inside)\n",
    "    <br/> <font color='blue'>3. a written description comparing the seasonal wind trends\n",
    "    <br/> <font color='red'>4. The same comparison as 1 but this time using both 2019 and 2020 dates to calculate the daily averaged windspeed.\n",
    "    "
   ]
  },
  {
   "cell_type": "markdown",
   "metadata": {},
   "source": [
    "<h1><font color='blue'> 1. "
   ]
  },
  {
   "cell_type": "code",
   "execution_count": null,
   "metadata": {},
   "outputs": [],
   "source": [
    "#load in libraries you might need here\n",
    "\n",
    "\n",
    "\n"
   ]
  },
  {
   "cell_type": "code",
   "execution_count": null,
   "metadata": {},
   "outputs": [],
   "source": [
    "#load in the exact same wind_array data we used in the morning session\n",
    "\n",
    "\n"
   ]
  },
  {
   "cell_type": "code",
   "execution_count": null,
   "metadata": {},
   "outputs": [],
   "source": [
    "#Using 'for' loops, create numpy arrays for each season\n",
    "##Seasons here can be considered \n",
    "##Summer:June,July,Aug; Fall:Sept,Oct,Nov; Winter:Dec,Jan,Feb; Spring:March,Apr,May\n",
    "\n",
    "\n",
    "\n",
    "\n"
   ]
  },
  {
   "cell_type": "code",
   "execution_count": null,
   "metadata": {},
   "outputs": [],
   "source": [
    "#Using 'for' loops take the average daily windspeed for each of the seasons\n",
    "\n"
   ]
  },
  {
   "cell_type": "code",
   "execution_count": null,
   "metadata": {},
   "outputs": [],
   "source": [
    "#Plot each of the four seasons as a timeseries on the same plot. \n",
    "##Use different colors and add a legend to make it beautiful!\n",
    "\n"
   ]
  },
  {
   "cell_type": "markdown",
   "metadata": {},
   "source": [
    "<h1><font color='red'> 2. "
   ]
  },
  {
   "cell_type": "code",
   "execution_count": null,
   "metadata": {},
   "outputs": [],
   "source": []
  },
  {
   "cell_type": "markdown",
   "metadata": {},
   "source": [
    "<h1><font color='blue'> 3. "
   ]
  },
  {
   "cell_type": "code",
   "execution_count": null,
   "metadata": {},
   "outputs": [],
   "source": [
    "#Write a few sentences of observations you see based on your seasonal winds."
   ]
  },
  {
   "cell_type": "markdown",
   "metadata": {},
   "source": [
    "<h1><font color='red'> 4. "
   ]
  },
  {
   "cell_type": "code",
   "execution_count": null,
   "metadata": {},
   "outputs": [],
   "source": []
  }
 ],
 "metadata": {
  "kernelspec": {
   "display_name": "Python 3",
   "language": "python",
   "name": "python3"
  },
  "language_info": {
   "codemirror_mode": {
    "name": "ipython",
    "version": 3
   },
   "file_extension": ".py",
   "mimetype": "text/x-python",
   "name": "python",
   "nbconvert_exporter": "python",
   "pygments_lexer": "ipython3",
   "version": "3.8.5"
  }
 },
 "nbformat": 4,
 "nbformat_minor": 4
}
