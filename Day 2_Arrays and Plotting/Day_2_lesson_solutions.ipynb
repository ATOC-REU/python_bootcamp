{
 "cells": [
  {
   "cell_type": "markdown",
   "id": "c06c365a",
   "metadata": {},
   "source": [
    "# Python Bootcamp Day 2:\n",
    "## Arrays and Plotting\n",
    "### Instructors: "
   ]
  },
  {
   "cell_type": "markdown",
   "id": "19a8682a",
   "metadata": {},
   "source": [
    "## Goals for the Day\n",
    "\n",
    "- Review of Lists\n",
    "- Arrays\n",
    "    - Introduction to Numpy\n",
    "    - Arrays\n",
    "    - Numpy Functions\n",
    "- Plotting\n",
    "    - Introduction to Matplotlib\n",
    "    - 1D arrays\n",
    "    - 2D arrays\n",
    "    - Histograms"
   ]
  },
  {
   "cell_type": "markdown",
   "id": "5f61d26a",
   "metadata": {},
   "source": [
    "## Notebook and Learning Structure\n",
    "\n",
    "Any text in black will be instruction and guidance and will usually start with a section number.<br>\n",
    "<span style=\"color:blue\"> Any text in blue will be tasks to do and start with \"Task\".</span><br>\n",
    "<span style=\"color:red\"> Any text in red will be optional challenges and advanced concepts for anyone looking to try more and say \"Challenge\".</span>\n"
   ]
  },
  {
   "cell_type": "markdown",
   "id": "d79881c0",
   "metadata": {},
   "source": [
    "## 1.0 How to use lists\n",
    "\n",
    "Lists are used to store multiple variables in a single variable <br>\n",
    "Empy lists can be initialised by either of the following: <br>\n",
    ">x = list() <br>\n",
    ">x=[ ]\n",
    "\n",
    "Here is a good tutorial for lists if you want more: https://www.w3schools.com/python/python_lists.asp"
   ]
  },
  {
   "cell_type": "code",
   "execution_count": 1,
   "id": "09351f17",
   "metadata": {},
   "outputs": [
    {
     "name": "stdout",
     "output_type": "stream",
     "text": [
      "<class 'list'>\n"
     ]
    }
   ],
   "source": [
    "x = [0,1,2,3,4] #create a list\n",
    "print(type(x))"
   ]
  },
  {
   "cell_type": "markdown",
   "id": "5af1642b",
   "metadata": {},
   "source": [
    "As we can see, x is a 'list'.<br>\n",
    "We can get the length of our array with:\n",
    "> len(x)"
   ]
  },
  {
   "cell_type": "code",
   "execution_count": 2,
   "id": "b9586786",
   "metadata": {},
   "outputs": [
    {
     "name": "stdout",
     "output_type": "stream",
     "text": [
      "Our array has 5 elements\n"
     ]
    }
   ],
   "source": [
    "print('Our array has', len(x), 'elements') #print length of our array"
   ]
  },
  {
   "cell_type": "markdown",
   "id": "225c97ce",
   "metadata": {},
   "source": [
    "You can easily access items in a list by 'indexing'<br>\n",
    "__In python, indexing starts at 0.__ <br>\n",
    "This means that the first item in our list is at index 0 and the second item is at index 1 and so on..."
   ]
  },
  {
   "cell_type": "code",
   "execution_count": 3,
   "id": "74ddb286",
   "metadata": {},
   "outputs": [
    {
     "name": "stdout",
     "output_type": "stream",
     "text": [
      "The first item in our list is:  0\n"
     ]
    }
   ],
   "source": [
    "print('The first item in our list is: ', x[0]) #access the first element of our array (index = 0)"
   ]
  },
  {
   "cell_type": "markdown",
   "id": "204a4cf9",
   "metadata": {},
   "source": [
    "Lists are also nice because you can easily add items to them or remove items"
   ]
  },
  {
   "cell_type": "code",
   "execution_count": 4,
   "id": "c15edff8",
   "metadata": {},
   "outputs": [
    {
     "name": "stdout",
     "output_type": "stream",
     "text": [
      "[0, 1, 2, 3, 4, 5]\n"
     ]
    }
   ],
   "source": [
    "x.append(5) #adds 5 to the end of the list\n",
    "print(x)"
   ]
  },
  {
   "cell_type": "markdown",
   "id": "bf2d8718",
   "metadata": {},
   "source": [
    "What is the difference between these two methods to remove values from the list?"
   ]
  },
  {
   "cell_type": "code",
   "execution_count": 5,
   "id": "40f68f89",
   "metadata": {},
   "outputs": [
    {
     "name": "stdout",
     "output_type": "stream",
     "text": [
      "[0, 2, 3, 4, 5]\n",
      "[0, 2, 3, 5]\n"
     ]
    }
   ],
   "source": [
    "x.remove(1)\n",
    "print(x)\n",
    "del x[3]\n",
    "print(x)"
   ]
  },
  {
   "cell_type": "markdown",
   "id": "88f52816",
   "metadata": {},
   "source": [
    "Lists can contain data of different data types:"
   ]
  },
  {
   "cell_type": "code",
   "execution_count": 6,
   "id": "7c3c187a",
   "metadata": {},
   "outputs": [
    {
     "name": "stdout",
     "output_type": "stream",
     "text": [
      "['Hi', 0, True, 'no']\n"
     ]
    }
   ],
   "source": [
    "x2 = [\"Hi\", 0, True, \"no\"]\n",
    "print(x2)"
   ]
  },
  {
   "cell_type": "markdown",
   "id": "7df57e5c",
   "metadata": {},
   "source": [
    "To combine lists you can simply add them together:"
   ]
  },
  {
   "cell_type": "code",
   "execution_count": 7,
   "id": "49128255",
   "metadata": {},
   "outputs": [
    {
     "name": "stdout",
     "output_type": "stream",
     "text": [
      "[0, 2, 3, 5, 'Hi', 0, True, 'no']\n"
     ]
    }
   ],
   "source": [
    "x3 = x + x2\n",
    "print(x3)"
   ]
  },
  {
   "cell_type": "markdown",
   "id": "f6fed2d2",
   "metadata": {},
   "source": [
    "## 2.0 Arrays and Numpy\n",
    "\n",
    "The bad thing about lists is that they can be slow to manipulate <br>\n",
    "NumPy arrays are stored at one continuous place in memory unlike lists, so processes can access and manipulate them very efficiently.\n",
    "\n",
    "We import the NumPy package with:<br>\n",
    ">import numpy as np\n",
    "\n",
    "A good numpy tutorial can be found herehere: https://www.w3schools.com/python/numpy/numpy_intro.asp"
   ]
  },
  {
   "cell_type": "markdown",
   "id": "d1936237",
   "metadata": {},
   "source": [
    "### 2.1 Numpy installation and arrays"
   ]
  },
  {
   "cell_type": "code",
   "execution_count": 8,
   "id": "08a52e94",
   "metadata": {},
   "outputs": [],
   "source": [
    "import numpy as np"
   ]
  },
  {
   "cell_type": "code",
   "execution_count": 9,
   "id": "4a558c72",
   "metadata": {},
   "outputs": [
    {
     "name": "stdout",
     "output_type": "stream",
     "text": [
      "<class 'numpy.ndarray'>\n"
     ]
    }
   ],
   "source": [
    "arr = np.array([0,1,2,3,4]) #initialize numpy array\n",
    "print(type(arr))"
   ]
  },
  {
   "cell_type": "markdown",
   "id": "d254c9cf",
   "metadata": {},
   "source": [
    "To add values to the end of an array you can also use the 'append' method but it is implemented a bit differently: <br>\n",
    ">np.append(arr, 6)"
   ]
  },
  {
   "cell_type": "code",
   "execution_count": 10,
   "id": "8ff29a73",
   "metadata": {},
   "outputs": [
    {
     "name": "stdout",
     "output_type": "stream",
     "text": [
      "[0 1 2 3 4]\n"
     ]
    }
   ],
   "source": [
    "np.append(arr, 6)\n",
    "print(arr)"
   ]
  },
  {
   "cell_type": "markdown",
   "id": "7055b292",
   "metadata": {},
   "source": [
    "What happened to our appended value?<br>\n",
    "We need to 'reset' the array like so:<br>\n",
    ">arr = np.append(arr, 6)"
   ]
  },
  {
   "cell_type": "code",
   "execution_count": 11,
   "id": "41e7b469",
   "metadata": {},
   "outputs": [
    {
     "name": "stdout",
     "output_type": "stream",
     "text": [
      "[0 1 2 3 4 6]\n"
     ]
    }
   ],
   "source": [
    "arr = np.append(arr, 6)\n",
    "print(arr)"
   ]
  },
  {
   "cell_type": "markdown",
   "id": "f83ad066",
   "metadata": {},
   "source": [
    "Here are a few other ways to initialize 1D arrays:\n",
    "\n",
    "What is the difference between these two methods? Can you figure out what the (-10,150,20) means for each?"
   ]
  },
  {
   "cell_type": "code",
   "execution_count": 12,
   "id": "9ecdf80c",
   "metadata": {},
   "outputs": [
    {
     "name": "stdout",
     "output_type": "stream",
     "text": [
      "[-10.          -1.57894737   6.84210526  15.26315789  23.68421053\n",
      "  32.10526316  40.52631579  48.94736842  57.36842105  65.78947368\n",
      "  74.21052632  82.63157895  91.05263158  99.47368421 107.89473684\n",
      " 116.31578947 124.73684211 133.15789474 141.57894737 150.        ]\n",
      "[-10  10  30  50  70  90 110 130]\n"
     ]
    }
   ],
   "source": [
    "a1 = np.linspace(-10,150, 20)\n",
    "print(a1)\n",
    "a2 = np.arange(-10,150, 20)\n",
    "print(a2)"
   ]
  },
  {
   "cell_type": "markdown",
   "id": "17952005",
   "metadata": {},
   "source": [
    "We can also initialize an array full of zeros or ones:<br>\n",
    "> arr = np.zeros(6) <br>\n",
    "> arr = np.ones(6)\n",
    "\n",
    "*The value in parenthesis (6) is the shape of the array that is being created"
   ]
  },
  {
   "cell_type": "code",
   "execution_count": 13,
   "id": "669c0b2b",
   "metadata": {},
   "outputs": [
    {
     "name": "stdout",
     "output_type": "stream",
     "text": [
      "[[0. 0. 0.]\n",
      " [0. 0. 0.]]\n"
     ]
    }
   ],
   "source": [
    "arr = np.zeros((2,3)) #What does the (2,3) mean?\n",
    "print(arr)"
   ]
  },
  {
   "cell_type": "code",
   "execution_count": 14,
   "id": "5d3fb296",
   "metadata": {},
   "outputs": [
    {
     "name": "stdout",
     "output_type": "stream",
     "text": [
      "(2, 3)\n"
     ]
    }
   ],
   "source": [
    "print(arr.shape)"
   ]
  },
  {
   "cell_type": "markdown",
   "id": "664bffbb",
   "metadata": {},
   "source": [
    "We can change the values in the array by indexing:"
   ]
  },
  {
   "cell_type": "code",
   "execution_count": 15,
   "id": "33f45e9b",
   "metadata": {},
   "outputs": [
    {
     "name": "stdout",
     "output_type": "stream",
     "text": [
      "[[0.   3.14 0.  ]\n",
      " [0.   0.   0.  ]]\n"
     ]
    }
   ],
   "source": [
    "arr[0,1] = 3.14 #change the value in the first row, second column to 3.14\n",
    "print(arr)"
   ]
  },
  {
   "cell_type": "code",
   "execution_count": 17,
   "id": "a26017d8",
   "metadata": {},
   "outputs": [
    {
     "ename": "SyntaxError",
     "evalue": "cannot assign to function call (2967478771.py, line 1)",
     "output_type": "error",
     "traceback": [
      "\u001b[0;36m  File \u001b[0;32m\"/var/folders/xk/chr9gb9j5ql931l1v5w3qknr0000gn/T/ipykernel_18017/2967478771.py\"\u001b[0;36m, line \u001b[0;32m1\u001b[0m\n\u001b[0;31m    arr(0,1) = 3.14 #change the value in the first row, second column to 3.14\u001b[0m\n\u001b[0m    ^\u001b[0m\n\u001b[0;31mSyntaxError\u001b[0m\u001b[0;31m:\u001b[0m cannot assign to function call\n"
     ]
    }
   ],
   "source": [
    "arr(0,1) = 3.11 #change the value in the first row, second column to 3.11\n",
    "print(arr)\n",
    "\n",
    "# what's the error in the cell?"
   ]
  },
  {
   "cell_type": "code",
   "execution_count": 18,
   "id": "a94d8041-f3dd-424b-9397-bc9bb894b9b3",
   "metadata": {},
   "outputs": [
    {
     "name": "stdout",
     "output_type": "stream",
     "text": [
      "[[0.   3.11 0.  ]\n",
      " [0.   0.   0.  ]]\n"
     ]
    }
   ],
   "source": [
    "# to fix, change to brackets:\n",
    "\n",
    "arr[0,1] = 3.11 #change the value in the first row, second column to 3.11\n",
    "print(arr)"
   ]
  },
  {
   "cell_type": "markdown",
   "id": "86a5b376",
   "metadata": {},
   "source": [
    "<span style=\"color:blue\"> Now change all the rest of the values to numbers of your choosing!"
   ]
  },
  {
   "cell_type": "code",
   "execution_count": 20,
   "id": "e826d6c8",
   "metadata": {},
   "outputs": [
    {
     "name": "stdout",
     "output_type": "stream",
     "text": [
      "[[ 0.  9. 10.]\n",
      " [ 0.  8.  0.]]\n"
     ]
    }
   ],
   "source": [
    "arr[1,1] = 8\n",
    "arr[0,1] = 9\n",
    "arr[0,2] = 10\n",
    "\n",
    "print(arr)"
   ]
  },
  {
   "cell_type": "markdown",
   "id": "9b257762",
   "metadata": {},
   "source": [
    "We can flip our array up/down or left/right using:<br>\n",
    ">np.flipud(arr) #flips array vertically <br>\n",
    ">np.fliplr(arr) #flips array horizontally"
   ]
  },
  {
   "cell_type": "code",
   "execution_count": 21,
   "id": "02541732",
   "metadata": {},
   "outputs": [
    {
     "name": "stdout",
     "output_type": "stream",
     "text": [
      "[[ 0.  8.  0.]\n",
      " [ 0.  9. 10.]]\n",
      "[[10.  9.  0.]\n",
      " [ 0.  8.  0.]]\n"
     ]
    }
   ],
   "source": [
    "arr_flipud = np.flipud(arr)\n",
    "print(arr_flipud)\n",
    "arr_fliplr = np.fliplr(arr)\n",
    "print(arr_fliplr)"
   ]
  },
  {
   "cell_type": "markdown",
   "id": "29466b94",
   "metadata": {},
   "source": [
    "We can also reverse the dimensions of our array ('transpose'):<br>\n",
    "> np.transpose(arr) <br>\n",
    "> arr.T"
   ]
  },
  {
   "cell_type": "code",
   "execution_count": 22,
   "id": "94b7d4ca",
   "metadata": {},
   "outputs": [
    {
     "name": "stdout",
     "output_type": "stream",
     "text": [
      "[[ 0.  0.]\n",
      " [ 9.  8.]\n",
      " [10.  0.]]\n",
      "[[ 0.  0.]\n",
      " [ 9.  8.]\n",
      " [10.  0.]]\n"
     ]
    }
   ],
   "source": [
    "print(np.transpose(arr))\n",
    "print(arr.T)"
   ]
  },
  {
   "cell_type": "markdown",
   "id": "88bdd196",
   "metadata": {},
   "source": [
    "Lets do some math with our array! Here are a few mathematical functions we can use with NumPy arrays: <br>\n",
    ">np.mean(arr) #take mean of array <br>\n",
    ">np.sin(arr) #take the sin of all array elements <br>\n",
    ">np.log(arr) #take the natural log of all array elements <br>\n",
    ">arr-2 #subtract 2 from all array elements <br>\n",
    ">arr**2 #square all array elements\n",
    "\n",
    "<span style=\"color:blue\"> How do you think you might calculate the sum of all array elements>?"
   ]
  },
  {
   "cell_type": "code",
   "execution_count": 24,
   "id": "97c71f25",
   "metadata": {},
   "outputs": [
    {
     "data": {
      "text/plain": [
       "27.0"
      ]
     },
     "execution_count": 24,
     "metadata": {},
     "output_type": "execute_result"
    }
   ],
   "source": [
    "np.sum(arr)"
   ]
  },
  {
   "cell_type": "markdown",
   "id": "88765c6d",
   "metadata": {},
   "source": [
    "<span style=\"color:blue\"> What does the following piece of code below do?\n",
    "    "
   ]
  },
  {
   "cell_type": "code",
   "execution_count": 25,
   "id": "57663033",
   "metadata": {},
   "outputs": [
    {
     "name": "stdout",
     "output_type": "stream",
     "text": [
      "[0.  8.5 5. ]\n"
     ]
    }
   ],
   "source": [
    "print(np.mean(arr, axis = 0))"
   ]
  },
  {
   "cell_type": "markdown",
   "id": "185a0f8c-a6de-4fc3-a11a-e00fae044feb",
   "metadata": {},
   "source": [
    "**it averages over the columns**"
   ]
  },
  {
   "cell_type": "markdown",
   "id": "6ef6b150",
   "metadata": {},
   "source": [
    "### 2.2 Manipulating Arrays and Using Functions"
   ]
  },
  {
   "cell_type": "code",
   "execution_count": 29,
   "id": "732ee907",
   "metadata": {},
   "outputs": [
    {
     "name": "stdout",
     "output_type": "stream",
     "text": [
      "[[ 1.         -0.91113026 -0.83907153]\n",
      " [ 1.         -0.14550003  1.        ]]\n",
      "4.536885862938733\n",
      "0.0\n",
      "[[ 2. 11. 12.]\n",
      " [ 2. 10.  2.]]\n"
     ]
    }
   ],
   "source": [
    "#Some other calculations:\n",
    "print(np.cos(arr)) #cosine of all array elements\n",
    "print(np.std(arr)) #standard deviation of array\n",
    "print(np.min(arr)) #minimum value of array\n",
    "print(arr + 2) #all array values plus 2"
   ]
  },
  {
   "cell_type": "markdown",
   "id": "1e7e7583",
   "metadata": {},
   "source": [
    "We can also flatten our array into 1D:"
   ]
  },
  {
   "cell_type": "code",
   "execution_count": 30,
   "id": "4f03b88c",
   "metadata": {},
   "outputs": [
    {
     "name": "stdout",
     "output_type": "stream",
     "text": [
      "[ 0.  9. 10.  0.  8.  0.]\n"
     ]
    }
   ],
   "source": [
    "arr_flat = arr.flatten()\n",
    "print(arr_flat)"
   ]
  },
  {
   "cell_type": "markdown",
   "id": "ae602c72",
   "metadata": {},
   "source": [
    "Converting between arrays and lists is easy!<br>\n",
    "> arr.tolist() #convert numpy array --> list <br>\n",
    "> np.array(list_name) #convert list --> numpy array "
   ]
  },
  {
   "cell_type": "code",
   "execution_count": 31,
   "id": "f85001dd",
   "metadata": {},
   "outputs": [
    {
     "name": "stdout",
     "output_type": "stream",
     "text": [
      "[0.0, 9.0, 10.0, 0.0, 8.0, 0.0]\n",
      "<class 'list'>\n"
     ]
    }
   ],
   "source": [
    "arr_list = arr_flat.tolist()\n",
    "print(arr_list)\n",
    "print(type(arr_list))"
   ]
  },
  {
   "cell_type": "code",
   "execution_count": 32,
   "id": "239490ed",
   "metadata": {},
   "outputs": [
    {
     "name": "stdout",
     "output_type": "stream",
     "text": [
      "<class 'numpy.ndarray'>\n"
     ]
    }
   ],
   "source": [
    "arr_np = np.array(arr_list)\n",
    "print(type(arr_np))"
   ]
  },
  {
   "cell_type": "markdown",
   "id": "abbebfaa",
   "metadata": {},
   "source": [
    "\"Slicing\" an array is a great way to only get part of the array!<br>\n",
    "The __:__ operator slices an array between the indexes provided"
   ]
  },
  {
   "cell_type": "code",
   "execution_count": 33,
   "id": "eae9af9c",
   "metadata": {},
   "outputs": [
    {
     "name": "stdout",
     "output_type": "stream",
     "text": [
      "[ 0.  9. 10.  0.  8.  0.]\n",
      "[ 9. 10.  0.]\n"
     ]
    }
   ],
   "source": [
    "print(arr_np)\n",
    "print(arr_np[1:4]) #here were are slicing from the 1st to the 4th elements"
   ]
  },
  {
   "cell_type": "markdown",
   "id": "58e93156",
   "metadata": {},
   "source": [
    "We can also use 'negative' indexing to get the last element!"
   ]
  },
  {
   "cell_type": "code",
   "execution_count": 34,
   "id": "d5862467",
   "metadata": {},
   "outputs": [
    {
     "name": "stdout",
     "output_type": "stream",
     "text": [
      "0.0\n"
     ]
    }
   ],
   "source": [
    "print(arr_np[-1]) #get last value of array"
   ]
  },
  {
   "cell_type": "markdown",
   "id": "69a98bca",
   "metadata": {},
   "source": [
    "Let's try slicing on a 2d array:"
   ]
  },
  {
   "cell_type": "code",
   "execution_count": 35,
   "id": "a85246df",
   "metadata": {},
   "outputs": [
    {
     "name": "stdout",
     "output_type": "stream",
     "text": [
      "[[1 2 3 4 5]\n",
      " [6 7 8 9 2]\n",
      " [3 6 8 4 9]]\n"
     ]
    }
   ],
   "source": [
    "arr = np.array([[1,2,3,4,5],[6,7,8,9,2], [3,6,8,4,9]]) #initialize a 2d array\n",
    "print(arr)"
   ]
  },
  {
   "cell_type": "markdown",
   "id": "0063b5bb",
   "metadata": {},
   "source": [
    "You can also take every other value of an array like this:"
   ]
  },
  {
   "cell_type": "code",
   "execution_count": 36,
   "id": "f2e63822",
   "metadata": {},
   "outputs": [
    {
     "name": "stdout",
     "output_type": "stream",
     "text": [
      "[ 0  2  4  6  8 10]\n"
     ]
    }
   ],
   "source": [
    "arr = np.array([0,1,2,3,4,5,6,7,8,9,10])\n",
    "print(arr[::2])"
   ]
  },
  {
   "cell_type": "markdown",
   "id": "2e7b499c",
   "metadata": {},
   "source": [
    "There are many ways we can create arrays filled with random values. One of them is with the np.random.rand() function"
   ]
  },
  {
   "cell_type": "code",
   "execution_count": 37,
   "id": "1b2aeeb4",
   "metadata": {},
   "outputs": [
    {
     "name": "stdout",
     "output_type": "stream",
     "text": [
      "[0.96780361 0.87448624 0.85903733 0.7506372  0.22549072 0.33923107\n",
      " 0.72349187 0.90864676 0.43121605 0.5774831 ]\n"
     ]
    }
   ],
   "source": [
    "random_arr = np.random.rand(10) #initialize a random array (10 random numbers between 0 and 1)\n",
    "print(random_arr)"
   ]
  },
  {
   "cell_type": "markdown",
   "id": "d3b35369",
   "metadata": {},
   "source": [
    "Finally, lets talk about merging arrays! There are a number of ways that we could do this: <br>\n",
    ">np.vstack() #combine arrays vertically <br>\n",
    ">np.hstack() #combine arrays horizontally <br>\n",
    ">np.append() #append one array to another <br>\n",
    ">np.concatinate() <br>"
   ]
  },
  {
   "cell_type": "code",
   "execution_count": 38,
   "id": "01a47c0f",
   "metadata": {},
   "outputs": [
    {
     "name": "stdout",
     "output_type": "stream",
     "text": [
      "[[0 1 2 3 4]\n",
      " [5 6 7 8 9]]\n",
      "[0 1 2 3 4 5 6 7 8 9]\n",
      "[0 1 2 3 4 5 6 7 8 9]\n",
      "[0 1 2 3 4 5 6 7 8 9]\n"
     ]
    }
   ],
   "source": [
    "a1 = np.array([0,1,2,3,4])\n",
    "a2 = np.array([5,6,7,8,9])\n",
    "\n",
    "a_vstack = np.vstack([a1,a2]) #notice that the arrays are within square brackets\n",
    "print(a_vstack)\n",
    "\n",
    "a_hstack = np.hstack([a1,a2]) #notice that the arrays are within square brackets\n",
    "print(a_hstack)\n",
    "\n",
    "a_append = np.append(a1, a2) #no sqaure brackets here\n",
    "print(a_append)\n",
    "\n",
    "a_concat = np.concatenate([a1,a2])\n",
    "print(a_concat)"
   ]
  },
  {
   "cell_type": "markdown",
   "id": "9fa4fcbe",
   "metadata": {},
   "source": [
    "One final important NumPy thing: __null values__\n",
    "\n",
    "Often when working with atmospheric science data there are periods where data is not availabe (due to instrument error or other reasons). In these instances you might see a 'NaN' value. This stands for 'not a number'. It is essentially a placeholder for when data is not available."
   ]
  },
  {
   "cell_type": "code",
   "execution_count": 39,
   "id": "b4c81e98",
   "metadata": {},
   "outputs": [
    {
     "name": "stdout",
     "output_type": "stream",
     "text": [
      "[ 0.  1.  6.  3. nan  8.  5.]\n"
     ]
    }
   ],
   "source": [
    "x = np.array([0,1,6,3,np.nan, 8,5])\n",
    "print(x)"
   ]
  },
  {
   "cell_type": "markdown",
   "id": "c37aa514",
   "metadata": {},
   "source": [
    "## <span style=\"color:blue\"> Challenge #1:\n",
    "\n",
    "- <span style=\"color:blue\"> x1: Create an evenly spaced array of integers from 1 to 25. ie: [1,2,3...25]\n",
    "\n",
    "- <span style=\"color:blue\"> x2: Create another array of 25 random values\n",
    "\n",
    "- <span style=\"color:blue\"> x3: Subtract x2 from x1\n",
    "\n",
    "- <span style=\"color:blue\"> x4: Reverse x3\n",
    "\n",
    "- <span style=\"color:blue\"> x5: vertically combine x3 and x4\n",
    "\n",
    "- <span style=\"color:blue\"> x6: slice the array from the 4th to the 18th column, including all rows\n",
    "\n",
    "- <span style=\"color:blue\"> x7: Flatten the array\n",
    "\n",
    "- <span style=\"color:blue\"> x8: Take every 3rd value from x7\n",
    "\n",
    "- <span style=\"color:blue\"> x9 Calculate the mean of x6\n",
    "    \n",
    "- <span style=\"color:red\"> x10 Look at the [Numpy Documentation](https://numpy.org/doc/1.24/user/quickstart.html) and try out 3 new functions"
   ]
  },
  {
   "cell_type": "code",
   "execution_count": 45,
   "id": "81a6cadd",
   "metadata": {},
   "outputs": [
    {
     "name": "stdout",
     "output_type": "stream",
     "text": [
      "[ 1.  2.  3.  4.  5.  6.  7.  8.  9. 10. 11. 12. 13. 14. 15. 16. 17. 18.\n",
      " 19. 20. 21. 22. 23. 24. 25.]\n"
     ]
    }
   ],
   "source": [
    "# x1\n",
    "x1 = np.linspace(1,25, 25)\n",
    "print(x1)"
   ]
  },
  {
   "cell_type": "code",
   "execution_count": 52,
   "id": "4252da42-9817-42d8-8692-194ab3725dc3",
   "metadata": {},
   "outputs": [
    {
     "name": "stdout",
     "output_type": "stream",
     "text": [
      "[0.54658433 0.15674983 0.38434527 0.63645192 0.26276882 0.15097173\n",
      " 0.80298534 0.00757206 0.09949797 0.82186791 0.11244823 0.98506609\n",
      " 0.36432609 0.17035344 0.634194   0.31725814 0.55146768 0.19259174\n",
      " 0.9042109  0.53614353 0.14402599 0.42889559 0.89551549 0.35893673\n",
      " 0.1729815 ]\n"
     ]
    }
   ],
   "source": [
    "# x2\n",
    "x2 = np.random.rand(25)\n",
    "print(x2)"
   ]
  },
  {
   "cell_type": "code",
   "execution_count": 54,
   "id": "49bc4024-d6d2-4f94-8fce-c3c523f32aa2",
   "metadata": {},
   "outputs": [
    {
     "name": "stdout",
     "output_type": "stream",
     "text": [
      "[ 0.45341567  1.84325017  2.61565473  3.36354808  4.73723118  5.84902827\n",
      "  6.19701466  7.99242794  8.90050203  9.17813209 10.88755177 11.01493391\n",
      " 12.63567391 13.82964656 14.365806   15.68274186 16.44853232 17.80740826\n",
      " 18.0957891  19.46385647 20.85597401 21.57110441 22.10448451 23.64106327\n",
      " 24.8270185 ]\n"
     ]
    }
   ],
   "source": [
    "# x3\n",
    "x3 = x1 - x2\n",
    "print(x3)"
   ]
  },
  {
   "cell_type": "code",
   "execution_count": 62,
   "id": "d55752ed-7e02-4eab-b4cf-7b80e4e98b4c",
   "metadata": {},
   "outputs": [
    {
     "name": "stdout",
     "output_type": "stream",
     "text": [
      "[24.8270185  23.64106327 22.10448451 21.57110441 20.85597401 19.46385647\n",
      " 18.0957891  17.80740826 16.44853232 15.68274186 14.365806   13.82964656\n",
      " 12.63567391 11.01493391 10.88755177  9.17813209  8.90050203  7.99242794\n",
      "  6.19701466  5.84902827  4.73723118  3.36354808  2.61565473  1.84325017\n",
      "  0.45341567]\n"
     ]
    }
   ],
   "source": [
    "# x4\n",
    "x4 = np.flip(x3)\n",
    "print(x4)"
   ]
  },
  {
   "cell_type": "code",
   "execution_count": 65,
   "id": "8a49c88d-574f-45f5-bc91-dbdf68a7e3f2",
   "metadata": {},
   "outputs": [
    {
     "name": "stdout",
     "output_type": "stream",
     "text": [
      "[[ 0.45341567  1.84325017  2.61565473  3.36354808  4.73723118  5.84902827\n",
      "   6.19701466  7.99242794  8.90050203  9.17813209 10.88755177 11.01493391\n",
      "  12.63567391 13.82964656 14.365806   15.68274186 16.44853232 17.80740826\n",
      "  18.0957891  19.46385647 20.85597401 21.57110441 22.10448451 23.64106327\n",
      "  24.8270185 ]\n",
      " [24.8270185  23.64106327 22.10448451 21.57110441 20.85597401 19.46385647\n",
      "  18.0957891  17.80740826 16.44853232 15.68274186 14.365806   13.82964656\n",
      "  12.63567391 11.01493391 10.88755177  9.17813209  8.90050203  7.99242794\n",
      "   6.19701466  5.84902827  4.73723118  3.36354808  2.61565473  1.84325017\n",
      "   0.45341567]]\n"
     ]
    }
   ],
   "source": [
    "# x5\n",
    "x5 = np.vstack((x3,x4))\n",
    "print(x5)"
   ]
  },
  {
   "cell_type": "code",
   "execution_count": 72,
   "id": "3d60f113-8e4e-40c2-afd7-a9b846c185f7",
   "metadata": {},
   "outputs": [
    {
     "data": {
      "text/plain": [
       "(2, 25)"
      ]
     },
     "execution_count": 72,
     "metadata": {},
     "output_type": "execute_result"
    }
   ],
   "source": [
    "x5.shape"
   ]
  },
  {
   "cell_type": "code",
   "execution_count": 74,
   "id": "a2a69698-3fe6-4ca4-8158-941f0c1f0225",
   "metadata": {},
   "outputs": [
    {
     "name": "stdout",
     "output_type": "stream",
     "text": [
      "[[ 4.73723118  5.84902827  6.19701466  7.99242794  8.90050203  9.17813209\n",
      "  10.88755177 11.01493391 12.63567391 13.82964656 14.365806   15.68274186\n",
      "  16.44853232 17.80740826]\n",
      " [20.85597401 19.46385647 18.0957891  17.80740826 16.44853232 15.68274186\n",
      "  14.365806   13.82964656 12.63567391 11.01493391 10.88755177  9.17813209\n",
      "   8.90050203  7.99242794]]\n"
     ]
    }
   ],
   "source": [
    "# x6\n",
    "x6 = x5[:,4:18]\n",
    "print(x6)"
   ]
  },
  {
   "cell_type": "code",
   "execution_count": 77,
   "id": "d8c00f48-5831-4e77-a00f-d43703255247",
   "metadata": {},
   "outputs": [
    {
     "name": "stdout",
     "output_type": "stream",
     "text": [
      "[ 4.73723118  5.84902827  6.19701466  7.99242794  8.90050203  9.17813209\n",
      " 10.88755177 11.01493391 12.63567391 13.82964656 14.365806   15.68274186\n",
      " 16.44853232 17.80740826 20.85597401 19.46385647 18.0957891  17.80740826\n",
      " 16.44853232 15.68274186 14.365806   13.82964656 12.63567391 11.01493391\n",
      " 10.88755177  9.17813209  8.90050203  7.99242794]\n"
     ]
    }
   ],
   "source": [
    "# x7\n",
    "x7 = x6.flatten()\n",
    "print(x7)"
   ]
  },
  {
   "cell_type": "code",
   "execution_count": 79,
   "id": "5267265e-2cf8-4b5b-86c8-4aa7769c8bc7",
   "metadata": {},
   "outputs": [
    {
     "name": "stdout",
     "output_type": "stream",
     "text": [
      "[ 4.73723118  7.99242794 10.88755177 13.82964656 16.44853232 19.46385647\n",
      " 16.44853232 13.82964656 10.88755177  7.99242794]\n"
     ]
    }
   ],
   "source": [
    "# x8\n",
    "x8 = x7[::3]\n",
    "print(x8)"
   ]
  },
  {
   "cell_type": "code",
   "execution_count": 81,
   "id": "e7c1a5e4-2092-4cd2-a013-57a791a96abf",
   "metadata": {},
   "outputs": [
    {
     "name": "stdout",
     "output_type": "stream",
     "text": [
      "12.59591453480185\n"
     ]
    }
   ],
   "source": [
    "# x9\n",
    "x9 = x6.mean()\n",
    "print(x9)"
   ]
  },
  {
   "cell_type": "code",
   "execution_count": 96,
   "id": "8a936c7b-a5f9-40c5-af12-9be72c7607eb",
   "metadata": {},
   "outputs": [
    {
     "data": {
      "text/plain": [
       "(2, 25)"
      ]
     },
     "execution_count": 96,
     "metadata": {},
     "output_type": "execute_result"
    }
   ],
   "source": [
    "np.shape(x5)"
   ]
  },
  {
   "cell_type": "code",
   "execution_count": 106,
   "id": "88651d5c-41de-4340-97e5-058ca70810c1",
   "metadata": {},
   "outputs": [
    {
     "name": "stdout",
     "output_type": "stream",
     "text": [
      "x10\n",
      "12.59591453480185\n",
      "x11\n",
      "[[ 0.45341567  1.84325017]\n",
      " [ 2.61565473  3.36354808]\n",
      " [ 4.73723118  5.84902827]\n",
      " [ 6.19701466  7.99242794]\n",
      " [ 8.90050203  9.17813209]\n",
      " [10.88755177 11.01493391]\n",
      " [12.63567391 13.82964656]\n",
      " [14.365806   15.68274186]\n",
      " [16.44853232 17.80740826]\n",
      " [18.0957891  19.46385647]\n",
      " [20.85597401 21.57110441]\n",
      " [22.10448451 23.64106327]\n",
      " [24.8270185  24.8270185 ]\n",
      " [23.64106327 22.10448451]\n",
      " [21.57110441 20.85597401]\n",
      " [19.46385647 18.0957891 ]\n",
      " [17.80740826 16.44853232]\n",
      " [15.68274186 14.365806  ]\n",
      " [13.82964656 12.63567391]\n",
      " [11.01493391 10.88755177]\n",
      " [ 9.17813209  8.90050203]\n",
      " [ 7.99242794  6.19701466]\n",
      " [ 5.84902827  4.73723118]\n",
      " [ 3.36354808  2.61565473]\n",
      " [ 1.84325017  0.45341567]]\n",
      "x12\n",
      "[24.8270185  23.64106327 22.10448451 21.57110441 20.85597401 19.46385647\n",
      " 18.0957891  17.80740826 16.44853232 15.68274186 14.365806   13.82964656\n",
      " 12.63567391 11.01493391 10.88755177  9.17813209  8.90050203  7.99242794\n",
      "  6.19701466  5.84902827  4.73723118  3.36354808  2.61565473  1.84325017\n",
      "  0.45341567]\n",
      "[ 1.84325017  0.45341567 24.8270185  23.64106327 22.10448451 21.57110441\n",
      " 20.85597401 19.46385647 18.0957891  17.80740826 16.44853232 15.68274186\n",
      " 14.365806   13.82964656 12.63567391 11.01493391 10.88755177  9.17813209\n",
      "  8.90050203  7.99242794  6.19701466  5.84902827  4.73723118  3.36354808\n",
      "  2.61565473]\n"
     ]
    }
   ],
   "source": [
    "# x10\n",
    "print('x10')\n",
    "x10 = x9.copy()\n",
    "print(x10)\n",
    "\n",
    "print('x11')\n",
    "x11 = x5.reshape((25,2))\n",
    "print(x11)\n",
    "\n",
    "\n",
    "print('x12')\n",
    "x12 = np.roll(x4,shift=2)\n",
    "print(x4)\n",
    "print(x12)"
   ]
  },
  {
   "cell_type": "markdown",
   "id": "ee2f71cd",
   "metadata": {},
   "source": [
    "## 3.0 Plotting using Matplotlib\n",
    "\n",
    "### 3.1 Importing the function and make a basic plot\n",
    "We import the plotting package (matplotlib) with the following command:<br>\n",
    "> import matplotlib.pyplot as plt\n",
    "\n",
    "Matplotlib has two basic interfaces to create a plot. <br>\n",
    "   > 1) Object Oriented <br>\n",
    "   > 2) Pyplot model"
   ]
  },
  {
   "cell_type": "code",
   "execution_count": 107,
   "id": "6eef6820",
   "metadata": {},
   "outputs": [],
   "source": [
    "import matplotlib.pyplot as plt #package to plot data"
   ]
  },
  {
   "cell_type": "code",
   "execution_count": 108,
   "id": "e688bf5e",
   "metadata": {},
   "outputs": [
    {
     "data": {
      "image/png": "[encoded data removed]",
      "text/plain": [
       "<Figure size 432x288 with 1 Axes>"
      ]
     },
     "metadata": {
      "needs_background": "light"
     },
     "output_type": "display_data"
    }
   ],
   "source": [
    "fig, ax = plt.subplots() #Creating a plot via the object oriented method"
   ]
  },
  {
   "cell_type": "code",
   "execution_count": 109,
   "id": "a948c3cb",
   "metadata": {},
   "outputs": [
    {
     "data": {
      "text/plain": [
       "[]"
      ]
     },
     "execution_count": 109,
     "metadata": {},
     "output_type": "execute_result"
    },
    {
     "data": {
      "image/png": "[encoded data removed]",
      "text/plain": [
       "<Figure size 432x288 with 1 Axes>"
      ]
     },
     "metadata": {
      "needs_background": "light"
     },
     "output_type": "display_data"
    }
   ],
   "source": [
    "plt.plot() #creating a plot via the pyplot module"
   ]
  },
  {
   "cell_type": "markdown",
   "id": "0a672c7c",
   "metadata": {},
   "source": [
    "__We will use the first method here!__\n",
    "\n",
    "To plot data on the axis we created we do: <br>\n",
    "> ax.plot(data)"
   ]
  },
  {
   "cell_type": "markdown",
   "id": "a0b75eef",
   "metadata": {},
   "source": [
    "### 3.2 Add data"
   ]
  },
  {
   "cell_type": "code",
   "execution_count": 110,
   "id": "5df60cfa",
   "metadata": {},
   "outputs": [
    {
     "data": {
      "text/plain": [
       "[<matplotlib.lines.Line2D at 0x7f7c0d9e3af0>]"
      ]
     },
     "execution_count": 110,
     "metadata": {},
     "output_type": "execute_result"
    },
    {
     "data": {
      "image/png": "[encoded data removed]",
      "text/plain": [
       "<Figure size 432x288 with 1 Axes>"
      ]
     },
     "metadata": {
      "needs_background": "light"
     },
     "output_type": "display_data"
    }
   ],
   "source": [
    "random_arr = np.random.rand(10) #create random array\n",
    "\n",
    "fig, ax = plt.subplots()\n",
    "ax.plot(random_arr) #plot data on the axis we created!"
   ]
  },
  {
   "cell_type": "markdown",
   "id": "62d53e67",
   "metadata": {},
   "source": [
    "You can see we have the annoying [<matplotlib.lines.Line2D at 0x7fc6849f8c50>] line above the plot. To get rid of this we can add a semi-colon to the last line of our code:"
   ]
  },
  {
   "cell_type": "code",
   "execution_count": 111,
   "id": "0617181e",
   "metadata": {},
   "outputs": [
    {
     "data": {
      "image/png": "[encoded data removed]",
      "text/plain": [
       "<Figure size 432x288 with 1 Axes>"
      ]
     },
     "metadata": {
      "needs_background": "light"
     },
     "output_type": "display_data"
    }
   ],
   "source": [
    "fig, ax = plt.subplots()\n",
    "ax.plot(random_arr);"
   ]
  },
  {
   "cell_type": "markdown",
   "id": "2a083450",
   "metadata": {},
   "source": [
    "Let's explore the matplot lib documentation a bit: <br>\n",
    "https://matplotlib.org/stable/api/_as_gen/matplotlib.pyplot.plot.html\n",
    "\n",
    "<span style=\"color:blue\"> Try changing the color and width of your line!"
   ]
  },
  {
   "cell_type": "code",
   "execution_count": 113,
   "id": "bf565112",
   "metadata": {},
   "outputs": [
    {
     "data": {
      "image/png": "[encoded data removed]",
      "text/plain": [
       "<Figure size 432x288 with 1 Axes>"
      ]
     },
     "metadata": {
      "needs_background": "light"
     },
     "output_type": "display_data"
    }
   ],
   "source": [
    "fig, ax = plt.subplots()\n",
    "ax.plot(random_arr,color='k',linewidth=5);"
   ]
  },
  {
   "cell_type": "markdown",
   "id": "27a1fab4",
   "metadata": {},
   "source": [
    "### 3.3: Axes"
   ]
  },
  {
   "cell_type": "markdown",
   "id": "c261608a",
   "metadata": {},
   "source": [
    "We can change the axis properties by calling the following functions: <br>\n",
    "> ax.set_xlabel('label') #set x-axis label <br>\n",
    "> ax.set_xlim([0,5]) #set the x-axis to only go between 0 and 5\n",
    "> ax.set_xticks([0,2,5]) #only have x-ticks at the designated numbers"
   ]
  },
  {
   "cell_type": "code",
   "execution_count": 115,
   "id": "51bdee16",
   "metadata": {},
   "outputs": [
    {
     "data": {
      "image/png": "[encoded data removed]",
      "text/plain": [
       "<Figure size 432x288 with 1 Axes>"
      ]
     },
     "metadata": {
      "needs_background": "light"
     },
     "output_type": "display_data"
    }
   ],
   "source": [
    "fig, ax = plt.subplots()\n",
    "ax.plot(random_arr)\n",
    "ax.set_ylabel('Random number', fontsize = 15) #change y-axis label\n",
    "\n",
    "ax.set_xlim([0,8]) #set x-axis to go between 0 and 8\n",
    "ax.set_ylim([0,1]) #set x-axis to go between 0 and 8\n",
    "\n",
    "ax.set_yticks([0,0.1,0.8]); #change y-axis ticks"
   ]
  },
  {
   "cell_type": "markdown",
   "id": "f65f9770",
   "metadata": {},
   "source": [
    "You can also plot 2 lines on the same plot"
   ]
  },
  {
   "cell_type": "markdown",
   "id": "a2525ae3",
   "metadata": {},
   "source": [
    "### 3.4: Add multiple lines"
   ]
  },
  {
   "cell_type": "code",
   "execution_count": 116,
   "id": "b2fffcd7",
   "metadata": {},
   "outputs": [
    {
     "data": {
      "image/png": "[encoded data removed]",
      "text/plain": [
       "<Figure size 432x288 with 1 Axes>"
      ]
     },
     "metadata": {
      "needs_background": "light"
     },
     "output_type": "display_data"
    }
   ],
   "source": [
    "random_arr2 = np.random.rand(10)\n",
    "\n",
    "fig, ax = plt.subplots()\n",
    "\n",
    "ax.plot(random_arr, color = 'red', linestyle = 'dashed', label = 'line1')\n",
    "ax.plot(random_arr2, color = 'blue', linewidth = 2, label = 'line2')\n",
    "ax.legend();"
   ]
  },
  {
   "cell_type": "markdown",
   "id": "aa3ce9bf",
   "metadata": {},
   "source": [
    "Or we can give each line its own plot: <br>\n",
    "\n",
    "> fig, ax = plt.subplots(2,3) #creates 2 rows of 3 subplots each"
   ]
  },
  {
   "cell_type": "code",
   "execution_count": 117,
   "id": "090e518e",
   "metadata": {},
   "outputs": [
    {
     "data": {
      "image/png": "[encoded data removed]",
      "text/plain": [
       "<Figure size 1440x360 with 2 Axes>"
      ]
     },
     "metadata": {
      "needs_background": "light"
     },
     "output_type": "display_data"
    }
   ],
   "source": [
    "fig, ax = plt.subplots(1,2, figsize = (20,5))\n",
    "ax[0].plot(random_arr)\n",
    "ax[0].set_xlabel('x', fontsize = 16)\n",
    "ax[0].set_ylabel('Random number', fontsize = 16)\n",
    "\n",
    "\n",
    "ax[1].plot(random_arr2)\n",
    "ax[1].set_xlabel('x', fontsize = 16)\n",
    "ax[1].set_ylabel('Random number', fontsize = 16);"
   ]
  },
  {
   "cell_type": "markdown",
   "id": "9f5086fe",
   "metadata": {},
   "source": [
    "Or we can plot the data sets against eachother:\n",
    "\n",
    "'.' specifies we want to plot the data with dots instead of lines"
   ]
  },
  {
   "cell_type": "markdown",
   "id": "4150a840",
   "metadata": {},
   "source": [
    "### 3.4 What if we don't want a line?"
   ]
  },
  {
   "cell_type": "code",
   "execution_count": 118,
   "id": "343e7865",
   "metadata": {},
   "outputs": [
    {
     "data": {
      "image/png": "[encoded data removed]",
      "text/plain": [
       "<Figure size 432x288 with 1 Axes>"
      ]
     },
     "metadata": {
      "needs_background": "light"
     },
     "output_type": "display_data"
    }
   ],
   "source": [
    "fig, ax = plt.subplots()\n",
    "plt.plot(random_arr, random_arr2, '.', markersize = 10)\n",
    "plt.xlabel('line1')\n",
    "plt.ylabel('line2');"
   ]
  },
  {
   "cell_type": "markdown",
   "id": "2df93ed7",
   "metadata": {},
   "source": [
    "You can also create scatter plots with the scatter() function:"
   ]
  },
  {
   "cell_type": "code",
   "execution_count": 119,
   "id": "3816bd2b",
   "metadata": {},
   "outputs": [
    {
     "data": {
      "image/png": "[encoded data removed]",
      "text/plain": [
       "<Figure size 432x288 with 1 Axes>"
      ]
     },
     "metadata": {
      "needs_background": "light"
     },
     "output_type": "display_data"
    }
   ],
   "source": [
    "fig, ax = plt.subplots()\n",
    "ax.scatter(random_arr, random_arr2);"
   ]
  },
  {
   "cell_type": "markdown",
   "id": "c0daabed",
   "metadata": {},
   "source": [
    "### 3.5: Plotting 2D arrays"
   ]
  },
  {
   "cell_type": "code",
   "execution_count": 120,
   "id": "026e354c",
   "metadata": {},
   "outputs": [
    {
     "name": "stdout",
     "output_type": "stream",
     "text": [
      "[[0.38126656 0.17212786 0.93192458 0.49117623 0.12432488 0.07101136\n",
      "  0.53189062 0.56435104 0.17059818 0.2619903 ]\n",
      " [0.51561286 0.90397266 0.75516735 0.87887844 0.90262042 0.58661333\n",
      "  0.99421524 0.93948391 0.92837969 0.71385554]\n",
      " [0.43878274 0.2951742  0.04584562 0.97505112 0.83071875 0.88031303\n",
      "  0.75069902 0.26893401 0.2083581  0.82139633]\n",
      " [0.33628653 0.26564481 0.52647162 0.52287471 0.19563772 0.11237524\n",
      "  0.9244765  0.97618258 0.22532011 0.58983384]\n",
      " [0.22550669 0.27129227 0.11872022 0.71616283 0.30640564 0.27018277\n",
      "  0.77831558 0.28743363 0.63356093 0.46093906]\n",
      " [0.45056424 0.81794253 0.40904223 0.1109365  0.28339216 0.3249267\n",
      "  0.66240813 0.35426717 0.93398628 0.48961708]\n",
      " [0.35754675 0.38251255 0.9168997  0.04343225 0.712232   0.59987435\n",
      "  0.08285354 0.23670185 0.92266885 0.13571808]\n",
      " [0.826416   0.95978759 0.70173164 0.94954567 0.39399475 0.18298905\n",
      "  0.6858888  0.88783571 0.4793202  0.73245869]\n",
      " [0.22643735 0.41102347 0.66698972 0.63076011 0.30123063 0.78597924\n",
      "  0.98309827 0.12364517 0.54495888 0.67557833]\n",
      " [0.02501237 0.51907916 0.50248789 0.15516068 0.04624277 0.49713709\n",
      "  0.35831916 0.62102266 0.13010695 0.52093021]]\n"
     ]
    }
   ],
   "source": [
    "random_arr2d = np.random.rand(10,10) #10x10 array\n",
    "print(random_arr2d)"
   ]
  },
  {
   "cell_type": "code",
   "execution_count": 121,
   "id": "6acf7fe2",
   "metadata": {},
   "outputs": [
    {
     "data": {
      "image/png": "[encoded data removed]",
      "text/plain": [
       "<Figure size 432x288 with 1 Axes>"
      ]
     },
     "metadata": {
      "needs_background": "light"
     },
     "output_type": "display_data"
    }
   ],
   "source": [
    "fig, ax = plt.subplots()\n",
    "ax.imshow(random_arr2d);"
   ]
  },
  {
   "cell_type": "markdown",
   "id": "ed9a85f2",
   "metadata": {},
   "source": [
    "You can find other possible colormaps here: https://matplotlib.org/3.5.0/tutorials/colors/colormaps.html\n",
    "\n",
    "And we add a colorbar with: <br>\n",
    "> ax.colorbar(im), __where we have to set im equal to our plot__"
   ]
  },
  {
   "cell_type": "code",
   "execution_count": 122,
   "id": "998de593",
   "metadata": {},
   "outputs": [
    {
     "data": {
      "image/png": "[encoded data removed]",
      "text/plain": [
       "<Figure size 432x288 with 2 Axes>"
      ]
     },
     "metadata": {
      "needs_background": "light"
     },
     "output_type": "display_data"
    }
   ],
   "source": [
    "fig, ax = plt.subplots()\n",
    "im = ax.imshow(random_arr2d, cmap = 'inferno')\n",
    "plt.colorbar(im);"
   ]
  },
  {
   "cell_type": "markdown",
   "id": "e0c8ba8f",
   "metadata": {},
   "source": [
    "### 3.6: Histograms"
   ]
  },
  {
   "cell_type": "markdown",
   "id": "144f7da6",
   "metadata": {},
   "source": [
    "Histograms are another common plot type! Here is some sample code to create a histogram plot. You can explore histograms more later if you like!"
   ]
  },
  {
   "cell_type": "code",
   "execution_count": 123,
   "id": "1c0eae84",
   "metadata": {},
   "outputs": [
    {
     "data": {
      "image/png": "[encoded data removed]",
      "text/plain": [
       "<Figure size 432x288 with 1 Axes>"
      ]
     },
     "metadata": {
      "needs_background": "light"
     },
     "output_type": "display_data"
    }
   ],
   "source": [
    "rng = np.random.default_rng(12) #create random number generator with a fixed seed (12)\n",
    "dist1 = rng.standard_normal(100000) #creates an normally distributed array of 100000 points\n",
    "\n",
    "fig, axs = plt.subplots()\n",
    "axs.hist(dist1, bins=20, color = 'red', alpha =0.5, edgecolor = 'maroon') ;\n",
    "    #bins = 20 means we will have 20 bins for our data\n",
    "    #color set to indianred\n",
    "    #alpha changes the transparency\n",
    "    #edgecolor outlines our bins\n"
   ]
  },
  {
   "cell_type": "markdown",
   "id": "328e73fa",
   "metadata": {},
   "source": [
    "We can save any figure we create with the following command: <br>\n",
    ">plt.savefig('fig_name.png')"
   ]
  },
  {
   "cell_type": "markdown",
   "id": "ded56b94",
   "metadata": {},
   "source": [
    "##  <span style=\"color:blue\"> Challenge #2:\n",
    "\n",
    "-  <span style=\"color:blue\">1: Create an array (x) from 0 to 10 with a size of 100\n",
    "\n",
    "-  <span style=\"color:blue\">2: create a new array that is the sin of x (called y)\n",
    "\n",
    "-  <span style=\"color:blue\">3: create a new array that is equal to x^2 (called y2)\n",
    "\n",
    "-  <span style=\"color:blue\">3: On two different subplots, plot x and y, and x and y2.\n",
    "\n",
    "-  <span style=\"color:red\"> 5: Add axis labels, titles, and change the line properties for each subplot!"
   ]
  },
  {
   "cell_type": "code",
   "execution_count": 124,
   "id": "be584b8d",
   "metadata": {},
   "outputs": [],
   "source": [
    "x = np.linspace(0,10,100)"
   ]
  },
  {
   "cell_type": "code",
   "execution_count": 130,
   "id": "37a26015-1719-439d-98c1-4495ff195895",
   "metadata": {},
   "outputs": [],
   "source": [
    "y = np.sin(x)"
   ]
  },
  {
   "cell_type": "code",
   "execution_count": 131,
   "id": "dde05999-c0a6-482b-aa45-c3c89d0db7ac",
   "metadata": {},
   "outputs": [],
   "source": [
    "y2 = x**2"
   ]
  },
  {
   "cell_type": "code",
   "execution_count": 139,
   "id": "c110c8cc-230d-4fd5-9f26-f6333ff7bff4",
   "metadata": {},
   "outputs": [
    {
     "data": {
      "text/plain": [
       "Text(0.5, 1.0, '(x)^2')"
      ]
     },
     "execution_count": 139,
     "metadata": {},
     "output_type": "execute_result"
    },
    {
     "data": {
      "image/png": "[encoded data removed]",
      "text/plain": [
       "<Figure size 1440x360 with 2 Axes>"
      ]
     },
     "metadata": {
      "needs_background": "light"
     },
     "output_type": "display_data"
    }
   ],
   "source": [
    "fig, ax = plt.subplots(1,2, figsize = (20,5))\n",
    "ax[0].plot(x,y,linewidth=2,color='purple')\n",
    "ax[0].set_xlabel('x', fontsize = 16)\n",
    "ax[0].set_ylabel('y', fontsize = 16)\n",
    "ax[0].set_title('sin(x)',fontsize=15)\n",
    "\n",
    "ax[1].plot(x,y2,linewidth=2,color='red')\n",
    "ax[1].set_xlabel('x', fontsize = 16)\n",
    "ax[1].set_ylabel('y2', fontsize = 16);\n",
    "ax[1].set_title('(x)^2',fontsize=15)"
   ]
  },
  {
   "cell_type": "code",
   "execution_count": null,
   "id": "5b03ca2b-ed02-4b5c-a85a-0398e3f8186a",
   "metadata": {},
   "outputs": [],
   "source": []
  }
 ],
 "metadata": {
  "kernelspec": {
   "display_name": "Python 3 (ipykernel)",
   "language": "python",
   "name": "python3"
  },
  "language_info": {
   "codemirror_mode": {
    "name": "ipython",
    "version": 3
   },
   "file_extension": ".py",
   "mimetype": "text/x-python",
   "name": "python",
   "nbconvert_exporter": "python",
   "pygments_lexer": "ipython3",
   "version": "3.8.10"
  }
 },
 "nbformat": 4,
 "nbformat_minor": 5
}
