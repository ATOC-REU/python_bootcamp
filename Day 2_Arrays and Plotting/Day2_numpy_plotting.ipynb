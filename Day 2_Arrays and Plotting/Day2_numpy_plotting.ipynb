{
 "cells": [
  {
   "cell_type": "markdown",
   "metadata": {},
   "source": [
    "# Day 2\n",
    "\n",
    "Today we will be cover:\n",
    "\n",
    "    1) Python arrays (numpy package)\n",
    "    2) Plotting in python\n",
    "***\n",
    "## But first, lists!\n",
    "\n",
    "Lists are used to store multiple variables in a single variable <br>\n",
    "Empy lists can be initialised by either of the following: <br>\n",
    ">x = list() <br>\n",
    ">x=[ ]\n",
    "\n",
    "Here is a good tutorial for lists if you want more: https://www.w3schools.com/python/python_lists.asp"
   ]
  },
  {
   "cell_type": "code",
   "execution_count": 5,
   "metadata": {},
   "outputs": [
    {
     "name": "stdout",
     "output_type": "stream",
     "text": [
      "<class 'list'>\n"
     ]
    }
   ],
   "source": [
    "x = [0,1,2,3,4] #create a list\n",
    "print(type(x))"
   ]
  },
  {
   "cell_type": "markdown",
   "metadata": {},
   "source": [
    "As we can see, x is a 'list'.<br>\n",
    "We can get the length of our array with:\n",
    "> len(x)"
   ]
  },
  {
   "cell_type": "code",
   "execution_count": 9,
   "metadata": {},
   "outputs": [
    {
     "name": "stdout",
     "output_type": "stream",
     "text": [
      "Our array has 5 elements\n"
     ]
    }
   ],
   "source": [
    "print('Our array has', len(x), 'elements') #print length of our array"
   ]
  },
  {
   "cell_type": "markdown",
   "metadata": {},
   "source": [
    "You can easily access items in a list by 'indexing'<br>\n",
    "__In python, indexing starts at 0.__ <br>\n",
    "This means that the first item in our list is at index 0 and the second item is at index 1 and so on..."
   ]
  },
  {
   "cell_type": "code",
   "execution_count": 11,
   "metadata": {},
   "outputs": [
    {
     "name": "stdout",
     "output_type": "stream",
     "text": [
      "The first item in our list is:  0\n"
     ]
    }
   ],
   "source": [
    "print('The first item in our list is: ', x[0]) #access the first element of our array (index = 0)"
   ]
  },
  {
   "cell_type": "markdown",
   "metadata": {},
   "source": [
    "Lists are also nice because you can easily add items to them or remove items"
   ]
  },
  {
   "cell_type": "code",
   "execution_count": 12,
   "metadata": {},
   "outputs": [
    {
     "name": "stdout",
     "output_type": "stream",
     "text": [
      "[0, 1, 2, 3, 4, 5]\n"
     ]
    }
   ],
   "source": [
    "x.append(5) #adds 5 to the end of the list\n",
    "print(x)"
   ]
  },
  {
   "cell_type": "markdown",
   "metadata": {},
   "source": [
    "What is the difference between these two methods to remove values from the list?"
   ]
  },
  {
   "cell_type": "code",
   "execution_count": 13,
   "metadata": {},
   "outputs": [
    {
     "name": "stdout",
     "output_type": "stream",
     "text": [
      "[0, 2, 3, 4, 5]\n",
      "[0, 2, 3, 5]\n"
     ]
    }
   ],
   "source": [
    "x.remove(1)\n",
    "print(x)\n",
    "del x[3]\n",
    "print(x)"
   ]
  },
  {
   "cell_type": "markdown",
   "metadata": {},
   "source": [
    "Lists can contain data of different data types:"
   ]
  },
  {
   "cell_type": "code",
   "execution_count": 14,
   "metadata": {},
   "outputs": [
    {
     "name": "stdout",
     "output_type": "stream",
     "text": [
      "['Hi', 0, True, 'no']\n"
     ]
    }
   ],
   "source": [
    "x2 = [\"Hi\", 0, True, \"no\"]\n",
    "print(x2)"
   ]
  },
  {
   "cell_type": "markdown",
   "metadata": {},
   "source": [
    "To combine lists you can simply add them together:"
   ]
  },
  {
   "cell_type": "code",
   "execution_count": 15,
   "metadata": {},
   "outputs": [
    {
     "name": "stdout",
     "output_type": "stream",
     "text": [
      "[0, 2, 3, 5, 'Hi', 0, True, 'no']\n"
     ]
    }
   ],
   "source": [
    "x3 = x + x2\n",
    "print(x3)"
   ]
  },
  {
   "cell_type": "markdown",
   "metadata": {},
   "source": [
    "# Ok, now to arrays\n",
    "\n",
    "The bad thing about lists is that they can be slow to manipulate <br>\n",
    "NumPy arrays are stored at one continuous place in memory unlike lists, so processes can access and manipulate them very efficiently.\n",
    "\n",
    "We import the NumPy package with:<br>\n",
    ">import numpy as np\n",
    "\n",
    "A good numpy tutorial can be found herehere: https://www.w3schools.com/python/numpy/numpy_intro.asp"
   ]
  },
  {
   "cell_type": "code",
   "execution_count": 16,
   "metadata": {},
   "outputs": [],
   "source": [
    "import numpy as np"
   ]
  },
  {
   "cell_type": "code",
   "execution_count": 17,
   "metadata": {},
   "outputs": [
    {
     "name": "stdout",
     "output_type": "stream",
     "text": [
      "<class 'numpy.ndarray'>\n"
     ]
    }
   ],
   "source": [
    "arr = np.array([0,1,2,3,4]) #initialize numpy array\n",
    "print(type(arr))"
   ]
  },
  {
   "cell_type": "markdown",
   "metadata": {},
   "source": [
    "To add values to the end of an array you can also use the 'append' method but it is implemented a bit differently: <br>\n",
    ">np.append(arr, 6)"
   ]
  },
  {
   "cell_type": "code",
   "execution_count": 21,
   "metadata": {},
   "outputs": [
    {
     "name": "stdout",
     "output_type": "stream",
     "text": [
      "[0 1 2 3 4]\n"
     ]
    }
   ],
   "source": [
    "np.append(arr, 6)\n",
    "print(arr)"
   ]
  },
  {
   "cell_type": "markdown",
   "metadata": {},
   "source": [
    "What happened to our appended value?<br>\n",
    "We need to 'reset' the array like so:<br>\n",
    ">arr = np.append(arr, 6)"
   ]
  },
  {
   "cell_type": "code",
   "execution_count": 22,
   "metadata": {},
   "outputs": [
    {
     "name": "stdout",
     "output_type": "stream",
     "text": [
      "[0 1 2 3 4 6]\n"
     ]
    }
   ],
   "source": [
    "arr = np.append(arr, 6)\n",
    "print(arr)"
   ]
  },
  {
   "cell_type": "markdown",
   "metadata": {},
   "source": [
    "Here are a few other ways to initialize 1D arrays:\n",
    "\n",
    "What is the difference between these two methods? Can you figure out what the (-10,150,20) means for each?"
   ]
  },
  {
   "cell_type": "code",
   "execution_count": 26,
   "metadata": {},
   "outputs": [
    {
     "name": "stdout",
     "output_type": "stream",
     "text": [
      "[-10.          -1.57894737   6.84210526  15.26315789  23.68421053\n",
      "  32.10526316  40.52631579  48.94736842  57.36842105  65.78947368\n",
      "  74.21052632  82.63157895  91.05263158  99.47368421 107.89473684\n",
      " 116.31578947 124.73684211 133.15789474 141.57894737 150.        ]\n",
      "[-10  10  30  50  70  90 110 130]\n"
     ]
    }
   ],
   "source": [
    "a1 = np.linspace(-10,150, 20)\n",
    "print(a1)\n",
    "a2 = np.arange(-10,150, 20)\n",
    "print(a2)"
   ]
  },
  {
   "cell_type": "markdown",
   "metadata": {},
   "source": [
    "We can also initialize an array full of zeros or ones:<br>\n",
    "> arr = np.zeros(6) <br>\n",
    "> arr = np.ones(6)\n",
    "\n",
    "*The value in parenthesis (6) is the shape of the array that is being created"
   ]
  },
  {
   "cell_type": "code",
   "execution_count": 27,
   "metadata": {},
   "outputs": [
    {
     "name": "stdout",
     "output_type": "stream",
     "text": [
      "[[0. 0. 0.]\n",
      " [0. 0. 0.]]\n"
     ]
    }
   ],
   "source": [
    "arr = np.zeros((2,3)) #What does the (2,3) mean?\n",
    "print(arr)"
   ]
  },
  {
   "cell_type": "code",
   "execution_count": 25,
   "metadata": {},
   "outputs": [
    {
     "name": "stdout",
     "output_type": "stream",
     "text": [
      "(2, 3)\n"
     ]
    }
   ],
   "source": [
    "print(arr.shape)"
   ]
  },
  {
   "cell_type": "markdown",
   "metadata": {},
   "source": [
    "We can change the values in the array by indexing:"
   ]
  },
  {
   "cell_type": "code",
   "execution_count": 28,
   "metadata": {},
   "outputs": [
    {
     "name": "stdout",
     "output_type": "stream",
     "text": [
      "[[0.   3.14 0.  ]\n",
      " [0.   0.   0.  ]]\n"
     ]
    }
   ],
   "source": [
    "arr[0,1] = 3.14 #change the value in the first row, second column to 3.14\n",
    "print(arr)"
   ]
  },
  {
   "cell_type": "markdown",
   "metadata": {},
   "source": [
    "Now change all the rest of the values to numbers of your choosing!"
   ]
  },
  {
   "cell_type": "code",
   "execution_count": null,
   "metadata": {},
   "outputs": [],
   "source": []
  },
  {
   "cell_type": "markdown",
   "metadata": {},
   "source": [
    "We can flip our array up/down or left/right using:<br>\n",
    ">np.flipud(arr) #flips array vertically <br>\n",
    ">np.fliplr(arr) #flips array horizontally"
   ]
  },
  {
   "cell_type": "code",
   "execution_count": 30,
   "metadata": {},
   "outputs": [
    {
     "name": "stdout",
     "output_type": "stream",
     "text": [
      "[[0.   0.   0.  ]\n",
      " [0.   3.14 0.  ]]\n",
      "[[0.   3.14 0.  ]\n",
      " [0.   0.   0.  ]]\n"
     ]
    }
   ],
   "source": [
    "arr_flipud = np.flipud(arr)\n",
    "print(arr_flipud)\n",
    "arr_fliplr = np.fliplr(arr)\n",
    "print(arr_fliplr)"
   ]
  },
  {
   "cell_type": "markdown",
   "metadata": {},
   "source": [
    "We can also reverse the dimensions of our array ('transpose'):<br>\n",
    "> np.transpose(arr) <br>\n",
    "> arr.T"
   ]
  },
  {
   "cell_type": "code",
   "execution_count": 32,
   "metadata": {},
   "outputs": [
    {
     "name": "stdout",
     "output_type": "stream",
     "text": [
      "[[0.   0.  ]\n",
      " [3.14 0.  ]\n",
      " [0.   0.  ]]\n",
      "[[0.   0.  ]\n",
      " [3.14 0.  ]\n",
      " [0.   0.  ]]\n"
     ]
    }
   ],
   "source": [
    "print(np.transpose(arr))\n",
    "print(arr.T)"
   ]
  },
  {
   "cell_type": "markdown",
   "metadata": {},
   "source": [
    "Lets do some math with our array! Here are a few mathematical functions we can use with NumPy arrays: <br>\n",
    ">np.mean(arr) #take mean of array <br>\n",
    ">np.sin(arr) #take the sin of all array elements <br>\n",
    ">np.log(arr) #take the natural log of all array elements <br>\n",
    ">arr-2 #subtract 2 from all array elements <br>\n",
    ">arr**2 #square all array elements\n",
    "\n",
    "How do you think you might calculate the sum of all array elements>?"
   ]
  },
  {
   "cell_type": "code",
   "execution_count": null,
   "metadata": {},
   "outputs": [],
   "source": []
  },
  {
   "cell_type": "markdown",
   "metadata": {},
   "source": [
    "What does the following piece of code below do?"
   ]
  },
  {
   "cell_type": "code",
   "execution_count": 33,
   "metadata": {},
   "outputs": [
    {
     "name": "stdout",
     "output_type": "stream",
     "text": [
      "[0.   1.57 0.  ]\n"
     ]
    }
   ],
   "source": [
    "print(np.mean(arr, axis = 0))"
   ]
  },
  {
   "cell_type": "code",
   "execution_count": 36,
   "metadata": {},
   "outputs": [
    {
     "name": "stdout",
     "output_type": "stream",
     "text": [
      "[[ 1.         -0.99999873  1.        ]\n",
      " [ 1.          1.          1.        ]]\n",
      "1.1702089082248899\n",
      "0.0\n",
      "[[2.   5.14 2.  ]\n",
      " [2.   2.   2.  ]]\n"
     ]
    }
   ],
   "source": [
    "#Some other calculations:\n",
    "print(np.cos(arr)) #cosine of all array elements\n",
    "print(np.std(arr)) #standard deviation of array\n",
    "print(np.min(arr)) #minimum value of array\n",
    "print(arr + 2) #all array values plus 2"
   ]
  },
  {
   "cell_type": "markdown",
   "metadata": {},
   "source": [
    "We can also flatten our array into 1D:"
   ]
  },
  {
   "cell_type": "code",
   "execution_count": 38,
   "metadata": {},
   "outputs": [
    {
     "name": "stdout",
     "output_type": "stream",
     "text": [
      "[0.   3.14 0.   0.   0.   0.  ]\n"
     ]
    }
   ],
   "source": [
    "arr_flat = arr.flatten()\n",
    "print(arr_flat)"
   ]
  },
  {
   "cell_type": "markdown",
   "metadata": {},
   "source": [
    "Converting between arrays and lists is easy!<br>\n",
    "> arr.tolist() #convert numpy array --> list <br>\n",
    "> np.array(list_name) #convert list --> numpy array "
   ]
  },
  {
   "cell_type": "code",
   "execution_count": 39,
   "metadata": {},
   "outputs": [
    {
     "name": "stdout",
     "output_type": "stream",
     "text": [
      "[0.0, 3.14, 0.0, 0.0, 0.0, 0.0]\n",
      "<class 'list'>\n"
     ]
    }
   ],
   "source": [
    "arr_list = arr_flat.tolist()\n",
    "print(arr_list)\n",
    "print(type(arr_list))"
   ]
  },
  {
   "cell_type": "code",
   "execution_count": 40,
   "metadata": {},
   "outputs": [
    {
     "name": "stdout",
     "output_type": "stream",
     "text": [
      "<class 'numpy.ndarray'>\n"
     ]
    }
   ],
   "source": [
    "arr_np = np.array(arr_list)\n",
    "print(type(arr_np))"
   ]
  },
  {
   "cell_type": "markdown",
   "metadata": {},
   "source": [
    "\"Slicing\" an array is a great way to only get part of the array!<br>\n",
    "The __:__ operator slices an array between the indexes provided"
   ]
  },
  {
   "cell_type": "code",
   "execution_count": 42,
   "metadata": {},
   "outputs": [
    {
     "name": "stdout",
     "output_type": "stream",
     "text": [
      "[0.   3.14 0.   0.   0.   0.  ]\n",
      "[3.14 0.   0.  ]\n"
     ]
    }
   ],
   "source": [
    "print(arr_np)\n",
    "print(arr_np[1:4]) #here were are slicing from the 1st to the 4th elements"
   ]
  },
  {
   "cell_type": "markdown",
   "metadata": {},
   "source": [
    "We can also use 'negative' indexing to get the last element!"
   ]
  },
  {
   "cell_type": "code",
   "execution_count": 44,
   "metadata": {},
   "outputs": [
    {
     "name": "stdout",
     "output_type": "stream",
     "text": [
      "0.0\n"
     ]
    }
   ],
   "source": [
    "print(arr_np[-1]) #get last value of array"
   ]
  },
  {
   "cell_type": "markdown",
   "metadata": {},
   "source": [
    "Let's try slicing on a 2d array:"
   ]
  },
  {
   "cell_type": "code",
   "execution_count": 45,
   "metadata": {},
   "outputs": [
    {
     "name": "stdout",
     "output_type": "stream",
     "text": [
      "[[1 2 3 4 5]\n",
      " [6 7 8 9 2]\n",
      " [3 6 8 4 9]]\n"
     ]
    }
   ],
   "source": [
    "arr = np.array([[1,2,3,4,5],[6,7,8,9,2], [3,6,8,4,9]]) #initialize a 2d array\n",
    "print(arr)"
   ]
  },
  {
   "cell_type": "code",
   "execution_count": null,
   "metadata": {},
   "outputs": [],
   "source": []
  },
  {
   "cell_type": "markdown",
   "metadata": {},
   "source": [
    "You can also take every other value of an array like this:"
   ]
  },
  {
   "cell_type": "code",
   "execution_count": 46,
   "metadata": {},
   "outputs": [
    {
     "name": "stdout",
     "output_type": "stream",
     "text": [
      "[ 0  2  4  6  8 10]\n"
     ]
    }
   ],
   "source": [
    "arr = np.array([0,1,2,3,4,5,6,7,8,9,10])\n",
    "print(arr[::2])"
   ]
  },
  {
   "cell_type": "markdown",
   "metadata": {},
   "source": [
    "There are many ways we can create arrays filled with random values. One of them is with the np.random.rand() function"
   ]
  },
  {
   "cell_type": "code",
   "execution_count": 47,
   "metadata": {},
   "outputs": [
    {
     "name": "stdout",
     "output_type": "stream",
     "text": [
      "[0.31939976 0.97695206 0.5289673  0.31667193 0.47736101 0.27395563\n",
      " 0.79882266 0.4131558  0.98921595 0.07307728]\n"
     ]
    }
   ],
   "source": [
    "random_arr = np.random.rand(10) #initialize a random array (10 random numbers between 0 and 1)\n",
    "print(random_arr)"
   ]
  },
  {
   "cell_type": "markdown",
   "metadata": {},
   "source": [
    "Finally, lets talk about merging arrays! There are a number of ways that we could do this: <br>\n",
    ">np.vstack() #combine arrays vertically <br>\n",
    ">np.hstack() #combine arrays horizontally <br>\n",
    ">np.append() #append one array to another <br>\n",
    ">np.concatinate() <br>"
   ]
  },
  {
   "cell_type": "code",
   "execution_count": 57,
   "metadata": {},
   "outputs": [
    {
     "name": "stdout",
     "output_type": "stream",
     "text": [
      "[[0 1 2 3 4]\n",
      " [5 6 7 8 9]]\n",
      "[0 1 2 3 4 5 6 7 8 9]\n",
      "[0 1 2 3 4 5 6 7 8 9]\n",
      "[0 1 2 3 4 5 6 7 8 9]\n"
     ]
    }
   ],
   "source": [
    "a1 = np.array([0,1,2,3,4])\n",
    "a2 = np.array([5,6,7,8,9])\n",
    "\n",
    "a_vstack = np.vstack([a1,a2]) #notice that the arrays are within square brackets\n",
    "print(a_vstack)\n",
    "\n",
    "a_hstack = np.hstack([a1,a2]) #notice that the arrays are within square brackets\n",
    "print(a_hstack)\n",
    "\n",
    "a_append = np.append(a1, a2) #no sqaure brackets here\n",
    "print(a_append)\n",
    "\n",
    "a_concat = np.concatenate([a1,a2])\n",
    "print(a_concat)"
   ]
  },
  {
   "cell_type": "markdown",
   "metadata": {},
   "source": [
    "One final important NumPy thing: __null values__\n",
    "\n",
    "Often when working with atmospheric science data there are periods where data is not availabe (due to instrument error or other reasons). In these instances you might see a 'NaN' value. This stands for 'not a number'. It is essentially a placeholder for when data is not available."
   ]
  },
  {
   "cell_type": "code",
   "execution_count": 133,
   "metadata": {},
   "outputs": [
    {
     "name": "stdout",
     "output_type": "stream",
     "text": [
      "[ 0.  1.  6.  3. nan  8.  5.]\n"
     ]
    }
   ],
   "source": [
    "x = np.array([0,1,6,3,np.nan, 8,5])\n",
    "print(x)"
   ]
  },
  {
   "cell_type": "markdown",
   "metadata": {},
   "source": [
    "## Challenge #1:\n",
    "\n",
    "x1: Create an evenly spaced array of integers from 1 to 25. ie: [1,2,3...25]\n",
    "\n",
    "x2: Create another array of 25 random values\n",
    "\n",
    "x3: Subtract x2 from x1\n",
    "\n",
    "x4: Reverse x3\n",
    "\n",
    "x5: vertically combine x3 and x4\n",
    "\n",
    "x6: slice the array from the 4th to the 18th column, including all rows\n",
    "\n",
    "x7: Flatten the array\n",
    "\n",
    "x8: Take every 3rd value from x7\n",
    "\n",
    "Calculate the mean of x6"
   ]
  },
  {
   "cell_type": "markdown",
   "metadata": {},
   "source": [
    "# Basic plotting!\n",
    "\n",
    "We import the plotting package (matplotlib) with the following command:<br>\n",
    "> import matplotlib.pyplot as plt\n",
    "\n",
    "Matplotlib has two basic interfaces to create a plot. <br>\n",
    "   > 1) Object Oriented <br>\n",
    "   > 2) Pyplot model"
   ]
  },
  {
   "cell_type": "code",
   "execution_count": 76,
   "metadata": {},
   "outputs": [],
   "source": [
    "import matplotlib.pyplot as plt #package to plot data"
   ]
  },
  {
   "cell_type": "code",
   "execution_count": 78,
   "metadata": {},
   "outputs": [
    {
     "data": {
      "image/png": "[encoded data removed]",
      "text/plain": [
       "<Figure size 432x288 with 1 Axes>"
      ]
     },
     "metadata": {
      "needs_background": "light"
     },
     "output_type": "display_data"
    }
   ],
   "source": [
    "fig, ax = plt.subplots() #Creating a plot via the object oriented method"
   ]
  },
  {
   "cell_type": "code",
   "execution_count": 82,
   "metadata": {},
   "outputs": [
    {
     "data": {
      "text/plain": [
       "[]"
      ]
     },
     "execution_count": 82,
     "metadata": {},
     "output_type": "execute_result"
    },
    {
     "data": {
      "image/png": "[encoded data removed]",
      "text/plain": [
       "<Figure size 432x288 with 1 Axes>"
      ]
     },
     "metadata": {
      "needs_background": "light"
     },
     "output_type": "display_data"
    }
   ],
   "source": [
    "plt.plot() #creating a plot via the pyplot module"
   ]
  },
  {
   "cell_type": "markdown",
   "metadata": {},
   "source": [
    "__We will use the first method here!__\n",
    "\n",
    "To plot data on the axis we created we do: <br>\n",
    "> ax.plot(data)"
   ]
  },
  {
   "cell_type": "code",
   "execution_count": 84,
   "metadata": {},
   "outputs": [
    {
     "data": {
      "text/plain": [
       "[<matplotlib.lines.Line2D at 0x7fc6849f8c50>]"
      ]
     },
     "execution_count": 84,
     "metadata": {},
     "output_type": "execute_result"
    },
    {
     "data": {
      "image/png": "[encoded data removed]",
      "text/plain": [
       "<Figure size 432x288 with 1 Axes>"
      ]
     },
     "metadata": {
      "needs_background": "light"
     },
     "output_type": "display_data"
    }
   ],
   "source": [
    "random_arr = np.random.rand(10) #create random array\n",
    "\n",
    "fig, ax = plt.subplots()\n",
    "ax.plot(random_arr) #plot data on the axis we created!"
   ]
  },
  {
   "cell_type": "markdown",
   "metadata": {},
   "source": [
    "You can see we have the annoying [<matplotlib.lines.Line2D at 0x7fc6849f8c50>] line above the plot. To get rid of this we can add a semi-colon to the last line of our code:"
   ]
  },
  {
   "cell_type": "code",
   "execution_count": 129,
   "metadata": {},
   "outputs": [
    {
     "data": {
      "image/png": "[encoded data removed]",
      "text/plain": [
       "<Figure size 432x288 with 1 Axes>"
      ]
     },
     "metadata": {
      "needs_background": "light"
     },
     "output_type": "display_data"
    }
   ],
   "source": [
    "fig, ax = plt.subplots()\n",
    "ax.plot(random_arr);"
   ]
  },
  {
   "cell_type": "markdown",
   "metadata": {},
   "source": [
    "Let's explore the matplot lib documentation a bit: <br>\n",
    "https://matplotlib.org/stable/api/_as_gen/matplotlib.pyplot.plot.html\n",
    "\n",
    "Try changing the color and width of your line!"
   ]
  },
  {
   "cell_type": "code",
   "execution_count": null,
   "metadata": {},
   "outputs": [],
   "source": []
  },
  {
   "cell_type": "markdown",
   "metadata": {},
   "source": [
    "We can change the axis properties by calling the following functions: <br>\n",
    "> ax.set_xlabel('label') #set x-axis label <br>\n",
    "> ax.set_xlim([0,5]) #set the x-axis to only go between 0 and 5\n",
    "> ax.set_xticks([0,2,5]) #only have x-ticks at the designated numbers"
   ]
  },
  {
   "cell_type": "code",
   "execution_count": 128,
   "metadata": {},
   "outputs": [
    {
     "data": {
      "image/png": "[encoded data removed]",
      "text/plain": [
       "<Figure size 432x288 with 1 Axes>"
      ]
     },
     "metadata": {
      "needs_background": "light"
     },
     "output_type": "display_data"
    }
   ],
   "source": [
    "fig, ax = plt.subplots()\n",
    "ax.plot(random_arr)\n",
    "ax.set_ylabel('Random number', fontsize = 15) #change y-axis label\n",
    "ax.set_xlim([0,8]) #set x-axis to go between 0 and 8\n",
    "ax.set_yticks([0,0.1,0.8]); #change y-axis ticks"
   ]
  },
  {
   "cell_type": "markdown",
   "metadata": {},
   "source": [
    "You can also plot 2 lines on the same plot"
   ]
  },
  {
   "cell_type": "code",
   "execution_count": 127,
   "metadata": {},
   "outputs": [
    {
     "data": {
      "image/png": "[encoded data removed]",
      "text/plain": [
       "<Figure size 432x288 with 1 Axes>"
      ]
     },
     "metadata": {
      "needs_background": "light"
     },
     "output_type": "display_data"
    }
   ],
   "source": [
    "random_arr2 = np.random.rand(10)\n",
    "\n",
    "fig, ax = plt.subplots()\n",
    "\n",
    "ax.plot(random_arr, color = 'red', linestyle = 'dashed', label = 'line1')\n",
    "ax.plot(random_arr2, color = 'blue', linewidth = 2, label = 'line2')\n",
    "ax.legend();"
   ]
  },
  {
   "cell_type": "markdown",
   "metadata": {},
   "source": [
    "Or we can give each line its own plot: <br>\n",
    "\n",
    "> fig, ax = plt.subplots(2,3) #creates 2 rows of 3 subplots each"
   ]
  },
  {
   "cell_type": "code",
   "execution_count": 126,
   "metadata": {},
   "outputs": [
    {
     "data": {
      "image/png": "[encoded data removed]",
      "text/plain": [
       "<Figure size 1440x360 with 2 Axes>"
      ]
     },
     "metadata": {
      "needs_background": "light"
     },
     "output_type": "display_data"
    }
   ],
   "source": [
    "fig, ax = plt.subplots(1,2, figsize = (20,5))\n",
    "ax[0].plot(random_arr)\n",
    "ax[0].set_xlabel('x', fontsize = 16)\n",
    "ax[0].set_ylabel('Random number', fontsize = 16)\n",
    "\n",
    "\n",
    "ax[1].plot(random_arr2)\n",
    "ax[1].set_xlabel('x', fontsize = 16)\n",
    "ax[1].set_ylabel('Random number', fontsize = 16);"
   ]
  },
  {
   "cell_type": "markdown",
   "metadata": {},
   "source": [
    "Or we can plot the data sets against eachother:\n",
    "\n",
    "'.' specifies we want to plot the data with dots instead of lines"
   ]
  },
  {
   "cell_type": "code",
   "execution_count": 125,
   "metadata": {},
   "outputs": [
    {
     "data": {
      "image/png": "[encoded data removed]",
      "text/plain": [
       "<Figure size 432x288 with 1 Axes>"
      ]
     },
     "metadata": {
      "needs_background": "light"
     },
     "output_type": "display_data"
    }
   ],
   "source": [
    "fig, ax = plt.subplots()\n",
    "plt.plot(random_arr, random_arr2, '.', markersize = 10)\n",
    "plt.xlabel('line1')\n",
    "plt.ylabel('line2');"
   ]
  },
  {
   "cell_type": "markdown",
   "metadata": {},
   "source": [
    "You can also create scatter plots with the scatter() function:"
   ]
  },
  {
   "cell_type": "code",
   "execution_count": 124,
   "metadata": {},
   "outputs": [
    {
     "data": {
      "image/png": "[encoded data removed]",
      "text/plain": [
       "<Figure size 432x288 with 1 Axes>"
      ]
     },
     "metadata": {
      "needs_background": "light"
     },
     "output_type": "display_data"
    }
   ],
   "source": [
    "fig, ax = plt.subplots()\n",
    "ax.scatter(random_arr, random_arr2);"
   ]
  },
  {
   "cell_type": "markdown",
   "metadata": {},
   "source": [
    "### Plotting 2D arrays:"
   ]
  },
  {
   "cell_type": "code",
   "execution_count": 109,
   "metadata": {},
   "outputs": [
    {
     "name": "stdout",
     "output_type": "stream",
     "text": [
      "[[0.91990813 0.22230276 0.22995789 0.40890801 0.25544155 0.83824973\n",
      "  0.17575776 0.07141786 0.32418543 0.98087367]\n",
      " [0.54407653 0.8232292  0.90397948 0.84596668 0.92918771 0.38428522\n",
      "  0.37258771 0.72800098 0.86934678 0.92148124]\n",
      " [0.55611267 0.57337193 0.93577154 0.64184956 0.07525552 0.58757394\n",
      "  0.79165071 0.67164184 0.28777675 0.79269599]\n",
      " [0.38320183 0.89066344 0.0279423  0.88575166 0.85870714 0.67389382\n",
      "  0.6591181  0.75622953 0.05216741 0.12895952]\n",
      " [0.73317677 0.32495845 0.44983806 0.42215766 0.41267615 0.1942483\n",
      "  0.01356652 0.19395826 0.92916956 0.50905109]\n",
      " [0.59007885 0.70690916 0.75005868 0.56244878 0.55714188 0.75453005\n",
      "  0.855455   0.07349994 0.31690093 0.1321509 ]\n",
      " [0.44593619 0.19564086 0.87011958 0.57478394 0.33589085 0.19444776\n",
      "  0.00668572 0.08881312 0.96994927 0.28100315]\n",
      " [0.00509876 0.09477431 0.52753083 0.17816776 0.67392907 0.28359013\n",
      "  0.83589665 0.83708723 0.22427046 0.15331079]\n",
      " [0.11431554 0.64635271 0.82574758 0.53168847 0.40193578 0.14196338\n",
      "  0.56450263 0.63290631 0.03525445 0.1786451 ]\n",
      " [0.75499973 0.44543996 0.65065727 0.13111344 0.62467617 0.9385428\n",
      "  0.80601658 0.97682307 0.94448195 0.79421073]]\n"
     ]
    }
   ],
   "source": [
    "random_arr2d = np.random.rand(10,10) #10x10 array\n",
    "print(random_arr2d)"
   ]
  },
  {
   "cell_type": "code",
   "execution_count": 123,
   "metadata": {},
   "outputs": [
    {
     "data": {
      "image/png": "[encoded data removed]",
      "text/plain": [
       "<Figure size 432x288 with 1 Axes>"
      ]
     },
     "metadata": {
      "needs_background": "light"
     },
     "output_type": "display_data"
    }
   ],
   "source": [
    "fig, ax = plt.subplots()\n",
    "ax.imshow(random_arr2d);"
   ]
  },
  {
   "cell_type": "markdown",
   "metadata": {},
   "source": [
    "You can find other possible colormaps here: https://matplotlib.org/3.5.0/tutorials/colors/colormaps.html\n",
    "\n",
    "And we add a colorbar with: <br>\n",
    "> ax.colorbar(im), __where we have to set im equal to our plot__"
   ]
  },
  {
   "cell_type": "code",
   "execution_count": 122,
   "metadata": {},
   "outputs": [
    {
     "data": {
      "image/png": "[encoded data removed]",
      "text/plain": [
       "<Figure size 432x288 with 2 Axes>"
      ]
     },
     "metadata": {
      "needs_background": "light"
     },
     "output_type": "display_data"
    }
   ],
   "source": [
    "fig, ax = plt.subplots()\n",
    "im = ax.imshow(random_arr2d, cmap = 'inferno')\n",
    "plt.colorbar(im);"
   ]
  },
  {
   "cell_type": "markdown",
   "metadata": {},
   "source": [
    "Histograms are another common plot type! Here is some sample code to create a histogram plot. You can explore histograms more later if you like!"
   ]
  },
  {
   "cell_type": "code",
   "execution_count": 121,
   "metadata": {},
   "outputs": [
    {
     "data": {
      "image/png": "[encoded data removed]",
      "text/plain": [
       "<Figure size 432x288 with 1 Axes>"
      ]
     },
     "metadata": {
      "needs_background": "light"
     },
     "output_type": "display_data"
    }
   ],
   "source": [
    "rng = np.random.default_rng(12) #create random number generator with a fixed seed (12)\n",
    "dist1 = rng.standard_normal(100000) #creates an normally distributed array of 100000 points\n",
    "\n",
    "fig, axs = plt.subplots()\n",
    "axs.hist(dist1, bins=20, color = 'red', alpha =0.5, edgecolor = 'maroon') ;\n",
    "    #bins = 20 means we will have 20 bins for our data\n",
    "    #color set to indianred\n",
    "    #alpha changes the transparency\n",
    "    #edgecolor outlines our bins\n"
   ]
  },
  {
   "cell_type": "markdown",
   "metadata": {},
   "source": [
    "We can save any figure we create with the following command: <br>\n",
    ">plt.savefig('fig_name.png')"
   ]
  },
  {
   "cell_type": "markdown",
   "metadata": {},
   "source": [
    "## Challenge #2:\n",
    "\n",
    "x: Create an array from 0 to 10 with a size of 100\n",
    "\n",
    "y: create a new array that is the sin of x\n",
    "\n",
    "y2: create a new array that is equal to x^2\n",
    "\n",
    "On two different subplots, plot x and y, and x and y2.\n",
    "\n",
    "Add axis labels, titles, and change the line properties for each subplot!"
   ]
  },
  {
   "cell_type": "code",
   "execution_count": null,
   "metadata": {},
   "outputs": [],
   "source": []
  },
  {
   "cell_type": "code",
   "execution_count": null,
   "metadata": {},
   "outputs": [],
   "source": []
  }
 ],
 "metadata": {
  "kernelspec": {
   "display_name": "Python 3",
   "language": "python",
   "name": "python3"
  },
  "language_info": {
   "codemirror_mode": {
    "name": "ipython",
    "version": 3
   },
   "file_extension": ".py",
   "mimetype": "text/x-python",
   "name": "python",
   "nbconvert_exporter": "python",
   "pygments_lexer": "ipython3",
   "version": "3.7.7"
  }
 },
 "nbformat": 4,
 "nbformat_minor": 5
}
