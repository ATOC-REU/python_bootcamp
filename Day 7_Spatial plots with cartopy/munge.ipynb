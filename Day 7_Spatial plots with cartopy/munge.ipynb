{
 "cells": [
  {
   "cell_type": "code",
   "execution_count": 14,
   "id": "ab423de6-b069-4563-a10e-39f4d5402583",
   "metadata": {},
   "outputs": [],
   "source": [
    "import xarray as xr\n",
    "import numpy as np\n",
    "import matplotlib.pyplot as plt"
   ]
  },
  {
   "cell_type": "code",
   "execution_count": 15,
   "id": "a4a26436-6254-42fc-967c-ceca8f2a2a9a",
   "metadata": {},
   "outputs": [],
   "source": [
    "ds = xr.open_dataset('jma_full.nc')"
   ]
  },
  {
   "cell_type": "code",
   "execution_count": 10,
   "id": "d0250bfa-1a24-4ff6-8a36-0da1b45f8d54",
   "metadata": {},
   "outputs": [],
   "source": [
    "ds = ds.pH"
   ]
  },
  {
   "cell_type": "code",
   "execution_count": 11,
   "id": "7632fb2c-a2ef-4023-b636-02a6f33e07d2",
   "metadata": {},
   "outputs": [],
   "source": [
    "ds = ds.sel(time=slice('1998-01','2012-12'))"
   ]
  },
  {
   "cell_type": "code",
   "execution_count": 12,
   "id": "f72981ac-44c1-4304-9f3b-dc8826122e99",
   "metadata": {},
   "outputs": [],
   "source": [
    "ds.to_netcdf('pH.nc')"
   ]
  },
  {
   "cell_type": "code",
   "execution_count": null,
   "id": "16dced84-afdb-45e7-9ec6-a32d4908fa8d",
   "metadata": {},
   "outputs": [],
   "source": []
  }
 ],
 "metadata": {
  "kernelspec": {
   "display_name": "Python 3 (ipykernel)",
   "language": "python",
   "name": "python3"
  },
  "language_info": {
   "codemirror_mode": {
    "name": "ipython",
    "version": 3
   },
   "file_extension": ".py",
   "mimetype": "text/x-python",
   "name": "python",
   "nbconvert_exporter": "python",
   "pygments_lexer": "ipython3",
   "version": "3.8.10"
  }
 },
 "nbformat": 4,
 "nbformat_minor": 5
}
