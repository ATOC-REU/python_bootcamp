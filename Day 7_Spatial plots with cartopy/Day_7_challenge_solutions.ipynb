{
 "cells": [
  {
   "cell_type": "markdown",
   "metadata": {},
   "source": [
    "# Day 7: challenge solutions"
   ]
  },
  {
   "cell_type": "code",
   "execution_count": null,
   "metadata": {},
   "outputs": [],
   "source": [
    "import xarray as xr\n",
    "import numpy as np\n",
    "import matplotlib.pyplot as plt\n",
    "\n",
    "import cartopy.crs as ccrs\n",
    "import cartopy.feature as cfeature"
   ]
  },
  {
   "cell_type": "code",
   "execution_count": null,
   "metadata": {},
   "outputs": [],
   "source": [
    "ds = xr.open_dataset('pH.nc')"
   ]
  },
  {
   "cell_type": "code",
   "execution_count": null,
   "metadata": {},
   "outputs": [],
   "source": [
    "ds.pH.isel(time=100).plot(levels=np.arange(7.5,8.5,0.1))"
   ]
  },
  {
   "cell_type": "markdown",
   "metadata": {},
   "source": [
    "## 2010 and 1998"
   ]
  },
  {
   "cell_type": "code",
   "execution_count": null,
   "metadata": {},
   "outputs": [],
   "source": [
    "# subset annual data\n",
    "ds_1998 = ds.groupby('time.year').mean().sel(year = 1998)\n",
    "\n",
    "ds_2010 = ds.groupby('time.year').mean().sel(year = 2010)\n"
   ]
  },
  {
   "cell_type": "code",
   "execution_count": null,
   "metadata": {},
   "outputs": [],
   "source": [
    "f, axs = plt.subplots(nrows=2,ncols=1,figsize=(14,4),subplot_kw=dict(projection=ccrs.Robinson(central_longitude=180))) \n",
    "axs = axs.flatten()\n",
    "\n",
    "im = axs[0].contourf(ds_1998.lon,ds_1998.lat,ds_1998.pH,\n",
    "                     transform=ccrs.PlateCarree(),\n",
    "                     levels=np.arange(8,8.2,0.01),\n",
    "                     extend='both')\n",
    "axs[0].coastlines()\n",
    "axs[0].set_title('1998')\n",
    "\n",
    "axs[1].contourf(ds_2010.lon,ds_2010.lat,ds_2010.pH,\n",
    "                transform=ccrs.PlateCarree(),\n",
    "                levels=np.arange(8,8.2,0.01),\n",
    "                extend='both')\n",
    "\n",
    "axs[1].coastlines()\n",
    "axs[1].set_title('2012')\n",
    "\n",
    "f.subplots_adjust(right=0.6)\n",
    "cbar_ax = f.add_axes([0.5, 0.15, 0.05, 0.7])\n",
    "f.colorbar(im,cax=cbar_ax,fraction=0.046,pad=0.04)"
   ]
  },
  {
   "cell_type": "code",
   "execution_count": null,
   "metadata": {},
   "outputs": [],
   "source": [
    "f, axs = plt.subplots(nrows=1,ncols=1,figsize=(14,4),subplot_kw=dict(projection=ccrs.PlateCarree(central_longitude=180))) \n",
    "\n",
    "im = axs.contourf(ds_2010.lon,ds_2010.lat,ds_2010.pH-ds_1998.pH,\n",
    "                     transform=ccrs.PlateCarree(),\n",
    "                     cmap = 'coolwarm_r',\n",
    "                     levels=np.arange(-0.1,0.1,0.01),\n",
    "                     extend='both')\n",
    "plt.colorbar(im)\n",
    "axs.coastlines()\n",
    "axs.set_title('DS 2010 - 1998')"
   ]
  },
  {
   "cell_type": "markdown",
   "metadata": {},
   "source": [
    "## seasonal example, 2000"
   ]
  },
  {
   "cell_type": "code",
   "execution_count": null,
   "metadata": {},
   "outputs": [],
   "source": [
    "ds = ds.sel(time=slice('2000-01-01','2005-01-01')).groupby('time.season').mean()\n"
   ]
  },
  {
   "cell_type": "code",
   "execution_count": null,
   "metadata": {},
   "outputs": [],
   "source": [
    "f, axs = plt.subplots(nrows=2,ncols=2,\n",
    "                      figsize=(14,6),\n",
    "                      subplot_kw=dict(projection=ccrs.Robinson(central_longitude=180))\n",
    "                     ) \n",
    "axs = axs.flatten()\n",
    "# f.suptitle('ETHZ and HadISST SST',fontsize=15)\n",
    "\n",
    "for i in range(0,4):\n",
    "    im = axs[i].contourf(ds.lon,ds.lat,ds.pH.isel(season=i),\n",
    "                         transform=ccrs.PlateCarree(),\n",
    "                         levels=np.arange(8,8.2,0.01),\n",
    "                         extend='both')\n",
    "    axs[i].coastlines()\n",
    "\n",
    "axs[0].set_title('DJF')\n",
    "axs[1].set_title('MAM')\n",
    "axs[2].set_title('JJA')\n",
    "axs[3].set_title('SON')\n",
    "\n",
    "f.subplots_adjust(right=0.6)\n",
    "cbar_ax = f.add_axes([0.64, 0.15, 0.05, 0.7])\n",
    "f.colorbar(im,cax=cbar_ax,fraction=0.046,pad=0.04,label='pH')"
   ]
  },
  {
   "cell_type": "markdown",
   "metadata": {},
   "source": [
    "## Add a point to the map"
   ]
  },
  {
   "cell_type": "code",
   "execution_count": null,
   "metadata": {},
   "outputs": [],
   "source": [
    "lon_buoy = -73.164\n",
    "lat_buoy = 40.251"
   ]
  },
  {
   "cell_type": "code",
   "execution_count": null,
   "metadata": {},
   "outputs": [],
   "source": [
    "ax = plt.axes(projection=ccrs.PlateCarree(central_longitude=180)) # you can change the central longitude of the map\n",
    "ax.coastlines()\n",
    "ax.contourf(ds_1998.lon,ds_1998.lat,ds_1998.pH,transform=ccrs.PlateCarree())\n",
    "\n",
    "ax.set_extent([250,310.5,20, 55.5]) # solution\n",
    "\n",
    "ax.scatter(lon_buoy, lat_buoy,\n",
    "            s=20, # sets the markersize\n",
    "            color='Yellow', # sets the color\n",
    "            transform=ccrs.PlateCarree(), # sets the projection!\n",
    "            zorder = 10 # makes sure that this is plotted above other data!\n",
    "          )"
   ]
  }
 ],
 "metadata": {
  "kernelspec": {
   "display_name": "Python 3 (ipykernel)",
   "language": "python",
   "name": "python3"
  },
  "language_info": {
   "codemirror_mode": {
    "name": "ipython",
    "version": 3
   },
   "file_extension": ".py",
   "mimetype": "text/x-python",
   "name": "python",
   "nbconvert_exporter": "python",
   "pygments_lexer": "ipython3",
   "version": "3.8.16"
  }
 },
 "nbformat": 4,
 "nbformat_minor": 4
}
