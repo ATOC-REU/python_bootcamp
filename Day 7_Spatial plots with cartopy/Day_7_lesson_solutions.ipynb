{
 "cells": [
  {
   "cell_type": "markdown",
   "metadata": {},
   "source": [
    "# Python Bootcamp: \n",
    "## Maps and Spatial Data\n",
    "### "
   ]
  },
  {
   "cell_type": "markdown",
   "metadata": {},
   "source": [
    "## Scientific Goals\n",
    "- Understand different map projections\n",
    "- Understand how data is projected\n",
    "\n",
    "## Coding Goals\n",
    "- Review reading in data with Xarray\n",
    "- Learn the basics of Cartopy\n",
    "- Create good looking maps with Matplotlib and Cartopy"
   ]
  },
  {
   "cell_type": "markdown",
   "metadata": {},
   "source": [
    "## Notebook Outline\n",
    "- 5.1: Reading netCDF files\n",
    "- 5.2: Plotting spatial data without projections\n",
    "- 5.3: Different map projections\n",
    "- 5.4: Introduction to Cartopy\n",
    "- 5.5: Map your own data\n",
    "- 5.6: Subplots and saving figures"
   ]
  },
  {
   "cell_type": "markdown",
   "metadata": {},
   "source": [
    "**As a reminder:** <br>\n",
    "Text in black will be instruction and guidance and will usually start with a section number.<br>\n",
    "<span style=\"color:blue\"> Text in blue will be tasks to do.</span><br>\n",
    "<span style=\"color:red\"> Text in red will be optional challenges and advanced concepts.</span>"
   ]
  },
  {
   "cell_type": "markdown",
   "metadata": {},
   "source": [
    "## 5.1: Reading in netCDF files with Xarray"
   ]
  },
  {
   "cell_type": "code",
   "execution_count": null,
   "metadata": {},
   "outputs": [],
   "source": [
    "import xarray as xr\n",
    "import numpy as np\n",
    "import matplotlib.pyplot as plt"
   ]
  },
  {
   "cell_type": "markdown",
   "metadata": {},
   "source": [
    "<font color = 'blue'> As a review, please make sure you have `pH.nc` downloaded and read it in using Xarray\n",
    "    \n",
    "<font color = 'blue'> hint: use `xr.open_dataset`"
   ]
  },
  {
   "cell_type": "code",
   "execution_count": null,
   "metadata": {},
   "outputs": [],
   "source": [
    "ds = xr.open_dataset('pH.nc')"
   ]
  },
  {
   "cell_type": "markdown",
   "metadata": {},
   "source": [
    "Check out the dimensions of the dataset..."
   ]
  },
  {
   "cell_type": "code",
   "execution_count": null,
   "metadata": {},
   "outputs": [],
   "source": [
    "ds"
   ]
  },
  {
   "cell_type": "markdown",
   "metadata": {},
   "source": [
    "So we have a coordinate system of latitude by longitude by time...\n",
    "\n",
    "**How do we index to select a certain variable at some lat/lon/time?**"
   ]
  },
  {
   "cell_type": "markdown",
   "metadata": {},
   "source": [
    "<font color='blue'> Now try to index some data of this data"
   ]
  },
  {
   "cell_type": "markdown",
   "metadata": {},
   "source": [
    "<font color='blue'> Select data for the pH of water..."
   ]
  },
  {
   "cell_type": "code",
   "execution_count": null,
   "metadata": {},
   "outputs": [],
   "source": [
    "pH = ds.pH"
   ]
  },
  {
   "cell_type": "markdown",
   "metadata": {},
   "source": [
    "<font color='blue'> Then, index this data so you only have the time from the year 1998"
   ]
  },
  {
   "cell_type": "code",
   "execution_count": null,
   "metadata": {},
   "outputs": [],
   "source": [
    "pH_1998 = pH.sel(time=slice('1998-01-01','1998-12-01')).mean(dim='time')"
   ]
  },
  {
   "cell_type": "markdown",
   "metadata": {},
   "source": [
    "<font color='blue'> now get a slice of data that corresponds to latitudes -65.5:65.5 and longitudes from 109.5:275.5"
   ]
  },
  {
   "cell_type": "code",
   "execution_count": null,
   "metadata": {},
   "outputs": [],
   "source": [
    "pH_pac = pH_1998.sel(lat=slice(-65.5,65.5),lon=slice(109.5,288.5))"
   ]
  },
  {
   "cell_type": "markdown",
   "metadata": {},
   "source": [
    "<font color='blue'> average this newly sliced data over the year and save out as a new variable!"
   ]
  },
  {
   "cell_type": "code",
   "execution_count": null,
   "metadata": {},
   "outputs": [],
   "source": [
    "pH_pac_1998 = pH_pac"
   ]
  },
  {
   "cell_type": "markdown",
   "metadata": {},
   "source": [
    "## 5.2: plot this data"
   ]
  },
  {
   "cell_type": "markdown",
   "metadata": {},
   "source": [
    "now that we know how to index this data by location and time, we want to start thinking about plotting the data!\n",
    "\n",
    "Xarray makes it really easy to make basic plots with given data...\n",
    "\n",
    "For example, you can simply say `ds.plot()` and Xarray will attempt to plot the data in a nice way"
   ]
  },
  {
   "cell_type": "code",
   "execution_count": null,
   "metadata": {},
   "outputs": [],
   "source": [
    "pH_pac_1998.plot()"
   ]
  },
  {
   "cell_type": "markdown",
   "metadata": {},
   "source": [
    "this works for data with clear dimensions... Our map here shows the portion of the Pacific that we sliced in the year 1998.\n",
    "\n",
    "But when you give a datasets that is not as clear, you might get a weird plot..."
   ]
  },
  {
   "cell_type": "code",
   "execution_count": null,
   "metadata": {},
   "outputs": [],
   "source": [
    "ds.pH.plot()"
   ]
  },
  {
   "cell_type": "markdown",
   "metadata": {},
   "source": [
    "This histogram is **not** a useful way to look at information\n",
    "\n",
    "**Make sure to subset data correctly so you can use Xarray's plotting to quickly look through data**\n",
    "\n",
    "back to our previous map:"
   ]
  },
  {
   "cell_type": "code",
   "execution_count": null,
   "metadata": {},
   "outputs": [],
   "source": [
    "pH_pac_1998.plot()"
   ]
  },
  {
   "cell_type": "markdown",
   "metadata": {},
   "source": [
    "You can see clearly where the continents are supposed be! But they don't look very clean\n",
    "\n",
    "**We need to tell Python how we want this data to be presented.**"
   ]
  },
  {
   "cell_type": "markdown",
   "metadata": {},
   "source": [
    "## 5.3: Map projections"
   ]
  },
  {
   "cell_type": "markdown",
   "metadata": {},
   "source": [
    "There are a variety of ways to present spatial data - maps can be projected in a number of ways. More information on map projections can be found [here](https://scitools.org.uk/cartopy/docs/v0.15/crs/projections.html)."
   ]
  },
  {
   "cell_type": "markdown",
   "metadata": {},
   "source": [
    "When is each projection useful?"
   ]
  },
  {
   "cell_type": "markdown",
   "metadata": {},
   "source": [
    "## 5.4: Cartopy"
   ]
  },
  {
   "cell_type": "markdown",
   "metadata": {},
   "source": [
    "#### To make a base map look more professional, we are going to import a new package..."
   ]
  },
  {
   "cell_type": "code",
   "execution_count": null,
   "metadata": {},
   "outputs": [],
   "source": [
    "import cartopy.crs as ccrs\n",
    "import cartopy.feature as cfeature"
   ]
  },
  {
   "cell_type": "markdown",
   "metadata": {},
   "source": [
    "Cartopy allows you plot a given spatial dataset on an actual map of the world (or specific region) so that it looks nice. It will work with all sorts of datasets and relies on the plotting power of matplotlib"
   ]
  },
  {
   "cell_type": "code",
   "execution_count": null,
   "metadata": {},
   "outputs": [],
   "source": [
    "# To start, we will plot a blank map with the PlateCarree projection...\n",
    "ax = plt.axes(projection=ccrs.PlateCarree()) \n",
    "ax.coastlines() \n",
    "ax.add_feature(cfeature.BORDERS) # National Border\n",
    "# at it's simplest, cartopy allows you to plot a map of the globe with no data"
   ]
  },
  {
   "cell_type": "markdown",
   "metadata": {},
   "source": [
    "Take a look at some options for [features](https://scitools.org.uk/cartopy/docs/v0.14/matplotlib/feature_interface.html). Add a few of your choosing!"
   ]
  },
  {
   "cell_type": "code",
   "execution_count": null,
   "metadata": {},
   "outputs": [],
   "source": [
    "# aside from coastlines, there are various other features you can add to maps!\n",
    "ax = plt.axes(projection=ccrs.PlateCarree()) \n",
    "\n",
    "ax.coastlines() \n",
    "ax.add_feature(cfeature.RIVERS)\n"
   ]
  },
  {
   "cell_type": "code",
   "execution_count": null,
   "metadata": {},
   "outputs": [],
   "source": [
    "# aside from coastlines, there are various other features you can add to maps!\n",
    "ax = plt.axes(projection=ccrs.PlateCarree()) \n",
    "\n",
    "ax.coastlines() # Coastlines\n",
    "ax.add_feature(cfeature.LAND) # Land\n",
    "ax.add_feature(cfeature.BORDERS) # National Border"
   ]
  },
  {
   "cell_type": "markdown",
   "metadata": {},
   "source": [
    "#### As mentioned earlier, Cartopy has a number of different projections you can use."
   ]
  },
  {
   "cell_type": "code",
   "execution_count": null,
   "metadata": {},
   "outputs": [],
   "source": [
    "# plot a blank map with the Robinson projection\n",
    "ax = plt.axes(projection=ccrs.Robinson())\n",
    "ax.coastlines()"
   ]
  },
  {
   "cell_type": "code",
   "execution_count": null,
   "metadata": {},
   "outputs": [],
   "source": [
    "# Cartopy also has built in base maps, that allow you plot what looks like the Earth from space\n",
    "ax = plt.axes(projection=ccrs.Robinson())\n",
    "ax.stock_img() # satellite stock image of earth\n",
    "ax.coastlines() # Coastlines\n",
    "ax.add_feature(cfeature.BORDERS) # National borders"
   ]
  },
  {
   "cell_type": "markdown",
   "metadata": {},
   "source": [
    "### <font color='blue'> Breakout\n",
    "<font color='blue'> **Look at the projections list available in Cartopy and create some blank plots from 3 new projections**"
   ]
  },
  {
   "cell_type": "markdown",
   "metadata": {},
   "source": [
    "<font color='blue'> Use different projections and center the map at different points!\n",
    "\n",
    "<font color='blue'> Plot using:\n",
    "- <font color='blue'> SouthPolarStereo\n",
    "- <font color='blue'> Orthographic\n",
    "- <font color='blue'> Projection of your choice\n",
    "    \n",
    "<font color='blue'> For each projection, **plot a map** centered on a longitude of your choosing and **explain when this projection might be useful**"
   ]
  },
  {
   "cell_type": "code",
   "execution_count": null,
   "metadata": {},
   "outputs": [],
   "source": []
  },
  {
   "cell_type": "code",
   "execution_count": null,
   "metadata": {},
   "outputs": [],
   "source": []
  },
  {
   "cell_type": "code",
   "execution_count": null,
   "metadata": {},
   "outputs": [],
   "source": []
  },
  {
   "cell_type": "markdown",
   "metadata": {},
   "source": [
    "### cartopy also allows you subset data to specific regions on maps themselves, meaning you don't necessarily need to subset the data itself by latitude and longitude..."
   ]
  },
  {
   "cell_type": "code",
   "execution_count": null,
   "metadata": {},
   "outputs": [],
   "source": [
    "ax = plt.axes(projection=ccrs.Robinson(central_longitude=180)) \n",
    "# you can change the central longitude of the map\n",
    "\n",
    "ax.coastlines()\n",
    "\n",
    "# we earlier subset to latitudes -65.5:65.5 and longitudes from 109.5:275.5\n",
    "# We can use ax.set_extent([x0,x1,y0,y1]) to replicate this without limiting our data!\n",
    "\n",
    "ax.set_extent([109.5,288.5,-65.5, 65.5])"
   ]
  },
  {
   "cell_type": "markdown",
   "metadata": {},
   "source": [
    "## 5.5: Add some of your own data to these"
   ]
  },
  {
   "cell_type": "markdown",
   "metadata": {},
   "source": [
    "Now that we know how to make blank maps using Cartopy, how can we actually add our own data?"
   ]
  },
  {
   "cell_type": "code",
   "execution_count": null,
   "metadata": {},
   "outputs": [],
   "source": [
    "ax = plt.axes(projection=ccrs.PlateCarree(central_longitude=180)) # you can change the central longitude of the map\n",
    "ax.coastlines()\n",
    "\n",
    "# data???"
   ]
  },
  {
   "cell_type": "markdown",
   "metadata": {},
   "source": [
    "Try by plotting using the contourf feature\n",
    "\n",
    "For example, you can call it using `ax.contourf()`"
   ]
  },
  {
   "cell_type": "code",
   "execution_count": null,
   "metadata": {},
   "outputs": [],
   "source": [
    "ax = plt.axes(projection=ccrs.PlateCarree(central_longitude=180)) # you can change the central longitude of the map\n",
    "ax.coastlines()\n",
    "\n",
    "\n",
    "ax.contourf(pH_1998)"
   ]
  },
  {
   "cell_type": "markdown",
   "metadata": {},
   "source": [
    "Without information on the latitude and longitude, Cartopy and the data have no idea how to interact\n",
    "\n",
    "To plot effectively, you need to supply the function with: the longitude, latitude and data"
   ]
  },
  {
   "cell_type": "code",
   "execution_count": null,
   "metadata": {},
   "outputs": [],
   "source": [
    "ax = plt.axes(projection=ccrs.PlateCarree(central_longitude=180)) # you can change the central longitude of the map\n",
    "ax.coastlines()\n",
    "\n",
    "ax.contourf(pH_1998.lon,pH_1998.lat,pH_1998)"
   ]
  },
  {
   "cell_type": "markdown",
   "metadata": {},
   "source": [
    "but this looks bad...\n",
    "\n",
    "The data and cartopy have no clue how to interact!\n",
    "\n",
    "**You need to tell the contourf data how... use the `transform = ccrs.Projection()` command when plotting**"
   ]
  },
  {
   "cell_type": "code",
   "execution_count": null,
   "metadata": {},
   "outputs": [],
   "source": [
    "ax = plt.axes(projection=ccrs.PlateCarree(central_longitude=180)) # you can change the central longitude of the map\n",
    "ax.add_feature(cfeature.LAND,color='k')\n",
    "\n",
    "ax.contourf(pH_1998.lon,pH_1998.lat,pH_1998,\n",
    "            transform=ccrs.PlateCarree())"
   ]
  },
  {
   "cell_type": "markdown",
   "metadata": {},
   "source": [
    "**again, this data can be subset...**\n",
    "\n",
    "### <font color='blue'> Breakout\n",
    "\n",
    "<font color='blue'> **Try subsetting data for yourself using `ax.set_extent()`** - and compare to the plot of the subset data we made earlier!"
   ]
  },
  {
   "cell_type": "code",
   "execution_count": null,
   "metadata": {},
   "outputs": [],
   "source": []
  },
  {
   "cell_type": "markdown",
   "metadata": {},
   "source": [
    "### <font color='red'> Breakout (challenge)\n",
    "\n",
    "<font color='red'> **Now try using `ax.set_extent()` AND creating a higher resolution coastline! ([hint](https://scitools.org.uk/cartopy/docs/v0.15/matplotlib/geoaxes.html#cartopy.mpl.geoaxes.GeoAxes.coastlines))"
   ]
  },
  {
   "cell_type": "code",
   "execution_count": null,
   "metadata": {},
   "outputs": [],
   "source": []
  },
  {
   "cell_type": "markdown",
   "metadata": {},
   "source": [
    "### 5.5.1: How can we locate a specific spot?"
   ]
  },
  {
   "cell_type": "markdown",
   "metadata": {},
   "source": [
    "What happens if we want to mark the general location of, say, Hawaii on a map?"
   ]
  },
  {
   "cell_type": "markdown",
   "metadata": {},
   "source": [
    "Hawaii (the Big Island) is located near latitude 19.5N and longitude 201E."
   ]
  },
  {
   "cell_type": "code",
   "execution_count": null,
   "metadata": {},
   "outputs": [],
   "source": [
    "# set the latitude and longitude we want \n",
    "# (remember to convert the longitude) to degrees east!\n",
    "lat_hawaii = 19.5\n",
    "lon_hawaii = 201"
   ]
  },
  {
   "cell_type": "code",
   "execution_count": null,
   "metadata": {},
   "outputs": [],
   "source": [
    "ax = plt.axes(projection=ccrs.PlateCarree(central_longitude=180)) # you can change the central longitude of the map\n",
    "ax.coastlines()\n",
    "ax.contourf(pH_1998.lon,pH_1998.lat,pH_1998,transform=ccrs.PlateCarree())\n",
    "\n",
    "ax.set_extent([109.5,288.5,-65.5, 65.5]) # solution\n",
    "\n",
    "ax.scatter(lon_hawaii, lat_hawaii,\n",
    "            s=4, # sets the markersize\n",
    "            color='Yellow', # sets the color\n",
    "            transform=ccrs.PlateCarree(), # sets the projection!\n",
    "            zorder = 10 # makes sure that this is plotted above other data!\n",
    "          )"
   ]
  },
  {
   "cell_type": "markdown",
   "metadata": {},
   "source": [
    "## 5.6: Colormaps, Subplots, and Saving figures"
   ]
  },
  {
   "cell_type": "markdown",
   "metadata": {},
   "source": [
    "#### 5.6.1: Colormaps"
   ]
  },
  {
   "cell_type": "markdown",
   "metadata": {},
   "source": [
    "You may have noticed that plotting will choose its own color scheme for data. Oftentimes, we want to control the colors that are used and the range of values that are displayed - to do this, we will use the `cmap = ` and `levels = ` commands...\n",
    "\n",
    "A list of available base colormaps can be seen in the Matplotlib documentation [here](https://matplotlib.org/stable/tutorials/colors/colormaps.html)\n",
    "\n",
    "**also include the `figsize = (width,height)`**. `figize = (1,1)` would created a 1 inch by 1 inch plot"
   ]
  },
  {
   "cell_type": "markdown",
   "metadata": {},
   "source": [
    "<font color='blue'> The data we are working with today seems most suited for sequential colormaps. Choose the colormap `Reds` from below and use that  in plotting...\n",
    "    \n",
    "<img src=\"sphx_glr_colormaps_002.webp\"> \n",
    "    \n",
    "- <font color='blue'> Plot `pH_1998` with the `cmap = 'Reds'`. Also include a specific `figsize`.\n",
    "  \n",
    "- <font color='red'> Include a colorbar in this plot (hint: the colorbar needs to know what plot it is referencing)"
   ]
  },
  {
   "cell_type": "code",
   "execution_count": null,
   "metadata": {},
   "outputs": [],
   "source": [
    "f, ax = plt.subplots(nrows=1,ncols=1,figsize=(6,6),subplot_kw=dict(projection=ccrs.PlateCarree(central_longitude=180)))\n",
    "ax.add_feature(cfeature.LAND,color='k')\n",
    "\n",
    "im = ax.contourf(pH_1998.lon,pH_1998.lat,pH_1998,\n",
    "                 transform=ccrs.PlateCarree(), \n",
    "                 cmap = 'Reds')\n",
    "\n",
    "ax.set_extent([109.5,288.5,-65.5, 65.5])\n",
    "\n",
    "f.colorbar(im)"
   ]
  },
  {
   "cell_type": "markdown",
   "metadata": {},
   "source": [
    "Because we want lower values of pH to pop out, lets reverse the Reds (so lower values are **more** red...\n",
    "\n",
    "Change `Reds` to `Reds_r`"
   ]
  },
  {
   "cell_type": "code",
   "execution_count": null,
   "metadata": {},
   "outputs": [],
   "source": [
    "f, ax = plt.subplots(nrows=1,ncols=1,subplot_kw=dict(projection=ccrs.PlateCarree(central_longitude=180)))\n",
    "ax.add_feature(cfeature.LAND,color='k')\n",
    "\n",
    "im = ax.contourf(pH_1998.lon,pH_1998.lat,pH_1998,\n",
    "                 transform=ccrs.PlateCarree(), \n",
    "                 cmap = 'Reds_r')\n",
    "ax.set_extent([109.5,288.5,-65.5, 65.5])\n",
    "\n",
    "f.colorbar(im)"
   ]
  },
  {
   "cell_type": "markdown",
   "metadata": {},
   "source": [
    "We also want to control exactly where the cutoffs are for the data using the levels command and extend the colorbar so values outside of the range are plotted correctly!\n",
    "\n",
    "Use `levels = np.arange(lower_bound, upper_bound, step)` and `extend = 'both'`"
   ]
  },
  {
   "cell_type": "code",
   "execution_count": null,
   "metadata": {},
   "outputs": [],
   "source": [
    "f, ax = plt.subplots(nrows=1,ncols=1,subplot_kw=dict(projection=ccrs.PlateCarree(central_longitude=180)))\n",
    "ax.add_feature(cfeature.LAND,color='k')\n",
    "\n",
    "im = ax.contourf(pH_1998.lon,pH_1998.lat,pH_1998,\n",
    "                 transform=ccrs.PlateCarree(), \n",
    "                 cmap = 'Reds_r',\n",
    "                 levels = np.arange(7.9,8.3,0.01),\n",
    "                 extend = 'both')\n",
    "\n",
    "ax.set_extent([109.5,288.5,-65.5, 65.5])\n",
    "\n",
    "f.colorbar(im)"
   ]
  },
  {
   "cell_type": "markdown",
   "metadata": {},
   "source": [
    "#### 5.6.2: The magic of `.groupby()` and subplots"
   ]
  },
  {
   "cell_type": "markdown",
   "metadata": {},
   "source": [
    "### <font color='blue'> Breakout\n",
    "\n",
    "<font color='blue'> how would you make group data different seasons and make subplots?\n",
    "\n",
    "You can use the following command to group data by seasons (Xarray is great!)\n",
    "```python\n",
    "pH.groupby('time.season').mean()\n",
    "```        \n",
    "You can then index this data, to get  global values for each season\n",
    "\n",
    "Helpful hint, subplots can be created with:\n",
    "```python\n",
    "f, axs = plt.subplots(nrows= ? ,ncols= ?,subplot_kw=dict(projection= ?? ))\n",
    "```\n",
    "Where each sublot from 0 to n can be called with:\n",
    "```python\n",
    "axs[n].contouf(...)\n",
    "```\n",
    "<font color='blue'> Using this grouping, make a plot with four subplots showing pH in the Pacific for each season (hint: use a for loop in calling the plotting functions to loop through the seasons and subplots)."
   ]
  },
  {
   "cell_type": "code",
   "execution_count": null,
   "metadata": {},
   "outputs": [],
   "source": []
  },
  {
   "cell_type": "code",
   "execution_count": null,
   "metadata": {},
   "outputs": [],
   "source": []
  },
  {
   "cell_type": "markdown",
   "metadata": {},
   "source": [
    "#### 5.6.3: Saving figures"
   ]
  },
  {
   "cell_type": "markdown",
   "metadata": {},
   "source": [
    "Use the function `f.savefig(dpi = )` to save a plot as an image. DPI refers to 'dots per inch', which basically controls how the file being saved is."
   ]
  },
  {
   "cell_type": "code",
   "execution_count": null,
   "metadata": {},
   "outputs": [],
   "source": []
  }
 ],
 "metadata": {
  "kernelspec": {
   "display_name": "Python 3 (ipykernel)",
   "language": "python",
   "name": "python3"
  },
  "language_info": {
   "codemirror_mode": {
    "name": "ipython",
    "version": 3
   },
   "file_extension": ".py",
   "mimetype": "text/x-python",
   "name": "python",
   "nbconvert_exporter": "python",
   "pygments_lexer": "ipython3",
   "version": "3.8.16"
  }
 },
 "nbformat": 4,
 "nbformat_minor": 4
}
